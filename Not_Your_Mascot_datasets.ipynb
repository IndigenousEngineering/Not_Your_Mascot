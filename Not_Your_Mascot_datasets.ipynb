{
 "cells": [
  {
   "cell_type": "code",
   "execution_count": 52,
   "metadata": {},
   "outputs": [
    {
     "name": "stderr",
     "output_type": "stream",
     "text": [
      "[nltk_data] Downloading package stopwords to /home/keras/nltk_data...\n",
      "[nltk_data]   Package stopwords is already up-to-date!\n"
     ]
    }
   ],
   "source": [
    "# imports\n",
    "\n",
    "import math\n",
    "import datetime\n",
    "import time\n",
    "import searchtweets\n",
    "import pandas as pd\n",
    "\n",
    "import string\n",
    "import warnings\n",
    "import datetime\n",
    "warnings.filterwarnings('ignore')\n",
    "from collections import Counter\n",
    "from sklearn.feature_extraction.text import CountVectorizer\n",
    "\n",
    "import nltk\n",
    "from nltk.corpus import stopwords\n",
    "nltk.download('stopwords')\n",
    "from nltk.stem import WordNetLemmatizer\n",
    "from nltk.sentiment.vader import SentimentIntensityAnalyzer\n",
    "from nltk.sentiment.util import *\n",
    "from nltk import tokenize\n",
    "\n",
    "import matplotlib\n",
    "%matplotlib inline\n",
    "import matplotlib.pyplot as plt\n",
    "matplotlib.style.use('ggplot')\n",
    "import seaborn as sns\n",
    "from IPython.display import display\n",
    "from wordcloud import WordCloud, STOPWORDS"
   ]
  },
  {
   "cell_type": "code",
   "execution_count": 56,
   "metadata": {},
   "outputs": [],
   "source": [
    "\"\"\"\n",
    "def get_tweet_object(search_term, start_date, end_date, num_of_tweets, include_retweets=True):\n",
    "    \n",
    "    '''\n",
    "    takes date range, search term & number of tweets\n",
    "    \n",
    "    returns tweets object\n",
    "    \n",
    "    input search term as a string\n",
    "    \n",
    "    input search range as datetime.datetime(20xx, 1, 20)\n",
    "    \n",
    "    include_retweets defaults is True. to exclude retweets set to False.\n",
    "    \n",
    "    '''\n",
    "    \n",
    "    \n",
    "    search_args = searchtweets.load_credentials('twitter_keys.yaml',\n",
    "                                                yaml_key='search_tweets_api',\n",
    "                                                env_overwrite=False)\n",
    "    \n",
    "    if include_retweets:\n",
    "        \n",
    "        search_term = search_term + ' lang:en'\n",
    "    \n",
    "    else:\n",
    "        \n",
    "        search_term = search_term + ' lang:en -is:retweet'\n",
    "        \n",
    "    \n",
    "    \n",
    "    rule = searchtweets.gen_rule_payload(search_term,\n",
    "                                         results_per_call=500,\n",
    "                                         from_date=start_date.strftime('%Y-%m-%d'),\n",
    "                                         to_date=end_date.strftime('%Y-%m-%d'))     \n",
    "        \n",
    "    tweet_objects = []\n",
    "    \n",
    "    rs = searchtweets.ResultStream(rule_payload=rule,\n",
    "                                   max_results=num_of_tweets,\n",
    "                                   max_pages= num_of_tweets / 500,\n",
    "                                   **search_args)\n",
    "    \n",
    "    start_time = time.time()\n",
    "\n",
    "    for i, tweet_object in enumerate(rs.stream(), start=1):\n",
    "        \n",
    "        if i % 500 == 0:\n",
    "            \n",
    "            now = time.time()\n",
    "            \n",
    "            if now < start_time + 4:\n",
    "                \n",
    "                time.sleep(4 - (now - start_time))\n",
    "                \n",
    "                start_time = time.time()\n",
    "                \n",
    "        tweet_objects.append(tweet_object)\n",
    "    \n",
    "    return tweet_objects\n",
    "\n",
    "def tweet_obj_to_df(tweet_objects):\n",
    "    \n",
    "    tweet_dict = {'text': [],\n",
    "                  'author': []\n",
    "                 }\n",
    "    \n",
    "    for tweet in tweet_objects:\n",
    "        \n",
    "        tweet_dict['text'].append(tweet.all_text)\n",
    "        \n",
    "        tweet_dict['author'].append(tweet.screen_name)\n",
    "    \n",
    "    tweets_df = pd.DataFrame(tweet_dict)\n",
    "    \n",
    "    return tweets_df\n",
    "    \"\"\"\n",
    "\n",
    "def get_tweet_object(search_term, start_date, end_date, num_of_tweets, include_retweets=True):\n",
    "    \n",
    "    '''\n",
    "    takes:\n",
    "    \n",
    "    * date range\n",
    "    * screen name\n",
    "    * number of tweets to return (500 per page)\n",
    "       \n",
    "    input search term as a string\n",
    "    \n",
    "    input search range as datetime.datetime(20xx, 1, 20)\n",
    "    \n",
    "    include_retweets defaults is True. to exclude retweets set to False.\n",
    "    \n",
    "    returns: \n",
    "    \n",
    "    * tweets object with replies to input screen name \n",
    "   \n",
    "    '''\n",
    "    \n",
    "    \n",
    "    search_args = searchtweets.load_credentials('twitter_keyz.yaml',\n",
    "                                                yaml_key='search_tweets_api',\n",
    "                                                env_overwrite=False)\n",
    "    \n",
    "    if include_retweets:\n",
    "        \n",
    "        #search_term = search_term + ' lang:en'\n",
    "        \n",
    "        search_term = search_term + ' lang:en'\n",
    "    \n",
    "    else:\n",
    "        \n",
    "        #search_term = search_term + ' lang:en -is:retweet'\n",
    "        \n",
    "        search_term = search_term + ' lang:en -is:retweet'\n",
    "        \n",
    "    \n",
    "    \n",
    "    rule = searchtweets.gen_rule_payload(search_term,\n",
    "                                         results_per_call=500,\n",
    "                                         from_date=start_date.strftime('%Y-%m-%d'),\n",
    "                                         to_date=end_date.strftime('%Y-%m-%d'))     \n",
    "        \n",
    "    tweet_objects = []\n",
    "    \n",
    "    rs = searchtweets.ResultStream(rule_payload=rule,\n",
    "                                   max_results=num_of_tweets,\n",
    "                                   max_pages=math.ceil(num_of_tweets / 500.0),\n",
    "                                   **search_args)\n",
    "    \n",
    "    start_time = time.time()\n",
    "    \n",
    "    # error handling & rate limiting for requests\n",
    "    \n",
    "    try:\n",
    "        \n",
    "        # generator \n",
    "\n",
    "        for i, tweet_object in enumerate(rs.stream(), start=1):\n",
    "            \n",
    "            # check every 500 requests, ie every page\n",
    "        \n",
    "            if i % 500 == 0:\n",
    "            \n",
    "                now = time.time()\n",
    "                \n",
    "                # four second delay\n",
    "            \n",
    "                if now < start_time + 4:\n",
    "                \n",
    "                    time.sleep(4 - (now - start_time))\n",
    "                \n",
    "                    start_time = time.time()\n",
    "                \n",
    "            tweet_objects.append(tweet_object)\n",
    "    \n",
    "    except Exception as e:\n",
    "        \n",
    "        print(\"Error from Twitter API: %s. Fetched %d tweet_objects\" % (e, len(tweet_objects)))\n",
    "    \n",
    "    return tweet_objects"
   ]
  },
  {
   "cell_type": "code",
   "execution_count": 25,
   "metadata": {},
   "outputs": [
    {
     "name": "stderr",
     "output_type": "stream",
     "text": [
      "Grabbing bearer token from OAUTH\n"
     ]
    }
   ],
   "source": [
    "# get_tweet_object(search_term, start_date, end_date, num_of_tweets, include_retweets=True):\n",
    "# return tweets_df\n",
    "\n",
    "rdskins_tweet_objects = get_tweet_object('redskins', datetime.datetime(2007,1,24), datetime.datetime(2020,1,24), 100000, include_retweets=False)\n",
    "    "
   ]
  },
  {
   "cell_type": "code",
   "execution_count": 26,
   "metadata": {},
   "outputs": [],
   "source": [
    "rdskins_raw_df = tweet_obj_to_df(rdskins_tweet_objects)"
   ]
  },
  {
   "cell_type": "code",
   "execution_count": 27,
   "metadata": {},
   "outputs": [
    {
     "name": "stdout",
     "output_type": "stream",
     "text": [
      "100000 \n",
      "\n",
      "                                                 text           author\n",
      "0   @CandlestickWill @Redskins Thanks - have you s...    PaulNicholsDC\n",
      "1   @Redskins @MDLottery @AP_Images @JoeGibbsRacin...      GaryBasnett\n",
      "2   Redskins offensive lineman Brandon Scherff is ...     EmpireGotham\n",
      "3   @swayrun21 And he’d be ANOTHER #Buckeye on the...       GuyBuckeye\n",
      "4                 @UncleWellons @Redskins Can’t do it      _TommyMcCoy\n",
      "5   'Redskins add two more to coaching staff in Br...       rmarine_75\n",
      "6   'For the Redskins, the No. 2 pick is a win, ei...       rmarine_75\n",
      "7   'Redskins should pay attention to pass catcher...       rmarine_75\n",
      "8   @_rich_moore @JayKogen @AlJean @MikeReissWrite...    dailysimpsons\n",
      "9   @BangRadioHour @Redskins True but not guarante...       wsk28rules\n",
      "10  @Redskins @MDLottery @AP_Images @JoeGibbsRacin...  FredHarshberger\n",
      "11  Throwing it back to the legendary Coach Joe Gi...         Redskins\n",
      "12   @redskinsfyi @Trezaye @TreyyMB @Redskins They’re     bigbrussells\n",
      "13  126- Gavin Hall over James Sperry by Tech Fall...   wapakwrestling\n",
      "14  @TroyDreyfus @billyweaver14 What I would do fo...         ecu_brad\n",
      "15  I just hope I see the @Redskins win a Super bo...       sambarburr\n",
      "16  @PaulNicholsDC @Redskins Love it! Might need y...  CandlestickWill\n",
      "17  @redskinsfyi @Trezaye @TreyyMB @Redskins It wa...     bigbrussells\n",
      "18  Wait a minute... this is the one guy Redskins ...   billhorgan2005\n",
      "19  I never understood cowboys and redskins fans m...      PeezyJWeezy\n",
      "20  Join @CraigHoffman &amp; me right now on \"Over...  Russellmania621\n",
      "21  Dan Snyder, owner of the failed @Redskins, cha...      crspecketer\n",
      "22  Two More Additions to Rivera &amp; Redskins St...        Ebedell20\n",
      "23    @PaulNicholsDC @Redskins I absolutely love it!!          TucJr82\n",
      "24  @MusclesLashes @Skillocity @JPFinlayNBCS @Reds...        jlbanks44\n"
     ]
    }
   ],
   "source": [
    "print(len(rdskins_raw_df), '\\n')\n",
    "\n",
    "print(rdskins_raw_df.head(25))"
   ]
  },
  {
   "cell_type": "code",
   "execution_count": 29,
   "metadata": {},
   "outputs": [],
   "source": [
    "# save as csv\n",
    "\n",
    "rdskins_raw_df.to_csv('rdskins_raw_df_Jan_24_2020.csv')"
   ]
  },
  {
   "cell_type": "code",
   "execution_count": 3,
   "metadata": {},
   "outputs": [],
   "source": [
    "def clean_tweets_for_vocab(doc, search_term):\n",
    "    \n",
    "    '''\n",
    "    takes input document:\n",
    "    \n",
    "    * lowercases\n",
    "    * removes non-alpha characters\n",
    "    * removes tweet artifacts (screen names, 'RT', '@')\n",
    "    * removes stopwords\n",
    "    * tokenizes\n",
    "    \n",
    "    returns clean document\n",
    "    \n",
    "    '''\n",
    "    \n",
    "    # remove punctuation\n",
    "    \n",
    "    doc = ''.join(c if c.isalpha() else ' ' for c in doc)\n",
    "    \n",
    "    # tokenize\n",
    "    \n",
    "    split_tokens = doc.split()\n",
    "    \n",
    "    # remove twitter artifacts & search term\n",
    "    \n",
    "    cleaner_tokens = [word.lower() for word in split_tokens\n",
    "                     if 'http' not in word\n",
    "                     and '@' not in word\n",
    "                     and '<' not in word\n",
    "                     and 'RT' not in word\n",
    "                     and 'amp' not in word.lower()\n",
    "                     and search_term.lower() not in word.lower()\n",
    "                     ]\n",
    "    \n",
    "    # remove stopwords\n",
    "    \n",
    "    clean_tokens = [t for t in cleaner_tokens if t.lower() not in stopwords.words('english')]\n",
    "    \n",
    "    return clean_tokens\n",
    "\n",
    "def get_vocab_df(docs):\n",
    "    \n",
    "    '''\n",
    "    takes a list of clean docs\n",
    "    \n",
    "    returns dataframe with vocabulary counts\n",
    "    returns total words\n",
    "    returns unique words\n",
    "    \n",
    "    '''\n",
    "    \n",
    "    vocab = []\n",
    "    \n",
    "    for document in docs:\n",
    "        \n",
    "        for word in document:\n",
    "            \n",
    "            vocab.append(word)\n",
    "    \n",
    "    total_words = len(vocab)\n",
    "    \n",
    "    word_count = Counter(vocab)\n",
    "    \n",
    "    num_unique_words = len(word_count)\n",
    "    \n",
    "    # Counter() is a dictionary, has to be converted as such\n",
    "    \n",
    "    vocab_df = pd.DataFrame.from_dict(word_count, orient='index')\n",
    "    \n",
    "    # rearrange the dataframe so it's easy to index/use\n",
    "    # sort by number of times a word appears\n",
    "    # add an index & rename columns\n",
    "    \n",
    "    vocab_df = vocab_df.sort_values(by=0, ascending=False)\n",
    "    \n",
    "    vocab_df = vocab_df.reset_index().rename(columns={'index':'word', 0:'count'})\n",
    "    \n",
    "    # return df with sorted vocab\n",
    "    \n",
    "    #return vocab_df.sort_values(by='count', ascending=False), total_words, num_unique_words\n",
    " \n",
    "    return vocab_df, total_words, num_unique_words\n",
    "\n",
    "    #return total_words, num_unique_words, vocab_df\n",
    "\n",
    "\n",
    "def clean_text_for_wordcloud(df, col, search_term):\n",
    "\n",
    "    '''\n",
    "    takes input dataframe\n",
    "\n",
    "    * applies light cleaning for wordcloud\n",
    "    * removes search term, non alpha characters & tweet artifacts\n",
    "\n",
    "    returns dataframe with clean text\n",
    "    \n",
    "    '''\n",
    "    \n",
    "    for i in range(len(df[col])):\n",
    "        \n",
    "        df[col][i] = ' '.join([word for word in df[col][i].split()\n",
    "                               if 'http' not in word and '@' not in word\n",
    "                               and '<' not in word and 'RT' not in word\n",
    "                               and 'amp' not in word.lower() and 'rt' not in word\n",
    "                               and search_term.lower() not in word.lower()])\n",
    "        \n",
    "    return df\n",
    "\n",
    "def get_wordcloud(df, col):\n",
    "    \n",
    "    '''\n",
    "    takes a clean dataframe\n",
    "    \n",
    "    generates wordcloud\n",
    "    \n",
    "    '''\n",
    "    \n",
    "    stopwords = set(STOPWORDS)\n",
    "    \n",
    "    wordcloud = WordCloud(background_color='white',\n",
    "                          stopwords=stopwords,\n",
    "                          random_state=0).generate(' '.join([i for i in df[col]]))\n",
    "    \n",
    "    plt.figure(figsize=(20, 10), facecolor='k')\n",
    "    \n",
    "    plt.imshow(wordcloud)\n",
    "    \n",
    "    plt.axis('off')\n",
    "    \n",
    "    # print date/time wordcloud is generated\n",
    "    \n",
    "    datetime_obj = datetime.datetime.now()\n",
    "    \n",
    "    time_delta = datetime.timedelta(hours=5)\n",
    "    \n",
    "    time_now_EST = datetime_obj - time_delta\n",
    "    \n",
    "    print('Wordcloud Generated at: ', time_now_EST, ' EST')"
   ]
  },
  {
   "cell_type": "markdown",
   "metadata": {},
   "source": [
    "### text processing"
   ]
  },
  {
   "cell_type": "code",
   "execution_count": 32,
   "metadata": {},
   "outputs": [],
   "source": [
    "# rdskins_raw_df\n",
    "# clean_df_for_vocab = df[col].apply(clean_tweets_for_vocab, args=(search_term,))\n",
    "\n",
    "rs_clean_df = rdskins_raw_df['text'].apply(clean_tweets_for_vocab, args=('redskins',))"
   ]
  },
  {
   "cell_type": "code",
   "execution_count": 33,
   "metadata": {},
   "outputs": [
    {
     "data": {
      "text/plain": [
       "0     [candlestickwill, thanks, seen, carlos, cordon...\n",
       "1     [mdlottery, ap, images, joegibbsracing, one, p...\n",
       "2     [offensive, lineman, brandon, scherff, set, be...\n",
       "3            [swayrun, another, buckeye, gobucks, httr]\n",
       "4                                        [unclewellons]\n",
       "5     [add, two, coaching, staff, brett, nenaber, je...\n",
       "6     [pick, win, either, way, via, riggosrag, co, m...\n",
       "7     [pay, attention, pass, catchers, shining, seni...\n",
       "8     [rich, moore, jaykogen, aljean, mikereisswrite...\n",
       "9     [bangradiohour, true, guaranteed, generational...\n",
       "10    [mdlottery, ap, images, joegibbsracing, good, ...\n",
       "11    [throwing, back, legendary, coach, joe, gibbs,...\n",
       "12                                   [trezaye, treyymb]\n",
       "13             [gavin, hall, james, sperry, tech, fall]\n",
       "14    [troydreyfus, billyweaver, would, win, super, ...\n",
       "15    [hope, see, win, super, bowl, first, co, hofdx...\n",
       "16    [paulnicholsdc, love, might, need, sketch, gia...\n",
       "17    [trezaye, treyymb, chad, forbes, research, gm,...\n",
       "18    [wait, minute, one, guy, fans, actually, want,...\n",
       "19    [never, understood, cowboys, fans, age, lmaoo,...\n",
       "20    [join, craighoffman, amp, right, overtime, the...\n",
       "21    [dan, snyder, owner, failed, charges, parking,...\n",
       "22    [two, additions, rivera, amp, staff, co, ozykh...\n",
       "23                    [paulnicholsdc, absolutely, love]\n",
       "24    [muscleslashes, skillocity, jpfinlaynbcs, agre...\n",
       "Name: text, dtype: object"
      ]
     },
     "execution_count": 33,
     "metadata": {},
     "output_type": "execute_result"
    }
   ],
   "source": [
    "rs_clean_df.head(25)"
   ]
  },
  {
   "cell_type": "code",
   "execution_count": 34,
   "metadata": {},
   "outputs": [],
   "source": [
    "# save as csv\n",
    "\n",
    "rs_clean_df.to_csv('rs_clean_df_Jan_24_2020.csv')"
   ]
  },
  {
   "cell_type": "code",
   "execution_count": 36,
   "metadata": {},
   "outputs": [
    {
     "name": "stdout",
     "output_type": "stream",
     "text": [
      "Wordcloud Generated at:  2020-01-25 22:21:23.854191  EST\n"
     ]
    },
    {
     "data": {
      "image/png": "[encoded data removed]",
      "text/plain": [
       "<Figure size 1440x720 with 1 Axes>"
      ]
     },
     "metadata": {},
     "output_type": "display_data"
    }
   ],
   "source": [
    "# clean_text_for_wordcloud(df, col, search_term\n",
    "# def get_wordcloud(df, col)\n",
    "\n",
    "rs_wordcloud_df = clean_text_for_wordcloud(rdskins_raw_df, 'text', 'redskins')\n",
    "\n",
    "get_wordcloud(rs_wordcloud_df, 'text')"
   ]
  },
  {
   "cell_type": "code",
   "execution_count": 38,
   "metadata": {},
   "outputs": [
    {
     "name": "stdout",
     "output_type": "stream",
     "text": [
      "3 \n",
      "\n",
      "4 \n",
      "\n",
      "7 \n",
      "\n",
      "                                                text         author\n",
      "0  The Washington of public everyone... GROSS! Me...     AlanLepore\n",
      "1  The sad of this, only 1 in the last decade. Ev...      tomlapp66\n",
      "2  Unless you’re a Orioles fan, which there are a...      Josh_DM96\n",
      "3  Totally untrue about Cousins. fans are more li...       leefer67\n",
      "4  Um my guess because of the exorbitant cost to ...  HmichaelSmith\n"
     ]
    }
   ],
   "source": [
    "# tweet_df_no_RTs[tweet_df_no_RTs['text'].str.contains('Indian')]\n",
    "# rs_clean_df\n",
    "\n",
    "rs_f_df = rdskins_raw_df[rdskins_raw_df['text'].str.contains('filthy')]\n",
    "\n",
    "rs_F_df = rdskins_raw_df[rdskins_raw_df['text'].str.contains('Filthy')]\n",
    "\n",
    "rs_fF_df = rs_f_df.append(rs_F_df)\n",
    "\n",
    "rs_fF_df = rs_fF_df.reset_index()\n",
    "\n",
    "rs_fF_df = rs_fF_df.drop(columns=['index'])\n",
    "\n",
    "print(len(rs_f_df), '\\n')\n",
    "\n",
    "print(len(rs_F_df), '\\n')\n",
    "\n",
    "print(len(rs_fF_df), '\\n')\n",
    "\n",
    "print(rs_fF_df.head())"
   ]
  },
  {
   "cell_type": "code",
   "execution_count": 42,
   "metadata": {},
   "outputs": [
    {
     "name": "stdout",
     "output_type": "stream",
     "text": [
      "1 \n",
      "\n",
      "0 \n",
      "\n",
      "1 \n",
      "\n",
      "                                                text      author\n",
      "0  If you can stand in front of a Native American...  kaygesmile\n"
     ]
    }
   ],
   "source": [
    "# tweet_df_no_RTs[tweet_df_no_RTs['text'].str.contains('Indian')]\n",
    "# rs_clean_df\n",
    "\n",
    "rs_d_df = rdskins_raw_df[rdskins_raw_df['text'].str.contains('murderous')]\n",
    "\n",
    "rs_D_df = rdskins_raw_df[rdskins_raw_df['text'].str.contains('Murderous')]\n",
    "\n",
    "rs_dD_df = rs_d_df.append(rs_D_df)\n",
    "\n",
    "rs_dD_df = rs_dD_df.reset_index()\n",
    "\n",
    "rs_dD_df = rs_dD_df.drop(columns=['index'])\n",
    "\n",
    "print(len(rs_d_df), '\\n')\n",
    "\n",
    "print(len(rs_D_df), '\\n')\n",
    "\n",
    "print(len(rs_dD_df), '\\n')\n",
    "\n",
    "print(rs_dD_df.head())"
   ]
  },
  {
   "cell_type": "code",
   "execution_count": 46,
   "metadata": {},
   "outputs": [
    {
     "name": "stderr",
     "output_type": "stream",
     "text": [
      "Grabbing bearer token from OAUTH\n"
     ]
    }
   ],
   "source": [
    "rdskin_tweet_objects = get_tweet_object('redskin', datetime.datetime(2007,1,24), datetime.datetime(2020,1,25), 100000, include_retweets=False)"
   ]
  },
  {
   "cell_type": "code",
   "execution_count": 47,
   "metadata": {},
   "outputs": [],
   "source": [
    "# tweet_objects = get_tweet_object('query', datetime.datetime(2007,1,24), datetime.datetime(2020,1,24), 100000, include_retweets=False)\n",
    "# raw_df = tweet_obj_to_df(tweet_objects)\n",
    "# print(len(raw_df), '\\n')\n",
    "# print(raw_df.head(25))\n",
    "# raw_df.to_csv('raw_df_Jan_24_2020.csv')\n",
    "\n",
    "rdskn_raw_df = tweet_obj_to_df(rdskin_tweet_objects)"
   ]
  },
  {
   "cell_type": "code",
   "execution_count": 48,
   "metadata": {},
   "outputs": [
    {
     "name": "stdout",
     "output_type": "stream",
     "text": [
      "100000 \n",
      "\n",
      "                                                text           author\n",
      "0  Taught some French for my Redskin Rumble activ...    mlwilliams614\n",
      "1  @Inevitable_ET 49% SanFran cause I like Kyle (...       CRhinehold\n",
      "2  @Arj_Romeo Tua, very unlikely that someone ahe...    JamesMurphy34\n",
      "3  @Tiller56 In my experience you are the most le...  NorthernAZDevil\n",
      "4  @bentleyhaskins I want to see him stay at this...    rant_redskins\n"
     ]
    }
   ],
   "source": [
    "print(len(rdskn_raw_df), '\\n')\n",
    "\n",
    "print(rdskn_raw_df.head())"
   ]
  },
  {
   "cell_type": "code",
   "execution_count": 49,
   "metadata": {},
   "outputs": [],
   "source": [
    "rdskn_raw_df.to_csv('rdskin_raw_df_Jan_25_2020.csv')"
   ]
  },
  {
   "cell_type": "code",
   "execution_count": 55,
   "metadata": {},
   "outputs": [
    {
     "name": "stdout",
     "output_type": "stream",
     "text": [
      "15\n",
      "3\n",
      "18\n",
      "                                                text          author\n",
      "0  @BrendanSchaub @KirkCousins8 I wouldn’t say “H...   MelissaJoy707\n",
      "1  @bradygraham01 @asben16 @Midland_Redskin Boy i...         JWRay09\n",
      "2  @redskin_potato @gabrielmalor So why wouldn't ...    flgators1515\n",
      "3  And folks thought it was asinine when I shared...     Sean_Bishop\n",
      "4  At a stoplight and a woman pulled up next to m...     Sattazahn15\n",
      "5  This bitch said she looks like the Redskin log...  hubcityWetback\n",
      "6  Redskin haters are going to be shook when they...      FlyersPoop\n",
      "7  @GuidingToSafety \"I maybe a big but at least I...  TheWrathOfBell\n",
      "8  @LenardNPC @colinflaherty @Stanohio @HenryDoua...  BobbydoggBobby\n",
      "9  @Stanohio @HenryDouanier @colinflaherty You we...       LenardNPC\n"
     ]
    }
   ],
   "source": [
    "rdskn_f_df = rdskn_raw_df[rdskn_raw_df['text'].str.contains('filthy')]\n",
    "\n",
    "rdskn_F_df = rdskn_raw_df[rdskn_raw_df['text'].str.contains('Filthy')]\n",
    "\n",
    "rdskn_fF_df = rdskn_f_df.append(rdskn_F_df)\n",
    "\n",
    "rdskn_fF_df = rdskn_fF_df.reset_index()\n",
    "\n",
    "rdskn_fF_df = rdskn_fF_df.drop(columns=['index'])\n",
    "\n",
    "print(len(rdskn_f_df))\n",
    "\n",
    "print(len(rdskn_F_df))\n",
    "\n",
    "print(len(rdskn_fF_df))\n",
    "\n",
    "print(rdskn_fF_df.head(10))"
   ]
  },
  {
   "cell_type": "code",
   "execution_count": 60,
   "metadata": {},
   "outputs": [
    {
     "name": "stdout",
     "output_type": "stream",
     "text": [
      "\n",
      " @BrendanSchaub @KirkCousins8 I wouldn’t say “HUGE” buuut he’s a super likable guy and happy to be able to admit that now that he’s no longer a filthy Redskin lol 😂\n",
      "\n",
      " @bradygraham01 @asben16 @Midland_Redskin Boy it’s Buxton but he’s filthy too 🔥\n",
      "\n",
      " @redskin_potato @gabrielmalor So why wouldn't the house let Republicans speak, and were is the cry out of Biden crooked thievery son. Democrats have been stealing from this country for years, killing their enemies, screwing over the American people while getting filthy rich. You people are pathetic\n",
      "\n",
      " And folks thought it was asinine when I shared a story about a fellow fan who happens to be a Native being taunted and called \"a filthy redskin whore\" AFTER a win... BY FELLOW fans who were head to toe in Washington gear and saw her in Washington gear. Our \"fans\" are trash. https://t.co/Z12yROuDn2\n",
      "I can’t believe people are blaming Trent for not going for a second opinion. They’ll do ANYTHING to shove the Skins dick down their throats\n",
      "\n",
      " At a stoplight and a woman pulled up next to me, called me a filthy n-word redskin and sped off. \n",
      "\n",
      "Glad to see nothing's changed around town\n",
      "\n",
      " This bitch said she looks like the Redskin logo. Man, twitter is filthy 😭😭😭😂😭😂 https://t.co/f1cI5WPe7r\n",
      "The audacity of her and she look like The Redskins logo https://t.co/X9ZJHRPvDC\n",
      "\n",
      " Redskin haters are going to be shook when they go 8-8 and finish a respectable 3rd place in the NFC East https://t.co/znnDV69tLU\n",
      "Reuben Foster and CJ Mosley plugged in the middle of the defense with Payne Allen Ioannidis in the front is outright filthy. Add Landon Collins to the back and HaHa. Woah\n",
      "\n",
      " @GuidingToSafety \"I maybe a big but at least I ain't a filthy redskin gorilla\" he chuckled as he ate some stew \" I ain't done nothing but add flavour!\" He called out\n",
      "\n",
      " @LenardNPC @colinflaherty @Stanohio @HenryDouanier Fuck you with filthy redskin comment\n",
      "\n",
      " @Stanohio @HenryDouanier @colinflaherty You were right that filthy Redskin was a racist. Racist against white kids\n",
      "\n",
      " @JeffJJohnson149 If MAGA kids were really how they are being portrayed their would have been calls to take the drum from the filthy redskin.  Then they would have took his firewater to get boozed up and start grabbing puss.\n",
      "\n",
      " @Shnookie04 @Redskin_girlnm @Melia_A_R @naimamuhammad53 @KaivanShroff Trump didn’t get (and stay) rich because he’s great at business. He’s a filthy hood, beholden to global organized crime. @CitJourno, @ninaandtito and @LincolnsBible among others have done exhaustive research on the subject. With receipts.\n",
      "\n",
      " I wonder what they'd do to a filthy 'redskin' like me? Advise me to leave my feathers at home, maybe? https://t.co/hD30HnuJut\n",
      "\n",
      " @gogzkerr @FernAndLoathing @GrothB78 @SchmeckleTV @alliedwrites @phadreanna @Ms___Anonymous @TSablescales @destrawman @RunNGuns79 @faperist @drksldr013 @StodderFenrich @SuaSayaGames @bluebonn3t @Bloodewing @John_Kain7889 @halcyon_keiran @StaggersonJagz @Iambuttercup123 @maddoxrules How embarrassing must it be to have a filthy redskin seducing the woman he wasn't man enough to keep?\n",
      "😊\n",
      "\n",
      " @JeffGatch @Midland_Redskin @RizzMahan @K__B__D Those are filthy\n",
      "\n",
      " Looks like you have an All White Old Men and One Old White (Redskin) Women Running for the Presidency! Not to mention All of them are Millionaires! I thought the Democrats Despise Old White, Filthy Rich Men? SOCIALISM at Work!! https://t.co/awF7uzluLb\n",
      "The level of income inequality in this country is staggering—but we have the power to do something about it. My plan restructures our tax system by closing loopholes that allow the wealthiest households to avoid paying their fair share. Learn more: https://t.co/j85T7TMDc3\n",
      "\n",
      " @RedskinsReview Zach Fucking Ertz is the only guy I want to see inactive when playing the Filthy Beagles. Dude’s a Redskin-killer.\n",
      "\n",
      " 🤔 Hmmmm, the Dallas Cowboys ran all over Zach Brown in the Redskin uniform, now they can do it while he wears that Filthy Green 🤷🏽‍♂️ https://t.co/cLEkGxbdL2 https://t.co/QGzgLGalzz\n"
     ]
    }
   ],
   "source": [
    "for tweet in rdskn_fF_df['text']:\n",
    "    \n",
    "    print('\\n', tweet)"
   ]
  },
  {
   "cell_type": "markdown",
   "metadata": {},
   "source": [
    "### specific searches"
   ]
  },
  {
   "cell_type": "code",
   "execution_count": 122,
   "metadata": {},
   "outputs": [
    {
     "name": "stderr",
     "output_type": "stream",
     "text": [
      "Grabbing bearer token from OAUTH\n"
     ]
    }
   ],
   "source": [
    "# (\"Twitter\" and \"search\")\n",
    "# tweet_objects = get_tweet_object('redskin', datetime.datetime(2007,1,24), datetime.datetime(2020,1,25), 100000, include_retweets=False)\n",
    "\n",
    "dr_tweet_objects = get_tweet_object('(\"redskins\" and \"dirty\")', datetime.datetime(2007,1,1), datetime.datetime(2020,1,25), 25000, include_retweets=False)"
   ]
  },
  {
   "cell_type": "code",
   "execution_count": 123,
   "metadata": {},
   "outputs": [
    {
     "name": "stdout",
     "output_type": "stream",
     "text": [
      "2060 \n",
      "\n",
      "                                                text          author\n",
      "0  @ProFootballTalk @hwkbgr Philly fans complain ...      jyoaee2125\n",
      "1  So over the last 72 hours:\\n\\n- the Birds get ...    Philly_Canes\n",
      "2  @EvanMcMullin ✔    I'm a Redskins fan and born...  redskinsravens\n",
      "3  Giants, Cowboys and Redskins fans when the res...   JimmyRandazzo\n",
      "4  @ParkerHamlett @Redskins Saints and ravens her...       DougieD35\n"
     ]
    }
   ],
   "source": [
    "# get df\n",
    "\n",
    "dr_raw_df = tweet_obj_to_df(dr_tweet_objects)\n",
    "\n",
    "print(len(dr_raw_df), '\\n')\n",
    "\n",
    "print(dr_raw_df.head())\n"
   ]
  },
  {
   "cell_type": "code",
   "execution_count": 124,
   "metadata": {},
   "outputs": [],
   "source": [
    "dr_raw_df.to_csv('dr_raw_df_Jan_25_2020.csv')"
   ]
  },
  {
   "cell_type": "code",
   "execution_count": 125,
   "metadata": {},
   "outputs": [
    {
     "name": "stderr",
     "output_type": "stream",
     "text": [
      "Grabbing bearer token from OAUTH\n"
     ]
    }
   ],
   "source": [
    "sr_tweet_objects = get_tweet_object('(\"redskins\" and \"stupid\")', datetime.datetime(2007,1,1), datetime.datetime(2020,1,25), 25000, include_retweets=False)"
   ]
  },
  {
   "cell_type": "code",
   "execution_count": 126,
   "metadata": {},
   "outputs": [
    {
     "name": "stdout",
     "output_type": "stream",
     "text": [
      "7782 \n",
      "\n",
      "                                                text        author\n",
      "0  @FedExField @Redskins @RSprachrohr Yall are so...  ForQuickNews\n",
      "1  Only way I trade down if I’m the Redskins is i...   PeachOmania\n",
      "2  @funnydanny Maryland is now Ravens country...c...       MiceM11\n",
      "3  @RickMaese @ErinatThePost @OvettaWashPost Why ...      DeezNats\n",
      "4  @Redskins @flightmarshalls We all should be a ...       jaydw83\n"
     ]
    }
   ],
   "source": [
    "# df: 'stupid' & 'r*dskin'\n",
    "\n",
    "sr_raw_df = tweet_obj_to_df(sr_tweet_objects)\n",
    "\n",
    "print(len(sr_raw_df), '\\n')\n",
    "\n",
    "print(sr_raw_df.head())"
   ]
  },
  {
   "cell_type": "code",
   "execution_count": 127,
   "metadata": {},
   "outputs": [],
   "source": [
    "sr_raw_df.to_csv('sr_raw_df_Jan_25_2020.csv')"
   ]
  },
  {
   "cell_type": "code",
   "execution_count": 128,
   "metadata": {},
   "outputs": [
    {
     "name": "stderr",
     "output_type": "stream",
     "text": [
      "Grabbing bearer token from OAUTH\n"
     ]
    }
   ],
   "source": [
    "ur_tweet_objects = get_tweet_object('(\"redskins\" and \"ugly\")', datetime.datetime(2007,1,1), datetime.datetime(2020,1,25), 25000, include_retweets=False)"
   ]
  },
  {
   "cell_type": "code",
   "execution_count": 129,
   "metadata": {},
   "outputs": [
    {
     "name": "stdout",
     "output_type": "stream",
     "text": [
      "4011 \n",
      "\n",
      "                                                text        author\n",
      "0  The 2017 Vikings had a top ten offense with a ...  joe_thom1998\n",
      "1  @davidgraeber not compete with sports teams fr...  PotemkinLion\n",
      "2  @Jets_NEFL20 @Saints_NEFL20 @Redskins_NEFL20 Y...  Bears_NEFL20\n",
      "3  @JPFinlayNBCS Twitter can be an ugly place. Lo...  John_Tyreman\n",
      "4  @Jawn_BonJovi @Redskins Jawn, they are Racials...   MikeWiseguy\n"
     ]
    }
   ],
   "source": [
    "ur_raw_df = tweet_obj_to_df(ur_tweet_objects)\n",
    "\n",
    "print(len(ur_raw_df), '\\n')\n",
    "\n",
    "print(ur_raw_df.head())"
   ]
  },
  {
   "cell_type": "code",
   "execution_count": 130,
   "metadata": {},
   "outputs": [],
   "source": [
    "ur_raw_df.to_csv('ur_raw_df_Jan_25_2020.csv')"
   ]
  },
  {
   "cell_type": "code",
   "execution_count": 131,
   "metadata": {},
   "outputs": [
    {
     "name": "stderr",
     "output_type": "stream",
     "text": [
      "Grabbing bearer token from OAUTH\n"
     ]
    }
   ],
   "source": [
    "fr_tweet_objects = get_tweet_object('(\"redskins\" and \"filthy\")', datetime.datetime(2007,1,1), datetime.datetime(2020,1,25), 25000, include_retweets=False)"
   ]
  },
  {
   "cell_type": "code",
   "execution_count": 132,
   "metadata": {},
   "outputs": [
    {
     "name": "stdout",
     "output_type": "stream",
     "text": [
      "148 \n",
      "\n",
      "                                                text          author\n",
      "0  @ProFootballTalk Um my guess because of the ex...   HmichaelSmith\n",
      "1  The sad part of this, @Giants only 1 in the la...       tomlapp66\n",
      "2  @StoopKid1818 @OndreLeonard30 @Zirksee and the...    Nick48094751\n",
      "3  @Bowblax He also said that the natives deserve...   Greg69Heffley\n",
      "4  49’ers/Redskins is some nasty, filthy, throwba...  jamestingstrom\n"
     ]
    }
   ],
   "source": [
    "# get dataframe\n",
    "\n",
    "fr_raw_df = tweet_obj_to_df(fr_tweet_objects)\n",
    "\n",
    "print(len(fr_raw_df), '\\n')\n",
    "\n",
    "print(fr_raw_df.head())"
   ]
  },
  {
   "cell_type": "code",
   "execution_count": 133,
   "metadata": {},
   "outputs": [],
   "source": [
    "fr_raw_df.to_csv('fr_raw_df_Jan_25_2020.csv')"
   ]
  },
  {
   "cell_type": "code",
   "execution_count": 134,
   "metadata": {},
   "outputs": [
    {
     "name": "stderr",
     "output_type": "stream",
     "text": [
      "Grabbing bearer token from OAUTH\n"
     ]
    }
   ],
   "source": [
    "ri_tweet_objects = get_tweet_object('(\"redskins\" and \"indian\")', datetime.datetime(2007,1,1), datetime.datetime(2020,1,25), 25000, include_retweets=False)"
   ]
  },
  {
   "cell_type": "code",
   "execution_count": 135,
   "metadata": {},
   "outputs": [
    {
     "name": "stdout",
     "output_type": "stream",
     "text": [
      "148 \n",
      "\n",
      "                                                text          author\n",
      "0  @ProFootballTalk Um my guess because of the ex...   HmichaelSmith\n",
      "1  The sad part of this, @Giants only 1 in the la...       tomlapp66\n",
      "2  @StoopKid1818 @OndreLeonard30 @Zirksee and the...    Nick48094751\n",
      "3  @Bowblax He also said that the natives deserve...   Greg69Heffley\n",
      "4  49’ers/Redskins is some nasty, filthy, throwba...  jamestingstrom\n"
     ]
    }
   ],
   "source": [
    "# get dataframe: r*dskins & Indian\n",
    "\n",
    "ri_raw_df = tweet_obj_to_df(fr_tweet_objects)\n",
    "\n",
    "print(len(ri_raw_df), '\\n')\n",
    "\n",
    "print(ri_raw_df.head())"
   ]
  },
  {
   "cell_type": "code",
   "execution_count": 136,
   "metadata": {},
   "outputs": [],
   "source": [
    "ri_raw_df.to_csv('ri_raw_df_Jan_25_2020.csv')"
   ]
  },
  {
   "cell_type": "code",
   "execution_count": 139,
   "metadata": {},
   "outputs": [
    {
     "name": "stderr",
     "output_type": "stream",
     "text": [
      "Grabbing bearer token from OAUTH\n"
     ]
    }
   ],
   "source": [
    "rb_tweet_objects = get_tweet_object('(\"redskins\" and \"blood\")', datetime.datetime(2007,1,1), datetime.datetime(2020,1,25), 25000, include_retweets=False)"
   ]
  },
  {
   "cell_type": "code",
   "execution_count": 140,
   "metadata": {},
   "outputs": [
    {
     "name": "stdout",
     "output_type": "stream",
     "text": [
      "1949 \n",
      "\n",
      "                                                text        author\n",
      "0  Law enforcement\\nFrom a    Suitland and Redski...   JoeMcgill67\n",
      "1  @DLoesch As someone with Cherokee blood! I am ...   gillburgkid\n",
      "2  @BurgundyBlog Redskins need to get rid of all ...      cobane03\n",
      "3  @Saints_NEFL20 @Jets_NEFL20 @Redskins_NEFL20 I...  Bears_NEFL20\n",
      "4  A new season and a new look with some updated ...  DeuceDouglas\n"
     ]
    }
   ],
   "source": [
    "rb_raw_df = tweet_obj_to_df(rb_tweet_objects)\n",
    "\n",
    "print(len(rb_raw_df), '\\n')\n",
    "\n",
    "print(rb_raw_df.head())"
   ]
  },
  {
   "cell_type": "code",
   "execution_count": 141,
   "metadata": {},
   "outputs": [],
   "source": [
    "rb_raw_df.to_csv('rb_raw_df_Jan_25_2020.csv)')"
   ]
  },
  {
   "cell_type": "code",
   "execution_count": 143,
   "metadata": {},
   "outputs": [
    {
     "name": "stderr",
     "output_type": "stream",
     "text": [
      "Grabbing bearer token from OAUTH\n"
     ]
    }
   ],
   "source": [
    "rsc_tweet_objects = get_tweet_object('(\"redskins\" and \"scalp\")', datetime.datetime(2007,1,1), datetime.datetime(2020,1,25), 25000, include_retweets=False)"
   ]
  },
  {
   "cell_type": "code",
   "execution_count": 144,
   "metadata": {},
   "outputs": [
    {
     "name": "stdout",
     "output_type": "stream",
     "text": [
      "370 \n",
      "\n",
      "                                                text           author\n",
      "0  @SNFonNBC @ProFootballTalk @CSimmsQB None of t...       RyanClear2\n",
      "1  @Bobbin76818496 The last time a person used th...  FrancesMFDanger\n",
      "2  @fuckcancer56 And why was he placed on injured...         bells110\n",
      "3  REDSKINS NEED TO FIX THEIR ACT. Trent Williams...     keefer_aydon\n",
      "4  @RMNarrative @EdgeofSports I don't think he'd ...    PettyWakandan\n"
     ]
    }
   ],
   "source": [
    "rsc_raw_df = tweet_obj_to_df(rsc_tweet_objects)\n",
    "\n",
    "print(len(rsc_raw_df), '\\n')\n",
    "\n",
    "print(rsc_raw_df.head())"
   ]
  },
  {
   "cell_type": "code",
   "execution_count": 145,
   "metadata": {},
   "outputs": [],
   "source": [
    "rsc_raw_df.to_csv('rsc_raw_df_Jan_25_2020.csv')"
   ]
  },
  {
   "cell_type": "code",
   "execution_count": 187,
   "metadata": {},
   "outputs": [
    {
     "name": "stderr",
     "output_type": "stream",
     "text": [
      "Grabbing bearer token from OAUTH\n"
     ]
    }
   ],
   "source": [
    "rsv_tweet_objects = get_tweet_object('(\"redskins\" and \"savage\")', datetime.datetime(2007,1,1), datetime.datetime(2020,1,25), 25000, include_retweets=False)"
   ]
  },
  {
   "cell_type": "code",
   "execution_count": 188,
   "metadata": {},
   "outputs": [
    {
     "name": "stdout",
     "output_type": "stream",
     "text": [
      "539 \n",
      "\n",
      "                                                text         author\n",
      "0  Nick Bosa is the perfect example of why the Re...     HTTRChamps\n",
      "1  If the Bengals shock and go Chase Young 1st ov...    HSprings719\n",
      "2  @Savage_Package @94tilinfinite Are you a packe...     Rellihan51\n",
      "3  @Savage_Torrey3 @ktewfikS @StephenChesser0 @Li...       Zachosh3\n",
      "4  \"Good job. You're kinda good at football.\"\\n\\n...  art_stapleton\n"
     ]
    }
   ],
   "source": [
    "rsv_raw_df = tweet_obj_to_df(rsv_tweet_objects)\n",
    "\n",
    "print(len(rsv_raw_df), '\\n')\n",
    "\n",
    "print(rsv_raw_df.head())"
   ]
  },
  {
   "cell_type": "code",
   "execution_count": 189,
   "metadata": {},
   "outputs": [],
   "source": [
    "rsv_raw_df.to_csv('rsv_raw_df_Jan_26_2020.csv')"
   ]
  },
  {
   "cell_type": "code",
   "execution_count": 150,
   "metadata": {},
   "outputs": [
    {
     "name": "stderr",
     "output_type": "stream",
     "text": [
      "Grabbing bearer token from OAUTH\n"
     ]
    }
   ],
   "source": [
    "rdd_tweet_objects = get_tweet_object('(\"redskins\" and \"dead\")', datetime.datetime(2007,1,1), datetime.datetime(2020,1,25), 25000, include_retweets=False)"
   ]
  },
  {
   "cell_type": "code",
   "execution_count": 151,
   "metadata": {},
   "outputs": [
    {
     "name": "stdout",
     "output_type": "stream",
     "text": [
      "4171 \n",
      "\n",
      "                                                text        author\n",
      "0  @FedExField @Redskins @RSprachrohr Yall are so...  ForQuickNews\n",
      "1  Redskins climbing this list once we cut some d...   stewiecoats\n",
      "2  @Redskins @flightmarshalls We all should be a ...       jaydw83\n",
      "3  Redskins player Montae Nicholson dropped an un...    TishaLewis\n",
      "4  would love to have him opposite of mcclaurin. ...  bighomiehawk\n"
     ]
    }
   ],
   "source": [
    "rdd_raw_df = tweet_obj_to_df(rdd_tweet_objects)\n",
    "\n",
    "print(len(rdd_raw_df), '\\n')\n",
    "\n",
    "print(rdd_raw_df.head())"
   ]
  },
  {
   "cell_type": "code",
   "execution_count": 152,
   "metadata": {},
   "outputs": [],
   "source": [
    "rdd_raw_df.to_csv('rdd_raw_df_Jan_26_2020.csv')"
   ]
  },
  {
   "cell_type": "code",
   "execution_count": 153,
   "metadata": {},
   "outputs": [
    {
     "name": "stderr",
     "output_type": "stream",
     "text": [
      "Grabbing bearer token from OAUTH\n"
     ]
    }
   ],
   "source": [
    "rkl_tweet_objects = get_tweet_object('(\"redskins\" and \"killed\")', datetime.datetime(2007,1,1), datetime.datetime(2020,1,25), 25000, include_retweets=False)"
   ]
  },
  {
   "cell_type": "code",
   "execution_count": 154,
   "metadata": {},
   "outputs": [
    {
     "name": "stdout",
     "output_type": "stream",
     "text": [
      "2870 \n",
      "\n",
      "                                                text          author\n",
      "0  @MattKHOU @Redskins @NFL This @NFL player viol...  SusanChanaLask\n",
      "1  @JuiceCheck44 You’re a wizard kyle! Does that ...     RICKDOGG424\n",
      "2  Do you actually think that the indigenous peop...        cultyooa\n",
      "3  @CalsCruitin @VinceSchilling @49ers @Chiefs Ra...     Levi__Adams\n",
      "4  @HStMovemberfest @TerrapinHoops @umterps It’s ...         shrshot\n"
     ]
    }
   ],
   "source": [
    "rkl_raw_df = tweet_obj_to_df(rkl_tweet_objects)\n",
    "\n",
    "print(len(rkl_raw_df), '\\n')\n",
    "\n",
    "print(rkl_raw_df.head())"
   ]
  },
  {
   "cell_type": "code",
   "execution_count": 155,
   "metadata": {},
   "outputs": [],
   "source": [
    "rkl_raw_df.to_csv('rkl_raw_df_Jan_26_2020.csv')"
   ]
  },
  {
   "cell_type": "code",
   "execution_count": 156,
   "metadata": {},
   "outputs": [
    {
     "name": "stderr",
     "output_type": "stream",
     "text": [
      "Grabbing bearer token from OAUTH\n"
     ]
    }
   ],
   "source": [
    "rsx_tweet_objects = get_tweet_object('(\"redskins\" and \"sexy\")', datetime.datetime(2007,1,1), datetime.datetime(2020,1,25), 25000, include_retweets=False)"
   ]
  },
  {
   "cell_type": "code",
   "execution_count": 157,
   "metadata": {},
   "outputs": [
    {
     "name": "stdout",
     "output_type": "stream",
     "text": [
      "995 \n",
      "\n",
      "                                                text           author\n",
      "0  @BigManPauly @Redskins Expect the off season t...          sonnyg9\n",
      "1  Russini: Ron Rivera hire smart but not sexy by...    RyboSkinsHTTR\n",
      "2  @ANTallDay21 @JPFinlayNBCS chase young is the ...       fstaylor21\n",
      "3  @diannaESPN as a Redskins fan im not sure what...  LafayetteAzvedo\n",
      "4  Sexy hire? No. Smart? Infinitely. Columnist @J...       PostSports\n"
     ]
    }
   ],
   "source": [
    "rsx_raw_df = tweet_obj_to_df(rsx_tweet_objects)\n",
    "\n",
    "print(len(rsx_raw_df), '\\n')\n",
    "\n",
    "print(rsx_raw_df.head())"
   ]
  },
  {
   "cell_type": "code",
   "execution_count": 158,
   "metadata": {},
   "outputs": [],
   "source": [
    "rsx_raw_df.to_csv('rsx_raw_df_Jan_26_2020.csv')"
   ]
  },
  {
   "cell_type": "code",
   "execution_count": 159,
   "metadata": {},
   "outputs": [
    {
     "name": "stderr",
     "output_type": "stream",
     "text": [
      "Grabbing bearer token from OAUTH\n"
     ]
    }
   ],
   "source": [
    "rib_tweet_objects = get_tweet_object('(\"redskins\" and \"indian blood\")', datetime.datetime(2007,1,1), datetime.datetime(2020,1,25), 25000, include_retweets=False)"
   ]
  },
  {
   "cell_type": "code",
   "execution_count": 160,
   "metadata": {
    "scrolled": true
   },
   "outputs": [
    {
     "name": "stdout",
     "output_type": "stream",
     "text": [
      "20 \n",
      "\n",
      "                                                text           author\n",
      "0  And ... i have American Indian Blood and i Roo...       Naztitle01\n",
      "1  @nictuttle @gsidebo @DavidAFrench I have more ...  quesogrande1970\n",
      "2  AS AN ANDERSON ALUM AND SOMEONE THAT ACTUALLY ...       NahBabyNah\n",
      "3  @Andrew_B_Bader @hankschulman Why? I have have...          3426674\n",
      "4  REDSKINS IS NOT RACIST NAME FUCKING A MAN HOLY...   _____Squidward\n"
     ]
    }
   ],
   "source": [
    "rib_raw_df = tweet_obj_to_df(rib_tweet_objects)\n",
    "\n",
    "print(len(rib_raw_df), '\\n')\n",
    "\n",
    "print(rib_raw_df.head())"
   ]
  },
  {
   "cell_type": "code",
   "execution_count": 161,
   "metadata": {},
   "outputs": [],
   "source": [
    "rib_raw_df.to_csv('rib_raw_df_Jan_26_2020.csv')"
   ]
  },
  {
   "cell_type": "code",
   "execution_count": 162,
   "metadata": {},
   "outputs": [
    {
     "name": "stderr",
     "output_type": "stream",
     "text": [
      "Grabbing bearer token from OAUTH\n"
     ]
    }
   ],
   "source": [
    "rrsv_tweet_objects = get_tweet_object('(\"redskins\" and \"reservation\")', datetime.datetime(2007,1,1), datetime.datetime(2020,1,25), 25000, include_retweets=False)"
   ]
  },
  {
   "cell_type": "code",
   "execution_count": 163,
   "metadata": {},
   "outputs": [
    {
     "name": "stdout",
     "output_type": "stream",
     "text": [
      "458 \n",
      "\n",
      "                                                text          author\n",
      "0  Apartheid at Pechanga Reservation. Yes, Segreg...       opechanga\n",
      "1  @VinceSchilling @49ers @Chiefs @NFL @Redskins ...  RealbrianBlade\n",
      "2  @VinceSchilling @49ers @Chiefs @VinceSchilling...       KaraJenne\n",
      "3  @VinceSchilling @49ers @Chiefs @NFL You know a...        bigs1226\n",
      "4  @DesertHawk99 @bmcsusn1963 @VinceSchilling @49...         jam4821\n"
     ]
    }
   ],
   "source": [
    "rrsv_raw_df = tweet_obj_to_df(rrsv_tweet_objects)\n",
    "\n",
    "print(len(rrsv_raw_df), '\\n')\n",
    "\n",
    "print(rrsv_raw_df.head())"
   ]
  },
  {
   "cell_type": "code",
   "execution_count": 164,
   "metadata": {},
   "outputs": [],
   "source": [
    "rrsv_raw_df.to_csv('rrsv_raw_df_Jan_26_2020.csv')"
   ]
  },
  {
   "cell_type": "code",
   "execution_count": 165,
   "metadata": {},
   "outputs": [
    {
     "name": "stderr",
     "output_type": "stream",
     "text": [
      "Grabbing bearer token from OAUTH\n"
     ]
    }
   ],
   "source": [
    "rsmp_tweet_objects = get_tweet_object('(\"redskins\" and \"smallpox\")', datetime.datetime(2007,1,1), datetime.datetime(2020,1,25), 25000, include_retweets=False)"
   ]
  },
  {
   "cell_type": "code",
   "execution_count": 166,
   "metadata": {},
   "outputs": [
    {
     "name": "stdout",
     "output_type": "stream",
     "text": [
      "138 \n",
      "\n",
      "                                                text      author\n",
      "0  Whether it's the first to be the Patriots givi...  testing_a1\n",
      "1  Karma would mean the Aboriginal Ppl would own ...       DrN0_\n",
      "2  redskins will make baby yoda beaded jewelry an...  buffpharah\n",
      "3  #Blakes7 Season 2, Episode 07 - Killer\\nBLAKE:...  blakes7bot\n",
      "4  Season 2, Episode 07 - Killer\\nBLAKE:  Mm, pre...  blakes7bot\n"
     ]
    }
   ],
   "source": [
    "rsmp_raw_df = tweet_obj_to_df(rsmp_tweet_objects)\n",
    "\n",
    "print(len(rsmp_raw_df), '\\n')\n",
    "\n",
    "print(rsmp_raw_df.head())"
   ]
  },
  {
   "cell_type": "code",
   "execution_count": 167,
   "metadata": {},
   "outputs": [],
   "source": [
    "rsmp_raw_df.to_csv('rsmp_raw_df_Jan_26_2020.csv')"
   ]
  },
  {
   "cell_type": "code",
   "execution_count": 170,
   "metadata": {},
   "outputs": [
    {
     "name": "stderr",
     "output_type": "stream",
     "text": [
      "Grabbing bearer token from OAUTH\n"
     ]
    }
   ],
   "source": [
    "rdrk_tweet_objects = get_tweet_object('(\"redskins\" and \"drunk\")', datetime.datetime(2007,1,1), datetime.datetime(2020,1,25), 25000, include_retweets=False)"
   ]
  },
  {
   "cell_type": "code",
   "execution_count": 171,
   "metadata": {},
   "outputs": [
    {
     "name": "stdout",
     "output_type": "stream",
     "text": [
      "1797 \n",
      "\n",
      "                                                text           author\n",
      "0  @VinceSchilling @49ers @Chiefs What does Vince...  JaneJon54227850\n",
      "1  Very much worth reading.\\n\\nI got into a drunk...      irritated_1\n",
      "2  @WojoYah00NBA @TylerIAm The cardinals gm got a...        charkmeal\n",
      "3  @stephenasmith @Browns @dallascowboys @Giants ...          jcraw40\n",
      "4  @czabe I once wore a Randy Moss jersey to a Re...    JockSupporter\n"
     ]
    }
   ],
   "source": [
    "rdrk_raw_df = tweet_obj_to_df(rdrk_tweet_objects)\n",
    "\n",
    "print(len(rdrk_raw_df), '\\n')\n",
    "\n",
    "print(rdrk_raw_df.head())"
   ]
  },
  {
   "cell_type": "code",
   "execution_count": 172,
   "metadata": {},
   "outputs": [],
   "source": [
    "rdrk_raw_df.to_csv('rdrk_raw_df_Jan_26_2020.csv')"
   ]
  },
  {
   "cell_type": "code",
   "execution_count": 173,
   "metadata": {},
   "outputs": [
    {
     "name": "stderr",
     "output_type": "stream",
     "text": [
      "Grabbing bearer token from OAUTH\n"
     ]
    }
   ],
   "source": [
    "rinj_tweet_objects = get_tweet_object('(\"redskins\" and \"injun\")', datetime.datetime(2007,1,1), datetime.datetime(2020,1,25), 25000, include_retweets=False)"
   ]
  },
  {
   "cell_type": "code",
   "execution_count": 174,
   "metadata": {},
   "outputs": [
    {
     "name": "stdout",
     "output_type": "stream",
     "text": [
      "54 \n",
      "\n",
      "                                                text           author\n",
      "0  Generations later, my relatives are far more e...           AudryT\n",
      "1  Elizabeth Warren a Direct Descendant of Militi...  FormerRepublic9\n",
      "2  we redskins aren’t going to march into korea p...          Iucasmr\n",
      "3  @BreitbartNews And as an injun she should know...       kdodson106\n",
      "4  Goddammit, two of the top songs I want to do a...       NekoMcEvil\n"
     ]
    }
   ],
   "source": [
    "rinj_raw_df = tweet_obj_to_df(rinj_tweet_objects)\n",
    "\n",
    "print(len(rinj_raw_df), '\\n')\n",
    "\n",
    "print(rinj_raw_df.head())"
   ]
  },
  {
   "cell_type": "code",
   "execution_count": 175,
   "metadata": {},
   "outputs": [],
   "source": [
    "rinj_raw_df.to_csv('rinj_raw_df_Jan_26_2020.csv')"
   ]
  },
  {
   "cell_type": "code",
   "execution_count": 176,
   "metadata": {},
   "outputs": [
    {
     "name": "stderr",
     "output_type": "stream",
     "text": [
      "Grabbing bearer token from OAUTH\n"
     ]
    }
   ],
   "source": [
    "rextr_tweet_objects = get_tweet_object('(\"redskins\" and \"exterminate\")', datetime.datetime(2007,1,1), datetime.datetime(2020,1,25), 25000, include_retweets=False)"
   ]
  },
  {
   "cell_type": "code",
   "execution_count": 177,
   "metadata": {},
   "outputs": [
    {
     "name": "stdout",
     "output_type": "stream",
     "text": [
      "8 \n",
      "\n",
      "                                                text           author\n",
      "0  @thehill Hitler's plan was to create extra liv...            adze4\n",
      "1  @MattWalshBlog Let's not forget he also normal...        scsimodem\n",
      "2  @WASBAPPIN @AllCopsAreIncel @puristwhiner @chi...  thegrahamcanyon\n",
      "3  @clugstack @dearnonnatives @_nicholus3 @lilnat...        AliNahdee\n",
      "4  @ACLU @ACLUVA @RVAwonk @Redskins WHEN YOU HAVE...         blogdiva\n"
     ]
    }
   ],
   "source": [
    "rextr_raw_df = tweet_obj_to_df(rextr_tweet_objects)\n",
    "\n",
    "print(len(rextr_raw_df), '\\n')\n",
    "\n",
    "print(rextr_raw_df.head())"
   ]
  },
  {
   "cell_type": "code",
   "execution_count": 178,
   "metadata": {},
   "outputs": [],
   "source": [
    "rextr_raw_df.to_csv('rextr_raw_df_Jan_26_2020.csv')"
   ]
  },
  {
   "cell_type": "code",
   "execution_count": 179,
   "metadata": {},
   "outputs": [
    {
     "name": "stderr",
     "output_type": "stream",
     "text": [
      "Grabbing bearer token from OAUTH\n"
     ]
    }
   ],
   "source": [
    "rext_tweet_objects = get_tweet_object('(\"redskins\" and \"extinct\")', datetime.datetime(2007,1,1), datetime.datetime(2020,1,25), 25000, include_retweets=False)"
   ]
  },
  {
   "cell_type": "code",
   "execution_count": 180,
   "metadata": {},
   "outputs": [
    {
     "name": "stdout",
     "output_type": "stream",
     "text": [
      "28 \n",
      "\n",
      "                                                text          author\n",
      "0  This is in response to a local school district...  gretelkauffman\n",
      "1  @LakeRaMan Didn’t miss a single LA Rams game f...       JBroFronk\n",
      "2  @franchescag97 Basically. The native American ...  MakeupWhoreder\n",
      "3  @nfl this league gets worse and worse every ye...     kidkapper10\n",
      "4  They were murdered, raped, forced from their h...         EsAy313\n"
     ]
    }
   ],
   "source": [
    "rext_raw_df = tweet_obj_to_df(rext_tweet_objects)\n",
    "\n",
    "print(len(rext_raw_df), '\\n')\n",
    "\n",
    "print(rext_raw_df.head())"
   ]
  },
  {
   "cell_type": "code",
   "execution_count": 181,
   "metadata": {},
   "outputs": [],
   "source": [
    "rext_raw_df.to_csv('rext_raw_df_Jan_26_2020.csv')"
   ]
  },
  {
   "cell_type": "code",
   "execution_count": 182,
   "metadata": {},
   "outputs": [
    {
     "name": "stderr",
     "output_type": "stream",
     "text": [
      "Grabbing bearer token from OAUTH\n"
     ]
    }
   ],
   "source": [
    "rfw_tweet_objects = get_tweet_object('(\"redskins\" and \"firewater\")', datetime.datetime(2007,1,1), datetime.datetime(2020,1,25), 25000, include_retweets=False)"
   ]
  },
  {
   "cell_type": "code",
   "execution_count": 183,
   "metadata": {},
   "outputs": [
    {
     "name": "stdout",
     "output_type": "stream",
     "text": [
      "25 \n",
      "\n",
      "                                                text           author\n",
      "0  @ewarren Oh Lizzy..This is the GREATEST News E...    rebelfrom1944\n",
      "1  Man, if we Redskins only had those instead of ...  William42870346\n",
      "2  Strange smoke signals and scary loud music in ...      WWPFInsider\n",
      "3  @JoyAnnReid Just like the redskins and that fi...  patrickfcox_cox\n",
      "4  Third, #SonicDriveIn most disturbing 2 scalpin...  EmmyNawjoopinga\n"
     ]
    }
   ],
   "source": [
    "rfw_raw_df = tweet_obj_to_df(rfw_tweet_objects)\n",
    "\n",
    "print(len(rfw_raw_df), '\\n')\n",
    "\n",
    "print(rfw_raw_df.head())"
   ]
  },
  {
   "cell_type": "code",
   "execution_count": 184,
   "metadata": {},
   "outputs": [],
   "source": [
    "rfw_raw_df.to_csv('rfw_raw_df_Jan_26_2020.csv')"
   ]
  },
  {
   "cell_type": "code",
   "execution_count": 190,
   "metadata": {},
   "outputs": [
    {
     "name": "stderr",
     "output_type": "stream",
     "text": [
      "Grabbing bearer token from OAUTH\n"
     ]
    }
   ],
   "source": [
    "rig_tweet_objects = get_tweet_object('(\"redskins\" and \"ignorant\")', datetime.datetime(2007,1,1), datetime.datetime(2020,1,25), 25000, include_retweets=False)"
   ]
  },
  {
   "cell_type": "code",
   "execution_count": 191,
   "metadata": {},
   "outputs": [
    {
     "name": "stdout",
     "output_type": "stream",
     "text": [
      "967 \n",
      "\n",
      "                                                text           author\n",
      "0  @ztipton85 @espn @Chiefs @Redskins As a woman ...  AriannaChavarr1\n",
      "1  @Redsunhero @bmcsusn1963 And I am 50. I rememb...       RJ_Number8\n",
      "2  @rant_redskins @powhatannative @don1964a @Skru...     NudaleKawonu\n",
      "3  @Skrub_3 @PrincessKnightD @BradGGallant @Burgu...   TheBandGreport\n",
      "4  @CrunkATL @Redskins As ignorant as they are, t...           FTCUTD\n"
     ]
    }
   ],
   "source": [
    "rig_raw_df = tweet_obj_to_df(rig_tweet_objects)\n",
    "\n",
    "print(len(rig_raw_df), '\\n')\n",
    "\n",
    "print(rig_raw_df.head())"
   ]
  },
  {
   "cell_type": "code",
   "execution_count": 192,
   "metadata": {},
   "outputs": [],
   "source": [
    "rig_raw_df.to_csv('rig_raw_df_Jan_26_2020.csv')"
   ]
  },
  {
   "cell_type": "code",
   "execution_count": 193,
   "metadata": {},
   "outputs": [
    {
     "name": "stderr",
     "output_type": "stream",
     "text": [
      "Grabbing bearer token from OAUTH\n"
     ]
    }
   ],
   "source": [
    "rlz_tweet_objects = get_tweet_object('(\"redskins\" and \"lazy\")', datetime.datetime(2007,1,1), datetime.datetime(2020,1,25), 25000, include_retweets=False)"
   ]
  },
  {
   "cell_type": "code",
   "execution_count": 194,
   "metadata": {},
   "outputs": [
    {
     "name": "stdout",
     "output_type": "stream",
     "text": [
      "715 \n",
      "\n",
      "                                                text         author\n",
      "0  @Kareem_captain1 @Habib1852 I can't. I'm not i...      john_keim\n",
      "1  @Bwats21 @bentleyhaskins Exactly.  People like...    BrandonW573\n",
      "2  @Bungie Bungie needs to get off there a**es an...  stephenshook1\n",
      "3  @SBNation .... Redskins beat the Panthers on t...    EmbersToAsh\n",
      "4  @pantherpundit @officialsdrd @Redskins Stop it...       N_Z_A_15\n"
     ]
    }
   ],
   "source": [
    "rlz_raw_df = tweet_obj_to_df(rlz_tweet_objects)\n",
    "\n",
    "print(len(rlz_raw_df), '\\n')\n",
    "\n",
    "print(rlz_raw_df.head())"
   ]
  },
  {
   "cell_type": "code",
   "execution_count": 196,
   "metadata": {},
   "outputs": [],
   "source": [
    "rlz_raw_df.to_csv('rlz_raw_df_Jan_26_2020.csv')"
   ]
  },
  {
   "cell_type": "code",
   "execution_count": 4,
   "metadata": {},
   "outputs": [
    {
     "name": "stderr",
     "output_type": "stream",
     "text": [
      "Grabbing bearer token from OAUTH\n"
     ]
    }
   ],
   "source": [
    "rsa_tweet_objects = get_tweet_object('(\"redskins\" and \"raped\")', datetime.datetime(2007,1,1), datetime.datetime(2020,1,25), 25000, include_retweets=False)"
   ]
  },
  {
   "cell_type": "code",
   "execution_count": 5,
   "metadata": {},
   "outputs": [
    {
     "name": "stdout",
     "output_type": "stream",
     "text": [
      "363 \n",
      "\n",
      "                                                text        author\n",
      "0  @HeatleyJared Yea I get that, for me, my entir...  RedskinsRant\n",
      "1  @KevinWhoItBe And I hope the redskins get rape...     nail_sahn\n",
      "2  @Liz_Cheney Why do #NativeAmericans have to to...    kaimatters\n",
      "3  I can’t wait to watch the Eagles get ass raped...      DanoSoko\n",
      "4  @aprildeming With respect, I think this is a S...      Omcgill1\n"
     ]
    }
   ],
   "source": [
    "rsa_raw_df = tweet_obj_to_df(rsa_tweet_objects)\n",
    "\n",
    "print(len(rsa_raw_df), '\\n')\n",
    "\n",
    "print(rsa_raw_df.head())"
   ]
  },
  {
   "cell_type": "code",
   "execution_count": 6,
   "metadata": {},
   "outputs": [],
   "source": [
    "rsa_raw_df.to_csv('rsa_raw_df_Jan27_2020.csv')"
   ]
  },
  {
   "cell_type": "code",
   "execution_count": 7,
   "metadata": {},
   "outputs": [
    {
     "name": "stderr",
     "output_type": "stream",
     "text": [
      "Grabbing bearer token from OAUTH\n"
     ]
    }
   ],
   "source": [
    "rdb_tweet_objects = get_tweet_object('(\"redskins\" and \"dumb\")', datetime.datetime(2007,1,1), datetime.datetime(2020,1,25), 25000, include_retweets=False)"
   ]
  },
  {
   "cell_type": "code",
   "execution_count": 8,
   "metadata": {},
   "outputs": [
    {
     "name": "stdout",
     "output_type": "stream",
     "text": [
      "5718 \n",
      "\n",
      "                                                text          author\n",
      "0  @TheDMVDailyy @Redskins This dumb as hell. Y’a...  DaBeardologist\n",
      "1  @JackMBDTF @DakZekeCooper @BleacherReport @brg...   slevin_heaven\n",
      "2  @MattFontana83 No and I wish the organization ...     jkingery727\n",
      "3  What I don't understand is that there is a but...  kevinsheehanjc\n",
      "4  @Nate_Neal27 @TarantinoMike94 @GoPack1233 @Kee...   DillyDillyy87\n"
     ]
    }
   ],
   "source": [
    "rdb_raw_df = tweet_obj_to_df(rdb_tweet_objects)\n",
    "\n",
    "print(len(rdb_raw_df), '\\n')\n",
    "\n",
    "print(rdb_raw_df.head())"
   ]
  },
  {
   "cell_type": "code",
   "execution_count": 9,
   "metadata": {},
   "outputs": [],
   "source": [
    "rdb_raw_df.to_csv('rdb_raw_df_Jan_27_2020.csv')"
   ]
  },
  {
   "cell_type": "code",
   "execution_count": 10,
   "metadata": {},
   "outputs": [
    {
     "name": "stderr",
     "output_type": "stream",
     "text": [
      "Grabbing bearer token from OAUTH\n"
     ]
    }
   ],
   "source": [
    "rbw_tweet_objects = get_tweet_object('(\"redskins\" and \"backwards\")', datetime.datetime(2007,1,1), datetime.datetime(2020,1,25), 25000, include_retweets=False)"
   ]
  },
  {
   "cell_type": "code",
   "execution_count": 11,
   "metadata": {},
   "outputs": [
    {
     "name": "stdout",
     "output_type": "stream",
     "text": [
      "674 \n",
      "\n",
      "                                                text         author\n",
      "0  @BarstoolReags Redskins +4.5 vs Eagles this ye...      GTRandy27\n",
      "1  Why does anyone want to see Amari Cooper in a ...         ke0477\n",
      "2  @stephenasmith @Browns @dallascowboys @Giants ...         xROC7x\n",
      "3  @stephenasmith @Browns @dallascowboys @Giants ...  FrankRomeo213\n",
      "4  @stephenasmith @Browns @dallascowboys @Giants ...        dupri28\n"
     ]
    }
   ],
   "source": [
    "rbw_raw_df = tweet_obj_to_df(rbw_tweet_objects)\n",
    "\n",
    "print(len(rbw_raw_df), '\\n')\n",
    "\n",
    "print(rbw_raw_df.head())"
   ]
  },
  {
   "cell_type": "code",
   "execution_count": 12,
   "metadata": {},
   "outputs": [],
   "source": [
    "rbw_raw_df.to_csv('rbw_raw_df_Jan_27_2020')"
   ]
  },
  {
   "cell_type": "code",
   "execution_count": 13,
   "metadata": {},
   "outputs": [
    {
     "name": "stderr",
     "output_type": "stream",
     "text": [
      "Grabbing bearer token from OAUTH\n"
     ]
    }
   ],
   "source": [
    "rnbr_tweet_objects = get_tweet_object('(\"redskins\" and \"inbred\")', datetime.datetime(2007,1,1), datetime.datetime(2020,1,25), 25000, include_retweets=False)"
   ]
  },
  {
   "cell_type": "code",
   "execution_count": 14,
   "metadata": {},
   "outputs": [
    {
     "name": "stdout",
     "output_type": "stream",
     "text": [
      "16 \n",
      "\n",
      "                                                text           author\n",
      "0  @skinz25 @bpman11 @CelticsIn2 @Eagles Based on...  JerryJonesGhost\n",
      "1  I’m pretty sure we are all dead, and being a #...  RedskinsAddicts\n",
      "2  @ChipReiderson Apparently one of these inbred ...     DaveHarris73\n",
      "3  Name Change \"Washington RedSKINS? How about a ...  JamesMichaelCr6\n",
      "4  @espn980 @Redskins @thecooleyzone @kevins980 A...        Zaktronic\n"
     ]
    }
   ],
   "source": [
    "rnbr_raw_df = tweet_obj_to_df(rnbr_tweet_objects)\n",
    "\n",
    "print(len(rnbr_raw_df), '\\n')\n",
    "\n",
    "print(rnbr_raw_df.head())"
   ]
  },
  {
   "cell_type": "code",
   "execution_count": 15,
   "metadata": {},
   "outputs": [],
   "source": [
    "rnbr_raw_df.to_csv('rnbr_raw_df_Jan_27_2020.csv')"
   ]
  },
  {
   "cell_type": "code",
   "execution_count": 16,
   "metadata": {},
   "outputs": [
    {
     "name": "stderr",
     "output_type": "stream",
     "text": [
      "Grabbing bearer token from OAUTH\n"
     ]
    }
   ],
   "source": [
    "rd_tweet_objects = get_tweet_object('(\"redskins\" and \"died\")', datetime.datetime(2007,1,1), datetime.datetime(2020,1,25), 25000, include_retweets=False)"
   ]
  },
  {
   "cell_type": "code",
   "execution_count": 20,
   "metadata": {},
   "outputs": [
    {
     "name": "stdout",
     "output_type": "stream",
     "text": [
      "1167 \n",
      "\n",
      "                                                 text           author\n",
      "0   Woman, 21, dropped off at ER by Redskins playe...    Man76Infantry\n",
      "1   Woman, 21, dropped off at ER by Redskins playe...          Jaize18\n",
      "2   Woman, 21, dropped off at ER by Redskins playe...      RitchieJodi\n",
      "3   Woman, 21, dropped off at ER by Redskins playe...    T_dot_Lee_PhD\n",
      "4   Woman, 21, dropped off at ER by Redskins playe...      shiawase428\n",
      "5   Woman, 21, dropped off at ER by Redskins playe...         GaBrat66\n",
      "6   Woman, 21, dropped off at ER by #Redskins play...     GlobalNewsTH\n",
      "7   Autopsy result reveals Julia Crabbe died from ...    KolbieReports\n",
      "8   This is terrible and sad. Why are such accompl...       Autopsy_MD\n",
      "9   The 21-year-old woman who was brought unconsci...     nexxlvlconvo\n",
      "10  Julia Crabbe, 21 yr. old friend of Montae Nich...     mikejbabcock\n",
      "11  No sense in debating this any more. The issue ...   RedskinsReview\n",
      "12  @WRC_Candess @1stLadiesOfFB @KissProducts @Red...     andythebutts\n",
      "13  @Da_RealMJaeger @SavedByAlisson @EvanWx626 @Re...   andrewdowding1\n",
      "14  \"Happy Thanksgiving\"\\nThis was FedEx Field rec...  Christi78319246\n",
      "15  Sad to hear Sam Wyche has died at age 74.  Coa...       AuntRobin7\n",
      "16  I listened to the @MurderishPod about former @...          p1gsfly\n",
      "17  @BrandonPerna Jay gruden with perfect for Clev...     shakemoney78\n",
      "18  @ChadLyn06820227 That narrative died a while a...    theTylerByrum\n",
      "19  @NFLUK @steelers @Browns @Bengals @MiamiDolphi...    x_Rachelle_x_\n"
     ]
    }
   ],
   "source": [
    "rd_raw_df = tweet_obj_to_df(rd_tweet_objects)\n",
    "\n",
    "print(len(rd_raw_df), '\\n')\n",
    "\n",
    "print(rd_raw_df.head(20))"
   ]
  },
  {
   "cell_type": "code",
   "execution_count": 27,
   "metadata": {},
   "outputs": [],
   "source": [
    "rd_raw_df.to_csv('rd_raw_df_Jan_27_2020.csv')"
   ]
  },
  {
   "cell_type": "code",
   "execution_count": 19,
   "metadata": {},
   "outputs": [
    {
     "name": "stderr",
     "output_type": "stream",
     "text": [
      "Grabbing bearer token from OAUTH\n"
     ]
    }
   ],
   "source": [
    "rde_tweet_objects = get_tweet_object('(\"redskins\" and \"die\")', datetime.datetime(2007,1,1), datetime.datetime(2020,1,25), 25000, include_retweets=False)"
   ]
  },
  {
   "cell_type": "code",
   "execution_count": 28,
   "metadata": {},
   "outputs": [
    {
     "name": "stdout",
     "output_type": "stream",
     "text": [
      "5699 \n",
      "\n",
      "                                                 text           author\n",
      "0   As a die hard @Redskins fan I hated playing ag...    Someoneplace8\n",
      "1   Wishing the happiest of birthdays to my favori...      hammNchees3\n",
      "2   @steelercam I have a friend who’s a 💯% Redskin...       mztweeylu2\n",
      "3   Kyle Shanahan is now headed to his 2nd Super B...      RawlingsA82\n",
      "4   Growing up in Va Beach, I was a diehard Chiefs...        crazypnut\n",
      "5   @gold_jag5 @TonyKhan @YannickNgakoue You’re a ...    WhyAmIhere_27\n",
      "6   @jenniferpierson I'd die before I ever rooted ...         Skykam1_\n",
      "7   I'm a Ride or Die Redskins Fan sir but I give ...       Blondheim3\n",
      "8   This is the only pic I have of him. He was a d...       JLBfromDVM\n",
      "9   A Racist problem. Unfortunately Almost all of ...        LarTheTar\n",
      "10  Hey @cowboys fans imma die hard @Redskins fan,...       bisonskins\n",
      "11  I am die hard redskins fan but damnn I know my...  Santana_Diabloo\n",
      "12  I will die on this hill - but @RiverboatRonHC ...   travis_holland\n",
      "13  @ErnieBillings1 @sterlinghaggins @redskinsfyi ...       mixedswag6\n",
      "14  Are u a Redskins fan? Lot of 4 Washington Reds...      Kali_Marcum\n",
      "15  I'm a die hard Redskins fan and I just wept li...    KelleyAnneMac\n",
      "16  @CoreyHPSkeeeWee @big5hole25 @stephenasmith @B...     whereshazard\n",
      "17  @whereshazard @big5hole25 @stephenasmith @Brow...  CoreyHPSkeeeWee\n",
      "18  @AmyTrask @NFL @Broncos @NickiJhabvala @TheAth...       bisonskins\n",
      "19  @Elephant_0073 @discoque5 It’s really not kind...        skinner84\n"
     ]
    }
   ],
   "source": [
    "rde_raw_df = tweet_obj_to_df(rde_tweet_objects)\n",
    "\n",
    "print(len(rde_raw_df), '\\n')\n",
    "\n",
    "print(rde_raw_df.head(20))"
   ]
  },
  {
   "cell_type": "code",
   "execution_count": 29,
   "metadata": {},
   "outputs": [],
   "source": [
    "rde_raw_df.to_csv('rde_raw_df_Jan_27_2020.csv')"
   ]
  },
  {
   "cell_type": "code",
   "execution_count": 41,
   "metadata": {},
   "outputs": [],
   "source": [
    "def get_team_terms_df(team_list, term_list):\n",
    "    \n",
    "    team_terms_df = pd.DataFrame()\n",
    "    \n",
    "    for team in team_list:\n",
    "        \n",
    "        for term in term_list:\n",
    "            \n",
    "            search_term = '(\"' + team + '\" and \"' + term + '\")'\n",
    "            \n",
    "            # get up to 10k tweets for each term\n",
    "    \n",
    "            tweet_objects = get_tweet_object(search_term, datetime.datetime(2007,1,1), datetime.datetime(2020,1,25), 10000, include_retweets=False)\n",
    "            \n",
    "            raw_df = tweet_obj_to_df(tweet_objects)\n",
    "            \n",
    "            team_terms_df.append(raw_df, ignore_index=True)\n",
    "\n",
    "            print('results for ' + team + ' and ' + term + ': ', len(raw_df), '\\n')\n",
    "    \n",
    "    return team_terms_df\n"
   ]
  },
  {
   "cell_type": "code",
   "execution_count": 40,
   "metadata": {},
   "outputs": [
    {
     "name": "stdout",
     "output_type": "stream",
     "text": [
      "results for TEAM A and TERM B:  5699 \n",
      "\n"
     ]
    }
   ],
   "source": [
    "team_A = 'TEAM A'\n",
    "term_B = 'TERM B'\n",
    "\n",
    "\n",
    "print('results for ' + team_A + ' and ' + term_B + ': ', len(rde_raw_df), '\\n')"
   ]
  },
  {
   "cell_type": "code",
   "execution_count": null,
   "metadata": {},
   "outputs": [],
   "source": []
  },
  {
   "cell_type": "code",
   "execution_count": 36,
   "metadata": {},
   "outputs": [],
   "source": [
    "term_list = ['dirty','filthy','stupid','ugly','indian',\n",
    "             'blood','scalp','savage','dead','killed',\n",
    "             'sexy','indian blood','drunk','injun',\n",
    "             'exterminate','extinct','firewater',\n",
    "             'reservation','smallpox','ignorant',\n",
    "             'raped','die','dumb','backwards',\n",
    "             'inbred','died']"
   ]
  },
  {
   "cell_type": "code",
   "execution_count": 37,
   "metadata": {},
   "outputs": [],
   "source": [
    "team_list = ['chiefs','falcons','patriots','eagles',\n",
    "             '49ers','seahawks','raiders','steelers',\n",
    "             'dolphins','braves','indians']"
   ]
  },
  {
   "cell_type": "code",
   "execution_count": 42,
   "metadata": {},
   "outputs": [
    {
     "name": "stderr",
     "output_type": "stream",
     "text": [
      "Grabbing bearer token from OAUTH\n"
     ]
    },
    {
     "name": "stdout",
     "output_type": "stream",
     "text": [
      "results for chiefs and dirty:  2980 \n",
      "\n"
     ]
    },
    {
     "name": "stderr",
     "output_type": "stream",
     "text": [
      "Grabbing bearer token from OAUTH\n",
      "Grabbing bearer token from OAUTH\n"
     ]
    },
    {
     "name": "stdout",
     "output_type": "stream",
     "text": [
      "results for chiefs and filthy:  274 \n",
      "\n"
     ]
    },
    {
     "name": "stderr",
     "output_type": "stream",
     "text": [
      "Grabbing bearer token from OAUTH\n"
     ]
    },
    {
     "name": "stdout",
     "output_type": "stream",
     "text": [
      "results for chiefs and stupid:  10000 \n",
      "\n"
     ]
    },
    {
     "name": "stderr",
     "output_type": "stream",
     "text": [
      "Grabbing bearer token from OAUTH\n"
     ]
    },
    {
     "name": "stdout",
     "output_type": "stream",
     "text": [
      "results for chiefs and ugly:  5101 \n",
      "\n"
     ]
    },
    {
     "name": "stderr",
     "output_type": "stream",
     "text": [
      "Grabbing bearer token from OAUTH\n"
     ]
    },
    {
     "name": "stdout",
     "output_type": "stream",
     "text": [
      "results for chiefs and indian:  9255 \n",
      "\n",
      "results for chiefs and blood:  4188 \n",
      "\n"
     ]
    },
    {
     "name": "stderr",
     "output_type": "stream",
     "text": [
      "Grabbing bearer token from OAUTH\n",
      "Grabbing bearer token from OAUTH\n"
     ]
    },
    {
     "name": "stdout",
     "output_type": "stream",
     "text": [
      "results for chiefs and scalp:  293 \n",
      "\n"
     ]
    },
    {
     "name": "stderr",
     "output_type": "stream",
     "text": [
      "Grabbing bearer token from OAUTH\n"
     ]
    },
    {
     "name": "stdout",
     "output_type": "stream",
     "text": [
      "results for chiefs and savage:  763 \n",
      "\n",
      "results for chiefs and dead:  7633 \n",
      "\n"
     ]
    },
    {
     "name": "stderr",
     "output_type": "stream",
     "text": [
      "Grabbing bearer token from OAUTH\n",
      "Grabbing bearer token from OAUTH\n"
     ]
    },
    {
     "name": "stdout",
     "output_type": "stream",
     "text": [
      "results for chiefs and killed:  10000 \n",
      "\n"
     ]
    },
    {
     "name": "stderr",
     "output_type": "stream",
     "text": [
      "Grabbing bearer token from OAUTH\n"
     ]
    },
    {
     "name": "stdout",
     "output_type": "stream",
     "text": [
      "results for chiefs and sexy:  774 \n",
      "\n",
      "results for chiefs and indian blood:  11 \n",
      "\n"
     ]
    },
    {
     "name": "stderr",
     "output_type": "stream",
     "text": [
      "Grabbing bearer token from OAUTH\n",
      "Grabbing bearer token from OAUTH\n"
     ]
    },
    {
     "name": "stdout",
     "output_type": "stream",
     "text": [
      "results for chiefs and drunk:  3046 \n",
      "\n",
      "results for chiefs and injun:  54 \n",
      "\n"
     ]
    },
    {
     "name": "stderr",
     "output_type": "stream",
     "text": [
      "Grabbing bearer token from OAUTH\n",
      "Grabbing bearer token from OAUTH\n"
     ]
    },
    {
     "name": "stdout",
     "output_type": "stream",
     "text": [
      "results for chiefs and exterminate:  15 \n",
      "\n"
     ]
    },
    {
     "name": "stderr",
     "output_type": "stream",
     "text": [
      "Grabbing bearer token from OAUTH\n"
     ]
    },
    {
     "name": "stdout",
     "output_type": "stream",
     "text": [
      "results for chiefs and extinct:  49 \n",
      "\n"
     ]
    },
    {
     "name": "stderr",
     "output_type": "stream",
     "text": [
      "Grabbing bearer token from OAUTH\n"
     ]
    },
    {
     "name": "stdout",
     "output_type": "stream",
     "text": [
      "results for chiefs and firewater:  186 \n",
      "\n"
     ]
    },
    {
     "name": "stderr",
     "output_type": "stream",
     "text": [
      "Grabbing bearer token from OAUTH\n"
     ]
    },
    {
     "name": "stdout",
     "output_type": "stream",
     "text": [
      "results for chiefs and reservation:  288 \n",
      "\n"
     ]
    },
    {
     "name": "stderr",
     "output_type": "stream",
     "text": [
      "Grabbing bearer token from OAUTH\n"
     ]
    },
    {
     "name": "stdout",
     "output_type": "stream",
     "text": [
      "results for chiefs and smallpox:  75 \n",
      "\n"
     ]
    },
    {
     "name": "stderr",
     "output_type": "stream",
     "text": [
      "Grabbing bearer token from OAUTH\n"
     ]
    },
    {
     "name": "stdout",
     "output_type": "stream",
     "text": [
      "results for chiefs and ignorant:  1658 \n",
      "\n"
     ]
    },
    {
     "name": "stderr",
     "output_type": "stream",
     "text": [
      "Grabbing bearer token from OAUTH\n"
     ]
    },
    {
     "name": "stdout",
     "output_type": "stream",
     "text": [
      "results for chiefs and raped:  507 \n",
      "\n",
      "results for chiefs and die:  7968 \n",
      "\n"
     ]
    },
    {
     "name": "stderr",
     "output_type": "stream",
     "text": [
      "Grabbing bearer token from OAUTH\n"
     ]
    },
    {
     "name": "stdout",
     "output_type": "stream",
     "text": [
      "results for chiefs and dumb:  6605 \n",
      "\n"
     ]
    },
    {
     "name": "stderr",
     "output_type": "stream",
     "text": [
      "Grabbing bearer token from OAUTH\n",
      "Grabbing bearer token from OAUTH\n"
     ]
    },
    {
     "name": "stdout",
     "output_type": "stream",
     "text": [
      "results for chiefs and backwards:  889 \n",
      "\n"
     ]
    },
    {
     "name": "stderr",
     "output_type": "stream",
     "text": [
      "Grabbing bearer token from OAUTH\n"
     ]
    },
    {
     "name": "stdout",
     "output_type": "stream",
     "text": [
      "results for chiefs and inbred:  80 \n",
      "\n"
     ]
    },
    {
     "name": "stderr",
     "output_type": "stream",
     "text": [
      "Grabbing bearer token from OAUTH\n"
     ]
    },
    {
     "name": "stdout",
     "output_type": "stream",
     "text": [
      "results for chiefs and died:  2715 \n",
      "\n",
      "results for falcons and dirty:  8270 \n",
      "\n"
     ]
    },
    {
     "name": "stderr",
     "output_type": "stream",
     "text": [
      "Grabbing bearer token from OAUTH\n"
     ]
    },
    {
     "name": "stdout",
     "output_type": "stream",
     "text": [
      "results for falcons and filthy:  141 \n",
      "\n"
     ]
    },
    {
     "name": "stderr",
     "output_type": "stream",
     "text": [
      "Grabbing bearer token from OAUTH\n",
      "Grabbing bearer token from OAUTH\n"
     ]
    },
    {
     "name": "stdout",
     "output_type": "stream",
     "text": [
      "results for falcons and stupid:  5465 \n",
      "\n"
     ]
    },
    {
     "name": "stderr",
     "output_type": "stream",
     "text": [
      "Grabbing bearer token from OAUTH\n"
     ]
    },
    {
     "name": "stdout",
     "output_type": "stream",
     "text": [
      "results for falcons and ugly:  3136 \n",
      "\n"
     ]
    },
    {
     "name": "stderr",
     "output_type": "stream",
     "text": [
      "Grabbing bearer token from OAUTH\n"
     ]
    },
    {
     "name": "stdout",
     "output_type": "stream",
     "text": [
      "results for falcons and indian:  456 \n",
      "\n"
     ]
    },
    {
     "name": "stderr",
     "output_type": "stream",
     "text": [
      "Grabbing bearer token from OAUTH\n"
     ]
    },
    {
     "name": "stdout",
     "output_type": "stream",
     "text": [
      "results for falcons and blood:  1587 \n",
      "\n"
     ]
    },
    {
     "name": "stderr",
     "output_type": "stream",
     "text": [
      "Grabbing bearer token from OAUTH\n"
     ]
    },
    {
     "name": "stdout",
     "output_type": "stream",
     "text": [
      "results for falcons and scalp:  20 \n",
      "\n",
      "results for falcons and savage:  536 \n",
      "\n"
     ]
    },
    {
     "name": "stderr",
     "output_type": "stream",
     "text": [
      "Grabbing bearer token from OAUTH\n",
      "Grabbing bearer token from OAUTH\n"
     ]
    },
    {
     "name": "stdout",
     "output_type": "stream",
     "text": [
      "results for falcons and dead:  4071 \n",
      "\n",
      "results for falcons and killed:  3095 \n",
      "\n"
     ]
    },
    {
     "name": "stderr",
     "output_type": "stream",
     "text": [
      "Grabbing bearer token from OAUTH\n",
      "Grabbing bearer token from OAUTH\n"
     ]
    },
    {
     "name": "stdout",
     "output_type": "stream",
     "text": [
      "results for falcons and sexy:  682 \n",
      "\n"
     ]
    },
    {
     "name": "stderr",
     "output_type": "stream",
     "text": [
      "Grabbing bearer token from OAUTH\n"
     ]
    },
    {
     "name": "stdout",
     "output_type": "stream",
     "text": [
      "results for falcons and indian blood:  2 \n",
      "\n"
     ]
    },
    {
     "name": "stderr",
     "output_type": "stream",
     "text": [
      "Grabbing bearer token from OAUTH\n"
     ]
    },
    {
     "name": "stdout",
     "output_type": "stream",
     "text": [
      "results for falcons and drunk:  1583 \n",
      "\n"
     ]
    },
    {
     "name": "stderr",
     "output_type": "stream",
     "text": [
      "Grabbing bearer token from OAUTH\n"
     ]
    },
    {
     "name": "stdout",
     "output_type": "stream",
     "text": [
      "results for falcons and injun:  1 \n",
      "\n",
      "results for falcons and exterminate:  3 \n",
      "\n"
     ]
    },
    {
     "name": "stderr",
     "output_type": "stream",
     "text": [
      "Grabbing bearer token from OAUTH\n",
      "Grabbing bearer token from OAUTH\n"
     ]
    },
    {
     "name": "stdout",
     "output_type": "stream",
     "text": [
      "results for falcons and extinct:  81 \n",
      "\n",
      "results for falcons and firewater:  1 \n",
      "\n"
     ]
    },
    {
     "name": "stderr",
     "output_type": "stream",
     "text": [
      "Grabbing bearer token from OAUTH\n",
      "Grabbing bearer token from OAUTH\n"
     ]
    },
    {
     "name": "stdout",
     "output_type": "stream",
     "text": [
      "results for falcons and reservation:  32 \n",
      "\n",
      "results for falcons and smallpox:  1 \n",
      "\n"
     ]
    },
    {
     "name": "stderr",
     "output_type": "stream",
     "text": [
      "Grabbing bearer token from OAUTH\n",
      "Grabbing bearer token from OAUTH\n"
     ]
    },
    {
     "name": "stdout",
     "output_type": "stream",
     "text": [
      "results for falcons and ignorant:  447 \n",
      "\n"
     ]
    },
    {
     "name": "stderr",
     "output_type": "stream",
     "text": [
      "Grabbing bearer token from OAUTH\n"
     ]
    },
    {
     "name": "stdout",
     "output_type": "stream",
     "text": [
      "results for falcons and raped:  430 \n",
      "\n"
     ]
    },
    {
     "name": "stderr",
     "output_type": "stream",
     "text": [
      "Grabbing bearer token from OAUTH\n"
     ]
    },
    {
     "name": "stdout",
     "output_type": "stream",
     "text": [
      "results for falcons and die:  5232 \n",
      "\n",
      "results for falcons and dumb:  4222 \n",
      "\n"
     ]
    },
    {
     "name": "stderr",
     "output_type": "stream",
     "text": [
      "Grabbing bearer token from OAUTH\n"
     ]
    },
    {
     "name": "stdout",
     "output_type": "stream",
     "text": [
      "results for falcons and backwards:  434 \n",
      "\n"
     ]
    },
    {
     "name": "stderr",
     "output_type": "stream",
     "text": [
      "Grabbing bearer token from OAUTH\n"
     ]
    },
    {
     "name": "stdout",
     "output_type": "stream",
     "text": [
      "results for falcons and inbred:  22 \n",
      "\n"
     ]
    },
    {
     "name": "stderr",
     "output_type": "stream",
     "text": [
      "Grabbing bearer token from OAUTH\n",
      "Grabbing bearer token from OAUTH\n"
     ]
    },
    {
     "name": "stdout",
     "output_type": "stream",
     "text": [
      "results for falcons and died:  962 \n",
      "\n"
     ]
    },
    {
     "name": "stderr",
     "output_type": "stream",
     "text": [
      "Grabbing bearer token from OAUTH\n"
     ]
    },
    {
     "name": "stdout",
     "output_type": "stream",
     "text": [
      "results for patriots and dirty:  10000 \n",
      "\n",
      "results for patriots and filthy:  1577 \n",
      "\n"
     ]
    },
    {
     "name": "stderr",
     "output_type": "stream",
     "text": [
      "Grabbing bearer token from OAUTH\n",
      "Grabbing bearer token from OAUTH\n"
     ]
    },
    {
     "name": "stdout",
     "output_type": "stream",
     "text": [
      "results for patriots and stupid:  10000 \n",
      "\n"
     ]
    },
    {
     "name": "stderr",
     "output_type": "stream",
     "text": [
      "Grabbing bearer token from OAUTH\n"
     ]
    },
    {
     "name": "stdout",
     "output_type": "stream",
     "text": [
      "results for patriots and ugly:  8690 \n",
      "\n"
     ]
    },
    {
     "name": "stderr",
     "output_type": "stream",
     "text": [
      "Grabbing bearer token from OAUTH\n"
     ]
    },
    {
     "name": "stdout",
     "output_type": "stream",
     "text": [
      "results for patriots and indian:  4816 \n",
      "\n",
      "results for patriots and blood:  10000 \n",
      "\n"
     ]
    },
    {
     "name": "stderr",
     "output_type": "stream",
     "text": [
      "Grabbing bearer token from OAUTH\n"
     ]
    },
    {
     "name": "stdout",
     "output_type": "stream",
     "text": [
      "results for patriots and scalp:  67 \n",
      "\n"
     ]
    },
    {
     "name": "stderr",
     "output_type": "stream",
     "text": [
      "Grabbing bearer token from OAUTH\n",
      "Grabbing bearer token from OAUTH\n"
     ]
    },
    {
     "name": "stdout",
     "output_type": "stream",
     "text": [
      "results for patriots and savage:  1822 \n",
      "\n"
     ]
    },
    {
     "name": "stderr",
     "output_type": "stream",
     "text": [
      "Grabbing bearer token from OAUTH\n"
     ]
    },
    {
     "name": "stdout",
     "output_type": "stream",
     "text": [
      "results for patriots and dead:  10000 \n",
      "\n"
     ]
    },
    {
     "name": "stderr",
     "output_type": "stream",
     "text": [
      "Grabbing bearer token from OAUTH\n"
     ]
    },
    {
     "name": "stdout",
     "output_type": "stream",
     "text": [
      "results for patriots and killed:  10000 \n",
      "\n",
      "results for patriots and sexy:  2310 \n",
      "\n"
     ]
    },
    {
     "name": "stderr",
     "output_type": "stream",
     "text": [
      "Grabbing bearer token from OAUTH\n"
     ]
    },
    {
     "name": "stdout",
     "output_type": "stream",
     "text": [
      "results for patriots and indian blood:  9 \n",
      "\n"
     ]
    },
    {
     "name": "stderr",
     "output_type": "stream",
     "text": [
      "Grabbing bearer token from OAUTH\n",
      "Grabbing bearer token from OAUTH\n"
     ]
    },
    {
     "name": "stdout",
     "output_type": "stream",
     "text": [
      "results for patriots and drunk:  4823 \n",
      "\n"
     ]
    },
    {
     "name": "stderr",
     "output_type": "stream",
     "text": [
      "Grabbing bearer token from OAUTH\n"
     ]
    },
    {
     "name": "stdout",
     "output_type": "stream",
     "text": [
      "results for patriots and injun:  4 \n",
      "\n"
     ]
    },
    {
     "name": "stderr",
     "output_type": "stream",
     "text": [
      "Grabbing bearer token from OAUTH\n"
     ]
    },
    {
     "name": "stdout",
     "output_type": "stream",
     "text": [
      "results for patriots and exterminate:  173 \n",
      "\n",
      "results for patriots and extinct:  387 \n",
      "\n"
     ]
    },
    {
     "name": "stderr",
     "output_type": "stream",
     "text": [
      "Grabbing bearer token from OAUTH\n",
      "Grabbing bearer token from OAUTH\n"
     ]
    },
    {
     "name": "stdout",
     "output_type": "stream",
     "text": [
      "results for patriots and firewater:  1 \n",
      "\n"
     ]
    },
    {
     "name": "stderr",
     "output_type": "stream",
     "text": [
      "Grabbing bearer token from OAUTH\n"
     ]
    },
    {
     "name": "stdout",
     "output_type": "stream",
     "text": [
      "results for patriots and reservation:  228 \n",
      "\n",
      "results for patriots and smallpox:  77 \n",
      "\n"
     ]
    },
    {
     "name": "stderr",
     "output_type": "stream",
     "text": [
      "Grabbing bearer token from OAUTH\n",
      "Grabbing bearer token from OAUTH\n"
     ]
    },
    {
     "name": "stdout",
     "output_type": "stream",
     "text": [
      "results for patriots and ignorant:  8289 \n",
      "\n",
      "results for patriots and raped:  1741 \n",
      "\n"
     ]
    },
    {
     "name": "stderr",
     "output_type": "stream",
     "text": [
      "Grabbing bearer token from OAUTH\n"
     ]
    },
    {
     "name": "stdout",
     "output_type": "stream",
     "text": [
      "results for patriots and die:  10000 \n",
      "\n"
     ]
    },
    {
     "name": "stderr",
     "output_type": "stream",
     "text": [
      "Grabbing bearer token from OAUTH\n"
     ]
    },
    {
     "name": "stdout",
     "output_type": "stream",
     "text": [
      "results for patriots and dumb:  10000 \n",
      "\n"
     ]
    },
    {
     "name": "stderr",
     "output_type": "stream",
     "text": [
      "Grabbing bearer token from OAUTH\n"
     ]
    },
    {
     "name": "stdout",
     "output_type": "stream",
     "text": [
      "results for patriots and backwards:  1539 \n",
      "\n"
     ]
    },
    {
     "name": "stderr",
     "output_type": "stream",
     "text": [
      "Grabbing bearer token from OAUTH\n"
     ]
    },
    {
     "name": "stdout",
     "output_type": "stream",
     "text": [
      "results for patriots and inbred:  214 \n",
      "\n"
     ]
    },
    {
     "name": "stderr",
     "output_type": "stream",
     "text": [
      "Grabbing bearer token from OAUTH\n",
      "Grabbing bearer token from OAUTH\n"
     ]
    },
    {
     "name": "stdout",
     "output_type": "stream",
     "text": [
      "results for patriots and died:  10000 \n",
      "\n"
     ]
    },
    {
     "name": "stderr",
     "output_type": "stream",
     "text": [
      "Grabbing bearer token from OAUTH\n"
     ]
    },
    {
     "name": "stdout",
     "output_type": "stream",
     "text": [
      "results for eagles and dirty:  7869 \n",
      "\n"
     ]
    },
    {
     "name": "stderr",
     "output_type": "stream",
     "text": [
      "Grabbing bearer token from OAUTH\n"
     ]
    },
    {
     "name": "stdout",
     "output_type": "stream",
     "text": [
      "results for eagles and filthy:  701 \n",
      "\n"
     ]
    },
    {
     "name": "stderr",
     "output_type": "stream",
     "text": [
      "Grabbing bearer token from OAUTH\n"
     ]
    },
    {
     "name": "stdout",
     "output_type": "stream",
     "text": [
      "results for eagles and stupid:  10000 \n",
      "\n",
      "results for eagles and ugly:  10000 \n",
      "\n"
     ]
    },
    {
     "name": "stderr",
     "output_type": "stream",
     "text": [
      "Grabbing bearer token from OAUTH\n"
     ]
    },
    {
     "name": "stdout",
     "output_type": "stream",
     "text": [
      "results for eagles and indian:  1358 \n",
      "\n"
     ]
    },
    {
     "name": "stderr",
     "output_type": "stream",
     "text": [
      "Grabbing bearer token from OAUTH\n",
      "Grabbing bearer token from OAUTH\n"
     ]
    },
    {
     "name": "stdout",
     "output_type": "stream",
     "text": [
      "results for eagles and blood:  6113 \n",
      "\n"
     ]
    },
    {
     "name": "stderr",
     "output_type": "stream",
     "text": [
      "Grabbing bearer token from OAUTH\n"
     ]
    },
    {
     "name": "stdout",
     "output_type": "stream",
     "text": [
      "results for eagles and scalp:  172 \n",
      "\n",
      "results for eagles and savage:  1561 \n",
      "\n"
     ]
    },
    {
     "name": "stderr",
     "output_type": "stream",
     "text": [
      "Grabbing bearer token from OAUTH\n",
      "Grabbing bearer token from OAUTH\n"
     ]
    },
    {
     "name": "stdout",
     "output_type": "stream",
     "text": [
      "results for eagles and dead:  10000 \n",
      "\n"
     ]
    },
    {
     "name": "stderr",
     "output_type": "stream",
     "text": [
      "Grabbing bearer token from OAUTH\n"
     ]
    },
    {
     "name": "stdout",
     "output_type": "stream",
     "text": [
      "results for eagles and killed:  10000 \n",
      "\n"
     ]
    },
    {
     "name": "stderr",
     "output_type": "stream",
     "text": [
      "Grabbing bearer token from OAUTH\n"
     ]
    },
    {
     "name": "stdout",
     "output_type": "stream",
     "text": [
      "results for eagles and sexy:  2108 \n",
      "\n"
     ]
    },
    {
     "name": "stderr",
     "output_type": "stream",
     "text": [
      "Grabbing bearer token from OAUTH\n"
     ]
    },
    {
     "name": "stdout",
     "output_type": "stream",
     "text": [
      "results for eagles and indian blood:  0 \n",
      "\n"
     ]
    },
    {
     "name": "stderr",
     "output_type": "stream",
     "text": [
      "Grabbing bearer token from OAUTH\n"
     ]
    },
    {
     "name": "stdout",
     "output_type": "stream",
     "text": [
      "results for eagles and drunk:  7616 \n",
      "\n"
     ]
    },
    {
     "name": "stderr",
     "output_type": "stream",
     "text": [
      "Grabbing bearer token from OAUTH\n"
     ]
    },
    {
     "name": "stdout",
     "output_type": "stream",
     "text": [
      "results for eagles and injun:  1 \n",
      "\n",
      "results for eagles and exterminate:  40 \n",
      "\n"
     ]
    },
    {
     "name": "stderr",
     "output_type": "stream",
     "text": [
      "Grabbing bearer token from OAUTH\n",
      "Grabbing bearer token from OAUTH\n"
     ]
    },
    {
     "name": "stdout",
     "output_type": "stream",
     "text": [
      "results for eagles and extinct:  869 \n",
      "\n",
      "results for eagles and firewater:  4 \n",
      "\n"
     ]
    },
    {
     "name": "stderr",
     "output_type": "stream",
     "text": [
      "Grabbing bearer token from OAUTH\n",
      "Grabbing bearer token from OAUTH\n"
     ]
    },
    {
     "name": "stdout",
     "output_type": "stream",
     "text": [
      "results for eagles and reservation:  229 \n",
      "\n"
     ]
    },
    {
     "name": "stderr",
     "output_type": "stream",
     "text": [
      "Grabbing bearer token from OAUTH\n"
     ]
    },
    {
     "name": "stdout",
     "output_type": "stream",
     "text": [
      "results for eagles and smallpox:  8 \n",
      "\n",
      "results for eagles and ignorant:  2267 \n",
      "\n"
     ]
    },
    {
     "name": "stderr",
     "output_type": "stream",
     "text": [
      "Grabbing bearer token from OAUTH\n",
      "Grabbing bearer token from OAUTH\n"
     ]
    },
    {
     "name": "stdout",
     "output_type": "stream",
     "text": [
      "results for eagles and raped:  798 \n",
      "\n",
      "results for eagles and die:  10000 \n",
      "\n"
     ]
    },
    {
     "name": "stderr",
     "output_type": "stream",
     "text": [
      "Grabbing bearer token from OAUTH\n"
     ]
    },
    {
     "name": "stdout",
     "output_type": "stream",
     "text": [
      "results for eagles and dumb:  10000 \n",
      "\n"
     ]
    },
    {
     "name": "stderr",
     "output_type": "stream",
     "text": [
      "Grabbing bearer token from OAUTH\n",
      "Grabbing bearer token from OAUTH\n"
     ]
    },
    {
     "name": "stdout",
     "output_type": "stream",
     "text": [
      "results for eagles and backwards:  1568 \n",
      "\n"
     ]
    },
    {
     "name": "stderr",
     "output_type": "stream",
     "text": [
      "Grabbing bearer token from OAUTH\n"
     ]
    },
    {
     "name": "stdout",
     "output_type": "stream",
     "text": [
      "results for eagles and inbred:  85 \n",
      "\n"
     ]
    },
    {
     "name": "stderr",
     "output_type": "stream",
     "text": [
      "Grabbing bearer token from OAUTH\n"
     ]
    },
    {
     "name": "stdout",
     "output_type": "stream",
     "text": [
      "results for eagles and died:  8002 \n",
      "\n"
     ]
    },
    {
     "name": "stderr",
     "output_type": "stream",
     "text": [
      "Grabbing bearer token from OAUTH\n"
     ]
    },
    {
     "name": "stdout",
     "output_type": "stream",
     "text": [
      "results for 49ers and dirty:  2190 \n",
      "\n"
     ]
    },
    {
     "name": "stderr",
     "output_type": "stream",
     "text": [
      "Grabbing bearer token from OAUTH\n"
     ]
    },
    {
     "name": "stdout",
     "output_type": "stream",
     "text": [
      "results for 49ers and filthy:  191 \n",
      "\n"
     ]
    },
    {
     "name": "stderr",
     "output_type": "stream",
     "text": [
      "Grabbing bearer token from OAUTH\n"
     ]
    },
    {
     "name": "stdout",
     "output_type": "stream",
     "text": [
      "results for 49ers and stupid:  7171 \n",
      "\n",
      "results for 49ers and ugly:  4409 \n",
      "\n"
     ]
    },
    {
     "name": "stderr",
     "output_type": "stream",
     "text": [
      "Grabbing bearer token from OAUTH\n",
      "Grabbing bearer token from OAUTH\n"
     ]
    },
    {
     "name": "stdout",
     "output_type": "stream",
     "text": [
      "results for 49ers and indian:  175 \n",
      "\n"
     ]
    },
    {
     "name": "stderr",
     "output_type": "stream",
     "text": [
      "Grabbing bearer token from OAUTH\n"
     ]
    },
    {
     "name": "stdout",
     "output_type": "stream",
     "text": [
      "results for 49ers and blood:  1740 \n",
      "\n",
      "results for 49ers and scalp:  15 \n",
      "\n"
     ]
    },
    {
     "name": "stderr",
     "output_type": "stream",
     "text": [
      "Grabbing bearer token from OAUTH\n"
     ]
    },
    {
     "name": "stdout",
     "output_type": "stream",
     "text": [
      "results for 49ers and savage:  905 \n",
      "\n"
     ]
    },
    {
     "name": "stderr",
     "output_type": "stream",
     "text": [
      "Grabbing bearer token from OAUTH\n",
      "Grabbing bearer token from OAUTH\n"
     ]
    },
    {
     "name": "stdout",
     "output_type": "stream",
     "text": [
      "results for 49ers and dead:  1998 \n",
      "\n"
     ]
    },
    {
     "name": "stderr",
     "output_type": "stream",
     "text": [
      "Grabbing bearer token from OAUTH\n"
     ]
    },
    {
     "name": "stdout",
     "output_type": "stream",
     "text": [
      "results for 49ers and killed:  3955 \n",
      "\n"
     ]
    },
    {
     "name": "stderr",
     "output_type": "stream",
     "text": [
      "Grabbing bearer token from OAUTH\n"
     ]
    },
    {
     "name": "stdout",
     "output_type": "stream",
     "text": [
      "results for 49ers and sexy:  984 \n",
      "\n"
     ]
    },
    {
     "name": "stderr",
     "output_type": "stream",
     "text": [
      "Grabbing bearer token from OAUTH\n"
     ]
    },
    {
     "name": "stdout",
     "output_type": "stream",
     "text": [
      "results for 49ers and indian blood:  2 \n",
      "\n"
     ]
    },
    {
     "name": "stderr",
     "output_type": "stream",
     "text": [
      "Grabbing bearer token from OAUTH\n"
     ]
    },
    {
     "name": "stdout",
     "output_type": "stream",
     "text": [
      "results for 49ers and drunk:  1887 \n",
      "\n",
      "results for 49ers and injun:  3 \n",
      "\n"
     ]
    },
    {
     "name": "stderr",
     "output_type": "stream",
     "text": [
      "Grabbing bearer token from OAUTH\n",
      "Grabbing bearer token from OAUTH\n"
     ]
    },
    {
     "name": "stdout",
     "output_type": "stream",
     "text": [
      "results for 49ers and exterminate:  5 \n",
      "\n"
     ]
    },
    {
     "name": "stderr",
     "output_type": "stream",
     "text": [
      "Grabbing bearer token from OAUTH\n"
     ]
    },
    {
     "name": "stdout",
     "output_type": "stream",
     "text": [
      "results for 49ers and extinct:  30 \n",
      "\n"
     ]
    },
    {
     "name": "stderr",
     "output_type": "stream",
     "text": [
      "Grabbing bearer token from OAUTH\n"
     ]
    },
    {
     "name": "stdout",
     "output_type": "stream",
     "text": [
      "results for 49ers and firewater:  1 \n",
      "\n",
      "results for 49ers and reservation:  154 \n",
      "\n"
     ]
    },
    {
     "name": "stderr",
     "output_type": "stream",
     "text": [
      "Grabbing bearer token from OAUTH\n",
      "Grabbing bearer token from OAUTH\n"
     ]
    },
    {
     "name": "stdout",
     "output_type": "stream",
     "text": [
      "results for 49ers and smallpox:  3 \n",
      "\n"
     ]
    },
    {
     "name": "stderr",
     "output_type": "stream",
     "text": [
      "Grabbing bearer token from OAUTH\n"
     ]
    },
    {
     "name": "stdout",
     "output_type": "stream",
     "text": [
      "results for 49ers and ignorant:  886 \n",
      "\n",
      "results for 49ers and raped:  376 \n",
      "\n"
     ]
    },
    {
     "name": "stderr",
     "output_type": "stream",
     "text": [
      "Grabbing bearer token from OAUTH\n",
      "Grabbing bearer token from OAUTH\n"
     ]
    },
    {
     "name": "stdout",
     "output_type": "stream",
     "text": [
      "results for 49ers and die:  5542 \n",
      "\n",
      "results for 49ers and dumb:  4960 \n",
      "\n"
     ]
    },
    {
     "name": "stderr",
     "output_type": "stream",
     "text": [
      "Grabbing bearer token from OAUTH\n"
     ]
    },
    {
     "name": "stdout",
     "output_type": "stream",
     "text": [
      "results for 49ers and backwards:  522 \n",
      "\n"
     ]
    },
    {
     "name": "stderr",
     "output_type": "stream",
     "text": [
      "Grabbing bearer token from OAUTH\n"
     ]
    },
    {
     "name": "stdout",
     "output_type": "stream",
     "text": [
      "results for 49ers and inbred:  16 \n",
      "\n"
     ]
    },
    {
     "name": "stderr",
     "output_type": "stream",
     "text": [
      "Grabbing bearer token from OAUTH\n",
      "Grabbing bearer token from OAUTH\n"
     ]
    },
    {
     "name": "stdout",
     "output_type": "stream",
     "text": [
      "results for 49ers and died:  1350 \n",
      "\n",
      "results for seahawks and dirty:  4180 \n",
      "\n"
     ]
    },
    {
     "name": "stderr",
     "output_type": "stream",
     "text": [
      "Grabbing bearer token from OAUTH\n",
      "Grabbing bearer token from OAUTH\n"
     ]
    },
    {
     "name": "stdout",
     "output_type": "stream",
     "text": [
      "results for seahawks and filthy:  303 \n",
      "\n"
     ]
    },
    {
     "name": "stderr",
     "output_type": "stream",
     "text": [
      "Grabbing bearer token from OAUTH\n"
     ]
    },
    {
     "name": "stdout",
     "output_type": "stream",
     "text": [
      "results for seahawks and stupid:  8343 \n",
      "\n",
      "results for seahawks and ugly:  4464 \n",
      "\n"
     ]
    },
    {
     "name": "stderr",
     "output_type": "stream",
     "text": [
      "Grabbing bearer token from OAUTH\n",
      "Grabbing bearer token from OAUTH\n"
     ]
    },
    {
     "name": "stdout",
     "output_type": "stream",
     "text": [
      "results for seahawks and indian:  174 \n",
      "\n"
     ]
    },
    {
     "name": "stderr",
     "output_type": "stream",
     "text": [
      "Grabbing bearer token from OAUTH\n"
     ]
    },
    {
     "name": "stdout",
     "output_type": "stream",
     "text": [
      "results for seahawks and blood:  1709 \n",
      "\n",
      "results for seahawks and scalp:  25 \n",
      "\n"
     ]
    },
    {
     "name": "stderr",
     "output_type": "stream",
     "text": [
      "Grabbing bearer token from OAUTH\n",
      "Grabbing bearer token from OAUTH\n"
     ]
    },
    {
     "name": "stdout",
     "output_type": "stream",
     "text": [
      "results for seahawks and savage:  486 \n",
      "\n"
     ]
    },
    {
     "name": "stderr",
     "output_type": "stream",
     "text": [
      "Grabbing bearer token from OAUTH\n"
     ]
    },
    {
     "name": "stdout",
     "output_type": "stream",
     "text": [
      "results for seahawks and dead:  4384 \n",
      "\n",
      "results for seahawks and killed:  3521 \n",
      "\n"
     ]
    },
    {
     "name": "stderr",
     "output_type": "stream",
     "text": [
      "Grabbing bearer token from OAUTH\n"
     ]
    },
    {
     "name": "stdout",
     "output_type": "stream",
     "text": [
      "results for seahawks and sexy:  829 \n",
      "\n"
     ]
    },
    {
     "name": "stderr",
     "output_type": "stream",
     "text": [
      "Grabbing bearer token from OAUTH\n",
      "Grabbing bearer token from OAUTH\n"
     ]
    },
    {
     "name": "stdout",
     "output_type": "stream",
     "text": [
      "results for seahawks and indian blood:  0 \n",
      "\n"
     ]
    },
    {
     "name": "stderr",
     "output_type": "stream",
     "text": [
      "Grabbing bearer token from OAUTH\n"
     ]
    },
    {
     "name": "stdout",
     "output_type": "stream",
     "text": [
      "results for seahawks and drunk:  2003 \n",
      "\n"
     ]
    },
    {
     "name": "stderr",
     "output_type": "stream",
     "text": [
      "Grabbing bearer token from OAUTH\n"
     ]
    },
    {
     "name": "stdout",
     "output_type": "stream",
     "text": [
      "results for seahawks and injun:  1 \n",
      "\n"
     ]
    },
    {
     "name": "stderr",
     "output_type": "stream",
     "text": [
      "Grabbing bearer token from OAUTH\n"
     ]
    },
    {
     "name": "stdout",
     "output_type": "stream",
     "text": [
      "results for seahawks and exterminate:  3 \n",
      "\n",
      "results for seahawks and extinct:  36 \n",
      "\n"
     ]
    },
    {
     "name": "stderr",
     "output_type": "stream",
     "text": [
      "Grabbing bearer token from OAUTH\n"
     ]
    },
    {
     "name": "stdout",
     "output_type": "stream",
     "text": [
      "results for seahawks and firewater:  1 \n",
      "\n"
     ]
    },
    {
     "name": "stderr",
     "output_type": "stream",
     "text": [
      "Grabbing bearer token from OAUTH\n",
      "retrying request; current status code: 429\n",
      "retrying request; current status code: 429\n",
      "retrying request; current status code: 429\n",
      "HTTP Error code: 429: Request exceeds account’s current package request limits. Please upgrade your package and retry or contact Twitter about enterprise access.\n",
      "Rule payload: {'query': '(\"seahawks\" and \"reservation\") lang:en -is:retweet', 'maxResults': 500, 'toDate': '202001250000', 'fromDate': '200701010000'}\n"
     ]
    },
    {
     "ename": "HTTPError",
     "evalue": "",
     "output_type": "error",
     "traceback": [
      "\u001b[0;31m---------------------------------------------------------------------------\u001b[0m",
      "\u001b[0;31mHTTPError\u001b[0m                                 Traceback (most recent call last)",
      "\u001b[0;32m<ipython-input-42-d7084507e0ba>\u001b[0m in \u001b[0;36m<module>\u001b[0;34m\u001b[0m\n\u001b[1;32m      1\u001b[0m \u001b[0;31m# get_team_terms_df(team_list, term_list):\u001b[0m\u001b[0;34m\u001b[0m\u001b[0;34m\u001b[0m\u001b[0m\n\u001b[1;32m      2\u001b[0m \u001b[0;34m\u001b[0m\u001b[0m\n\u001b[0;32m----> 3\u001b[0;31m \u001b[0mteam_terms_df\u001b[0m \u001b[0;34m=\u001b[0m \u001b[0mget_team_terms_df\u001b[0m\u001b[0;34m(\u001b[0m\u001b[0mteam_list\u001b[0m\u001b[0;34m,\u001b[0m \u001b[0mterm_list\u001b[0m\u001b[0;34m)\u001b[0m\u001b[0;34m\u001b[0m\u001b[0m\n\u001b[0m",
      "\u001b[0;32m<ipython-input-41-6dac0b9896a4>\u001b[0m in \u001b[0;36mget_team_terms_df\u001b[0;34m(team_list, term_list)\u001b[0m\n\u001b[1;32m     11\u001b[0m             \u001b[0;31m# get up to 10k tweets for each term\u001b[0m\u001b[0;34m\u001b[0m\u001b[0;34m\u001b[0m\u001b[0m\n\u001b[1;32m     12\u001b[0m \u001b[0;34m\u001b[0m\u001b[0m\n\u001b[0;32m---> 13\u001b[0;31m             \u001b[0mtweet_objects\u001b[0m \u001b[0;34m=\u001b[0m \u001b[0mget_tweet_object\u001b[0m\u001b[0;34m(\u001b[0m\u001b[0msearch_term\u001b[0m\u001b[0;34m,\u001b[0m \u001b[0mdatetime\u001b[0m\u001b[0;34m.\u001b[0m\u001b[0mdatetime\u001b[0m\u001b[0;34m(\u001b[0m\u001b[0;36m2007\u001b[0m\u001b[0;34m,\u001b[0m\u001b[0;36m1\u001b[0m\u001b[0;34m,\u001b[0m\u001b[0;36m1\u001b[0m\u001b[0;34m)\u001b[0m\u001b[0;34m,\u001b[0m \u001b[0mdatetime\u001b[0m\u001b[0;34m.\u001b[0m\u001b[0mdatetime\u001b[0m\u001b[0;34m(\u001b[0m\u001b[0;36m2020\u001b[0m\u001b[0;34m,\u001b[0m\u001b[0;36m1\u001b[0m\u001b[0;34m,\u001b[0m\u001b[0;36m25\u001b[0m\u001b[0;34m)\u001b[0m\u001b[0;34m,\u001b[0m \u001b[0;36m10000\u001b[0m\u001b[0;34m,\u001b[0m \u001b[0minclude_retweets\u001b[0m\u001b[0;34m=\u001b[0m\u001b[0;32mFalse\u001b[0m\u001b[0;34m)\u001b[0m\u001b[0;34m\u001b[0m\u001b[0m\n\u001b[0m\u001b[1;32m     14\u001b[0m \u001b[0;34m\u001b[0m\u001b[0m\n\u001b[1;32m     15\u001b[0m             \u001b[0mraw_df\u001b[0m \u001b[0;34m=\u001b[0m \u001b[0mtweet_obj_to_df\u001b[0m\u001b[0;34m(\u001b[0m\u001b[0mtweet_objects\u001b[0m\u001b[0;34m)\u001b[0m\u001b[0;34m\u001b[0m\u001b[0m\n",
      "\u001b[0;32m<ipython-input-2-8afaa485e3eb>\u001b[0m in \u001b[0;36mget_tweet_object\u001b[0;34m(search_term, start_date, end_date, num_of_tweets, include_retweets)\u001b[0m\n\u001b[1;32m     43\u001b[0m     \u001b[0mstart_time\u001b[0m \u001b[0;34m=\u001b[0m \u001b[0mtime\u001b[0m\u001b[0;34m.\u001b[0m\u001b[0mtime\u001b[0m\u001b[0;34m(\u001b[0m\u001b[0;34m)\u001b[0m\u001b[0;34m\u001b[0m\u001b[0m\n\u001b[1;32m     44\u001b[0m \u001b[0;34m\u001b[0m\u001b[0m\n\u001b[0;32m---> 45\u001b[0;31m     \u001b[0;32mfor\u001b[0m \u001b[0mi\u001b[0m\u001b[0;34m,\u001b[0m \u001b[0mtweet_object\u001b[0m \u001b[0;32min\u001b[0m \u001b[0menumerate\u001b[0m\u001b[0;34m(\u001b[0m\u001b[0mrs\u001b[0m\u001b[0;34m.\u001b[0m\u001b[0mstream\u001b[0m\u001b[0;34m(\u001b[0m\u001b[0;34m)\u001b[0m\u001b[0;34m,\u001b[0m \u001b[0mstart\u001b[0m\u001b[0;34m=\u001b[0m\u001b[0;36m1\u001b[0m\u001b[0;34m)\u001b[0m\u001b[0;34m:\u001b[0m\u001b[0;34m\u001b[0m\u001b[0m\n\u001b[0m\u001b[1;32m     46\u001b[0m \u001b[0;34m\u001b[0m\u001b[0m\n\u001b[1;32m     47\u001b[0m         \u001b[0;32mif\u001b[0m \u001b[0mi\u001b[0m \u001b[0;34m%\u001b[0m \u001b[0;36m500\u001b[0m \u001b[0;34m==\u001b[0m \u001b[0;36m0\u001b[0m\u001b[0;34m:\u001b[0m\u001b[0;34m\u001b[0m\u001b[0m\n",
      "\u001b[0;32m/opt/conda/lib/python3.6/site-packages/searchtweets/result_stream.py\u001b[0m in \u001b[0;36mstream\u001b[0;34m(self)\u001b[0m\n\u001b[1;32m    206\u001b[0m         \u001b[0mself\u001b[0m\u001b[0;34m.\u001b[0m\u001b[0minit_session\u001b[0m\u001b[0;34m(\u001b[0m\u001b[0;34m)\u001b[0m\u001b[0;34m\u001b[0m\u001b[0m\n\u001b[1;32m    207\u001b[0m         \u001b[0mself\u001b[0m\u001b[0;34m.\u001b[0m\u001b[0mcheck_counts\u001b[0m\u001b[0;34m(\u001b[0m\u001b[0;34m)\u001b[0m\u001b[0;34m\u001b[0m\u001b[0m\n\u001b[0;32m--> 208\u001b[0;31m         \u001b[0mself\u001b[0m\u001b[0;34m.\u001b[0m\u001b[0mexecute_request\u001b[0m\u001b[0;34m(\u001b[0m\u001b[0;34m)\u001b[0m\u001b[0;34m\u001b[0m\u001b[0m\n\u001b[0m\u001b[1;32m    209\u001b[0m         \u001b[0mself\u001b[0m\u001b[0;34m.\u001b[0m\u001b[0mstream_started\u001b[0m \u001b[0;34m=\u001b[0m \u001b[0;32mTrue\u001b[0m\u001b[0;34m\u001b[0m\u001b[0m\n\u001b[1;32m    210\u001b[0m         \u001b[0;32mwhile\u001b[0m \u001b[0;32mTrue\u001b[0m\u001b[0;34m:\u001b[0m\u001b[0;34m\u001b[0m\u001b[0m\n",
      "\u001b[0;32m/opt/conda/lib/python3.6/site-packages/searchtweets/result_stream.py\u001b[0m in \u001b[0;36mexecute_request\u001b[0;34m(self)\u001b[0m\n\u001b[1;32m    258\u001b[0m         resp = request(session=self.session,\n\u001b[1;32m    259\u001b[0m                        \u001b[0murl\u001b[0m\u001b[0;34m=\u001b[0m\u001b[0mself\u001b[0m\u001b[0;34m.\u001b[0m\u001b[0mendpoint\u001b[0m\u001b[0;34m,\u001b[0m\u001b[0;34m\u001b[0m\u001b[0m\n\u001b[0;32m--> 260\u001b[0;31m                        rule_payload=self.rule_payload)\n\u001b[0m\u001b[1;32m    261\u001b[0m         \u001b[0mself\u001b[0m\u001b[0;34m.\u001b[0m\u001b[0mn_requests\u001b[0m \u001b[0;34m+=\u001b[0m \u001b[0;36m1\u001b[0m\u001b[0;34m\u001b[0m\u001b[0m\n\u001b[1;32m    262\u001b[0m         \u001b[0mResultStream\u001b[0m\u001b[0;34m.\u001b[0m\u001b[0msession_request_counter\u001b[0m \u001b[0;34m+=\u001b[0m \u001b[0;36m1\u001b[0m\u001b[0;34m\u001b[0m\u001b[0m\n",
      "\u001b[0;32m/opt/conda/lib/python3.6/site-packages/searchtweets/result_stream.py\u001b[0m in \u001b[0;36mretried_func\u001b[0;34m(*args, **kwargs)\u001b[0m\n\u001b[1;32m    102\u001b[0m             \u001b[0mlogger\u001b[0m\u001b[0;34m.\u001b[0m\u001b[0merror\u001b[0m\u001b[0;34m(\u001b[0m\u001b[0;34m\"HTTP Error code: {}: {}\"\u001b[0m\u001b[0;34m.\u001b[0m\u001b[0mformat\u001b[0m\u001b[0;34m(\u001b[0m\u001b[0mresp\u001b[0m\u001b[0;34m.\u001b[0m\u001b[0mstatus_code\u001b[0m\u001b[0;34m,\u001b[0m \u001b[0merror_message\u001b[0m\u001b[0;34m)\u001b[0m\u001b[0;34m)\u001b[0m\u001b[0;34m\u001b[0m\u001b[0m\n\u001b[1;32m    103\u001b[0m             \u001b[0mlogger\u001b[0m\u001b[0;34m.\u001b[0m\u001b[0merror\u001b[0m\u001b[0;34m(\u001b[0m\u001b[0;34m\"Rule payload: {}\"\u001b[0m\u001b[0;34m.\u001b[0m\u001b[0mformat\u001b[0m\u001b[0;34m(\u001b[0m\u001b[0mkwargs\u001b[0m\u001b[0;34m[\u001b[0m\u001b[0;34m\"rule_payload\"\u001b[0m\u001b[0;34m]\u001b[0m\u001b[0;34m)\u001b[0m\u001b[0;34m)\u001b[0m\u001b[0;34m\u001b[0m\u001b[0m\n\u001b[0;32m--> 104\u001b[0;31m             \u001b[0;32mraise\u001b[0m \u001b[0mrequests\u001b[0m\u001b[0;34m.\u001b[0m\u001b[0mexceptions\u001b[0m\u001b[0;34m.\u001b[0m\u001b[0mHTTPError\u001b[0m\u001b[0;34m\u001b[0m\u001b[0m\n\u001b[0m\u001b[1;32m    105\u001b[0m \u001b[0;34m\u001b[0m\u001b[0m\n\u001b[1;32m    106\u001b[0m         \u001b[0;32mreturn\u001b[0m \u001b[0mresp\u001b[0m\u001b[0;34m\u001b[0m\u001b[0m\n",
      "\u001b[0;31mHTTPError\u001b[0m: "
     ]
    }
   ],
   "source": [
    "# get_team_terms_df(team_list, term_list):\n",
    "\n",
    "team_terms_df = get_team_terms_df(team_list, term_list)"
   ]
  },
  {
   "cell_type": "code",
   "execution_count": 44,
   "metadata": {},
   "outputs": [
    {
     "ename": "NameError",
     "evalue": "name 'team_terms_df' is not defined",
     "output_type": "error",
     "traceback": [
      "\u001b[0;31m---------------------------------------------------------------------------\u001b[0m",
      "\u001b[0;31mNameError\u001b[0m                                 Traceback (most recent call last)",
      "\u001b[0;32m<ipython-input-44-c51e43971f2d>\u001b[0m in \u001b[0;36m<module>\u001b[0;34m\u001b[0m\n\u001b[0;32m----> 1\u001b[0;31m \u001b[0mprint\u001b[0m\u001b[0;34m(\u001b[0m\u001b[0mteam_terms_df\u001b[0m\u001b[0;34m.\u001b[0m\u001b[0mhead\u001b[0m\u001b[0;34m(\u001b[0m\u001b[0;34m)\u001b[0m\u001b[0;34m)\u001b[0m\u001b[0;34m\u001b[0m\u001b[0m\n\u001b[0m",
      "\u001b[0;31mNameError\u001b[0m: name 'team_terms_df' is not defined"
     ]
    }
   ],
   "source": [
    "print(team_terms_df.head())"
   ]
  },
  {
   "cell_type": "code",
   "execution_count": 58,
   "metadata": {},
   "outputs": [
    {
     "name": "stderr",
     "output_type": "stream",
     "text": [
      "Grabbing bearer token from OAUTH\n",
      "Grabbing bearer token from OAUTH\n"
     ]
    },
    {
     "name": "stdout",
     "output_type": "stream",
     "text": [
      "100 \n",
      "\n",
      "                                                 text           author\n",
      "0   @BigDrewandJim Stafford could absolutely pull ...         skearn41\n",
      "1   Kaizer Chiefs blacklisted Mandla Masango and T...  LUCKY_MTHOMBENI\n",
      "2   @Ragnod49 @ArrowheadAddict Much respect!! \\n\\n...     ArrighiOrosz\n",
      "3   @davidmakepeace @ArrowheadAddict Chiefs fan he...     ArrighiOrosz\n",
      "4   I think I'm rooting for Mahomes and the Chiefs...      skepticgoat\n",
      "5   @JeffAllen71 @ProFootballTalk The 49ers don't ...    DaRealLopeezi\n",
      "6   @martyclevenger @ProFootballTalk Florio has a ...      brettoncole\n",
      "7   @ProFootballTalk @MikeFlorioPFT this is ridicu...       mellanclos\n",
      "8   @ProFootballTalk The fuck you talkin bout smfh...      SAWAIIAN650\n",
      "9   @ProFootballTalk How do the Chiefs stop that r...      book_nelson\n",
      "10  Why are we even having an election against law...      redalertnow\n",
      "11  @zach_seibel21 @NBCSports @ProFootballTalk We ...         hotchman\n",
      "12  @ProFootballTalk It's not just Chiefs fans whi...     auntiesuez45\n",
      "13  @ProFootballTalk I can not believe you suggest...       MikeMonnig\n",
      "14  @joaospierjr @AB_3127 @kennysnider7 @wendllyn ...  voodoomanland81\n",
      "15  @sternshow @JeromeBettis36 @cwotd @Chiefs @jon...         VlaclavK\n",
      "16  You literally advocated for guys on D to hit M...    DaveyGumdrops\n",
      "17  @ProFootballTalk As a niner fan, havng watched...       Maxgomez79\n",
      "18  @BillGroner1 @ProFootballTalk @CollinsworthPFF...        x_Slick24\n",
      "19  PFT SHOULD NOT support  anything  Mike Florio ...       markshogue\n"
     ]
    },
    {
     "name": "stderr",
     "output_type": "stream",
     "text": [
      "Grabbing bearer token from OAUTH\n"
     ]
    },
    {
     "name": "stdout",
     "output_type": "stream",
     "text": [
      "200 \n",
      "\n",
      "                                                 text           author\n",
      "0   @BigDrewandJim Stafford could absolutely pull ...         skearn41\n",
      "1   Kaizer Chiefs blacklisted Mandla Masango and T...  LUCKY_MTHOMBENI\n",
      "2   @Ragnod49 @ArrowheadAddict Much respect!! \\n\\n...     ArrighiOrosz\n",
      "3   @davidmakepeace @ArrowheadAddict Chiefs fan he...     ArrighiOrosz\n",
      "4   I think I'm rooting for Mahomes and the Chiefs...      skepticgoat\n",
      "5   @JeffAllen71 @ProFootballTalk The 49ers don't ...    DaRealLopeezi\n",
      "6   @martyclevenger @ProFootballTalk Florio has a ...      brettoncole\n",
      "7   @ProFootballTalk @MikeFlorioPFT this is ridicu...       mellanclos\n",
      "8   @ProFootballTalk The fuck you talkin bout smfh...      SAWAIIAN650\n",
      "9   @ProFootballTalk How do the Chiefs stop that r...      book_nelson\n",
      "10  Why are we even having an election against law...      redalertnow\n",
      "11  @zach_seibel21 @NBCSports @ProFootballTalk We ...         hotchman\n",
      "12  @ProFootballTalk It's not just Chiefs fans whi...     auntiesuez45\n",
      "13  @ProFootballTalk I can not believe you suggest...       MikeMonnig\n",
      "14  @joaospierjr @AB_3127 @kennysnider7 @wendllyn ...  voodoomanland81\n",
      "15  @sternshow @JeromeBettis36 @cwotd @Chiefs @jon...         VlaclavK\n",
      "16  You literally advocated for guys on D to hit M...    DaveyGumdrops\n",
      "17  @ProFootballTalk As a niner fan, havng watched...       Maxgomez79\n",
      "18  @BillGroner1 @ProFootballTalk @CollinsworthPFF...        x_Slick24\n",
      "19  PFT SHOULD NOT support  anything  Mike Florio ...       markshogue\n",
      "300 \n",
      "\n",
      "                                                 text           author\n",
      "0   @BigDrewandJim Stafford could absolutely pull ...         skearn41\n",
      "1   Kaizer Chiefs blacklisted Mandla Masango and T...  LUCKY_MTHOMBENI\n",
      "2   @Ragnod49 @ArrowheadAddict Much respect!! \\n\\n...     ArrighiOrosz\n",
      "3   @davidmakepeace @ArrowheadAddict Chiefs fan he...     ArrighiOrosz\n",
      "4   I think I'm rooting for Mahomes and the Chiefs...      skepticgoat\n",
      "5   @JeffAllen71 @ProFootballTalk The 49ers don't ...    DaRealLopeezi\n",
      "6   @martyclevenger @ProFootballTalk Florio has a ...      brettoncole\n",
      "7   @ProFootballTalk @MikeFlorioPFT this is ridicu...       mellanclos\n",
      "8   @ProFootballTalk The fuck you talkin bout smfh...      SAWAIIAN650\n",
      "9   @ProFootballTalk How do the Chiefs stop that r...      book_nelson\n",
      "10  Why are we even having an election against law...      redalertnow\n",
      "11  @zach_seibel21 @NBCSports @ProFootballTalk We ...         hotchman\n",
      "12  @ProFootballTalk It's not just Chiefs fans whi...     auntiesuez45\n",
      "13  @ProFootballTalk I can not believe you suggest...       MikeMonnig\n",
      "14  @joaospierjr @AB_3127 @kennysnider7 @wendllyn ...  voodoomanland81\n",
      "15  @sternshow @JeromeBettis36 @cwotd @Chiefs @jon...         VlaclavK\n",
      "16  You literally advocated for guys on D to hit M...    DaveyGumdrops\n",
      "17  @ProFootballTalk As a niner fan, havng watched...       Maxgomez79\n",
      "18  @BillGroner1 @ProFootballTalk @CollinsworthPFF...        x_Slick24\n",
      "19  PFT SHOULD NOT support  anything  Mike Florio ...       markshogue\n"
     ]
    }
   ],
   "source": [
    "chiefs_test_df = try_terms('chiefs')"
   ]
  },
  {
   "cell_type": "code",
   "execution_count": 60,
   "metadata": {},
   "outputs": [
    {
     "name": "stdout",
     "output_type": "stream",
     "text": [
      "300\n"
     ]
    },
    {
     "data": {
      "text/html": [
       "<div>\n",
       "<style scoped>\n",
       "    .dataframe tbody tr th:only-of-type {\n",
       "        vertical-align: middle;\n",
       "    }\n",
       "\n",
       "    .dataframe tbody tr th {\n",
       "        vertical-align: top;\n",
       "    }\n",
       "\n",
       "    .dataframe thead th {\n",
       "        text-align: right;\n",
       "    }\n",
       "</style>\n",
       "<table border=\"1\" class=\"dataframe\">\n",
       "  <thead>\n",
       "    <tr style=\"text-align: right;\">\n",
       "      <th></th>\n",
       "      <th>text</th>\n",
       "      <th>author</th>\n",
       "    </tr>\n",
       "  </thead>\n",
       "  <tbody>\n",
       "    <tr>\n",
       "      <th>0</th>\n",
       "      <td>@BigDrewandJim Stafford could absolutely pull ...</td>\n",
       "      <td>skearn41</td>\n",
       "    </tr>\n",
       "    <tr>\n",
       "      <th>1</th>\n",
       "      <td>Kaizer Chiefs blacklisted Mandla Masango and T...</td>\n",
       "      <td>LUCKY_MTHOMBENI</td>\n",
       "    </tr>\n",
       "    <tr>\n",
       "      <th>2</th>\n",
       "      <td>@Ragnod49 @ArrowheadAddict Much respect!! \\n\\n...</td>\n",
       "      <td>ArrighiOrosz</td>\n",
       "    </tr>\n",
       "    <tr>\n",
       "      <th>3</th>\n",
       "      <td>@davidmakepeace @ArrowheadAddict Chiefs fan he...</td>\n",
       "      <td>ArrighiOrosz</td>\n",
       "    </tr>\n",
       "    <tr>\n",
       "      <th>4</th>\n",
       "      <td>I think I'm rooting for Mahomes and the Chiefs...</td>\n",
       "      <td>skepticgoat</td>\n",
       "    </tr>\n",
       "  </tbody>\n",
       "</table>\n",
       "</div>"
      ],
      "text/plain": [
       "                                                text           author\n",
       "0  @BigDrewandJim Stafford could absolutely pull ...         skearn41\n",
       "1  Kaizer Chiefs blacklisted Mandla Masango and T...  LUCKY_MTHOMBENI\n",
       "2  @Ragnod49 @ArrowheadAddict Much respect!! \\n\\n...     ArrighiOrosz\n",
       "3  @davidmakepeace @ArrowheadAddict Chiefs fan he...     ArrighiOrosz\n",
       "4  I think I'm rooting for Mahomes and the Chiefs...      skepticgoat"
      ]
     },
     "execution_count": 60,
     "metadata": {},
     "output_type": "execute_result"
    }
   ],
   "source": [
    "print(len(chiefs_test_df))\n",
    "chiefs_test_df.head()"
   ]
  },
  {
   "cell_type": "code",
   "execution_count": 209,
   "metadata": {},
   "outputs": [],
   "source": [
    "# combine all queries to create master dataframe\n",
    "\n",
    "DFs = [dr_raw_df, sr_raw_df, ur_raw_df,\n",
    "       fr_raw_df, ri_raw_df, rb_raw_df,\n",
    "       rsc_raw_df, rsv_raw_df, rdd_raw_df,\n",
    "       rkl_raw_df, rsx_raw_df, rib_raw_df,\n",
    "       rrsv_raw_df, rsmp_raw_df, rdrk_raw_df,\n",
    "       rinj_raw_df, rextr_raw_df, rext_raw_df,\n",
    "       rfw_raw_df, rig_raw_df, rlz_raw_df\n",
    "      ]\n",
    "\n",
    "rs_queries_master_df = pd.DataFrame()\n",
    "\n",
    "for df in DFs:\n",
    "    \n",
    "    rs_queries_master_df = rs_queries_master_df.append(df, ignore_index=True)\n",
    "    "
   ]
  },
  {
   "cell_type": "code",
   "execution_count": 210,
   "metadata": {},
   "outputs": [
    {
     "name": "stdout",
     "output_type": "stream",
     "text": [
      "29253 \n",
      "\n",
      "                                                 text          author\n",
      "0   @ProFootballTalk @hwkbgr Philly fans complain ...      jyoaee2125\n",
      "1   So over the last 72 hours:\\n\\n- the Birds get ...    Philly_Canes\n",
      "2   @EvanMcMullin ✔    I'm a Redskins fan and born...  redskinsravens\n",
      "3   Giants, Cowboys and Redskins fans when the res...   JimmyRandazzo\n",
      "4   @ParkerHamlett @Redskins Saints and ravens her...       DougieD35\n",
      "5   @Urunderarrest I wore a Bears jersey ONCE for ...   Da_Blues_6564\n",
      "6   \"An inveterate tomboy from the start, I spent ...  justquisquilia\n",
      "7   During Allen’s tenure, did you notice,anyone w...     karl_diesel\n",
      "8   Looks like the Redskins finally have a legit h...     curtisd0101\n",
      "9   Ight @Lakers my @Redskins did me dirty this ye...        EazyE302\n",
      "10  I think it’s fair to say that @JJWatt ruined t...         Caps239\n",
      "11  @granthpaulsen The @Redskins can’t even fire a...   Marylandmike4\n",
      "12  If the #redskins tied Dallas and the Eagles wo...    DArkMEATHOOK\n",
      "13  @roshonpablo I’m hip we done damn did da uh da...       dniichols\n",
      "14  @ParisaMichelle I'm beyond bitter. I feel dirt...      gleibs2019\n",
      "15  @Giants The Dirty hit on the @Redskins Rookie ...     jimmyskeets\n",
      "16  That was a dirty hit on Haskins, he went strai...      tlee2123sv\n",
      "17  @RobbieDuncanOL @HogsHaven If you look closely...  MuzzMuzzington\n",
      "18  Best case scenario:\\n\\nEagles beat cowboys\\n\\n...        E_Mili13\n",
      "19  @MattLewis2003 *loses to Dolphins* : “never wa...       NateLew24\n",
      "20  Thanks @Redskins for the bad beat!! Safe all g...     BadBeatBros\n",
      "21  I’m cheering for the Redskins and it makes me ...  Fo__________Fo\n",
      "22  Jason Peters needs to take one for the team an...     OTR2Victory\n",
      "23  same old same old. Redskins have always sucked...       honesgirl\n",
      "24  I say this every time the Eagles play this dir...  TheBradMei5ter\n"
     ]
    }
   ],
   "source": [
    "print(len(rs_queries_master_df), '\\n')\n",
    "\n",
    "print(rs_queries_master_df.head(25))"
   ]
  },
  {
   "cell_type": "code",
   "execution_count": 205,
   "metadata": {},
   "outputs": [],
   "source": [
    "# save to csv\n",
    "\n",
    "rs_queries_master_df.to_csv('rs_queries_master_df_Jan_26_2020.csv')"
   ]
  },
  {
   "cell_type": "code",
   "execution_count": 63,
   "metadata": {},
   "outputs": [
    {
     "name": "stdout",
     "output_type": "stream",
     "text": [
      "29255\n"
     ]
    },
    {
     "data": {
      "text/html": [
       "<div>\n",
       "<style scoped>\n",
       "    .dataframe tbody tr th:only-of-type {\n",
       "        vertical-align: middle;\n",
       "    }\n",
       "\n",
       "    .dataframe tbody tr th {\n",
       "        vertical-align: top;\n",
       "    }\n",
       "\n",
       "    .dataframe thead th {\n",
       "        text-align: right;\n",
       "    }\n",
       "</style>\n",
       "<table border=\"1\" class=\"dataframe\">\n",
       "  <thead>\n",
       "    <tr style=\"text-align: right;\">\n",
       "      <th></th>\n",
       "      <th>Unnamed: 0</th>\n",
       "      <th>text</th>\n",
       "      <th>author</th>\n",
       "    </tr>\n",
       "  </thead>\n",
       "  <tbody>\n",
       "    <tr>\n",
       "      <th>0</th>\n",
       "      <td>0</td>\n",
       "      <td>@ProFootballTalk @hwkbgr Philly fans complain ...</td>\n",
       "      <td>jyoaee2125</td>\n",
       "    </tr>\n",
       "    <tr>\n",
       "      <th>1</th>\n",
       "      <td>1</td>\n",
       "      <td>So over the last 72 hours:\\n\\n- the Birds get ...</td>\n",
       "      <td>Philly_Canes</td>\n",
       "    </tr>\n",
       "    <tr>\n",
       "      <th>2</th>\n",
       "      <td>2</td>\n",
       "      <td>@EvanMcMullin ✔    I'm a Redskins fan and born...</td>\n",
       "      <td>redskinsravens</td>\n",
       "    </tr>\n",
       "    <tr>\n",
       "      <th>3</th>\n",
       "      <td>3</td>\n",
       "      <td>Giants, Cowboys and Redskins fans when the res...</td>\n",
       "      <td>JimmyRandazzo</td>\n",
       "    </tr>\n",
       "    <tr>\n",
       "      <th>4</th>\n",
       "      <td>4</td>\n",
       "      <td>@ParkerHamlett @Redskins Saints and ravens her...</td>\n",
       "      <td>DougieD35</td>\n",
       "    </tr>\n",
       "  </tbody>\n",
       "</table>\n",
       "</div>"
      ],
      "text/plain": [
       "  Unnamed: 0                                               text  \\\n",
       "0          0  @ProFootballTalk @hwkbgr Philly fans complain ...   \n",
       "1          1  So over the last 72 hours:\\n\\n- the Birds get ...   \n",
       "2          2  @EvanMcMullin ✔    I'm a Redskins fan and born...   \n",
       "3          3  Giants, Cowboys and Redskins fans when the res...   \n",
       "4          4  @ParkerHamlett @Redskins Saints and ravens her...   \n",
       "\n",
       "           author  \n",
       "0      jyoaee2125  \n",
       "1    Philly_Canes  \n",
       "2  redskinsravens  \n",
       "3   JimmyRandazzo  \n",
       "4       DougieD35  "
      ]
     },
     "execution_count": 63,
     "metadata": {},
     "output_type": "execute_result"
    }
   ],
   "source": [
    "rs_working_df = pd.read_csv('rs_queries_master_df_Jan_26_2020.csv')\n",
    "\n",
    "print(len(rs_working_df))\n",
    "\n",
    "rs_working_df.head()"
   ]
  },
  {
   "cell_type": "code",
   "execution_count": 64,
   "metadata": {},
   "outputs": [],
   "source": [
    "# add later terms tested\n",
    "# rs_working_df is reloaded rs_df\n",
    "\n",
    "DFs = [rsa_raw_df, rdb_raw_df, rbw_raw_df,\n",
    "       rnbr_raw_df, rd_raw_df, rde_raw_df]\n",
    "\n",
    "for df in DFs:\n",
    "    \n",
    "    rs_working_df = rs_working_df.append(df, ignore_index=True)"
   ]
  },
  {
   "cell_type": "code",
   "execution_count": 65,
   "metadata": {},
   "outputs": [
    {
     "name": "stdout",
     "output_type": "stream",
     "text": [
      "42892\n"
     ]
    }
   ],
   "source": [
    "print(len(rs_working_df))"
   ]
  },
  {
   "cell_type": "code",
   "execution_count": 66,
   "metadata": {},
   "outputs": [],
   "source": [
    "rs_working_df.to_csv('rs_queries_master_df_Jan_26_2020.csv')"
   ]
  },
  {
   "cell_type": "markdown",
   "metadata": {},
   "source": [
    "### testing other teams\n",
    "\n",
    "Once I had gathered a list of terms that appear with the team name \"Redskins\", I could check other teams against the same list for comparison."
   ]
  },
  {
   "cell_type": "code",
   "execution_count": 70,
   "metadata": {},
   "outputs": [],
   "source": [
    "def try_terms(team_name):\n",
    "    \n",
    "    '''\n",
    "    takes:\n",
    "    \n",
    "    * team name as a string\n",
    "    \n",
    "    returns:\n",
    "    \n",
    "    * dataframe with all tweets containing the team name & search terms\n",
    "    * up to 10k results (tweets) per term\n",
    "    \n",
    "    '''\n",
    "    \n",
    "    term_list = ['dirty','filthy','stupid','ugly','indian',\n",
    "             'blood','scalp','savage','dead','killed',\n",
    "             'sexy','indian blood','drunk','injun',\n",
    "             'exterminate','extinct','firewater',\n",
    "             'reservation','smallpox','ignorant',\n",
    "             'raped','die','dumb','backwards',\n",
    "             'inbred','died']\n",
    "    \n",
    "    raw_df = pd.DataFrame()\n",
    "    \n",
    "    for term in term_list:\n",
    "        \n",
    "            # create search string\n",
    "        \n",
    "            search_term = '(\"' + team_name + '\" and \"' + term + '\")'\n",
    "            \n",
    "            tweet_objects = get_tweet_object(search_term, datetime.datetime(2007,1,1), datetime.datetime(2020,1,25), 10000, include_retweets=False)\n",
    "            \n",
    "            tweet_obj_df = tweet_obj_to_df(tweet_objects)\n",
    "\n",
    "            raw_df = raw_df.append(tweet_obj_df)\n",
    "\n",
    "            print(len(raw_df), '\\n')\n",
    "\n",
    "            print(raw_df.head(20))\n",
    "            \n",
    "    return raw_df\n",
    "           "
   ]
  },
  {
   "cell_type": "code",
   "execution_count": 71,
   "metadata": {},
   "outputs": [
    {
     "name": "stderr",
     "output_type": "stream",
     "text": [
      "Grabbing bearer token from OAUTH\n"
     ]
    },
    {
     "name": "stdout",
     "output_type": "stream",
     "text": [
      "3037 \n",
      "\n",
      "                                                 text           author\n",
      "0   @BigDrewandJim Stafford could absolutely pull ...         skearn41\n",
      "1   Kaizer Chiefs blacklisted Mandla Masango and T...  LUCKY_MTHOMBENI\n",
      "2   @Ragnod49 @ArrowheadAddict Much respect!! \\n\\n...     ArrighiOrosz\n",
      "3   @davidmakepeace @ArrowheadAddict Chiefs fan he...     ArrighiOrosz\n",
      "4   I think I'm rooting for Mahomes and the Chiefs...      skepticgoat\n",
      "5   @JeffAllen71 @ProFootballTalk The 49ers don't ...    DaRealLopeezi\n",
      "6   @martyclevenger @ProFootballTalk Florio has a ...      brettoncole\n",
      "7   @ProFootballTalk @MikeFlorioPFT this is ridicu...       mellanclos\n",
      "8   @ProFootballTalk The fuck you talkin bout smfh...      SAWAIIAN650\n",
      "9   @ProFootballTalk How do the Chiefs stop that r...      book_nelson\n",
      "10  Why are we even having an election against law...      redalertnow\n",
      "11  @zach_seibel21 @NBCSports @ProFootballTalk We ...         hotchman\n",
      "12  @ProFootballTalk It's not just Chiefs fans whi...     auntiesuez45\n",
      "13  @ProFootballTalk I can not believe you suggest...       MikeMonnig\n",
      "14  @joaospierjr @AB_3127 @kennysnider7 @wendllyn ...  voodoomanland81\n",
      "15  @sternshow @JeromeBettis36 @cwotd @Chiefs @jon...         VlaclavK\n",
      "16  You literally advocated for guys on D to hit M...    DaveyGumdrops\n",
      "17  @ProFootballTalk As a niner fan, havng watched...       Maxgomez79\n",
      "18  @BillGroner1 @ProFootballTalk @CollinsworthPFF...        x_Slick24\n",
      "19  PFT SHOULD NOT support  anything  Mike Florio ...       markshogue\n"
     ]
    },
    {
     "name": "stderr",
     "output_type": "stream",
     "text": [
      "Grabbing bearer token from OAUTH\n"
     ]
    },
    {
     "name": "stdout",
     "output_type": "stream",
     "text": [
      "3312 \n",
      "\n",
      "                                                 text           author\n",
      "0   @BigDrewandJim Stafford could absolutely pull ...         skearn41\n",
      "1   Kaizer Chiefs blacklisted Mandla Masango and T...  LUCKY_MTHOMBENI\n",
      "2   @Ragnod49 @ArrowheadAddict Much respect!! \\n\\n...     ArrighiOrosz\n",
      "3   @davidmakepeace @ArrowheadAddict Chiefs fan he...     ArrighiOrosz\n",
      "4   I think I'm rooting for Mahomes and the Chiefs...      skepticgoat\n",
      "5   @JeffAllen71 @ProFootballTalk The 49ers don't ...    DaRealLopeezi\n",
      "6   @martyclevenger @ProFootballTalk Florio has a ...      brettoncole\n",
      "7   @ProFootballTalk @MikeFlorioPFT this is ridicu...       mellanclos\n",
      "8   @ProFootballTalk The fuck you talkin bout smfh...      SAWAIIAN650\n",
      "9   @ProFootballTalk How do the Chiefs stop that r...      book_nelson\n",
      "10  Why are we even having an election against law...      redalertnow\n",
      "11  @zach_seibel21 @NBCSports @ProFootballTalk We ...         hotchman\n",
      "12  @ProFootballTalk It's not just Chiefs fans whi...     auntiesuez45\n",
      "13  @ProFootballTalk I can not believe you suggest...       MikeMonnig\n",
      "14  @joaospierjr @AB_3127 @kennysnider7 @wendllyn ...  voodoomanland81\n",
      "15  @sternshow @JeromeBettis36 @cwotd @Chiefs @jon...         VlaclavK\n",
      "16  You literally advocated for guys on D to hit M...    DaveyGumdrops\n",
      "17  @ProFootballTalk As a niner fan, havng watched...       Maxgomez79\n",
      "18  @BillGroner1 @ProFootballTalk @CollinsworthPFF...        x_Slick24\n",
      "19  PFT SHOULD NOT support  anything  Mike Florio ...       markshogue\n"
     ]
    },
    {
     "name": "stderr",
     "output_type": "stream",
     "text": [
      "Grabbing bearer token from OAUTH\n"
     ]
    },
    {
     "name": "stdout",
     "output_type": "stream",
     "text": [
      "13312 \n",
      "\n",
      "                                                 text           author\n",
      "0   @BigDrewandJim Stafford could absolutely pull ...         skearn41\n",
      "1   Kaizer Chiefs blacklisted Mandla Masango and T...  LUCKY_MTHOMBENI\n",
      "2   @Ragnod49 @ArrowheadAddict Much respect!! \\n\\n...     ArrighiOrosz\n",
      "3   @davidmakepeace @ArrowheadAddict Chiefs fan he...     ArrighiOrosz\n",
      "4   I think I'm rooting for Mahomes and the Chiefs...      skepticgoat\n",
      "5   @JeffAllen71 @ProFootballTalk The 49ers don't ...    DaRealLopeezi\n",
      "6   @martyclevenger @ProFootballTalk Florio has a ...      brettoncole\n",
      "7   @ProFootballTalk @MikeFlorioPFT this is ridicu...       mellanclos\n",
      "8   @ProFootballTalk The fuck you talkin bout smfh...      SAWAIIAN650\n",
      "9   @ProFootballTalk How do the Chiefs stop that r...      book_nelson\n",
      "10  Why are we even having an election against law...      redalertnow\n",
      "11  @zach_seibel21 @NBCSports @ProFootballTalk We ...         hotchman\n",
      "12  @ProFootballTalk It's not just Chiefs fans whi...     auntiesuez45\n",
      "13  @ProFootballTalk I can not believe you suggest...       MikeMonnig\n",
      "14  @joaospierjr @AB_3127 @kennysnider7 @wendllyn ...  voodoomanland81\n",
      "15  @sternshow @JeromeBettis36 @cwotd @Chiefs @jon...         VlaclavK\n",
      "16  You literally advocated for guys on D to hit M...    DaveyGumdrops\n",
      "17  @ProFootballTalk As a niner fan, havng watched...       Maxgomez79\n",
      "18  @BillGroner1 @ProFootballTalk @CollinsworthPFF...        x_Slick24\n",
      "19  PFT SHOULD NOT support  anything  Mike Florio ...       markshogue\n"
     ]
    },
    {
     "name": "stderr",
     "output_type": "stream",
     "text": [
      "Grabbing bearer token from OAUTH\n"
     ]
    },
    {
     "name": "stdout",
     "output_type": "stream",
     "text": [
      "18415 \n",
      "\n",
      "                                                 text           author\n",
      "0   @BigDrewandJim Stafford could absolutely pull ...         skearn41\n",
      "1   Kaizer Chiefs blacklisted Mandla Masango and T...  LUCKY_MTHOMBENI\n",
      "2   @Ragnod49 @ArrowheadAddict Much respect!! \\n\\n...     ArrighiOrosz\n",
      "3   @davidmakepeace @ArrowheadAddict Chiefs fan he...     ArrighiOrosz\n",
      "4   I think I'm rooting for Mahomes and the Chiefs...      skepticgoat\n",
      "5   @JeffAllen71 @ProFootballTalk The 49ers don't ...    DaRealLopeezi\n",
      "6   @martyclevenger @ProFootballTalk Florio has a ...      brettoncole\n",
      "7   @ProFootballTalk @MikeFlorioPFT this is ridicu...       mellanclos\n",
      "8   @ProFootballTalk The fuck you talkin bout smfh...      SAWAIIAN650\n",
      "9   @ProFootballTalk How do the Chiefs stop that r...      book_nelson\n",
      "10  Why are we even having an election against law...      redalertnow\n",
      "11  @zach_seibel21 @NBCSports @ProFootballTalk We ...         hotchman\n",
      "12  @ProFootballTalk It's not just Chiefs fans whi...     auntiesuez45\n",
      "13  @ProFootballTalk I can not believe you suggest...       MikeMonnig\n",
      "14  @joaospierjr @AB_3127 @kennysnider7 @wendllyn ...  voodoomanland81\n",
      "15  @sternshow @JeromeBettis36 @cwotd @Chiefs @jon...         VlaclavK\n",
      "16  You literally advocated for guys on D to hit M...    DaveyGumdrops\n",
      "17  @ProFootballTalk As a niner fan, havng watched...       Maxgomez79\n",
      "18  @BillGroner1 @ProFootballTalk @CollinsworthPFF...        x_Slick24\n",
      "19  PFT SHOULD NOT support  anything  Mike Florio ...       markshogue\n"
     ]
    },
    {
     "name": "stderr",
     "output_type": "stream",
     "text": [
      "Grabbing bearer token from OAUTH\n",
      "Grabbing bearer token from OAUTH\n"
     ]
    },
    {
     "name": "stdout",
     "output_type": "stream",
     "text": [
      "27743 \n",
      "\n",
      "                                                 text           author\n",
      "0   @BigDrewandJim Stafford could absolutely pull ...         skearn41\n",
      "1   Kaizer Chiefs blacklisted Mandla Masango and T...  LUCKY_MTHOMBENI\n",
      "2   @Ragnod49 @ArrowheadAddict Much respect!! \\n\\n...     ArrighiOrosz\n",
      "3   @davidmakepeace @ArrowheadAddict Chiefs fan he...     ArrighiOrosz\n",
      "4   I think I'm rooting for Mahomes and the Chiefs...      skepticgoat\n",
      "5   @JeffAllen71 @ProFootballTalk The 49ers don't ...    DaRealLopeezi\n",
      "6   @martyclevenger @ProFootballTalk Florio has a ...      brettoncole\n",
      "7   @ProFootballTalk @MikeFlorioPFT this is ridicu...       mellanclos\n",
      "8   @ProFootballTalk The fuck you talkin bout smfh...      SAWAIIAN650\n",
      "9   @ProFootballTalk How do the Chiefs stop that r...      book_nelson\n",
      "10  Why are we even having an election against law...      redalertnow\n",
      "11  @zach_seibel21 @NBCSports @ProFootballTalk We ...         hotchman\n",
      "12  @ProFootballTalk It's not just Chiefs fans whi...     auntiesuez45\n",
      "13  @ProFootballTalk I can not believe you suggest...       MikeMonnig\n",
      "14  @joaospierjr @AB_3127 @kennysnider7 @wendllyn ...  voodoomanland81\n",
      "15  @sternshow @JeromeBettis36 @cwotd @Chiefs @jon...         VlaclavK\n",
      "16  You literally advocated for guys on D to hit M...    DaveyGumdrops\n",
      "17  @ProFootballTalk As a niner fan, havng watched...       Maxgomez79\n",
      "18  @BillGroner1 @ProFootballTalk @CollinsworthPFF...        x_Slick24\n",
      "19  PFT SHOULD NOT support  anything  Mike Florio ...       markshogue\n",
      "31921 \n",
      "\n",
      "                                                 text           author\n",
      "0   @BigDrewandJim Stafford could absolutely pull ...         skearn41\n",
      "1   Kaizer Chiefs blacklisted Mandla Masango and T...  LUCKY_MTHOMBENI\n",
      "2   @Ragnod49 @ArrowheadAddict Much respect!! \\n\\n...     ArrighiOrosz\n",
      "3   @davidmakepeace @ArrowheadAddict Chiefs fan he...     ArrighiOrosz\n",
      "4   I think I'm rooting for Mahomes and the Chiefs...      skepticgoat\n",
      "5   @JeffAllen71 @ProFootballTalk The 49ers don't ...    DaRealLopeezi\n",
      "6   @martyclevenger @ProFootballTalk Florio has a ...      brettoncole\n",
      "7   @ProFootballTalk @MikeFlorioPFT this is ridicu...       mellanclos\n",
      "8   @ProFootballTalk The fuck you talkin bout smfh...      SAWAIIAN650\n",
      "9   @ProFootballTalk How do the Chiefs stop that r...      book_nelson\n",
      "10  Why are we even having an election against law...      redalertnow\n",
      "11  @zach_seibel21 @NBCSports @ProFootballTalk We ...         hotchman\n",
      "12  @ProFootballTalk It's not just Chiefs fans whi...     auntiesuez45\n",
      "13  @ProFootballTalk I can not believe you suggest...       MikeMonnig\n",
      "14  @joaospierjr @AB_3127 @kennysnider7 @wendllyn ...  voodoomanland81\n",
      "15  @sternshow @JeromeBettis36 @cwotd @Chiefs @jon...         VlaclavK\n",
      "16  You literally advocated for guys on D to hit M...    DaveyGumdrops\n",
      "17  @ProFootballTalk As a niner fan, havng watched...       Maxgomez79\n",
      "18  @BillGroner1 @ProFootballTalk @CollinsworthPFF...        x_Slick24\n",
      "19  PFT SHOULD NOT support  anything  Mike Florio ...       markshogue\n"
     ]
    },
    {
     "name": "stderr",
     "output_type": "stream",
     "text": [
      "Grabbing bearer token from OAUTH\n",
      "Grabbing bearer token from OAUTH\n"
     ]
    },
    {
     "name": "stdout",
     "output_type": "stream",
     "text": [
      "32214 \n",
      "\n",
      "                                                 text           author\n",
      "0   @BigDrewandJim Stafford could absolutely pull ...         skearn41\n",
      "1   Kaizer Chiefs blacklisted Mandla Masango and T...  LUCKY_MTHOMBENI\n",
      "2   @Ragnod49 @ArrowheadAddict Much respect!! \\n\\n...     ArrighiOrosz\n",
      "3   @davidmakepeace @ArrowheadAddict Chiefs fan he...     ArrighiOrosz\n",
      "4   I think I'm rooting for Mahomes and the Chiefs...      skepticgoat\n",
      "5   @JeffAllen71 @ProFootballTalk The 49ers don't ...    DaRealLopeezi\n",
      "6   @martyclevenger @ProFootballTalk Florio has a ...      brettoncole\n",
      "7   @ProFootballTalk @MikeFlorioPFT this is ridicu...       mellanclos\n",
      "8   @ProFootballTalk The fuck you talkin bout smfh...      SAWAIIAN650\n",
      "9   @ProFootballTalk How do the Chiefs stop that r...      book_nelson\n",
      "10  Why are we even having an election against law...      redalertnow\n",
      "11  @zach_seibel21 @NBCSports @ProFootballTalk We ...         hotchman\n",
      "12  @ProFootballTalk It's not just Chiefs fans whi...     auntiesuez45\n",
      "13  @ProFootballTalk I can not believe you suggest...       MikeMonnig\n",
      "14  @joaospierjr @AB_3127 @kennysnider7 @wendllyn ...  voodoomanland81\n",
      "15  @sternshow @JeromeBettis36 @cwotd @Chiefs @jon...         VlaclavK\n",
      "16  You literally advocated for guys on D to hit M...    DaveyGumdrops\n",
      "17  @ProFootballTalk As a niner fan, havng watched...       Maxgomez79\n",
      "18  @BillGroner1 @ProFootballTalk @CollinsworthPFF...        x_Slick24\n",
      "19  PFT SHOULD NOT support  anything  Mike Florio ...       markshogue\n"
     ]
    },
    {
     "name": "stderr",
     "output_type": "stream",
     "text": [
      "Grabbing bearer token from OAUTH\n"
     ]
    },
    {
     "name": "stdout",
     "output_type": "stream",
     "text": [
      "32979 \n",
      "\n",
      "                                                 text           author\n",
      "0   @BigDrewandJim Stafford could absolutely pull ...         skearn41\n",
      "1   Kaizer Chiefs blacklisted Mandla Masango and T...  LUCKY_MTHOMBENI\n",
      "2   @Ragnod49 @ArrowheadAddict Much respect!! \\n\\n...     ArrighiOrosz\n",
      "3   @davidmakepeace @ArrowheadAddict Chiefs fan he...     ArrighiOrosz\n",
      "4   I think I'm rooting for Mahomes and the Chiefs...      skepticgoat\n",
      "5   @JeffAllen71 @ProFootballTalk The 49ers don't ...    DaRealLopeezi\n",
      "6   @martyclevenger @ProFootballTalk Florio has a ...      brettoncole\n",
      "7   @ProFootballTalk @MikeFlorioPFT this is ridicu...       mellanclos\n",
      "8   @ProFootballTalk The fuck you talkin bout smfh...      SAWAIIAN650\n",
      "9   @ProFootballTalk How do the Chiefs stop that r...      book_nelson\n",
      "10  Why are we even having an election against law...      redalertnow\n",
      "11  @zach_seibel21 @NBCSports @ProFootballTalk We ...         hotchman\n",
      "12  @ProFootballTalk It's not just Chiefs fans whi...     auntiesuez45\n",
      "13  @ProFootballTalk I can not believe you suggest...       MikeMonnig\n",
      "14  @joaospierjr @AB_3127 @kennysnider7 @wendllyn ...  voodoomanland81\n",
      "15  @sternshow @JeromeBettis36 @cwotd @Chiefs @jon...         VlaclavK\n",
      "16  You literally advocated for guys on D to hit M...    DaveyGumdrops\n",
      "17  @ProFootballTalk As a niner fan, havng watched...       Maxgomez79\n",
      "18  @BillGroner1 @ProFootballTalk @CollinsworthPFF...        x_Slick24\n",
      "19  PFT SHOULD NOT support  anything  Mike Florio ...       markshogue\n",
      "40612 \n",
      "\n",
      "                                                 text           author\n",
      "0   @BigDrewandJim Stafford could absolutely pull ...         skearn41\n",
      "1   Kaizer Chiefs blacklisted Mandla Masango and T...  LUCKY_MTHOMBENI\n",
      "2   @Ragnod49 @ArrowheadAddict Much respect!! \\n\\n...     ArrighiOrosz\n",
      "3   @davidmakepeace @ArrowheadAddict Chiefs fan he...     ArrighiOrosz\n",
      "4   I think I'm rooting for Mahomes and the Chiefs...      skepticgoat\n",
      "5   @JeffAllen71 @ProFootballTalk The 49ers don't ...    DaRealLopeezi\n",
      "6   @martyclevenger @ProFootballTalk Florio has a ...      brettoncole\n",
      "7   @ProFootballTalk @MikeFlorioPFT this is ridicu...       mellanclos\n",
      "8   @ProFootballTalk The fuck you talkin bout smfh...      SAWAIIAN650\n",
      "9   @ProFootballTalk How do the Chiefs stop that r...      book_nelson\n",
      "10  Why are we even having an election against law...      redalertnow\n",
      "11  @zach_seibel21 @NBCSports @ProFootballTalk We ...         hotchman\n",
      "12  @ProFootballTalk It's not just Chiefs fans whi...     auntiesuez45\n",
      "13  @ProFootballTalk I can not believe you suggest...       MikeMonnig\n",
      "14  @joaospierjr @AB_3127 @kennysnider7 @wendllyn ...  voodoomanland81\n",
      "15  @sternshow @JeromeBettis36 @cwotd @Chiefs @jon...         VlaclavK\n",
      "16  You literally advocated for guys on D to hit M...    DaveyGumdrops\n",
      "17  @ProFootballTalk As a niner fan, havng watched...       Maxgomez79\n",
      "18  @BillGroner1 @ProFootballTalk @CollinsworthPFF...        x_Slick24\n",
      "19  PFT SHOULD NOT support  anything  Mike Florio ...       markshogue\n"
     ]
    },
    {
     "name": "stderr",
     "output_type": "stream",
     "text": [
      "Grabbing bearer token from OAUTH\n",
      "Grabbing bearer token from OAUTH\n"
     ]
    },
    {
     "name": "stdout",
     "output_type": "stream",
     "text": [
      "50612 \n",
      "\n",
      "                                                 text           author\n",
      "0   @BigDrewandJim Stafford could absolutely pull ...         skearn41\n",
      "1   Kaizer Chiefs blacklisted Mandla Masango and T...  LUCKY_MTHOMBENI\n",
      "2   @Ragnod49 @ArrowheadAddict Much respect!! \\n\\n...     ArrighiOrosz\n",
      "3   @davidmakepeace @ArrowheadAddict Chiefs fan he...     ArrighiOrosz\n",
      "4   I think I'm rooting for Mahomes and the Chiefs...      skepticgoat\n",
      "5   @JeffAllen71 @ProFootballTalk The 49ers don't ...    DaRealLopeezi\n",
      "6   @martyclevenger @ProFootballTalk Florio has a ...      brettoncole\n",
      "7   @ProFootballTalk @MikeFlorioPFT this is ridicu...       mellanclos\n",
      "8   @ProFootballTalk The fuck you talkin bout smfh...      SAWAIIAN650\n",
      "9   @ProFootballTalk How do the Chiefs stop that r...      book_nelson\n",
      "10  Why are we even having an election against law...      redalertnow\n",
      "11  @zach_seibel21 @NBCSports @ProFootballTalk We ...         hotchman\n",
      "12  @ProFootballTalk It's not just Chiefs fans whi...     auntiesuez45\n",
      "13  @ProFootballTalk I can not believe you suggest...       MikeMonnig\n",
      "14  @joaospierjr @AB_3127 @kennysnider7 @wendllyn ...  voodoomanland81\n",
      "15  @sternshow @JeromeBettis36 @cwotd @Chiefs @jon...         VlaclavK\n",
      "16  You literally advocated for guys on D to hit M...    DaveyGumdrops\n",
      "17  @ProFootballTalk As a niner fan, havng watched...       Maxgomez79\n",
      "18  @BillGroner1 @ProFootballTalk @CollinsworthPFF...        x_Slick24\n",
      "19  PFT SHOULD NOT support  anything  Mike Florio ...       markshogue\n"
     ]
    },
    {
     "name": "stderr",
     "output_type": "stream",
     "text": [
      "Grabbing bearer token from OAUTH\n"
     ]
    },
    {
     "name": "stdout",
     "output_type": "stream",
     "text": [
      "51385 \n",
      "\n",
      "                                                 text           author\n",
      "0   @BigDrewandJim Stafford could absolutely pull ...         skearn41\n",
      "1   Kaizer Chiefs blacklisted Mandla Masango and T...  LUCKY_MTHOMBENI\n",
      "2   @Ragnod49 @ArrowheadAddict Much respect!! \\n\\n...     ArrighiOrosz\n",
      "3   @davidmakepeace @ArrowheadAddict Chiefs fan he...     ArrighiOrosz\n",
      "4   I think I'm rooting for Mahomes and the Chiefs...      skepticgoat\n",
      "5   @JeffAllen71 @ProFootballTalk The 49ers don't ...    DaRealLopeezi\n",
      "6   @martyclevenger @ProFootballTalk Florio has a ...      brettoncole\n",
      "7   @ProFootballTalk @MikeFlorioPFT this is ridicu...       mellanclos\n",
      "8   @ProFootballTalk The fuck you talkin bout smfh...      SAWAIIAN650\n",
      "9   @ProFootballTalk How do the Chiefs stop that r...      book_nelson\n",
      "10  Why are we even having an election against law...      redalertnow\n",
      "11  @zach_seibel21 @NBCSports @ProFootballTalk We ...         hotchman\n",
      "12  @ProFootballTalk It's not just Chiefs fans whi...     auntiesuez45\n",
      "13  @ProFootballTalk I can not believe you suggest...       MikeMonnig\n",
      "14  @joaospierjr @AB_3127 @kennysnider7 @wendllyn ...  voodoomanland81\n",
      "15  @sternshow @JeromeBettis36 @cwotd @Chiefs @jon...         VlaclavK\n",
      "16  You literally advocated for guys on D to hit M...    DaveyGumdrops\n",
      "17  @ProFootballTalk As a niner fan, havng watched...       Maxgomez79\n",
      "18  @BillGroner1 @ProFootballTalk @CollinsworthPFF...        x_Slick24\n",
      "19  PFT SHOULD NOT support  anything  Mike Florio ...       markshogue\n"
     ]
    },
    {
     "name": "stderr",
     "output_type": "stream",
     "text": [
      "Grabbing bearer token from OAUTH\n"
     ]
    },
    {
     "name": "stdout",
     "output_type": "stream",
     "text": [
      "51396 \n",
      "\n",
      "                                                 text           author\n",
      "0   @BigDrewandJim Stafford could absolutely pull ...         skearn41\n",
      "1   Kaizer Chiefs blacklisted Mandla Masango and T...  LUCKY_MTHOMBENI\n",
      "2   @Ragnod49 @ArrowheadAddict Much respect!! \\n\\n...     ArrighiOrosz\n",
      "3   @davidmakepeace @ArrowheadAddict Chiefs fan he...     ArrighiOrosz\n",
      "4   I think I'm rooting for Mahomes and the Chiefs...      skepticgoat\n",
      "5   @JeffAllen71 @ProFootballTalk The 49ers don't ...    DaRealLopeezi\n",
      "6   @martyclevenger @ProFootballTalk Florio has a ...      brettoncole\n",
      "7   @ProFootballTalk @MikeFlorioPFT this is ridicu...       mellanclos\n",
      "8   @ProFootballTalk The fuck you talkin bout smfh...      SAWAIIAN650\n",
      "9   @ProFootballTalk How do the Chiefs stop that r...      book_nelson\n",
      "10  Why are we even having an election against law...      redalertnow\n",
      "11  @zach_seibel21 @NBCSports @ProFootballTalk We ...         hotchman\n",
      "12  @ProFootballTalk It's not just Chiefs fans whi...     auntiesuez45\n",
      "13  @ProFootballTalk I can not believe you suggest...       MikeMonnig\n",
      "14  @joaospierjr @AB_3127 @kennysnider7 @wendllyn ...  voodoomanland81\n",
      "15  @sternshow @JeromeBettis36 @cwotd @Chiefs @jon...         VlaclavK\n",
      "16  You literally advocated for guys on D to hit M...    DaveyGumdrops\n",
      "17  @ProFootballTalk As a niner fan, havng watched...       Maxgomez79\n",
      "18  @BillGroner1 @ProFootballTalk @CollinsworthPFF...        x_Slick24\n",
      "19  PFT SHOULD NOT support  anything  Mike Florio ...       markshogue\n",
      "54439 \n",
      "\n",
      "                                                 text           author\n",
      "0   @BigDrewandJim Stafford could absolutely pull ...         skearn41\n",
      "1   Kaizer Chiefs blacklisted Mandla Masango and T...  LUCKY_MTHOMBENI\n",
      "2   @Ragnod49 @ArrowheadAddict Much respect!! \\n\\n...     ArrighiOrosz\n",
      "3   @davidmakepeace @ArrowheadAddict Chiefs fan he...     ArrighiOrosz\n",
      "4   I think I'm rooting for Mahomes and the Chiefs...      skepticgoat\n",
      "5   @JeffAllen71 @ProFootballTalk The 49ers don't ...    DaRealLopeezi\n",
      "6   @martyclevenger @ProFootballTalk Florio has a ...      brettoncole\n",
      "7   @ProFootballTalk @MikeFlorioPFT this is ridicu...       mellanclos\n",
      "8   @ProFootballTalk The fuck you talkin bout smfh...      SAWAIIAN650\n",
      "9   @ProFootballTalk How do the Chiefs stop that r...      book_nelson\n",
      "10  Why are we even having an election against law...      redalertnow\n",
      "11  @zach_seibel21 @NBCSports @ProFootballTalk We ...         hotchman\n",
      "12  @ProFootballTalk It's not just Chiefs fans whi...     auntiesuez45\n",
      "13  @ProFootballTalk I can not believe you suggest...       MikeMonnig\n",
      "14  @joaospierjr @AB_3127 @kennysnider7 @wendllyn ...  voodoomanland81\n",
      "15  @sternshow @JeromeBettis36 @cwotd @Chiefs @jon...         VlaclavK\n",
      "16  You literally advocated for guys on D to hit M...    DaveyGumdrops\n",
      "17  @ProFootballTalk As a niner fan, havng watched...       Maxgomez79\n",
      "18  @BillGroner1 @ProFootballTalk @CollinsworthPFF...        x_Slick24\n",
      "19  PFT SHOULD NOT support  anything  Mike Florio ...       markshogue\n"
     ]
    },
    {
     "name": "stderr",
     "output_type": "stream",
     "text": [
      "Grabbing bearer token from OAUTH\n",
      "Grabbing bearer token from OAUTH\n"
     ]
    },
    {
     "name": "stdout",
     "output_type": "stream",
     "text": [
      "54493 \n",
      "\n",
      "                                                 text           author\n",
      "0   @BigDrewandJim Stafford could absolutely pull ...         skearn41\n",
      "1   Kaizer Chiefs blacklisted Mandla Masango and T...  LUCKY_MTHOMBENI\n",
      "2   @Ragnod49 @ArrowheadAddict Much respect!! \\n\\n...     ArrighiOrosz\n",
      "3   @davidmakepeace @ArrowheadAddict Chiefs fan he...     ArrighiOrosz\n",
      "4   I think I'm rooting for Mahomes and the Chiefs...      skepticgoat\n",
      "5   @JeffAllen71 @ProFootballTalk The 49ers don't ...    DaRealLopeezi\n",
      "6   @martyclevenger @ProFootballTalk Florio has a ...      brettoncole\n",
      "7   @ProFootballTalk @MikeFlorioPFT this is ridicu...       mellanclos\n",
      "8   @ProFootballTalk The fuck you talkin bout smfh...      SAWAIIAN650\n",
      "9   @ProFootballTalk How do the Chiefs stop that r...      book_nelson\n",
      "10  Why are we even having an election against law...      redalertnow\n",
      "11  @zach_seibel21 @NBCSports @ProFootballTalk We ...         hotchman\n",
      "12  @ProFootballTalk It's not just Chiefs fans whi...     auntiesuez45\n",
      "13  @ProFootballTalk I can not believe you suggest...       MikeMonnig\n",
      "14  @joaospierjr @AB_3127 @kennysnider7 @wendllyn ...  voodoomanland81\n",
      "15  @sternshow @JeromeBettis36 @cwotd @Chiefs @jon...         VlaclavK\n",
      "16  You literally advocated for guys on D to hit M...    DaveyGumdrops\n",
      "17  @ProFootballTalk As a niner fan, havng watched...       Maxgomez79\n",
      "18  @BillGroner1 @ProFootballTalk @CollinsworthPFF...        x_Slick24\n",
      "19  PFT SHOULD NOT support  anything  Mike Florio ...       markshogue\n"
     ]
    },
    {
     "name": "stderr",
     "output_type": "stream",
     "text": [
      "Grabbing bearer token from OAUTH\n"
     ]
    },
    {
     "name": "stdout",
     "output_type": "stream",
     "text": [
      "54508 \n",
      "\n",
      "                                                 text           author\n",
      "0   @BigDrewandJim Stafford could absolutely pull ...         skearn41\n",
      "1   Kaizer Chiefs blacklisted Mandla Masango and T...  LUCKY_MTHOMBENI\n",
      "2   @Ragnod49 @ArrowheadAddict Much respect!! \\n\\n...     ArrighiOrosz\n",
      "3   @davidmakepeace @ArrowheadAddict Chiefs fan he...     ArrighiOrosz\n",
      "4   I think I'm rooting for Mahomes and the Chiefs...      skepticgoat\n",
      "5   @JeffAllen71 @ProFootballTalk The 49ers don't ...    DaRealLopeezi\n",
      "6   @martyclevenger @ProFootballTalk Florio has a ...      brettoncole\n",
      "7   @ProFootballTalk @MikeFlorioPFT this is ridicu...       mellanclos\n",
      "8   @ProFootballTalk The fuck you talkin bout smfh...      SAWAIIAN650\n",
      "9   @ProFootballTalk How do the Chiefs stop that r...      book_nelson\n",
      "10  Why are we even having an election against law...      redalertnow\n",
      "11  @zach_seibel21 @NBCSports @ProFootballTalk We ...         hotchman\n",
      "12  @ProFootballTalk It's not just Chiefs fans whi...     auntiesuez45\n",
      "13  @ProFootballTalk I can not believe you suggest...       MikeMonnig\n",
      "14  @joaospierjr @AB_3127 @kennysnider7 @wendllyn ...  voodoomanland81\n",
      "15  @sternshow @JeromeBettis36 @cwotd @Chiefs @jon...         VlaclavK\n",
      "16  You literally advocated for guys on D to hit M...    DaveyGumdrops\n",
      "17  @ProFootballTalk As a niner fan, havng watched...       Maxgomez79\n",
      "18  @BillGroner1 @ProFootballTalk @CollinsworthPFF...        x_Slick24\n",
      "19  PFT SHOULD NOT support  anything  Mike Florio ...       markshogue\n"
     ]
    },
    {
     "name": "stderr",
     "output_type": "stream",
     "text": [
      "Grabbing bearer token from OAUTH\n"
     ]
    },
    {
     "name": "stdout",
     "output_type": "stream",
     "text": [
      "54557 \n",
      "\n",
      "                                                 text           author\n",
      "0   @BigDrewandJim Stafford could absolutely pull ...         skearn41\n",
      "1   Kaizer Chiefs blacklisted Mandla Masango and T...  LUCKY_MTHOMBENI\n",
      "2   @Ragnod49 @ArrowheadAddict Much respect!! \\n\\n...     ArrighiOrosz\n",
      "3   @davidmakepeace @ArrowheadAddict Chiefs fan he...     ArrighiOrosz\n",
      "4   I think I'm rooting for Mahomes and the Chiefs...      skepticgoat\n",
      "5   @JeffAllen71 @ProFootballTalk The 49ers don't ...    DaRealLopeezi\n",
      "6   @martyclevenger @ProFootballTalk Florio has a ...      brettoncole\n",
      "7   @ProFootballTalk @MikeFlorioPFT this is ridicu...       mellanclos\n",
      "8   @ProFootballTalk The fuck you talkin bout smfh...      SAWAIIAN650\n",
      "9   @ProFootballTalk How do the Chiefs stop that r...      book_nelson\n",
      "10  Why are we even having an election against law...      redalertnow\n",
      "11  @zach_seibel21 @NBCSports @ProFootballTalk We ...         hotchman\n",
      "12  @ProFootballTalk It's not just Chiefs fans whi...     auntiesuez45\n",
      "13  @ProFootballTalk I can not believe you suggest...       MikeMonnig\n",
      "14  @joaospierjr @AB_3127 @kennysnider7 @wendllyn ...  voodoomanland81\n",
      "15  @sternshow @JeromeBettis36 @cwotd @Chiefs @jon...         VlaclavK\n",
      "16  You literally advocated for guys on D to hit M...    DaveyGumdrops\n",
      "17  @ProFootballTalk As a niner fan, havng watched...       Maxgomez79\n",
      "18  @BillGroner1 @ProFootballTalk @CollinsworthPFF...        x_Slick24\n",
      "19  PFT SHOULD NOT support  anything  Mike Florio ...       markshogue\n",
      "54743 \n",
      "\n",
      "                                                 text           author\n",
      "0   @BigDrewandJim Stafford could absolutely pull ...         skearn41\n",
      "1   Kaizer Chiefs blacklisted Mandla Masango and T...  LUCKY_MTHOMBENI\n",
      "2   @Ragnod49 @ArrowheadAddict Much respect!! \\n\\n...     ArrighiOrosz\n",
      "3   @davidmakepeace @ArrowheadAddict Chiefs fan he...     ArrighiOrosz\n",
      "4   I think I'm rooting for Mahomes and the Chiefs...      skepticgoat\n",
      "5   @JeffAllen71 @ProFootballTalk The 49ers don't ...    DaRealLopeezi\n",
      "6   @martyclevenger @ProFootballTalk Florio has a ...      brettoncole\n",
      "7   @ProFootballTalk @MikeFlorioPFT this is ridicu...       mellanclos\n",
      "8   @ProFootballTalk The fuck you talkin bout smfh...      SAWAIIAN650\n",
      "9   @ProFootballTalk How do the Chiefs stop that r...      book_nelson\n",
      "10  Why are we even having an election against law...      redalertnow\n",
      "11  @zach_seibel21 @NBCSports @ProFootballTalk We ...         hotchman\n",
      "12  @ProFootballTalk It's not just Chiefs fans whi...     auntiesuez45\n",
      "13  @ProFootballTalk I can not believe you suggest...       MikeMonnig\n",
      "14  @joaospierjr @AB_3127 @kennysnider7 @wendllyn ...  voodoomanland81\n",
      "15  @sternshow @JeromeBettis36 @cwotd @Chiefs @jon...         VlaclavK\n",
      "16  You literally advocated for guys on D to hit M...    DaveyGumdrops\n",
      "17  @ProFootballTalk As a niner fan, havng watched...       Maxgomez79\n",
      "18  @BillGroner1 @ProFootballTalk @CollinsworthPFF...        x_Slick24\n",
      "19  PFT SHOULD NOT support  anything  Mike Florio ...       markshogue\n"
     ]
    },
    {
     "name": "stderr",
     "output_type": "stream",
     "text": [
      "Grabbing bearer token from OAUTH\n",
      "Grabbing bearer token from OAUTH\n"
     ]
    },
    {
     "name": "stdout",
     "output_type": "stream",
     "text": [
      "55031 \n",
      "\n",
      "                                                 text           author\n",
      "0   @BigDrewandJim Stafford could absolutely pull ...         skearn41\n",
      "1   Kaizer Chiefs blacklisted Mandla Masango and T...  LUCKY_MTHOMBENI\n",
      "2   @Ragnod49 @ArrowheadAddict Much respect!! \\n\\n...     ArrighiOrosz\n",
      "3   @davidmakepeace @ArrowheadAddict Chiefs fan he...     ArrighiOrosz\n",
      "4   I think I'm rooting for Mahomes and the Chiefs...      skepticgoat\n",
      "5   @JeffAllen71 @ProFootballTalk The 49ers don't ...    DaRealLopeezi\n",
      "6   @martyclevenger @ProFootballTalk Florio has a ...      brettoncole\n",
      "7   @ProFootballTalk @MikeFlorioPFT this is ridicu...       mellanclos\n",
      "8   @ProFootballTalk The fuck you talkin bout smfh...      SAWAIIAN650\n",
      "9   @ProFootballTalk How do the Chiefs stop that r...      book_nelson\n",
      "10  Why are we even having an election against law...      redalertnow\n",
      "11  @zach_seibel21 @NBCSports @ProFootballTalk We ...         hotchman\n",
      "12  @ProFootballTalk It's not just Chiefs fans whi...     auntiesuez45\n",
      "13  @ProFootballTalk I can not believe you suggest...       MikeMonnig\n",
      "14  @joaospierjr @AB_3127 @kennysnider7 @wendllyn ...  voodoomanland81\n",
      "15  @sternshow @JeromeBettis36 @cwotd @Chiefs @jon...         VlaclavK\n",
      "16  You literally advocated for guys on D to hit M...    DaveyGumdrops\n",
      "17  @ProFootballTalk As a niner fan, havng watched...       Maxgomez79\n",
      "18  @BillGroner1 @ProFootballTalk @CollinsworthPFF...        x_Slick24\n",
      "19  PFT SHOULD NOT support  anything  Mike Florio ...       markshogue\n",
      "55106 \n",
      "\n",
      "                                                 text           author\n",
      "0   @BigDrewandJim Stafford could absolutely pull ...         skearn41\n",
      "1   Kaizer Chiefs blacklisted Mandla Masango and T...  LUCKY_MTHOMBENI\n",
      "2   @Ragnod49 @ArrowheadAddict Much respect!! \\n\\n...     ArrighiOrosz\n",
      "3   @davidmakepeace @ArrowheadAddict Chiefs fan he...     ArrighiOrosz\n",
      "4   I think I'm rooting for Mahomes and the Chiefs...      skepticgoat\n",
      "5   @JeffAllen71 @ProFootballTalk The 49ers don't ...    DaRealLopeezi\n",
      "6   @martyclevenger @ProFootballTalk Florio has a ...      brettoncole\n",
      "7   @ProFootballTalk @MikeFlorioPFT this is ridicu...       mellanclos\n",
      "8   @ProFootballTalk The fuck you talkin bout smfh...      SAWAIIAN650\n",
      "9   @ProFootballTalk How do the Chiefs stop that r...      book_nelson\n",
      "10  Why are we even having an election against law...      redalertnow\n",
      "11  @zach_seibel21 @NBCSports @ProFootballTalk We ...         hotchman\n",
      "12  @ProFootballTalk It's not just Chiefs fans whi...     auntiesuez45\n",
      "13  @ProFootballTalk I can not believe you suggest...       MikeMonnig\n",
      "14  @joaospierjr @AB_3127 @kennysnider7 @wendllyn ...  voodoomanland81\n",
      "15  @sternshow @JeromeBettis36 @cwotd @Chiefs @jon...         VlaclavK\n",
      "16  You literally advocated for guys on D to hit M...    DaveyGumdrops\n",
      "17  @ProFootballTalk As a niner fan, havng watched...       Maxgomez79\n",
      "18  @BillGroner1 @ProFootballTalk @CollinsworthPFF...        x_Slick24\n",
      "19  PFT SHOULD NOT support  anything  Mike Florio ...       markshogue\n"
     ]
    },
    {
     "name": "stderr",
     "output_type": "stream",
     "text": [
      "Grabbing bearer token from OAUTH\n",
      "Grabbing bearer token from OAUTH\n"
     ]
    },
    {
     "name": "stdout",
     "output_type": "stream",
     "text": [
      "56766 \n",
      "\n",
      "                                                 text           author\n",
      "0   @BigDrewandJim Stafford could absolutely pull ...         skearn41\n",
      "1   Kaizer Chiefs blacklisted Mandla Masango and T...  LUCKY_MTHOMBENI\n",
      "2   @Ragnod49 @ArrowheadAddict Much respect!! \\n\\n...     ArrighiOrosz\n",
      "3   @davidmakepeace @ArrowheadAddict Chiefs fan he...     ArrighiOrosz\n",
      "4   I think I'm rooting for Mahomes and the Chiefs...      skepticgoat\n",
      "5   @JeffAllen71 @ProFootballTalk The 49ers don't ...    DaRealLopeezi\n",
      "6   @martyclevenger @ProFootballTalk Florio has a ...      brettoncole\n",
      "7   @ProFootballTalk @MikeFlorioPFT this is ridicu...       mellanclos\n",
      "8   @ProFootballTalk The fuck you talkin bout smfh...      SAWAIIAN650\n",
      "9   @ProFootballTalk How do the Chiefs stop that r...      book_nelson\n",
      "10  Why are we even having an election against law...      redalertnow\n",
      "11  @zach_seibel21 @NBCSports @ProFootballTalk We ...         hotchman\n",
      "12  @ProFootballTalk It's not just Chiefs fans whi...     auntiesuez45\n",
      "13  @ProFootballTalk I can not believe you suggest...       MikeMonnig\n",
      "14  @joaospierjr @AB_3127 @kennysnider7 @wendllyn ...  voodoomanland81\n",
      "15  @sternshow @JeromeBettis36 @cwotd @Chiefs @jon...         VlaclavK\n",
      "16  You literally advocated for guys on D to hit M...    DaveyGumdrops\n",
      "17  @ProFootballTalk As a niner fan, havng watched...       Maxgomez79\n",
      "18  @BillGroner1 @ProFootballTalk @CollinsworthPFF...        x_Slick24\n",
      "19  PFT SHOULD NOT support  anything  Mike Florio ...       markshogue\n"
     ]
    },
    {
     "name": "stderr",
     "output_type": "stream",
     "text": [
      "Grabbing bearer token from OAUTH\n"
     ]
    },
    {
     "name": "stdout",
     "output_type": "stream",
     "text": [
      "57271 \n",
      "\n",
      "                                                 text           author\n",
      "0   @BigDrewandJim Stafford could absolutely pull ...         skearn41\n",
      "1   Kaizer Chiefs blacklisted Mandla Masango and T...  LUCKY_MTHOMBENI\n",
      "2   @Ragnod49 @ArrowheadAddict Much respect!! \\n\\n...     ArrighiOrosz\n",
      "3   @davidmakepeace @ArrowheadAddict Chiefs fan he...     ArrighiOrosz\n",
      "4   I think I'm rooting for Mahomes and the Chiefs...      skepticgoat\n",
      "5   @JeffAllen71 @ProFootballTalk The 49ers don't ...    DaRealLopeezi\n",
      "6   @martyclevenger @ProFootballTalk Florio has a ...      brettoncole\n",
      "7   @ProFootballTalk @MikeFlorioPFT this is ridicu...       mellanclos\n",
      "8   @ProFootballTalk The fuck you talkin bout smfh...      SAWAIIAN650\n",
      "9   @ProFootballTalk How do the Chiefs stop that r...      book_nelson\n",
      "10  Why are we even having an election against law...      redalertnow\n",
      "11  @zach_seibel21 @NBCSports @ProFootballTalk We ...         hotchman\n",
      "12  @ProFootballTalk It's not just Chiefs fans whi...     auntiesuez45\n",
      "13  @ProFootballTalk I can not believe you suggest...       MikeMonnig\n",
      "14  @joaospierjr @AB_3127 @kennysnider7 @wendllyn ...  voodoomanland81\n",
      "15  @sternshow @JeromeBettis36 @cwotd @Chiefs @jon...         VlaclavK\n",
      "16  You literally advocated for guys on D to hit M...    DaveyGumdrops\n",
      "17  @ProFootballTalk As a niner fan, havng watched...       Maxgomez79\n",
      "18  @BillGroner1 @ProFootballTalk @CollinsworthPFF...        x_Slick24\n",
      "19  PFT SHOULD NOT support  anything  Mike Florio ...       markshogue\n"
     ]
    },
    {
     "name": "stderr",
     "output_type": "stream",
     "text": [
      "Grabbing bearer token from OAUTH\n"
     ]
    },
    {
     "name": "stdout",
     "output_type": "stream",
     "text": [
      "65223 \n",
      "\n",
      "                                                 text           author\n",
      "0   @BigDrewandJim Stafford could absolutely pull ...         skearn41\n",
      "1   Kaizer Chiefs blacklisted Mandla Masango and T...  LUCKY_MTHOMBENI\n",
      "2   @Ragnod49 @ArrowheadAddict Much respect!! \\n\\n...     ArrighiOrosz\n",
      "3   @davidmakepeace @ArrowheadAddict Chiefs fan he...     ArrighiOrosz\n",
      "4   I think I'm rooting for Mahomes and the Chiefs...      skepticgoat\n",
      "5   @JeffAllen71 @ProFootballTalk The 49ers don't ...    DaRealLopeezi\n",
      "6   @martyclevenger @ProFootballTalk Florio has a ...      brettoncole\n",
      "7   @ProFootballTalk @MikeFlorioPFT this is ridicu...       mellanclos\n",
      "8   @ProFootballTalk The fuck you talkin bout smfh...      SAWAIIAN650\n",
      "9   @ProFootballTalk How do the Chiefs stop that r...      book_nelson\n",
      "10  Why are we even having an election against law...      redalertnow\n",
      "11  @zach_seibel21 @NBCSports @ProFootballTalk We ...         hotchman\n",
      "12  @ProFootballTalk It's not just Chiefs fans whi...     auntiesuez45\n",
      "13  @ProFootballTalk I can not believe you suggest...       MikeMonnig\n",
      "14  @joaospierjr @AB_3127 @kennysnider7 @wendllyn ...  voodoomanland81\n",
      "15  @sternshow @JeromeBettis36 @cwotd @Chiefs @jon...         VlaclavK\n",
      "16  You literally advocated for guys on D to hit M...    DaveyGumdrops\n",
      "17  @ProFootballTalk As a niner fan, havng watched...       Maxgomez79\n",
      "18  @BillGroner1 @ProFootballTalk @CollinsworthPFF...        x_Slick24\n",
      "19  PFT SHOULD NOT support  anything  Mike Florio ...       markshogue\n",
      "71829 \n",
      "\n",
      "                                                 text           author\n",
      "0   @BigDrewandJim Stafford could absolutely pull ...         skearn41\n",
      "1   Kaizer Chiefs blacklisted Mandla Masango and T...  LUCKY_MTHOMBENI\n",
      "2   @Ragnod49 @ArrowheadAddict Much respect!! \\n\\n...     ArrighiOrosz\n",
      "3   @davidmakepeace @ArrowheadAddict Chiefs fan he...     ArrighiOrosz\n",
      "4   I think I'm rooting for Mahomes and the Chiefs...      skepticgoat\n",
      "5   @JeffAllen71 @ProFootballTalk The 49ers don't ...    DaRealLopeezi\n",
      "6   @martyclevenger @ProFootballTalk Florio has a ...      brettoncole\n",
      "7   @ProFootballTalk @MikeFlorioPFT this is ridicu...       mellanclos\n",
      "8   @ProFootballTalk The fuck you talkin bout smfh...      SAWAIIAN650\n",
      "9   @ProFootballTalk How do the Chiefs stop that r...      book_nelson\n",
      "10  Why are we even having an election against law...      redalertnow\n",
      "11  @zach_seibel21 @NBCSports @ProFootballTalk We ...         hotchman\n",
      "12  @ProFootballTalk It's not just Chiefs fans whi...     auntiesuez45\n",
      "13  @ProFootballTalk I can not believe you suggest...       MikeMonnig\n",
      "14  @joaospierjr @AB_3127 @kennysnider7 @wendllyn ...  voodoomanland81\n",
      "15  @sternshow @JeromeBettis36 @cwotd @Chiefs @jon...         VlaclavK\n",
      "16  You literally advocated for guys on D to hit M...    DaveyGumdrops\n",
      "17  @ProFootballTalk As a niner fan, havng watched...       Maxgomez79\n",
      "18  @BillGroner1 @ProFootballTalk @CollinsworthPFF...        x_Slick24\n",
      "19  PFT SHOULD NOT support  anything  Mike Florio ...       markshogue\n"
     ]
    },
    {
     "name": "stderr",
     "output_type": "stream",
     "text": [
      "Grabbing bearer token from OAUTH\n"
     ]
    },
    {
     "name": "stdout",
     "output_type": "stream",
     "text": [
      "72720 \n",
      "\n",
      "                                                 text           author\n",
      "0   @BigDrewandJim Stafford could absolutely pull ...         skearn41\n",
      "1   Kaizer Chiefs blacklisted Mandla Masango and T...  LUCKY_MTHOMBENI\n",
      "2   @Ragnod49 @ArrowheadAddict Much respect!! \\n\\n...     ArrighiOrosz\n",
      "3   @davidmakepeace @ArrowheadAddict Chiefs fan he...     ArrighiOrosz\n",
      "4   I think I'm rooting for Mahomes and the Chiefs...      skepticgoat\n",
      "5   @JeffAllen71 @ProFootballTalk The 49ers don't ...    DaRealLopeezi\n",
      "6   @martyclevenger @ProFootballTalk Florio has a ...      brettoncole\n",
      "7   @ProFootballTalk @MikeFlorioPFT this is ridicu...       mellanclos\n",
      "8   @ProFootballTalk The fuck you talkin bout smfh...      SAWAIIAN650\n",
      "9   @ProFootballTalk How do the Chiefs stop that r...      book_nelson\n",
      "10  Why are we even having an election against law...      redalertnow\n",
      "11  @zach_seibel21 @NBCSports @ProFootballTalk We ...         hotchman\n",
      "12  @ProFootballTalk It's not just Chiefs fans whi...     auntiesuez45\n",
      "13  @ProFootballTalk I can not believe you suggest...       MikeMonnig\n",
      "14  @joaospierjr @AB_3127 @kennysnider7 @wendllyn ...  voodoomanland81\n",
      "15  @sternshow @JeromeBettis36 @cwotd @Chiefs @jon...         VlaclavK\n",
      "16  You literally advocated for guys on D to hit M...    DaveyGumdrops\n",
      "17  @ProFootballTalk As a niner fan, havng watched...       Maxgomez79\n",
      "18  @BillGroner1 @ProFootballTalk @CollinsworthPFF...        x_Slick24\n",
      "19  PFT SHOULD NOT support  anything  Mike Florio ...       markshogue\n"
     ]
    },
    {
     "name": "stderr",
     "output_type": "stream",
     "text": [
      "Grabbing bearer token from OAUTH\n",
      "Grabbing bearer token from OAUTH\n"
     ]
    },
    {
     "name": "stdout",
     "output_type": "stream",
     "text": [
      "72800 \n",
      "\n",
      "                                                 text           author\n",
      "0   @BigDrewandJim Stafford could absolutely pull ...         skearn41\n",
      "1   Kaizer Chiefs blacklisted Mandla Masango and T...  LUCKY_MTHOMBENI\n",
      "2   @Ragnod49 @ArrowheadAddict Much respect!! \\n\\n...     ArrighiOrosz\n",
      "3   @davidmakepeace @ArrowheadAddict Chiefs fan he...     ArrighiOrosz\n",
      "4   I think I'm rooting for Mahomes and the Chiefs...      skepticgoat\n",
      "5   @JeffAllen71 @ProFootballTalk The 49ers don't ...    DaRealLopeezi\n",
      "6   @martyclevenger @ProFootballTalk Florio has a ...      brettoncole\n",
      "7   @ProFootballTalk @MikeFlorioPFT this is ridicu...       mellanclos\n",
      "8   @ProFootballTalk The fuck you talkin bout smfh...      SAWAIIAN650\n",
      "9   @ProFootballTalk How do the Chiefs stop that r...      book_nelson\n",
      "10  Why are we even having an election against law...      redalertnow\n",
      "11  @zach_seibel21 @NBCSports @ProFootballTalk We ...         hotchman\n",
      "12  @ProFootballTalk It's not just Chiefs fans whi...     auntiesuez45\n",
      "13  @ProFootballTalk I can not believe you suggest...       MikeMonnig\n",
      "14  @joaospierjr @AB_3127 @kennysnider7 @wendllyn ...  voodoomanland81\n",
      "15  @sternshow @JeromeBettis36 @cwotd @Chiefs @jon...         VlaclavK\n",
      "16  You literally advocated for guys on D to hit M...    DaveyGumdrops\n",
      "17  @ProFootballTalk As a niner fan, havng watched...       Maxgomez79\n",
      "18  @BillGroner1 @ProFootballTalk @CollinsworthPFF...        x_Slick24\n",
      "19  PFT SHOULD NOT support  anything  Mike Florio ...       markshogue\n",
      "75513 \n",
      "\n",
      "                                                 text           author\n",
      "0   @BigDrewandJim Stafford could absolutely pull ...         skearn41\n",
      "1   Kaizer Chiefs blacklisted Mandla Masango and T...  LUCKY_MTHOMBENI\n",
      "2   @Ragnod49 @ArrowheadAddict Much respect!! \\n\\n...     ArrighiOrosz\n",
      "3   @davidmakepeace @ArrowheadAddict Chiefs fan he...     ArrighiOrosz\n",
      "4   I think I'm rooting for Mahomes and the Chiefs...      skepticgoat\n",
      "5   @JeffAllen71 @ProFootballTalk The 49ers don't ...    DaRealLopeezi\n",
      "6   @martyclevenger @ProFootballTalk Florio has a ...      brettoncole\n",
      "7   @ProFootballTalk @MikeFlorioPFT this is ridicu...       mellanclos\n",
      "8   @ProFootballTalk The fuck you talkin bout smfh...      SAWAIIAN650\n",
      "9   @ProFootballTalk How do the Chiefs stop that r...      book_nelson\n",
      "10  Why are we even having an election against law...      redalertnow\n",
      "11  @zach_seibel21 @NBCSports @ProFootballTalk We ...         hotchman\n",
      "12  @ProFootballTalk It's not just Chiefs fans whi...     auntiesuez45\n",
      "13  @ProFootballTalk I can not believe you suggest...       MikeMonnig\n",
      "14  @joaospierjr @AB_3127 @kennysnider7 @wendllyn ...  voodoomanland81\n",
      "15  @sternshow @JeromeBettis36 @cwotd @Chiefs @jon...         VlaclavK\n",
      "16  You literally advocated for guys on D to hit M...    DaveyGumdrops\n",
      "17  @ProFootballTalk As a niner fan, havng watched...       Maxgomez79\n",
      "18  @BillGroner1 @ProFootballTalk @CollinsworthPFF...        x_Slick24\n",
      "19  PFT SHOULD NOT support  anything  Mike Florio ...       markshogue\n"
     ]
    }
   ],
   "source": [
    "chiefs_queries_master_df = try_terms('chiefs')"
   ]
  },
  {
   "cell_type": "code",
   "execution_count": 72,
   "metadata": {},
   "outputs": [
    {
     "name": "stdout",
     "output_type": "stream",
     "text": [
      "75513\n"
     ]
    }
   ],
   "source": [
    "print(len(chiefs_queries_master_df))"
   ]
  },
  {
   "cell_type": "code",
   "execution_count": 73,
   "metadata": {},
   "outputs": [],
   "source": [
    "chiefs_queries_master_df.to_csv('chiefs_queries_master_df_Jan_28_2020.csv')"
   ]
  },
  {
   "cell_type": "code",
   "execution_count": 85,
   "metadata": {},
   "outputs": [
    {
     "name": "stdout",
     "output_type": "stream",
     "text": [
      "6539 \n",
      "\n",
      "1014 \n",
      "\n",
      "7553\n"
     ]
    }
   ],
   "source": [
    "# test\n",
    "\n",
    "c_test_df1 = chiefs_queries_master_df[chiefs_queries_master_df['text'].str.contains('dead')]\n",
    "\n",
    "c_test_df2 = chiefs_queries_master_df[chiefs_queries_master_df['text'].str.contains('Dead')]\n",
    "\n",
    "print(len(c_test_df1), '\\n')\n",
    "\n",
    "print(len(c_test_df2), '\\n')\n",
    "\n",
    "print(len(c_test_df1) + len(c_test_df2))"
   ]
  },
  {
   "cell_type": "code",
   "execution_count": 79,
   "metadata": {},
   "outputs": [
    {
     "name": "stderr",
     "output_type": "stream",
     "text": [
      "Grabbing bearer token from OAUTH\n"
     ]
    },
    {
     "name": "stdout",
     "output_type": "stream",
     "text": [
      "2193 \n",
      "\n",
      "                                                 text           author\n",
      "0   @Triplebake88 @DanSileoShow @ProFootballTalk @...       Thomason03\n",
      "1   @Phillies_49ers @codymurray1 @JeffAllen71 100%...         ZhombieV\n",
      "2   So Florio's way out of the mess he's gotten hi...   Aksala07273193\n",
      "3   @5ivves @m_vogan @pebdog5 @AB_3127 @ProFootbal...        9nerGang5\n",
      "4   @AB_3127 @ProFootballTalk 100% of 49ers fans H...       MyleStates\n",
      "5   @Ragnod49 @ArrowheadAddict Much respect!! \\n\\n...     ArrighiOrosz\n",
      "6   @davidmakepeace @ArrowheadAddict Chiefs fan he...     ArrighiOrosz\n",
      "7   @ProFootballTalk You also said Jimmy was gonna...          Turo420\n",
      "8   I think I'm rooting for Mahomes and the Chiefs...      skepticgoat\n",
      "9   @JeffAllen71 @ProFootballTalk The 49ers don't ...    DaRealLopeezi\n",
      "10  I was an Infantryman. I believe in the trenche...    InspireMe2287\n",
      "11  @pattyWarren13 @ProFootballTalk Niners fans sh...     ArrighiOrosz\n",
      "12  @emmerz08 @YourBoyRocha So basically no one sa...  H0neybadger49er\n",
      "13  @ProFootballTalk No, we're hearing what you CL...       d_morivers\n",
      "14  @ArrowheadAddict Florio is a grade A certifiab...         rf092115\n",
      "15  @ProFootballTalk I can not believe you suggest...       MikeMonnig\n",
      "16  @ProFootballTalk No, they're getting mad at ho...     ARMYmomsRock\n",
      "17  @Perry_49ers @ProFootballTalk He’s not wrong. ...       Zedd1sDead\n",
      "18  @AbrahamGN2 About being physical sure. No one ...      dwoverdrive\n",
      "19  @ProFootballTalk YOU said that you big fat hai...         ohraiyan\n"
     ]
    },
    {
     "name": "stderr",
     "output_type": "stream",
     "text": [
      "Grabbing bearer token from OAUTH\n",
      "Grabbing bearer token from OAUTH\n"
     ]
    },
    {
     "name": "stdout",
     "output_type": "stream",
     "text": [
      "2384 \n",
      "\n",
      "                                                 text           author\n",
      "0   @Triplebake88 @DanSileoShow @ProFootballTalk @...       Thomason03\n",
      "1   @Phillies_49ers @codymurray1 @JeffAllen71 100%...         ZhombieV\n",
      "2   So Florio's way out of the mess he's gotten hi...   Aksala07273193\n",
      "3   @5ivves @m_vogan @pebdog5 @AB_3127 @ProFootbal...        9nerGang5\n",
      "4   @AB_3127 @ProFootballTalk 100% of 49ers fans H...       MyleStates\n",
      "5   @Ragnod49 @ArrowheadAddict Much respect!! \\n\\n...     ArrighiOrosz\n",
      "6   @davidmakepeace @ArrowheadAddict Chiefs fan he...     ArrighiOrosz\n",
      "7   @ProFootballTalk You also said Jimmy was gonna...          Turo420\n",
      "8   I think I'm rooting for Mahomes and the Chiefs...      skepticgoat\n",
      "9   @JeffAllen71 @ProFootballTalk The 49ers don't ...    DaRealLopeezi\n",
      "10  I was an Infantryman. I believe in the trenche...    InspireMe2287\n",
      "11  @pattyWarren13 @ProFootballTalk Niners fans sh...     ArrighiOrosz\n",
      "12  @emmerz08 @YourBoyRocha So basically no one sa...  H0neybadger49er\n",
      "13  @ProFootballTalk No, we're hearing what you CL...       d_morivers\n",
      "14  @ArrowheadAddict Florio is a grade A certifiab...         rf092115\n",
      "15  @ProFootballTalk I can not believe you suggest...       MikeMonnig\n",
      "16  @ProFootballTalk No, they're getting mad at ho...     ARMYmomsRock\n",
      "17  @Perry_49ers @ProFootballTalk He’s not wrong. ...       Zedd1sDead\n",
      "18  @AbrahamGN2 About being physical sure. No one ...      dwoverdrive\n",
      "19  @ProFootballTalk YOU said that you big fat hai...         ohraiyan\n",
      "9554 \n",
      "\n",
      "                                                 text           author\n",
      "0   @Triplebake88 @DanSileoShow @ProFootballTalk @...       Thomason03\n",
      "1   @Phillies_49ers @codymurray1 @JeffAllen71 100%...         ZhombieV\n",
      "2   So Florio's way out of the mess he's gotten hi...   Aksala07273193\n",
      "3   @5ivves @m_vogan @pebdog5 @AB_3127 @ProFootbal...        9nerGang5\n",
      "4   @AB_3127 @ProFootballTalk 100% of 49ers fans H...       MyleStates\n",
      "5   @Ragnod49 @ArrowheadAddict Much respect!! \\n\\n...     ArrighiOrosz\n",
      "6   @davidmakepeace @ArrowheadAddict Chiefs fan he...     ArrighiOrosz\n",
      "7   @ProFootballTalk You also said Jimmy was gonna...          Turo420\n",
      "8   I think I'm rooting for Mahomes and the Chiefs...      skepticgoat\n",
      "9   @JeffAllen71 @ProFootballTalk The 49ers don't ...    DaRealLopeezi\n",
      "10  I was an Infantryman. I believe in the trenche...    InspireMe2287\n",
      "11  @pattyWarren13 @ProFootballTalk Niners fans sh...     ArrighiOrosz\n",
      "12  @emmerz08 @YourBoyRocha So basically no one sa...  H0neybadger49er\n",
      "13  @ProFootballTalk No, we're hearing what you CL...       d_morivers\n",
      "14  @ArrowheadAddict Florio is a grade A certifiab...         rf092115\n",
      "15  @ProFootballTalk I can not believe you suggest...       MikeMonnig\n",
      "16  @ProFootballTalk No, they're getting mad at ho...     ARMYmomsRock\n",
      "17  @Perry_49ers @ProFootballTalk He’s not wrong. ...       Zedd1sDead\n",
      "18  @AbrahamGN2 About being physical sure. No one ...      dwoverdrive\n",
      "19  @ProFootballTalk YOU said that you big fat hai...         ohraiyan\n"
     ]
    },
    {
     "name": "stderr",
     "output_type": "stream",
     "text": [
      "Grabbing bearer token from OAUTH\n"
     ]
    },
    {
     "name": "stdout",
     "output_type": "stream",
     "text": [
      "13963 \n",
      "\n",
      "                                                 text           author\n",
      "0   @Triplebake88 @DanSileoShow @ProFootballTalk @...       Thomason03\n",
      "1   @Phillies_49ers @codymurray1 @JeffAllen71 100%...         ZhombieV\n",
      "2   So Florio's way out of the mess he's gotten hi...   Aksala07273193\n",
      "3   @5ivves @m_vogan @pebdog5 @AB_3127 @ProFootbal...        9nerGang5\n",
      "4   @AB_3127 @ProFootballTalk 100% of 49ers fans H...       MyleStates\n",
      "5   @Ragnod49 @ArrowheadAddict Much respect!! \\n\\n...     ArrighiOrosz\n",
      "6   @davidmakepeace @ArrowheadAddict Chiefs fan he...     ArrighiOrosz\n",
      "7   @ProFootballTalk You also said Jimmy was gonna...          Turo420\n",
      "8   I think I'm rooting for Mahomes and the Chiefs...      skepticgoat\n",
      "9   @JeffAllen71 @ProFootballTalk The 49ers don't ...    DaRealLopeezi\n",
      "10  I was an Infantryman. I believe in the trenche...    InspireMe2287\n",
      "11  @pattyWarren13 @ProFootballTalk Niners fans sh...     ArrighiOrosz\n",
      "12  @emmerz08 @YourBoyRocha So basically no one sa...  H0neybadger49er\n",
      "13  @ProFootballTalk No, we're hearing what you CL...       d_morivers\n",
      "14  @ArrowheadAddict Florio is a grade A certifiab...         rf092115\n",
      "15  @ProFootballTalk I can not believe you suggest...       MikeMonnig\n",
      "16  @ProFootballTalk No, they're getting mad at ho...     ARMYmomsRock\n",
      "17  @Perry_49ers @ProFootballTalk He’s not wrong. ...       Zedd1sDead\n",
      "18  @AbrahamGN2 About being physical sure. No one ...      dwoverdrive\n",
      "19  @ProFootballTalk YOU said that you big fat hai...         ohraiyan\n"
     ]
    },
    {
     "name": "stderr",
     "output_type": "stream",
     "text": [
      "Grabbing bearer token from OAUTH\n",
      "Grabbing bearer token from OAUTH\n"
     ]
    },
    {
     "name": "stdout",
     "output_type": "stream",
     "text": [
      "14139 \n",
      "\n",
      "                                                 text           author\n",
      "0   @Triplebake88 @DanSileoShow @ProFootballTalk @...       Thomason03\n",
      "1   @Phillies_49ers @codymurray1 @JeffAllen71 100%...         ZhombieV\n",
      "2   So Florio's way out of the mess he's gotten hi...   Aksala07273193\n",
      "3   @5ivves @m_vogan @pebdog5 @AB_3127 @ProFootbal...        9nerGang5\n",
      "4   @AB_3127 @ProFootballTalk 100% of 49ers fans H...       MyleStates\n",
      "5   @Ragnod49 @ArrowheadAddict Much respect!! \\n\\n...     ArrighiOrosz\n",
      "6   @davidmakepeace @ArrowheadAddict Chiefs fan he...     ArrighiOrosz\n",
      "7   @ProFootballTalk You also said Jimmy was gonna...          Turo420\n",
      "8   I think I'm rooting for Mahomes and the Chiefs...      skepticgoat\n",
      "9   @JeffAllen71 @ProFootballTalk The 49ers don't ...    DaRealLopeezi\n",
      "10  I was an Infantryman. I believe in the trenche...    InspireMe2287\n",
      "11  @pattyWarren13 @ProFootballTalk Niners fans sh...     ArrighiOrosz\n",
      "12  @emmerz08 @YourBoyRocha So basically no one sa...  H0neybadger49er\n",
      "13  @ProFootballTalk No, we're hearing what you CL...       d_morivers\n",
      "14  @ArrowheadAddict Florio is a grade A certifiab...         rf092115\n",
      "15  @ProFootballTalk I can not believe you suggest...       MikeMonnig\n",
      "16  @ProFootballTalk No, they're getting mad at ho...     ARMYmomsRock\n",
      "17  @Perry_49ers @ProFootballTalk He’s not wrong. ...       Zedd1sDead\n",
      "18  @AbrahamGN2 About being physical sure. No one ...      dwoverdrive\n",
      "19  @ProFootballTalk YOU said that you big fat hai...         ohraiyan\n",
      "15880 \n",
      "\n",
      "                                                 text           author\n",
      "0   @Triplebake88 @DanSileoShow @ProFootballTalk @...       Thomason03\n",
      "1   @Phillies_49ers @codymurray1 @JeffAllen71 100%...         ZhombieV\n",
      "2   So Florio's way out of the mess he's gotten hi...   Aksala07273193\n",
      "3   @5ivves @m_vogan @pebdog5 @AB_3127 @ProFootbal...        9nerGang5\n",
      "4   @AB_3127 @ProFootballTalk 100% of 49ers fans H...       MyleStates\n",
      "5   @Ragnod49 @ArrowheadAddict Much respect!! \\n\\n...     ArrighiOrosz\n",
      "6   @davidmakepeace @ArrowheadAddict Chiefs fan he...     ArrighiOrosz\n",
      "7   @ProFootballTalk You also said Jimmy was gonna...          Turo420\n",
      "8   I think I'm rooting for Mahomes and the Chiefs...      skepticgoat\n",
      "9   @JeffAllen71 @ProFootballTalk The 49ers don't ...    DaRealLopeezi\n",
      "10  I was an Infantryman. I believe in the trenche...    InspireMe2287\n",
      "11  @pattyWarren13 @ProFootballTalk Niners fans sh...     ArrighiOrosz\n",
      "12  @emmerz08 @YourBoyRocha So basically no one sa...  H0neybadger49er\n",
      "13  @ProFootballTalk No, we're hearing what you CL...       d_morivers\n",
      "14  @ArrowheadAddict Florio is a grade A certifiab...         rf092115\n",
      "15  @ProFootballTalk I can not believe you suggest...       MikeMonnig\n",
      "16  @ProFootballTalk No, they're getting mad at ho...     ARMYmomsRock\n",
      "17  @Perry_49ers @ProFootballTalk He’s not wrong. ...       Zedd1sDead\n",
      "18  @AbrahamGN2 About being physical sure. No one ...      dwoverdrive\n",
      "19  @ProFootballTalk YOU said that you big fat hai...         ohraiyan\n"
     ]
    },
    {
     "name": "stderr",
     "output_type": "stream",
     "text": [
      "Grabbing bearer token from OAUTH\n",
      "Grabbing bearer token from OAUTH\n"
     ]
    },
    {
     "name": "stdout",
     "output_type": "stream",
     "text": [
      "15895 \n",
      "\n",
      "                                                 text           author\n",
      "0   @Triplebake88 @DanSileoShow @ProFootballTalk @...       Thomason03\n",
      "1   @Phillies_49ers @codymurray1 @JeffAllen71 100%...         ZhombieV\n",
      "2   So Florio's way out of the mess he's gotten hi...   Aksala07273193\n",
      "3   @5ivves @m_vogan @pebdog5 @AB_3127 @ProFootbal...        9nerGang5\n",
      "4   @AB_3127 @ProFootballTalk 100% of 49ers fans H...       MyleStates\n",
      "5   @Ragnod49 @ArrowheadAddict Much respect!! \\n\\n...     ArrighiOrosz\n",
      "6   @davidmakepeace @ArrowheadAddict Chiefs fan he...     ArrighiOrosz\n",
      "7   @ProFootballTalk You also said Jimmy was gonna...          Turo420\n",
      "8   I think I'm rooting for Mahomes and the Chiefs...      skepticgoat\n",
      "9   @JeffAllen71 @ProFootballTalk The 49ers don't ...    DaRealLopeezi\n",
      "10  I was an Infantryman. I believe in the trenche...    InspireMe2287\n",
      "11  @pattyWarren13 @ProFootballTalk Niners fans sh...     ArrighiOrosz\n",
      "12  @emmerz08 @YourBoyRocha So basically no one sa...  H0neybadger49er\n",
      "13  @ProFootballTalk No, we're hearing what you CL...       d_morivers\n",
      "14  @ArrowheadAddict Florio is a grade A certifiab...         rf092115\n",
      "15  @ProFootballTalk I can not believe you suggest...       MikeMonnig\n",
      "16  @ProFootballTalk No, they're getting mad at ho...     ARMYmomsRock\n",
      "17  @Perry_49ers @ProFootballTalk He’s not wrong. ...       Zedd1sDead\n",
      "18  @AbrahamGN2 About being physical sure. No one ...      dwoverdrive\n",
      "19  @ProFootballTalk YOU said that you big fat hai...         ohraiyan\n"
     ]
    },
    {
     "name": "stderr",
     "output_type": "stream",
     "text": [
      "Grabbing bearer token from OAUTH\n"
     ]
    },
    {
     "name": "stdout",
     "output_type": "stream",
     "text": [
      "16798 \n",
      "\n",
      "                                                 text           author\n",
      "0   @Triplebake88 @DanSileoShow @ProFootballTalk @...       Thomason03\n",
      "1   @Phillies_49ers @codymurray1 @JeffAllen71 100%...         ZhombieV\n",
      "2   So Florio's way out of the mess he's gotten hi...   Aksala07273193\n",
      "3   @5ivves @m_vogan @pebdog5 @AB_3127 @ProFootbal...        9nerGang5\n",
      "4   @AB_3127 @ProFootballTalk 100% of 49ers fans H...       MyleStates\n",
      "5   @Ragnod49 @ArrowheadAddict Much respect!! \\n\\n...     ArrighiOrosz\n",
      "6   @davidmakepeace @ArrowheadAddict Chiefs fan he...     ArrighiOrosz\n",
      "7   @ProFootballTalk You also said Jimmy was gonna...          Turo420\n",
      "8   I think I'm rooting for Mahomes and the Chiefs...      skepticgoat\n",
      "9   @JeffAllen71 @ProFootballTalk The 49ers don't ...    DaRealLopeezi\n",
      "10  I was an Infantryman. I believe in the trenche...    InspireMe2287\n",
      "11  @pattyWarren13 @ProFootballTalk Niners fans sh...     ArrighiOrosz\n",
      "12  @emmerz08 @YourBoyRocha So basically no one sa...  H0neybadger49er\n",
      "13  @ProFootballTalk No, we're hearing what you CL...       d_morivers\n",
      "14  @ArrowheadAddict Florio is a grade A certifiab...         rf092115\n",
      "15  @ProFootballTalk I can not believe you suggest...       MikeMonnig\n",
      "16  @ProFootballTalk No, they're getting mad at ho...     ARMYmomsRock\n",
      "17  @Perry_49ers @ProFootballTalk He’s not wrong. ...       Zedd1sDead\n",
      "18  @AbrahamGN2 About being physical sure. No one ...      dwoverdrive\n",
      "19  @ProFootballTalk YOU said that you big fat hai...         ohraiyan\n"
     ]
    },
    {
     "name": "stderr",
     "output_type": "stream",
     "text": [
      "Grabbing bearer token from OAUTH\n"
     ]
    },
    {
     "name": "stdout",
     "output_type": "stream",
     "text": [
      "20823 \n",
      "\n",
      "                                                 text           author\n",
      "0   @Triplebake88 @DanSileoShow @ProFootballTalk @...       Thomason03\n",
      "1   @Phillies_49ers @codymurray1 @JeffAllen71 100%...         ZhombieV\n",
      "2   So Florio's way out of the mess he's gotten hi...   Aksala07273193\n",
      "3   @5ivves @m_vogan @pebdog5 @AB_3127 @ProFootbal...        9nerGang5\n",
      "4   @AB_3127 @ProFootballTalk 100% of 49ers fans H...       MyleStates\n",
      "5   @Ragnod49 @ArrowheadAddict Much respect!! \\n\\n...     ArrighiOrosz\n",
      "6   @davidmakepeace @ArrowheadAddict Chiefs fan he...     ArrighiOrosz\n",
      "7   @ProFootballTalk You also said Jimmy was gonna...          Turo420\n",
      "8   I think I'm rooting for Mahomes and the Chiefs...      skepticgoat\n",
      "9   @JeffAllen71 @ProFootballTalk The 49ers don't ...    DaRealLopeezi\n",
      "10  I was an Infantryman. I believe in the trenche...    InspireMe2287\n",
      "11  @pattyWarren13 @ProFootballTalk Niners fans sh...     ArrighiOrosz\n",
      "12  @emmerz08 @YourBoyRocha So basically no one sa...  H0neybadger49er\n",
      "13  @ProFootballTalk No, we're hearing what you CL...       d_morivers\n",
      "14  @ArrowheadAddict Florio is a grade A certifiab...         rf092115\n",
      "15  @ProFootballTalk I can not believe you suggest...       MikeMonnig\n",
      "16  @ProFootballTalk No, they're getting mad at ho...     ARMYmomsRock\n",
      "17  @Perry_49ers @ProFootballTalk He’s not wrong. ...       Zedd1sDead\n",
      "18  @AbrahamGN2 About being physical sure. No one ...      dwoverdrive\n",
      "19  @ProFootballTalk YOU said that you big fat hai...         ohraiyan\n"
     ]
    },
    {
     "name": "stderr",
     "output_type": "stream",
     "text": [
      "Grabbing bearer token from OAUTH\n"
     ]
    },
    {
     "name": "stdout",
     "output_type": "stream",
     "text": [
      "24778 \n",
      "\n",
      "                                                 text           author\n",
      "0   @Triplebake88 @DanSileoShow @ProFootballTalk @...       Thomason03\n",
      "1   @Phillies_49ers @codymurray1 @JeffAllen71 100%...         ZhombieV\n",
      "2   So Florio's way out of the mess he's gotten hi...   Aksala07273193\n",
      "3   @5ivves @m_vogan @pebdog5 @AB_3127 @ProFootbal...        9nerGang5\n",
      "4   @AB_3127 @ProFootballTalk 100% of 49ers fans H...       MyleStates\n",
      "5   @Ragnod49 @ArrowheadAddict Much respect!! \\n\\n...     ArrighiOrosz\n",
      "6   @davidmakepeace @ArrowheadAddict Chiefs fan he...     ArrighiOrosz\n",
      "7   @ProFootballTalk You also said Jimmy was gonna...          Turo420\n",
      "8   I think I'm rooting for Mahomes and the Chiefs...      skepticgoat\n",
      "9   @JeffAllen71 @ProFootballTalk The 49ers don't ...    DaRealLopeezi\n",
      "10  I was an Infantryman. I believe in the trenche...    InspireMe2287\n",
      "11  @pattyWarren13 @ProFootballTalk Niners fans sh...     ArrighiOrosz\n",
      "12  @emmerz08 @YourBoyRocha So basically no one sa...  H0neybadger49er\n",
      "13  @ProFootballTalk No, we're hearing what you CL...       d_morivers\n",
      "14  @ArrowheadAddict Florio is a grade A certifiab...         rf092115\n",
      "15  @ProFootballTalk I can not believe you suggest...       MikeMonnig\n",
      "16  @ProFootballTalk No, they're getting mad at ho...     ARMYmomsRock\n",
      "17  @Perry_49ers @ProFootballTalk He’s not wrong. ...       Zedd1sDead\n",
      "18  @AbrahamGN2 About being physical sure. No one ...      dwoverdrive\n",
      "19  @ProFootballTalk YOU said that you big fat hai...         ohraiyan\n"
     ]
    },
    {
     "name": "stderr",
     "output_type": "stream",
     "text": [
      "Grabbing bearer token from OAUTH\n"
     ]
    },
    {
     "name": "stdout",
     "output_type": "stream",
     "text": [
      "25762 \n",
      "\n",
      "                                                 text           author\n",
      "0   @Triplebake88 @DanSileoShow @ProFootballTalk @...       Thomason03\n",
      "1   @Phillies_49ers @codymurray1 @JeffAllen71 100%...         ZhombieV\n",
      "2   So Florio's way out of the mess he's gotten hi...   Aksala07273193\n",
      "3   @5ivves @m_vogan @pebdog5 @AB_3127 @ProFootbal...        9nerGang5\n",
      "4   @AB_3127 @ProFootballTalk 100% of 49ers fans H...       MyleStates\n",
      "5   @Ragnod49 @ArrowheadAddict Much respect!! \\n\\n...     ArrighiOrosz\n",
      "6   @davidmakepeace @ArrowheadAddict Chiefs fan he...     ArrighiOrosz\n",
      "7   @ProFootballTalk You also said Jimmy was gonna...          Turo420\n",
      "8   I think I'm rooting for Mahomes and the Chiefs...      skepticgoat\n",
      "9   @JeffAllen71 @ProFootballTalk The 49ers don't ...    DaRealLopeezi\n",
      "10  I was an Infantryman. I believe in the trenche...    InspireMe2287\n",
      "11  @pattyWarren13 @ProFootballTalk Niners fans sh...     ArrighiOrosz\n",
      "12  @emmerz08 @YourBoyRocha So basically no one sa...  H0neybadger49er\n",
      "13  @ProFootballTalk No, we're hearing what you CL...       d_morivers\n",
      "14  @ArrowheadAddict Florio is a grade A certifiab...         rf092115\n",
      "15  @ProFootballTalk I can not believe you suggest...       MikeMonnig\n",
      "16  @ProFootballTalk No, they're getting mad at ho...     ARMYmomsRock\n",
      "17  @Perry_49ers @ProFootballTalk He’s not wrong. ...       Zedd1sDead\n",
      "18  @AbrahamGN2 About being physical sure. No one ...      dwoverdrive\n",
      "19  @ProFootballTalk YOU said that you big fat hai...         ohraiyan\n"
     ]
    },
    {
     "name": "stderr",
     "output_type": "stream",
     "text": [
      "Grabbing bearer token from OAUTH\n"
     ]
    },
    {
     "name": "stdout",
     "output_type": "stream",
     "text": [
      "25764 \n",
      "\n",
      "                                                 text           author\n",
      "0   @Triplebake88 @DanSileoShow @ProFootballTalk @...       Thomason03\n",
      "1   @Phillies_49ers @codymurray1 @JeffAllen71 100%...         ZhombieV\n",
      "2   So Florio's way out of the mess he's gotten hi...   Aksala07273193\n",
      "3   @5ivves @m_vogan @pebdog5 @AB_3127 @ProFootbal...        9nerGang5\n",
      "4   @AB_3127 @ProFootballTalk 100% of 49ers fans H...       MyleStates\n",
      "5   @Ragnod49 @ArrowheadAddict Much respect!! \\n\\n...     ArrighiOrosz\n",
      "6   @davidmakepeace @ArrowheadAddict Chiefs fan he...     ArrighiOrosz\n",
      "7   @ProFootballTalk You also said Jimmy was gonna...          Turo420\n",
      "8   I think I'm rooting for Mahomes and the Chiefs...      skepticgoat\n",
      "9   @JeffAllen71 @ProFootballTalk The 49ers don't ...    DaRealLopeezi\n",
      "10  I was an Infantryman. I believe in the trenche...    InspireMe2287\n",
      "11  @pattyWarren13 @ProFootballTalk Niners fans sh...     ArrighiOrosz\n",
      "12  @emmerz08 @YourBoyRocha So basically no one sa...  H0neybadger49er\n",
      "13  @ProFootballTalk No, we're hearing what you CL...       d_morivers\n",
      "14  @ArrowheadAddict Florio is a grade A certifiab...         rf092115\n",
      "15  @ProFootballTalk I can not believe you suggest...       MikeMonnig\n",
      "16  @ProFootballTalk No, they're getting mad at ho...     ARMYmomsRock\n",
      "17  @Perry_49ers @ProFootballTalk He’s not wrong. ...       Zedd1sDead\n",
      "18  @AbrahamGN2 About being physical sure. No one ...      dwoverdrive\n",
      "19  @ProFootballTalk YOU said that you big fat hai...         ohraiyan\n"
     ]
    },
    {
     "name": "stderr",
     "output_type": "stream",
     "text": [
      "Grabbing bearer token from OAUTH\n"
     ]
    },
    {
     "name": "stdout",
     "output_type": "stream",
     "text": [
      "27651 \n",
      "\n",
      "                                                 text           author\n",
      "0   @Triplebake88 @DanSileoShow @ProFootballTalk @...       Thomason03\n",
      "1   @Phillies_49ers @codymurray1 @JeffAllen71 100%...         ZhombieV\n",
      "2   So Florio's way out of the mess he's gotten hi...   Aksala07273193\n",
      "3   @5ivves @m_vogan @pebdog5 @AB_3127 @ProFootbal...        9nerGang5\n",
      "4   @AB_3127 @ProFootballTalk 100% of 49ers fans H...       MyleStates\n",
      "5   @Ragnod49 @ArrowheadAddict Much respect!! \\n\\n...     ArrighiOrosz\n",
      "6   @davidmakepeace @ArrowheadAddict Chiefs fan he...     ArrighiOrosz\n",
      "7   @ProFootballTalk You also said Jimmy was gonna...          Turo420\n",
      "8   I think I'm rooting for Mahomes and the Chiefs...      skepticgoat\n",
      "9   @JeffAllen71 @ProFootballTalk The 49ers don't ...    DaRealLopeezi\n",
      "10  I was an Infantryman. I believe in the trenche...    InspireMe2287\n",
      "11  @pattyWarren13 @ProFootballTalk Niners fans sh...     ArrighiOrosz\n",
      "12  @emmerz08 @YourBoyRocha So basically no one sa...  H0neybadger49er\n",
      "13  @ProFootballTalk No, we're hearing what you CL...       d_morivers\n",
      "14  @ArrowheadAddict Florio is a grade A certifiab...         rf092115\n",
      "15  @ProFootballTalk I can not believe you suggest...       MikeMonnig\n",
      "16  @ProFootballTalk No, they're getting mad at ho...     ARMYmomsRock\n",
      "17  @Perry_49ers @ProFootballTalk He’s not wrong. ...       Zedd1sDead\n",
      "18  @AbrahamGN2 About being physical sure. No one ...      dwoverdrive\n",
      "19  @ProFootballTalk YOU said that you big fat hai...         ohraiyan\n"
     ]
    },
    {
     "name": "stderr",
     "output_type": "stream",
     "text": [
      "Grabbing bearer token from OAUTH\n"
     ]
    },
    {
     "name": "stdout",
     "output_type": "stream",
     "text": [
      "27654 \n",
      "\n",
      "                                                 text           author\n",
      "0   @Triplebake88 @DanSileoShow @ProFootballTalk @...       Thomason03\n",
      "1   @Phillies_49ers @codymurray1 @JeffAllen71 100%...         ZhombieV\n",
      "2   So Florio's way out of the mess he's gotten hi...   Aksala07273193\n",
      "3   @5ivves @m_vogan @pebdog5 @AB_3127 @ProFootbal...        9nerGang5\n",
      "4   @AB_3127 @ProFootballTalk 100% of 49ers fans H...       MyleStates\n",
      "5   @Ragnod49 @ArrowheadAddict Much respect!! \\n\\n...     ArrighiOrosz\n",
      "6   @davidmakepeace @ArrowheadAddict Chiefs fan he...     ArrighiOrosz\n",
      "7   @ProFootballTalk You also said Jimmy was gonna...          Turo420\n",
      "8   I think I'm rooting for Mahomes and the Chiefs...      skepticgoat\n",
      "9   @JeffAllen71 @ProFootballTalk The 49ers don't ...    DaRealLopeezi\n",
      "10  I was an Infantryman. I believe in the trenche...    InspireMe2287\n",
      "11  @pattyWarren13 @ProFootballTalk Niners fans sh...     ArrighiOrosz\n",
      "12  @emmerz08 @YourBoyRocha So basically no one sa...  H0neybadger49er\n",
      "13  @ProFootballTalk No, we're hearing what you CL...       d_morivers\n",
      "14  @ArrowheadAddict Florio is a grade A certifiab...         rf092115\n",
      "15  @ProFootballTalk I can not believe you suggest...       MikeMonnig\n",
      "16  @ProFootballTalk No, they're getting mad at ho...     ARMYmomsRock\n",
      "17  @Perry_49ers @ProFootballTalk He’s not wrong. ...       Zedd1sDead\n",
      "18  @AbrahamGN2 About being physical sure. No one ...      dwoverdrive\n",
      "19  @ProFootballTalk YOU said that you big fat hai...         ohraiyan\n"
     ]
    },
    {
     "name": "stderr",
     "output_type": "stream",
     "text": [
      "Grabbing bearer token from OAUTH\n"
     ]
    },
    {
     "name": "stdout",
     "output_type": "stream",
     "text": [
      "27659 \n",
      "\n",
      "                                                 text           author\n",
      "0   @Triplebake88 @DanSileoShow @ProFootballTalk @...       Thomason03\n",
      "1   @Phillies_49ers @codymurray1 @JeffAllen71 100%...         ZhombieV\n",
      "2   So Florio's way out of the mess he's gotten hi...   Aksala07273193\n",
      "3   @5ivves @m_vogan @pebdog5 @AB_3127 @ProFootbal...        9nerGang5\n",
      "4   @AB_3127 @ProFootballTalk 100% of 49ers fans H...       MyleStates\n",
      "5   @Ragnod49 @ArrowheadAddict Much respect!! \\n\\n...     ArrighiOrosz\n",
      "6   @davidmakepeace @ArrowheadAddict Chiefs fan he...     ArrighiOrosz\n",
      "7   @ProFootballTalk You also said Jimmy was gonna...          Turo420\n",
      "8   I think I'm rooting for Mahomes and the Chiefs...      skepticgoat\n",
      "9   @JeffAllen71 @ProFootballTalk The 49ers don't ...    DaRealLopeezi\n",
      "10  I was an Infantryman. I believe in the trenche...    InspireMe2287\n",
      "11  @pattyWarren13 @ProFootballTalk Niners fans sh...     ArrighiOrosz\n",
      "12  @emmerz08 @YourBoyRocha So basically no one sa...  H0neybadger49er\n",
      "13  @ProFootballTalk No, we're hearing what you CL...       d_morivers\n",
      "14  @ArrowheadAddict Florio is a grade A certifiab...         rf092115\n",
      "15  @ProFootballTalk I can not believe you suggest...       MikeMonnig\n",
      "16  @ProFootballTalk No, they're getting mad at ho...     ARMYmomsRock\n",
      "17  @Perry_49ers @ProFootballTalk He’s not wrong. ...       Zedd1sDead\n",
      "18  @AbrahamGN2 About being physical sure. No one ...      dwoverdrive\n",
      "19  @ProFootballTalk YOU said that you big fat hai...         ohraiyan\n"
     ]
    },
    {
     "name": "stderr",
     "output_type": "stream",
     "text": [
      "Grabbing bearer token from OAUTH\n"
     ]
    },
    {
     "name": "stdout",
     "output_type": "stream",
     "text": [
      "27689 \n",
      "\n",
      "                                                 text           author\n",
      "0   @Triplebake88 @DanSileoShow @ProFootballTalk @...       Thomason03\n",
      "1   @Phillies_49ers @codymurray1 @JeffAllen71 100%...         ZhombieV\n",
      "2   So Florio's way out of the mess he's gotten hi...   Aksala07273193\n",
      "3   @5ivves @m_vogan @pebdog5 @AB_3127 @ProFootbal...        9nerGang5\n",
      "4   @AB_3127 @ProFootballTalk 100% of 49ers fans H...       MyleStates\n",
      "5   @Ragnod49 @ArrowheadAddict Much respect!! \\n\\n...     ArrighiOrosz\n",
      "6   @davidmakepeace @ArrowheadAddict Chiefs fan he...     ArrighiOrosz\n",
      "7   @ProFootballTalk You also said Jimmy was gonna...          Turo420\n",
      "8   I think I'm rooting for Mahomes and the Chiefs...      skepticgoat\n",
      "9   @JeffAllen71 @ProFootballTalk The 49ers don't ...    DaRealLopeezi\n",
      "10  I was an Infantryman. I believe in the trenche...    InspireMe2287\n",
      "11  @pattyWarren13 @ProFootballTalk Niners fans sh...     ArrighiOrosz\n",
      "12  @emmerz08 @YourBoyRocha So basically no one sa...  H0neybadger49er\n",
      "13  @ProFootballTalk No, we're hearing what you CL...       d_morivers\n",
      "14  @ArrowheadAddict Florio is a grade A certifiab...         rf092115\n",
      "15  @ProFootballTalk I can not believe you suggest...       MikeMonnig\n",
      "16  @ProFootballTalk No, they're getting mad at ho...     ARMYmomsRock\n",
      "17  @Perry_49ers @ProFootballTalk He’s not wrong. ...       Zedd1sDead\n",
      "18  @AbrahamGN2 About being physical sure. No one ...      dwoverdrive\n",
      "19  @ProFootballTalk YOU said that you big fat hai...         ohraiyan\n",
      "27690 \n",
      "\n",
      "                                                 text           author\n",
      "0   @Triplebake88 @DanSileoShow @ProFootballTalk @...       Thomason03\n",
      "1   @Phillies_49ers @codymurray1 @JeffAllen71 100%...         ZhombieV\n",
      "2   So Florio's way out of the mess he's gotten hi...   Aksala07273193\n",
      "3   @5ivves @m_vogan @pebdog5 @AB_3127 @ProFootbal...        9nerGang5\n",
      "4   @AB_3127 @ProFootballTalk 100% of 49ers fans H...       MyleStates\n",
      "5   @Ragnod49 @ArrowheadAddict Much respect!! \\n\\n...     ArrighiOrosz\n",
      "6   @davidmakepeace @ArrowheadAddict Chiefs fan he...     ArrighiOrosz\n",
      "7   @ProFootballTalk You also said Jimmy was gonna...          Turo420\n",
      "8   I think I'm rooting for Mahomes and the Chiefs...      skepticgoat\n",
      "9   @JeffAllen71 @ProFootballTalk The 49ers don't ...    DaRealLopeezi\n",
      "10  I was an Infantryman. I believe in the trenche...    InspireMe2287\n",
      "11  @pattyWarren13 @ProFootballTalk Niners fans sh...     ArrighiOrosz\n",
      "12  @emmerz08 @YourBoyRocha So basically no one sa...  H0neybadger49er\n",
      "13  @ProFootballTalk No, we're hearing what you CL...       d_morivers\n",
      "14  @ArrowheadAddict Florio is a grade A certifiab...         rf092115\n",
      "15  @ProFootballTalk I can not believe you suggest...       MikeMonnig\n",
      "16  @ProFootballTalk No, they're getting mad at ho...     ARMYmomsRock\n",
      "17  @Perry_49ers @ProFootballTalk He’s not wrong. ...       Zedd1sDead\n",
      "18  @AbrahamGN2 About being physical sure. No one ...      dwoverdrive\n",
      "19  @ProFootballTalk YOU said that you big fat hai...         ohraiyan\n"
     ]
    },
    {
     "name": "stderr",
     "output_type": "stream",
     "text": [
      "Grabbing bearer token from OAUTH\n",
      "Grabbing bearer token from OAUTH\n"
     ]
    },
    {
     "name": "stdout",
     "output_type": "stream",
     "text": [
      "27843 \n",
      "\n",
      "                                                 text           author\n",
      "0   @Triplebake88 @DanSileoShow @ProFootballTalk @...       Thomason03\n",
      "1   @Phillies_49ers @codymurray1 @JeffAllen71 100%...         ZhombieV\n",
      "2   So Florio's way out of the mess he's gotten hi...   Aksala07273193\n",
      "3   @5ivves @m_vogan @pebdog5 @AB_3127 @ProFootbal...        9nerGang5\n",
      "4   @AB_3127 @ProFootballTalk 100% of 49ers fans H...       MyleStates\n",
      "5   @Ragnod49 @ArrowheadAddict Much respect!! \\n\\n...     ArrighiOrosz\n",
      "6   @davidmakepeace @ArrowheadAddict Chiefs fan he...     ArrighiOrosz\n",
      "7   @ProFootballTalk You also said Jimmy was gonna...          Turo420\n",
      "8   I think I'm rooting for Mahomes and the Chiefs...      skepticgoat\n",
      "9   @JeffAllen71 @ProFootballTalk The 49ers don't ...    DaRealLopeezi\n",
      "10  I was an Infantryman. I believe in the trenche...    InspireMe2287\n",
      "11  @pattyWarren13 @ProFootballTalk Niners fans sh...     ArrighiOrosz\n",
      "12  @emmerz08 @YourBoyRocha So basically no one sa...  H0neybadger49er\n",
      "13  @ProFootballTalk No, we're hearing what you CL...       d_morivers\n",
      "14  @ArrowheadAddict Florio is a grade A certifiab...         rf092115\n",
      "15  @ProFootballTalk I can not believe you suggest...       MikeMonnig\n",
      "16  @ProFootballTalk No, they're getting mad at ho...     ARMYmomsRock\n",
      "17  @Perry_49ers @ProFootballTalk He’s not wrong. ...       Zedd1sDead\n",
      "18  @AbrahamGN2 About being physical sure. No one ...      dwoverdrive\n",
      "19  @ProFootballTalk YOU said that you big fat hai...         ohraiyan\n"
     ]
    },
    {
     "name": "stderr",
     "output_type": "stream",
     "text": [
      "Grabbing bearer token from OAUTH\n"
     ]
    },
    {
     "name": "stdout",
     "output_type": "stream",
     "text": [
      "27846 \n",
      "\n",
      "                                                 text           author\n",
      "0   @Triplebake88 @DanSileoShow @ProFootballTalk @...       Thomason03\n",
      "1   @Phillies_49ers @codymurray1 @JeffAllen71 100%...         ZhombieV\n",
      "2   So Florio's way out of the mess he's gotten hi...   Aksala07273193\n",
      "3   @5ivves @m_vogan @pebdog5 @AB_3127 @ProFootbal...        9nerGang5\n",
      "4   @AB_3127 @ProFootballTalk 100% of 49ers fans H...       MyleStates\n",
      "5   @Ragnod49 @ArrowheadAddict Much respect!! \\n\\n...     ArrighiOrosz\n",
      "6   @davidmakepeace @ArrowheadAddict Chiefs fan he...     ArrighiOrosz\n",
      "7   @ProFootballTalk You also said Jimmy was gonna...          Turo420\n",
      "8   I think I'm rooting for Mahomes and the Chiefs...      skepticgoat\n",
      "9   @JeffAllen71 @ProFootballTalk The 49ers don't ...    DaRealLopeezi\n",
      "10  I was an Infantryman. I believe in the trenche...    InspireMe2287\n",
      "11  @pattyWarren13 @ProFootballTalk Niners fans sh...     ArrighiOrosz\n",
      "12  @emmerz08 @YourBoyRocha So basically no one sa...  H0neybadger49er\n",
      "13  @ProFootballTalk No, we're hearing what you CL...       d_morivers\n",
      "14  @ArrowheadAddict Florio is a grade A certifiab...         rf092115\n",
      "15  @ProFootballTalk I can not believe you suggest...       MikeMonnig\n",
      "16  @ProFootballTalk No, they're getting mad at ho...     ARMYmomsRock\n",
      "17  @Perry_49ers @ProFootballTalk He’s not wrong. ...       Zedd1sDead\n",
      "18  @AbrahamGN2 About being physical sure. No one ...      dwoverdrive\n",
      "19  @ProFootballTalk YOU said that you big fat hai...         ohraiyan\n"
     ]
    },
    {
     "name": "stderr",
     "output_type": "stream",
     "text": [
      "Grabbing bearer token from OAUTH\n"
     ]
    },
    {
     "name": "stdout",
     "output_type": "stream",
     "text": [
      "28346 \n",
      "\n",
      "                                                 text           author\n",
      "0   @Triplebake88 @DanSileoShow @ProFootballTalk @...       Thomason03\n",
      "1   @Phillies_49ers @codymurray1 @JeffAllen71 100%...         ZhombieV\n",
      "2   So Florio's way out of the mess he's gotten hi...   Aksala07273193\n",
      "3   @5ivves @m_vogan @pebdog5 @AB_3127 @ProFootbal...        9nerGang5\n",
      "4   @AB_3127 @ProFootballTalk 100% of 49ers fans H...       MyleStates\n",
      "5   @Ragnod49 @ArrowheadAddict Much respect!! \\n\\n...     ArrighiOrosz\n",
      "6   @davidmakepeace @ArrowheadAddict Chiefs fan he...     ArrighiOrosz\n",
      "7   @ProFootballTalk You also said Jimmy was gonna...          Turo420\n",
      "8   I think I'm rooting for Mahomes and the Chiefs...      skepticgoat\n",
      "9   @JeffAllen71 @ProFootballTalk The 49ers don't ...    DaRealLopeezi\n",
      "10  I was an Infantryman. I believe in the trenche...    InspireMe2287\n",
      "11  @pattyWarren13 @ProFootballTalk Niners fans sh...     ArrighiOrosz\n",
      "12  @emmerz08 @YourBoyRocha So basically no one sa...  H0neybadger49er\n",
      "13  @ProFootballTalk No, we're hearing what you CL...       d_morivers\n",
      "14  @ArrowheadAddict Florio is a grade A certifiab...         rf092115\n",
      "15  @ProFootballTalk I can not believe you suggest...       MikeMonnig\n",
      "16  @ProFootballTalk No, they're getting mad at ho...     ARMYmomsRock\n",
      "17  @Perry_49ers @ProFootballTalk He’s not wrong. ...       Zedd1sDead\n",
      "18  @AbrahamGN2 About being physical sure. No one ...      dwoverdrive\n",
      "19  @ProFootballTalk YOU said that you big fat hai...         ohraiyan\n",
      "28721 \n",
      "\n",
      "                                                 text           author\n",
      "0   @Triplebake88 @DanSileoShow @ProFootballTalk @...       Thomason03\n",
      "1   @Phillies_49ers @codymurray1 @JeffAllen71 100%...         ZhombieV\n",
      "2   So Florio's way out of the mess he's gotten hi...   Aksala07273193\n",
      "3   @5ivves @m_vogan @pebdog5 @AB_3127 @ProFootbal...        9nerGang5\n",
      "4   @AB_3127 @ProFootballTalk 100% of 49ers fans H...       MyleStates\n",
      "5   @Ragnod49 @ArrowheadAddict Much respect!! \\n\\n...     ArrighiOrosz\n",
      "6   @davidmakepeace @ArrowheadAddict Chiefs fan he...     ArrighiOrosz\n",
      "7   @ProFootballTalk You also said Jimmy was gonna...          Turo420\n",
      "8   I think I'm rooting for Mahomes and the Chiefs...      skepticgoat\n",
      "9   @JeffAllen71 @ProFootballTalk The 49ers don't ...    DaRealLopeezi\n",
      "10  I was an Infantryman. I believe in the trenche...    InspireMe2287\n",
      "11  @pattyWarren13 @ProFootballTalk Niners fans sh...     ArrighiOrosz\n",
      "12  @emmerz08 @YourBoyRocha So basically no one sa...  H0neybadger49er\n",
      "13  @ProFootballTalk No, we're hearing what you CL...       d_morivers\n",
      "14  @ArrowheadAddict Florio is a grade A certifiab...         rf092115\n",
      "15  @ProFootballTalk I can not believe you suggest...       MikeMonnig\n",
      "16  @ProFootballTalk No, they're getting mad at ho...     ARMYmomsRock\n",
      "17  @Perry_49ers @ProFootballTalk He’s not wrong. ...       Zedd1sDead\n",
      "18  @AbrahamGN2 About being physical sure. No one ...      dwoverdrive\n",
      "19  @ProFootballTalk YOU said that you big fat hai...         ohraiyan\n"
     ]
    },
    {
     "name": "stderr",
     "output_type": "stream",
     "text": [
      "Grabbing bearer token from OAUTH\n"
     ]
    },
    {
     "name": "stdout",
     "output_type": "stream",
     "text": [
      "34258 \n",
      "\n",
      "                                                 text           author\n",
      "0   @Triplebake88 @DanSileoShow @ProFootballTalk @...       Thomason03\n",
      "1   @Phillies_49ers @codymurray1 @JeffAllen71 100%...         ZhombieV\n",
      "2   So Florio's way out of the mess he's gotten hi...   Aksala07273193\n",
      "3   @5ivves @m_vogan @pebdog5 @AB_3127 @ProFootbal...        9nerGang5\n",
      "4   @AB_3127 @ProFootballTalk 100% of 49ers fans H...       MyleStates\n",
      "5   @Ragnod49 @ArrowheadAddict Much respect!! \\n\\n...     ArrighiOrosz\n",
      "6   @davidmakepeace @ArrowheadAddict Chiefs fan he...     ArrighiOrosz\n",
      "7   @ProFootballTalk You also said Jimmy was gonna...          Turo420\n",
      "8   I think I'm rooting for Mahomes and the Chiefs...      skepticgoat\n",
      "9   @JeffAllen71 @ProFootballTalk The 49ers don't ...    DaRealLopeezi\n",
      "10  I was an Infantryman. I believe in the trenche...    InspireMe2287\n",
      "11  @pattyWarren13 @ProFootballTalk Niners fans sh...     ArrighiOrosz\n",
      "12  @emmerz08 @YourBoyRocha So basically no one sa...  H0neybadger49er\n",
      "13  @ProFootballTalk No, we're hearing what you CL...       d_morivers\n",
      "14  @ArrowheadAddict Florio is a grade A certifiab...         rf092115\n",
      "15  @ProFootballTalk I can not believe you suggest...       MikeMonnig\n",
      "16  @ProFootballTalk No, they're getting mad at ho...     ARMYmomsRock\n",
      "17  @Perry_49ers @ProFootballTalk He’s not wrong. ...       Zedd1sDead\n",
      "18  @AbrahamGN2 About being physical sure. No one ...      dwoverdrive\n",
      "19  @ProFootballTalk YOU said that you big fat hai...         ohraiyan\n"
     ]
    },
    {
     "name": "stderr",
     "output_type": "stream",
     "text": [
      "Grabbing bearer token from OAUTH\n"
     ]
    },
    {
     "name": "stdout",
     "output_type": "stream",
     "text": [
      "39212 \n",
      "\n",
      "                                                 text           author\n",
      "0   @Triplebake88 @DanSileoShow @ProFootballTalk @...       Thomason03\n",
      "1   @Phillies_49ers @codymurray1 @JeffAllen71 100%...         ZhombieV\n",
      "2   So Florio's way out of the mess he's gotten hi...   Aksala07273193\n",
      "3   @5ivves @m_vogan @pebdog5 @AB_3127 @ProFootbal...        9nerGang5\n",
      "4   @AB_3127 @ProFootballTalk 100% of 49ers fans H...       MyleStates\n",
      "5   @Ragnod49 @ArrowheadAddict Much respect!! \\n\\n...     ArrighiOrosz\n",
      "6   @davidmakepeace @ArrowheadAddict Chiefs fan he...     ArrighiOrosz\n",
      "7   @ProFootballTalk You also said Jimmy was gonna...          Turo420\n",
      "8   I think I'm rooting for Mahomes and the Chiefs...      skepticgoat\n",
      "9   @JeffAllen71 @ProFootballTalk The 49ers don't ...    DaRealLopeezi\n",
      "10  I was an Infantryman. I believe in the trenche...    InspireMe2287\n",
      "11  @pattyWarren13 @ProFootballTalk Niners fans sh...     ArrighiOrosz\n",
      "12  @emmerz08 @YourBoyRocha So basically no one sa...  H0neybadger49er\n",
      "13  @ProFootballTalk No, we're hearing what you CL...       d_morivers\n",
      "14  @ArrowheadAddict Florio is a grade A certifiab...         rf092115\n",
      "15  @ProFootballTalk I can not believe you suggest...       MikeMonnig\n",
      "16  @ProFootballTalk No, they're getting mad at ho...     ARMYmomsRock\n",
      "17  @Perry_49ers @ProFootballTalk He’s not wrong. ...       Zedd1sDead\n",
      "18  @AbrahamGN2 About being physical sure. No one ...      dwoverdrive\n",
      "19  @ProFootballTalk YOU said that you big fat hai...         ohraiyan\n"
     ]
    },
    {
     "name": "stderr",
     "output_type": "stream",
     "text": [
      "Grabbing bearer token from OAUTH\n"
     ]
    },
    {
     "name": "stdout",
     "output_type": "stream",
     "text": [
      "39733 \n",
      "\n",
      "                                                 text           author\n",
      "0   @Triplebake88 @DanSileoShow @ProFootballTalk @...       Thomason03\n",
      "1   @Phillies_49ers @codymurray1 @JeffAllen71 100%...         ZhombieV\n",
      "2   So Florio's way out of the mess he's gotten hi...   Aksala07273193\n",
      "3   @5ivves @m_vogan @pebdog5 @AB_3127 @ProFootbal...        9nerGang5\n",
      "4   @AB_3127 @ProFootballTalk 100% of 49ers fans H...       MyleStates\n",
      "5   @Ragnod49 @ArrowheadAddict Much respect!! \\n\\n...     ArrighiOrosz\n",
      "6   @davidmakepeace @ArrowheadAddict Chiefs fan he...     ArrighiOrosz\n",
      "7   @ProFootballTalk You also said Jimmy was gonna...          Turo420\n",
      "8   I think I'm rooting for Mahomes and the Chiefs...      skepticgoat\n",
      "9   @JeffAllen71 @ProFootballTalk The 49ers don't ...    DaRealLopeezi\n",
      "10  I was an Infantryman. I believe in the trenche...    InspireMe2287\n",
      "11  @pattyWarren13 @ProFootballTalk Niners fans sh...     ArrighiOrosz\n",
      "12  @emmerz08 @YourBoyRocha So basically no one sa...  H0neybadger49er\n",
      "13  @ProFootballTalk No, we're hearing what you CL...       d_morivers\n",
      "14  @ArrowheadAddict Florio is a grade A certifiab...         rf092115\n",
      "15  @ProFootballTalk I can not believe you suggest...       MikeMonnig\n",
      "16  @ProFootballTalk No, they're getting mad at ho...     ARMYmomsRock\n",
      "17  @Perry_49ers @ProFootballTalk He’s not wrong. ...       Zedd1sDead\n",
      "18  @AbrahamGN2 About being physical sure. No one ...      dwoverdrive\n",
      "19  @ProFootballTalk YOU said that you big fat hai...         ohraiyan\n"
     ]
    },
    {
     "name": "stderr",
     "output_type": "stream",
     "text": [
      "Grabbing bearer token from OAUTH\n"
     ]
    },
    {
     "name": "stdout",
     "output_type": "stream",
     "text": [
      "39749 \n",
      "\n",
      "                                                 text           author\n",
      "0   @Triplebake88 @DanSileoShow @ProFootballTalk @...       Thomason03\n",
      "1   @Phillies_49ers @codymurray1 @JeffAllen71 100%...         ZhombieV\n",
      "2   So Florio's way out of the mess he's gotten hi...   Aksala07273193\n",
      "3   @5ivves @m_vogan @pebdog5 @AB_3127 @ProFootbal...        9nerGang5\n",
      "4   @AB_3127 @ProFootballTalk 100% of 49ers fans H...       MyleStates\n",
      "5   @Ragnod49 @ArrowheadAddict Much respect!! \\n\\n...     ArrighiOrosz\n",
      "6   @davidmakepeace @ArrowheadAddict Chiefs fan he...     ArrighiOrosz\n",
      "7   @ProFootballTalk You also said Jimmy was gonna...          Turo420\n",
      "8   I think I'm rooting for Mahomes and the Chiefs...      skepticgoat\n",
      "9   @JeffAllen71 @ProFootballTalk The 49ers don't ...    DaRealLopeezi\n",
      "10  I was an Infantryman. I believe in the trenche...    InspireMe2287\n",
      "11  @pattyWarren13 @ProFootballTalk Niners fans sh...     ArrighiOrosz\n",
      "12  @emmerz08 @YourBoyRocha So basically no one sa...  H0neybadger49er\n",
      "13  @ProFootballTalk No, we're hearing what you CL...       d_morivers\n",
      "14  @ArrowheadAddict Florio is a grade A certifiab...         rf092115\n",
      "15  @ProFootballTalk I can not believe you suggest...       MikeMonnig\n",
      "16  @ProFootballTalk No, they're getting mad at ho...     ARMYmomsRock\n",
      "17  @Perry_49ers @ProFootballTalk He’s not wrong. ...       Zedd1sDead\n",
      "18  @AbrahamGN2 About being physical sure. No one ...      dwoverdrive\n",
      "19  @ProFootballTalk YOU said that you big fat hai...         ohraiyan\n"
     ]
    },
    {
     "name": "stderr",
     "output_type": "stream",
     "text": [
      "Grabbing bearer token from OAUTH\n"
     ]
    },
    {
     "name": "stdout",
     "output_type": "stream",
     "text": [
      "41098 \n",
      "\n",
      "                                                 text           author\n",
      "0   @Triplebake88 @DanSileoShow @ProFootballTalk @...       Thomason03\n",
      "1   @Phillies_49ers @codymurray1 @JeffAllen71 100%...         ZhombieV\n",
      "2   So Florio's way out of the mess he's gotten hi...   Aksala07273193\n",
      "3   @5ivves @m_vogan @pebdog5 @AB_3127 @ProFootbal...        9nerGang5\n",
      "4   @AB_3127 @ProFootballTalk 100% of 49ers fans H...       MyleStates\n",
      "5   @Ragnod49 @ArrowheadAddict Much respect!! \\n\\n...     ArrighiOrosz\n",
      "6   @davidmakepeace @ArrowheadAddict Chiefs fan he...     ArrighiOrosz\n",
      "7   @ProFootballTalk You also said Jimmy was gonna...          Turo420\n",
      "8   I think I'm rooting for Mahomes and the Chiefs...      skepticgoat\n",
      "9   @JeffAllen71 @ProFootballTalk The 49ers don't ...    DaRealLopeezi\n",
      "10  I was an Infantryman. I believe in the trenche...    InspireMe2287\n",
      "11  @pattyWarren13 @ProFootballTalk Niners fans sh...     ArrighiOrosz\n",
      "12  @emmerz08 @YourBoyRocha So basically no one sa...  H0neybadger49er\n",
      "13  @ProFootballTalk No, we're hearing what you CL...       d_morivers\n",
      "14  @ArrowheadAddict Florio is a grade A certifiab...         rf092115\n",
      "15  @ProFootballTalk I can not believe you suggest...       MikeMonnig\n",
      "16  @ProFootballTalk No, they're getting mad at ho...     ARMYmomsRock\n",
      "17  @Perry_49ers @ProFootballTalk He’s not wrong. ...       Zedd1sDead\n",
      "18  @AbrahamGN2 About being physical sure. No one ...      dwoverdrive\n",
      "19  @ProFootballTalk YOU said that you big fat hai...         ohraiyan\n"
     ]
    }
   ],
   "source": [
    "sf_49ers_queries_master_df = try_terms('49ers')"
   ]
  },
  {
   "cell_type": "code",
   "execution_count": 80,
   "metadata": {},
   "outputs": [],
   "source": [
    "sf_49ers_queries_master_df.to_csv('sf_49ers_queries_master_df_Jan_28_2020.csv')"
   ]
  },
  {
   "cell_type": "code",
   "execution_count": 84,
   "metadata": {},
   "outputs": [
    {
     "name": "stdout",
     "output_type": "stream",
     "text": [
      "3295 \n",
      "\n",
      "690 \n",
      "\n",
      "3985\n"
     ]
    }
   ],
   "source": [
    "sf_test_df1 = sf_49ers_queries_master_df[sf_49ers_queries_master_df['text'].str.contains('dead')]\n",
    "\n",
    "sf_test_df2 = sf_49ers_queries_master_df[sf_49ers_queries_master_df['text'].str.contains('Dead')]\n",
    "\n",
    "print(len(sf_test_df1), '\\n')\n",
    "\n",
    "print(len(sf_test_df2), '\\n')\n",
    "\n",
    "print(len(sf_test_df1) + len(sf_test_df2))"
   ]
  },
  {
   "cell_type": "code",
   "execution_count": null,
   "metadata": {},
   "outputs": [],
   "source": []
  }
 ],
 "metadata": {
  "kernelspec": {
   "display_name": "Python 3",
   "language": "python",
   "name": "python3"
  },
  "language_info": {
   "codemirror_mode": {
    "name": "ipython",
    "version": 3
   },
   "file_extension": ".py",
   "mimetype": "text/x-python",
   "name": "python",
   "nbconvert_exporter": "python",
   "pygments_lexer": "ipython3",
   "version": "3.6.3"
  }
 },
 "nbformat": 4,
 "nbformat_minor": 2
}
