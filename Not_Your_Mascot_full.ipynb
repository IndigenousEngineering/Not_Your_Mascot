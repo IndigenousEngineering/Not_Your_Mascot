{
 "cells": [
  {
   "cell_type": "code",
   "execution_count": 212,
   "metadata": {},
   "outputs": [
    {
     "name": "stderr",
     "output_type": "stream",
     "text": [
      "[nltk_data] Downloading package stopwords to /home/keras/nltk_data...\n",
      "[nltk_data]   Package stopwords is already up-to-date!\n"
     ]
    }
   ],
   "source": [
    "# imports\n",
    "\n",
    "import math\n",
    "import datetime\n",
    "import time\n",
    "import searchtweets\n",
    "import numpy as np\n",
    "import pandas as pd\n",
    "\n",
    "import string\n",
    "import warnings\n",
    "import datetime\n",
    "warnings.filterwarnings('ignore')\n",
    "from collections import Counter\n",
    "from sklearn.feature_extraction.text import CountVectorizer\n",
    "\n",
    "import nltk\n",
    "from nltk.corpus import stopwords\n",
    "nltk.download('stopwords')\n",
    "from nltk.stem import WordNetLemmatizer\n",
    "from nltk.sentiment.vader import SentimentIntensityAnalyzer\n",
    "from nltk.sentiment.util import *\n",
    "from nltk import tokenize\n",
    "\n",
    "import matplotlib\n",
    "%matplotlib inline\n",
    "import matplotlib.pyplot as plt\n",
    "matplotlib.style.use('ggplot')\n",
    "import seaborn as sns\n",
    "from IPython.display import display\n",
    "from wordcloud import WordCloud, STOPWORDS"
   ]
  },
  {
   "cell_type": "markdown",
   "metadata": {},
   "source": [
    "### getting the data"
   ]
  },
  {
   "cell_type": "code",
   "execution_count": 91,
   "metadata": {},
   "outputs": [],
   "source": [
    "def get_tweet_object(search_term, start_date, end_date, num_of_tweets, include_retweets=True):\n",
    "    \n",
    "    '''\n",
    "    takes:\n",
    "    \n",
    "    * date range\n",
    "    * screen name\n",
    "    * number of tweets to return (500 per page)\n",
    "       \n",
    "    input search term as a string\n",
    "    \n",
    "    input search range as datetime.datetime(20xx, 1, 20)\n",
    "    \n",
    "    include_retweets defaults is True. to exclude retweets set to False.\n",
    "    \n",
    "    returns: \n",
    "    \n",
    "    * tweets object with replies to input screen name \n",
    "   \n",
    "    '''\n",
    "    \n",
    "    \n",
    "    search_args = searchtweets.load_credentials('twitter_keyz.yaml',\n",
    "                                                yaml_key='search_tweets_api',\n",
    "                                                env_overwrite=False)\n",
    "    \n",
    "    if include_retweets:\n",
    "        \n",
    "        search_term = search_term + ' lang:en'\n",
    "    \n",
    "    else:\n",
    "        \n",
    "        search_term = search_term + ' lang:en -is:retweet'\n",
    "        \n",
    "    \n",
    "    \n",
    "    rule = searchtweets.gen_rule_payload(search_term,\n",
    "                                         results_per_call=500,\n",
    "                                         from_date=start_date.strftime('%Y-%m-%d'),\n",
    "                                         to_date=end_date.strftime('%Y-%m-%d'))     \n",
    "        \n",
    "    tweet_objects = []\n",
    "    \n",
    "    rs = searchtweets.ResultStream(rule_payload=rule,\n",
    "                                   max_results=num_of_tweets,\n",
    "                                   max_pages=math.ceil(num_of_tweets / 500.0),\n",
    "                                   **search_args)\n",
    "    \n",
    "    start_time = time.time()\n",
    "    \n",
    "    # error handling & rate limiting for requests\n",
    "    \n",
    "    try:\n",
    "        \n",
    "        # generator \n",
    "\n",
    "        for i, tweet_object in enumerate(rs.stream(), start=1):\n",
    "            \n",
    "            # check every 500 requests, ie every page\n",
    "        \n",
    "            if i % 500 == 0:\n",
    "            \n",
    "                now = time.time()\n",
    "                \n",
    "                # four second delay\n",
    "            \n",
    "                if now < start_time + 4:\n",
    "                \n",
    "                    time.sleep(4 - (now - start_time))\n",
    "                \n",
    "                    start_time = time.time()\n",
    "                \n",
    "            tweet_objects.append(tweet_object)\n",
    "    \n",
    "    except Exception as e:\n",
    "        \n",
    "        print(\"Error from Twitter API: %s. Fetched %d tweet_objects\" % (e, len(tweet_objects)))\n",
    "    \n",
    "    return tweet_objects"
   ]
  },
  {
   "cell_type": "code",
   "execution_count": 25,
   "metadata": {},
   "outputs": [
    {
     "name": "stderr",
     "output_type": "stream",
     "text": [
      "Grabbing bearer token from OAUTH\n"
     ]
    }
   ],
   "source": [
    "# test: see if we can get 100,000 tweets containing the 'r-dskins' slur/team name \n",
    "\n",
    "rdskins_tweet_objects = get_tweet_object('redskins', datetime.datetime(2007,1,24), datetime.datetime(2020,1,24), 100000, include_retweets=False)\n",
    "    "
   ]
  },
  {
   "cell_type": "code",
   "execution_count": 26,
   "metadata": {},
   "outputs": [],
   "source": [
    "rdskins_raw_df = tweet_obj_to_df(rdskins_tweet_objects)"
   ]
  },
  {
   "cell_type": "code",
   "execution_count": 27,
   "metadata": {},
   "outputs": [
    {
     "name": "stdout",
     "output_type": "stream",
     "text": [
      "100000 \n",
      "\n",
      "                                                 text           author\n",
      "0   @CandlestickWill @Redskins Thanks - have you s...    PaulNicholsDC\n",
      "1   @Redskins @MDLottery @AP_Images @JoeGibbsRacin...      GaryBasnett\n",
      "2   Redskins offensive lineman Brandon Scherff is ...     EmpireGotham\n",
      "3   @swayrun21 And he’d be ANOTHER #Buckeye on the...       GuyBuckeye\n",
      "4                 @UncleWellons @Redskins Can’t do it      _TommyMcCoy\n",
      "5   'Redskins add two more to coaching staff in Br...       rmarine_75\n",
      "6   'For the Redskins, the No. 2 pick is a win, ei...       rmarine_75\n",
      "7   'Redskins should pay attention to pass catcher...       rmarine_75\n",
      "8   @_rich_moore @JayKogen @AlJean @MikeReissWrite...    dailysimpsons\n",
      "9   @BangRadioHour @Redskins True but not guarante...       wsk28rules\n",
      "10  @Redskins @MDLottery @AP_Images @JoeGibbsRacin...  FredHarshberger\n",
      "11  Throwing it back to the legendary Coach Joe Gi...         Redskins\n",
      "12   @redskinsfyi @Trezaye @TreyyMB @Redskins They’re     bigbrussells\n",
      "13  126- Gavin Hall over James Sperry by Tech Fall...   wapakwrestling\n",
      "14  @TroyDreyfus @billyweaver14 What I would do fo...         ecu_brad\n",
      "15  I just hope I see the @Redskins win a Super bo...       sambarburr\n",
      "16  @PaulNicholsDC @Redskins Love it! Might need y...  CandlestickWill\n",
      "17  @redskinsfyi @Trezaye @TreyyMB @Redskins It wa...     bigbrussells\n",
      "18  Wait a minute... this is the one guy Redskins ...   billhorgan2005\n",
      "19  I never understood cowboys and redskins fans m...      PeezyJWeezy\n",
      "20  Join @CraigHoffman &amp; me right now on \"Over...  Russellmania621\n",
      "21  Dan Snyder, owner of the failed @Redskins, cha...      crspecketer\n",
      "22  Two More Additions to Rivera &amp; Redskins St...        Ebedell20\n",
      "23    @PaulNicholsDC @Redskins I absolutely love it!!          TucJr82\n",
      "24  @MusclesLashes @Skillocity @JPFinlayNBCS @Reds...        jlbanks44\n"
     ]
    }
   ],
   "source": [
    "print(len(rdskins_raw_df), '\\n')\n",
    "\n",
    "print(rdskins_raw_df.head(25))"
   ]
  },
  {
   "cell_type": "code",
   "execution_count": 29,
   "metadata": {},
   "outputs": [],
   "source": [
    "# save as csv\n",
    "\n",
    "rdskins_raw_df.to_csv('rdskins_raw_df_Jan_24_2020.csv')"
   ]
  },
  {
   "cell_type": "code",
   "execution_count": 46,
   "metadata": {},
   "outputs": [
    {
     "name": "stderr",
     "output_type": "stream",
     "text": [
      "Grabbing bearer token from OAUTH\n"
     ]
    }
   ],
   "source": [
    "rdskin_tweet_objects = get_tweet_object('redskin', datetime.datetime(2007,1,24), datetime.datetime(2020,1,25), 100000, include_retweets=False)"
   ]
  },
  {
   "cell_type": "code",
   "execution_count": 47,
   "metadata": {},
   "outputs": [],
   "source": [
    "# create raw df\n",
    "\n",
    "rdskn_raw_df = tweet_obj_to_df(rdskin_tweet_objects)"
   ]
  },
  {
   "cell_type": "code",
   "execution_count": 48,
   "metadata": {},
   "outputs": [
    {
     "name": "stdout",
     "output_type": "stream",
     "text": [
      "100000 \n",
      "\n",
      "                                                text           author\n",
      "0  Taught some French for my Redskin Rumble activ...    mlwilliams614\n",
      "1  @Inevitable_ET 49% SanFran cause I like Kyle (...       CRhinehold\n",
      "2  @Arj_Romeo Tua, very unlikely that someone ahe...    JamesMurphy34\n",
      "3  @Tiller56 In my experience you are the most le...  NorthernAZDevil\n",
      "4  @bentleyhaskins I want to see him stay at this...    rant_redskins\n"
     ]
    }
   ],
   "source": [
    "print(len(rdskn_raw_df), '\\n')\n",
    "\n",
    "print(rdskn_raw_df.head())"
   ]
  },
  {
   "cell_type": "code",
   "execution_count": 49,
   "metadata": {},
   "outputs": [],
   "source": [
    "rdskn_raw_df.to_csv('rdskin_raw_df_Jan_25_2020.csv')"
   ]
  },
  {
   "cell_type": "markdown",
   "metadata": {},
   "source": [
    "## specific searches\n",
    "\n",
    "I pulled a total 200,000 tweets containing the r-dskin slur; however this was just a drop in the bucket compared to the total number in existence. \n",
    "\n",
    "After checking to see whether certain terms appeared in the dataset, I decided to use the keyword search functionality in Twitter's API to look for specific words directly. \n",
    "\n",
    "My reasoning was that offensive words & phrases could be reasonably expected to appear with a racial slur; if the phrases appeared in the 'r-dskins' dataset, it would make sense to check them in others to compare how the words are used."
   ]
  },
  {
   "cell_type": "code",
   "execution_count": 122,
   "metadata": {},
   "outputs": [
    {
     "name": "stderr",
     "output_type": "stream",
     "text": [
      "Grabbing bearer token from OAUTH\n"
     ]
    }
   ],
   "source": [
    "# (\"Twitter\" and \"search\")\n",
    "# tweet_objects = get_tweet_object('redskin', datetime.datetime(2007,1,24), datetime.datetime(2020,1,25), 100000, include_retweets=False)\n",
    "\n",
    "dr_tweet_objects = get_tweet_object('(\"redskins\" and \"dirty\")', datetime.datetime(2007,1,1), datetime.datetime(2020,1,25), 25000, include_retweets=False)"
   ]
  },
  {
   "cell_type": "code",
   "execution_count": 123,
   "metadata": {},
   "outputs": [
    {
     "name": "stdout",
     "output_type": "stream",
     "text": [
      "2060 \n",
      "\n",
      "                                                text          author\n",
      "0  @ProFootballTalk @hwkbgr Philly fans complain ...      jyoaee2125\n",
      "1  So over the last 72 hours:\\n\\n- the Birds get ...    Philly_Canes\n",
      "2  @EvanMcMullin ✔    I'm a Redskins fan and born...  redskinsravens\n",
      "3  Giants, Cowboys and Redskins fans when the res...   JimmyRandazzo\n",
      "4  @ParkerHamlett @Redskins Saints and ravens her...       DougieD35\n"
     ]
    }
   ],
   "source": [
    "# get df\n",
    "\n",
    "dr_raw_df = tweet_obj_to_df(dr_tweet_objects)\n",
    "\n",
    "print(len(dr_raw_df), '\\n')\n",
    "\n",
    "print(dr_raw_df.head())\n"
   ]
  },
  {
   "cell_type": "code",
   "execution_count": 124,
   "metadata": {},
   "outputs": [],
   "source": [
    "dr_raw_df.to_csv('dr_raw_df_Jan_25_2020.csv')"
   ]
  },
  {
   "cell_type": "code",
   "execution_count": 125,
   "metadata": {},
   "outputs": [
    {
     "name": "stderr",
     "output_type": "stream",
     "text": [
      "Grabbing bearer token from OAUTH\n"
     ]
    }
   ],
   "source": [
    "sr_tweet_objects = get_tweet_object('(\"redskins\" and \"stupid\")', datetime.datetime(2007,1,1), datetime.datetime(2020,1,25), 25000, include_retweets=False)"
   ]
  },
  {
   "cell_type": "code",
   "execution_count": 126,
   "metadata": {},
   "outputs": [
    {
     "name": "stdout",
     "output_type": "stream",
     "text": [
      "7782 \n",
      "\n",
      "                                                text        author\n",
      "0  @FedExField @Redskins @RSprachrohr Yall are so...  ForQuickNews\n",
      "1  Only way I trade down if I’m the Redskins is i...   PeachOmania\n",
      "2  @funnydanny Maryland is now Ravens country...c...       MiceM11\n",
      "3  @RickMaese @ErinatThePost @OvettaWashPost Why ...      DeezNats\n",
      "4  @Redskins @flightmarshalls We all should be a ...       jaydw83\n"
     ]
    }
   ],
   "source": [
    "# df: 'stupid' & 'r*dskin'\n",
    "\n",
    "sr_raw_df = tweet_obj_to_df(sr_tweet_objects)\n",
    "\n",
    "print(len(sr_raw_df), '\\n')\n",
    "\n",
    "print(sr_raw_df.head())"
   ]
  },
  {
   "cell_type": "code",
   "execution_count": 127,
   "metadata": {},
   "outputs": [],
   "source": [
    "sr_raw_df.to_csv('sr_raw_df_Jan_25_2020.csv')"
   ]
  },
  {
   "cell_type": "code",
   "execution_count": 128,
   "metadata": {},
   "outputs": [
    {
     "name": "stderr",
     "output_type": "stream",
     "text": [
      "Grabbing bearer token from OAUTH\n"
     ]
    }
   ],
   "source": [
    "ur_tweet_objects = get_tweet_object('(\"redskins\" and \"ugly\")', datetime.datetime(2007,1,1), datetime.datetime(2020,1,25), 25000, include_retweets=False)"
   ]
  },
  {
   "cell_type": "code",
   "execution_count": 129,
   "metadata": {},
   "outputs": [
    {
     "name": "stdout",
     "output_type": "stream",
     "text": [
      "4011 \n",
      "\n",
      "                                                text        author\n",
      "0  The 2017 Vikings had a top ten offense with a ...  joe_thom1998\n",
      "1  @davidgraeber not compete with sports teams fr...  PotemkinLion\n",
      "2  @Jets_NEFL20 @Saints_NEFL20 @Redskins_NEFL20 Y...  Bears_NEFL20\n",
      "3  @JPFinlayNBCS Twitter can be an ugly place. Lo...  John_Tyreman\n",
      "4  @Jawn_BonJovi @Redskins Jawn, they are Racials...   MikeWiseguy\n"
     ]
    }
   ],
   "source": [
    "ur_raw_df = tweet_obj_to_df(ur_tweet_objects)\n",
    "\n",
    "print(len(ur_raw_df), '\\n')\n",
    "\n",
    "print(ur_raw_df.head())"
   ]
  },
  {
   "cell_type": "code",
   "execution_count": 130,
   "metadata": {},
   "outputs": [],
   "source": [
    "ur_raw_df.to_csv('ur_raw_df_Jan_25_2020.csv')"
   ]
  },
  {
   "cell_type": "code",
   "execution_count": 131,
   "metadata": {},
   "outputs": [
    {
     "name": "stderr",
     "output_type": "stream",
     "text": [
      "Grabbing bearer token from OAUTH\n"
     ]
    }
   ],
   "source": [
    "fr_tweet_objects = get_tweet_object('(\"redskins\" and \"filthy\")', datetime.datetime(2007,1,1), datetime.datetime(2020,1,25), 25000, include_retweets=False)"
   ]
  },
  {
   "cell_type": "code",
   "execution_count": 132,
   "metadata": {},
   "outputs": [
    {
     "name": "stdout",
     "output_type": "stream",
     "text": [
      "148 \n",
      "\n",
      "                                                text          author\n",
      "0  @ProFootballTalk Um my guess because of the ex...   HmichaelSmith\n",
      "1  The sad part of this, @Giants only 1 in the la...       tomlapp66\n",
      "2  @StoopKid1818 @OndreLeonard30 @Zirksee and the...    Nick48094751\n",
      "3  @Bowblax He also said that the natives deserve...   Greg69Heffley\n",
      "4  49’ers/Redskins is some nasty, filthy, throwba...  jamestingstrom\n"
     ]
    }
   ],
   "source": [
    "# get dataframe\n",
    "\n",
    "fr_raw_df = tweet_obj_to_df(fr_tweet_objects)\n",
    "\n",
    "print(len(fr_raw_df), '\\n')\n",
    "\n",
    "print(fr_raw_df.head())"
   ]
  },
  {
   "cell_type": "code",
   "execution_count": 133,
   "metadata": {},
   "outputs": [],
   "source": [
    "fr_raw_df.to_csv('fr_raw_df_Jan_25_2020.csv')"
   ]
  },
  {
   "cell_type": "code",
   "execution_count": 134,
   "metadata": {},
   "outputs": [
    {
     "name": "stderr",
     "output_type": "stream",
     "text": [
      "Grabbing bearer token from OAUTH\n"
     ]
    }
   ],
   "source": [
    "ri_tweet_objects = get_tweet_object('(\"redskins\" and \"indian\")', datetime.datetime(2007,1,1), datetime.datetime(2020,1,25), 25000, include_retweets=False)"
   ]
  },
  {
   "cell_type": "code",
   "execution_count": 135,
   "metadata": {},
   "outputs": [
    {
     "name": "stdout",
     "output_type": "stream",
     "text": [
      "148 \n",
      "\n",
      "                                                text          author\n",
      "0  @ProFootballTalk Um my guess because of the ex...   HmichaelSmith\n",
      "1  The sad part of this, @Giants only 1 in the la...       tomlapp66\n",
      "2  @StoopKid1818 @OndreLeonard30 @Zirksee and the...    Nick48094751\n",
      "3  @Bowblax He also said that the natives deserve...   Greg69Heffley\n",
      "4  49’ers/Redskins is some nasty, filthy, throwba...  jamestingstrom\n"
     ]
    }
   ],
   "source": [
    "# get dataframe: r*dskins & Indian\n",
    "\n",
    "ri_raw_df = tweet_obj_to_df(fr_tweet_objects)\n",
    "\n",
    "print(len(ri_raw_df), '\\n')\n",
    "\n",
    "print(ri_raw_df.head())"
   ]
  },
  {
   "cell_type": "code",
   "execution_count": 136,
   "metadata": {},
   "outputs": [],
   "source": [
    "ri_raw_df.to_csv('ri_raw_df_Jan_25_2020.csv')"
   ]
  },
  {
   "cell_type": "code",
   "execution_count": 139,
   "metadata": {},
   "outputs": [
    {
     "name": "stderr",
     "output_type": "stream",
     "text": [
      "Grabbing bearer token from OAUTH\n"
     ]
    }
   ],
   "source": [
    "rb_tweet_objects = get_tweet_object('(\"redskins\" and \"blood\")', datetime.datetime(2007,1,1), datetime.datetime(2020,1,25), 25000, include_retweets=False)"
   ]
  },
  {
   "cell_type": "code",
   "execution_count": 140,
   "metadata": {},
   "outputs": [
    {
     "name": "stdout",
     "output_type": "stream",
     "text": [
      "1949 \n",
      "\n",
      "                                                text        author\n",
      "0  Law enforcement\\nFrom a    Suitland and Redski...   JoeMcgill67\n",
      "1  @DLoesch As someone with Cherokee blood! I am ...   gillburgkid\n",
      "2  @BurgundyBlog Redskins need to get rid of all ...      cobane03\n",
      "3  @Saints_NEFL20 @Jets_NEFL20 @Redskins_NEFL20 I...  Bears_NEFL20\n",
      "4  A new season and a new look with some updated ...  DeuceDouglas\n"
     ]
    }
   ],
   "source": [
    "rb_raw_df = tweet_obj_to_df(rb_tweet_objects)\n",
    "\n",
    "print(len(rb_raw_df), '\\n')\n",
    "\n",
    "print(rb_raw_df.head())"
   ]
  },
  {
   "cell_type": "code",
   "execution_count": 141,
   "metadata": {},
   "outputs": [],
   "source": [
    "rb_raw_df.to_csv('rb_raw_df_Jan_25_2020.csv)')"
   ]
  },
  {
   "cell_type": "code",
   "execution_count": 143,
   "metadata": {},
   "outputs": [
    {
     "name": "stderr",
     "output_type": "stream",
     "text": [
      "Grabbing bearer token from OAUTH\n"
     ]
    }
   ],
   "source": [
    "rsc_tweet_objects = get_tweet_object('(\"redskins\" and \"scalp\")', datetime.datetime(2007,1,1), datetime.datetime(2020,1,25), 25000, include_retweets=False)"
   ]
  },
  {
   "cell_type": "code",
   "execution_count": 144,
   "metadata": {},
   "outputs": [
    {
     "name": "stdout",
     "output_type": "stream",
     "text": [
      "370 \n",
      "\n",
      "                                                text           author\n",
      "0  @SNFonNBC @ProFootballTalk @CSimmsQB None of t...       RyanClear2\n",
      "1  @Bobbin76818496 The last time a person used th...  FrancesMFDanger\n",
      "2  @fuckcancer56 And why was he placed on injured...         bells110\n",
      "3  REDSKINS NEED TO FIX THEIR ACT. Trent Williams...     keefer_aydon\n",
      "4  @RMNarrative @EdgeofSports I don't think he'd ...    PettyWakandan\n"
     ]
    }
   ],
   "source": [
    "rsc_raw_df = tweet_obj_to_df(rsc_tweet_objects)\n",
    "\n",
    "print(len(rsc_raw_df), '\\n')\n",
    "\n",
    "print(rsc_raw_df.head())"
   ]
  },
  {
   "cell_type": "code",
   "execution_count": 145,
   "metadata": {},
   "outputs": [],
   "source": [
    "rsc_raw_df.to_csv('rsc_raw_df_Jan_25_2020.csv')"
   ]
  },
  {
   "cell_type": "code",
   "execution_count": 187,
   "metadata": {},
   "outputs": [
    {
     "name": "stderr",
     "output_type": "stream",
     "text": [
      "Grabbing bearer token from OAUTH\n"
     ]
    }
   ],
   "source": [
    "rsv_tweet_objects = get_tweet_object('(\"redskins\" and \"savage\")', datetime.datetime(2007,1,1), datetime.datetime(2020,1,25), 25000, include_retweets=False)"
   ]
  },
  {
   "cell_type": "code",
   "execution_count": 188,
   "metadata": {},
   "outputs": [
    {
     "name": "stdout",
     "output_type": "stream",
     "text": [
      "539 \n",
      "\n",
      "                                                text         author\n",
      "0  Nick Bosa is the perfect example of why the Re...     HTTRChamps\n",
      "1  If the Bengals shock and go Chase Young 1st ov...    HSprings719\n",
      "2  @Savage_Package @94tilinfinite Are you a packe...     Rellihan51\n",
      "3  @Savage_Torrey3 @ktewfikS @StephenChesser0 @Li...       Zachosh3\n",
      "4  \"Good job. You're kinda good at football.\"\\n\\n...  art_stapleton\n"
     ]
    }
   ],
   "source": [
    "rsv_raw_df = tweet_obj_to_df(rsv_tweet_objects)\n",
    "\n",
    "print(len(rsv_raw_df), '\\n')\n",
    "\n",
    "print(rsv_raw_df.head())"
   ]
  },
  {
   "cell_type": "code",
   "execution_count": 189,
   "metadata": {},
   "outputs": [],
   "source": [
    "rsv_raw_df.to_csv('rsv_raw_df_Jan_26_2020.csv')"
   ]
  },
  {
   "cell_type": "code",
   "execution_count": 150,
   "metadata": {},
   "outputs": [
    {
     "name": "stderr",
     "output_type": "stream",
     "text": [
      "Grabbing bearer token from OAUTH\n"
     ]
    }
   ],
   "source": [
    "rdd_tweet_objects = get_tweet_object('(\"redskins\" and \"dead\")', datetime.datetime(2007,1,1), datetime.datetime(2020,1,25), 25000, include_retweets=False)"
   ]
  },
  {
   "cell_type": "code",
   "execution_count": 151,
   "metadata": {},
   "outputs": [
    {
     "name": "stdout",
     "output_type": "stream",
     "text": [
      "4171 \n",
      "\n",
      "                                                text        author\n",
      "0  @FedExField @Redskins @RSprachrohr Yall are so...  ForQuickNews\n",
      "1  Redskins climbing this list once we cut some d...   stewiecoats\n",
      "2  @Redskins @flightmarshalls We all should be a ...       jaydw83\n",
      "3  Redskins player Montae Nicholson dropped an un...    TishaLewis\n",
      "4  would love to have him opposite of mcclaurin. ...  bighomiehawk\n"
     ]
    }
   ],
   "source": [
    "rdd_raw_df = tweet_obj_to_df(rdd_tweet_objects)\n",
    "\n",
    "print(len(rdd_raw_df), '\\n')\n",
    "\n",
    "print(rdd_raw_df.head())"
   ]
  },
  {
   "cell_type": "code",
   "execution_count": 152,
   "metadata": {},
   "outputs": [],
   "source": [
    "rdd_raw_df.to_csv('rdd_raw_df_Jan_26_2020.csv')"
   ]
  },
  {
   "cell_type": "code",
   "execution_count": 153,
   "metadata": {},
   "outputs": [
    {
     "name": "stderr",
     "output_type": "stream",
     "text": [
      "Grabbing bearer token from OAUTH\n"
     ]
    }
   ],
   "source": [
    "rkl_tweet_objects = get_tweet_object('(\"redskins\" and \"killed\")', datetime.datetime(2007,1,1), datetime.datetime(2020,1,25), 25000, include_retweets=False)"
   ]
  },
  {
   "cell_type": "code",
   "execution_count": 154,
   "metadata": {},
   "outputs": [
    {
     "name": "stdout",
     "output_type": "stream",
     "text": [
      "2870 \n",
      "\n",
      "                                                text          author\n",
      "0  @MattKHOU @Redskins @NFL This @NFL player viol...  SusanChanaLask\n",
      "1  @JuiceCheck44 You’re a wizard kyle! Does that ...     RICKDOGG424\n",
      "2  Do you actually think that the indigenous peop...        cultyooa\n",
      "3  @CalsCruitin @VinceSchilling @49ers @Chiefs Ra...     Levi__Adams\n",
      "4  @HStMovemberfest @TerrapinHoops @umterps It’s ...         shrshot\n"
     ]
    }
   ],
   "source": [
    "rkl_raw_df = tweet_obj_to_df(rkl_tweet_objects)\n",
    "\n",
    "print(len(rkl_raw_df), '\\n')\n",
    "\n",
    "print(rkl_raw_df.head())"
   ]
  },
  {
   "cell_type": "code",
   "execution_count": 155,
   "metadata": {},
   "outputs": [],
   "source": [
    "rkl_raw_df.to_csv('rkl_raw_df_Jan_26_2020.csv')"
   ]
  },
  {
   "cell_type": "code",
   "execution_count": 156,
   "metadata": {},
   "outputs": [
    {
     "name": "stderr",
     "output_type": "stream",
     "text": [
      "Grabbing bearer token from OAUTH\n"
     ]
    }
   ],
   "source": [
    "rsx_tweet_objects = get_tweet_object('(\"redskins\" and \"sexy\")', datetime.datetime(2007,1,1), datetime.datetime(2020,1,25), 25000, include_retweets=False)"
   ]
  },
  {
   "cell_type": "code",
   "execution_count": 157,
   "metadata": {},
   "outputs": [
    {
     "name": "stdout",
     "output_type": "stream",
     "text": [
      "995 \n",
      "\n",
      "                                                text           author\n",
      "0  @BigManPauly @Redskins Expect the off season t...          sonnyg9\n",
      "1  Russini: Ron Rivera hire smart but not sexy by...    RyboSkinsHTTR\n",
      "2  @ANTallDay21 @JPFinlayNBCS chase young is the ...       fstaylor21\n",
      "3  @diannaESPN as a Redskins fan im not sure what...  LafayetteAzvedo\n",
      "4  Sexy hire? No. Smart? Infinitely. Columnist @J...       PostSports\n"
     ]
    }
   ],
   "source": [
    "rsx_raw_df = tweet_obj_to_df(rsx_tweet_objects)\n",
    "\n",
    "print(len(rsx_raw_df), '\\n')\n",
    "\n",
    "print(rsx_raw_df.head())"
   ]
  },
  {
   "cell_type": "code",
   "execution_count": 158,
   "metadata": {},
   "outputs": [],
   "source": [
    "rsx_raw_df.to_csv('rsx_raw_df_Jan_26_2020.csv')"
   ]
  },
  {
   "cell_type": "code",
   "execution_count": 159,
   "metadata": {},
   "outputs": [
    {
     "name": "stderr",
     "output_type": "stream",
     "text": [
      "Grabbing bearer token from OAUTH\n"
     ]
    }
   ],
   "source": [
    "rib_tweet_objects = get_tweet_object('(\"redskins\" and \"indian blood\")', datetime.datetime(2007,1,1), datetime.datetime(2020,1,25), 25000, include_retweets=False)"
   ]
  },
  {
   "cell_type": "code",
   "execution_count": 160,
   "metadata": {
    "scrolled": true
   },
   "outputs": [
    {
     "name": "stdout",
     "output_type": "stream",
     "text": [
      "20 \n",
      "\n",
      "                                                text           author\n",
      "0  And ... i have American Indian Blood and i Roo...       Naztitle01\n",
      "1  @nictuttle @gsidebo @DavidAFrench I have more ...  quesogrande1970\n",
      "2  AS AN ANDERSON ALUM AND SOMEONE THAT ACTUALLY ...       NahBabyNah\n",
      "3  @Andrew_B_Bader @hankschulman Why? I have have...          3426674\n",
      "4  REDSKINS IS NOT RACIST NAME FUCKING A MAN HOLY...   _____Squidward\n"
     ]
    }
   ],
   "source": [
    "rib_raw_df = tweet_obj_to_df(rib_tweet_objects)\n",
    "\n",
    "print(len(rib_raw_df), '\\n')\n",
    "\n",
    "print(rib_raw_df.head())"
   ]
  },
  {
   "cell_type": "code",
   "execution_count": 161,
   "metadata": {},
   "outputs": [],
   "source": [
    "rib_raw_df.to_csv('rib_raw_df_Jan_26_2020.csv')"
   ]
  },
  {
   "cell_type": "code",
   "execution_count": 162,
   "metadata": {},
   "outputs": [
    {
     "name": "stderr",
     "output_type": "stream",
     "text": [
      "Grabbing bearer token from OAUTH\n"
     ]
    }
   ],
   "source": [
    "rrsv_tweet_objects = get_tweet_object('(\"redskins\" and \"reservation\")', datetime.datetime(2007,1,1), datetime.datetime(2020,1,25), 25000, include_retweets=False)"
   ]
  },
  {
   "cell_type": "code",
   "execution_count": 163,
   "metadata": {},
   "outputs": [
    {
     "name": "stdout",
     "output_type": "stream",
     "text": [
      "458 \n",
      "\n",
      "                                                text          author\n",
      "0  Apartheid at Pechanga Reservation. Yes, Segreg...       opechanga\n",
      "1  @VinceSchilling @49ers @Chiefs @NFL @Redskins ...  RealbrianBlade\n",
      "2  @VinceSchilling @49ers @Chiefs @VinceSchilling...       KaraJenne\n",
      "3  @VinceSchilling @49ers @Chiefs @NFL You know a...        bigs1226\n",
      "4  @DesertHawk99 @bmcsusn1963 @VinceSchilling @49...         jam4821\n"
     ]
    }
   ],
   "source": [
    "rrsv_raw_df = tweet_obj_to_df(rrsv_tweet_objects)\n",
    "\n",
    "print(len(rrsv_raw_df), '\\n')\n",
    "\n",
    "print(rrsv_raw_df.head())"
   ]
  },
  {
   "cell_type": "code",
   "execution_count": 164,
   "metadata": {},
   "outputs": [],
   "source": [
    "rrsv_raw_df.to_csv('rrsv_raw_df_Jan_26_2020.csv')"
   ]
  },
  {
   "cell_type": "code",
   "execution_count": 165,
   "metadata": {},
   "outputs": [
    {
     "name": "stderr",
     "output_type": "stream",
     "text": [
      "Grabbing bearer token from OAUTH\n"
     ]
    }
   ],
   "source": [
    "rsmp_tweet_objects = get_tweet_object('(\"redskins\" and \"smallpox\")', datetime.datetime(2007,1,1), datetime.datetime(2020,1,25), 25000, include_retweets=False)"
   ]
  },
  {
   "cell_type": "code",
   "execution_count": 166,
   "metadata": {},
   "outputs": [
    {
     "name": "stdout",
     "output_type": "stream",
     "text": [
      "138 \n",
      "\n",
      "                                                text      author\n",
      "0  Whether it's the first to be the Patriots givi...  testing_a1\n",
      "1  Karma would mean the Aboriginal Ppl would own ...       DrN0_\n",
      "2  redskins will make baby yoda beaded jewelry an...  buffpharah\n",
      "3  #Blakes7 Season 2, Episode 07 - Killer\\nBLAKE:...  blakes7bot\n",
      "4  Season 2, Episode 07 - Killer\\nBLAKE:  Mm, pre...  blakes7bot\n"
     ]
    }
   ],
   "source": [
    "rsmp_raw_df = tweet_obj_to_df(rsmp_tweet_objects)\n",
    "\n",
    "print(len(rsmp_raw_df), '\\n')\n",
    "\n",
    "print(rsmp_raw_df.head())"
   ]
  },
  {
   "cell_type": "code",
   "execution_count": 167,
   "metadata": {},
   "outputs": [],
   "source": [
    "rsmp_raw_df.to_csv('rsmp_raw_df_Jan_26_2020.csv')"
   ]
  },
  {
   "cell_type": "code",
   "execution_count": 170,
   "metadata": {},
   "outputs": [
    {
     "name": "stderr",
     "output_type": "stream",
     "text": [
      "Grabbing bearer token from OAUTH\n"
     ]
    }
   ],
   "source": [
    "rdrk_tweet_objects = get_tweet_object('(\"redskins\" and \"drunk\")', datetime.datetime(2007,1,1), datetime.datetime(2020,1,25), 25000, include_retweets=False)"
   ]
  },
  {
   "cell_type": "code",
   "execution_count": 171,
   "metadata": {},
   "outputs": [
    {
     "name": "stdout",
     "output_type": "stream",
     "text": [
      "1797 \n",
      "\n",
      "                                                text           author\n",
      "0  @VinceSchilling @49ers @Chiefs What does Vince...  JaneJon54227850\n",
      "1  Very much worth reading.\\n\\nI got into a drunk...      irritated_1\n",
      "2  @WojoYah00NBA @TylerIAm The cardinals gm got a...        charkmeal\n",
      "3  @stephenasmith @Browns @dallascowboys @Giants ...          jcraw40\n",
      "4  @czabe I once wore a Randy Moss jersey to a Re...    JockSupporter\n"
     ]
    }
   ],
   "source": [
    "rdrk_raw_df = tweet_obj_to_df(rdrk_tweet_objects)\n",
    "\n",
    "print(len(rdrk_raw_df), '\\n')\n",
    "\n",
    "print(rdrk_raw_df.head())"
   ]
  },
  {
   "cell_type": "code",
   "execution_count": 172,
   "metadata": {},
   "outputs": [],
   "source": [
    "rdrk_raw_df.to_csv('rdrk_raw_df_Jan_26_2020.csv')"
   ]
  },
  {
   "cell_type": "code",
   "execution_count": 173,
   "metadata": {},
   "outputs": [
    {
     "name": "stderr",
     "output_type": "stream",
     "text": [
      "Grabbing bearer token from OAUTH\n"
     ]
    }
   ],
   "source": [
    "rinj_tweet_objects = get_tweet_object('(\"redskins\" and \"injun\")', datetime.datetime(2007,1,1), datetime.datetime(2020,1,25), 25000, include_retweets=False)"
   ]
  },
  {
   "cell_type": "code",
   "execution_count": 174,
   "metadata": {},
   "outputs": [
    {
     "name": "stdout",
     "output_type": "stream",
     "text": [
      "54 \n",
      "\n",
      "                                                text           author\n",
      "0  Generations later, my relatives are far more e...           AudryT\n",
      "1  Elizabeth Warren a Direct Descendant of Militi...  FormerRepublic9\n",
      "2  we redskins aren’t going to march into korea p...          Iucasmr\n",
      "3  @BreitbartNews And as an injun she should know...       kdodson106\n",
      "4  Goddammit, two of the top songs I want to do a...       NekoMcEvil\n"
     ]
    }
   ],
   "source": [
    "rinj_raw_df = tweet_obj_to_df(rinj_tweet_objects)\n",
    "\n",
    "print(len(rinj_raw_df), '\\n')\n",
    "\n",
    "print(rinj_raw_df.head())"
   ]
  },
  {
   "cell_type": "code",
   "execution_count": 175,
   "metadata": {},
   "outputs": [],
   "source": [
    "rinj_raw_df.to_csv('rinj_raw_df_Jan_26_2020.csv')"
   ]
  },
  {
   "cell_type": "code",
   "execution_count": 176,
   "metadata": {},
   "outputs": [
    {
     "name": "stderr",
     "output_type": "stream",
     "text": [
      "Grabbing bearer token from OAUTH\n"
     ]
    }
   ],
   "source": [
    "rextr_tweet_objects = get_tweet_object('(\"redskins\" and \"exterminate\")', datetime.datetime(2007,1,1), datetime.datetime(2020,1,25), 25000, include_retweets=False)"
   ]
  },
  {
   "cell_type": "code",
   "execution_count": 177,
   "metadata": {},
   "outputs": [
    {
     "name": "stdout",
     "output_type": "stream",
     "text": [
      "8 \n",
      "\n",
      "                                                text           author\n",
      "0  @thehill Hitler's plan was to create extra liv...            adze4\n",
      "1  @MattWalshBlog Let's not forget he also normal...        scsimodem\n",
      "2  @WASBAPPIN @AllCopsAreIncel @puristwhiner @chi...  thegrahamcanyon\n",
      "3  @clugstack @dearnonnatives @_nicholus3 @lilnat...        AliNahdee\n",
      "4  @ACLU @ACLUVA @RVAwonk @Redskins WHEN YOU HAVE...         blogdiva\n"
     ]
    }
   ],
   "source": [
    "rextr_raw_df = tweet_obj_to_df(rextr_tweet_objects)\n",
    "\n",
    "print(len(rextr_raw_df), '\\n')\n",
    "\n",
    "print(rextr_raw_df.head())"
   ]
  },
  {
   "cell_type": "code",
   "execution_count": 178,
   "metadata": {},
   "outputs": [],
   "source": [
    "rextr_raw_df.to_csv('rextr_raw_df_Jan_26_2020.csv')"
   ]
  },
  {
   "cell_type": "code",
   "execution_count": 179,
   "metadata": {},
   "outputs": [
    {
     "name": "stderr",
     "output_type": "stream",
     "text": [
      "Grabbing bearer token from OAUTH\n"
     ]
    }
   ],
   "source": [
    "rext_tweet_objects = get_tweet_object('(\"redskins\" and \"extinct\")', datetime.datetime(2007,1,1), datetime.datetime(2020,1,25), 25000, include_retweets=False)"
   ]
  },
  {
   "cell_type": "code",
   "execution_count": 180,
   "metadata": {},
   "outputs": [
    {
     "name": "stdout",
     "output_type": "stream",
     "text": [
      "28 \n",
      "\n",
      "                                                text          author\n",
      "0  This is in response to a local school district...  gretelkauffman\n",
      "1  @LakeRaMan Didn’t miss a single LA Rams game f...       JBroFronk\n",
      "2  @franchescag97 Basically. The native American ...  MakeupWhoreder\n",
      "3  @nfl this league gets worse and worse every ye...     kidkapper10\n",
      "4  They were murdered, raped, forced from their h...         EsAy313\n"
     ]
    }
   ],
   "source": [
    "rext_raw_df = tweet_obj_to_df(rext_tweet_objects)\n",
    "\n",
    "print(len(rext_raw_df), '\\n')\n",
    "\n",
    "print(rext_raw_df.head())"
   ]
  },
  {
   "cell_type": "code",
   "execution_count": 181,
   "metadata": {},
   "outputs": [],
   "source": [
    "rext_raw_df.to_csv('rext_raw_df_Jan_26_2020.csv')"
   ]
  },
  {
   "cell_type": "code",
   "execution_count": 182,
   "metadata": {},
   "outputs": [
    {
     "name": "stderr",
     "output_type": "stream",
     "text": [
      "Grabbing bearer token from OAUTH\n"
     ]
    }
   ],
   "source": [
    "rfw_tweet_objects = get_tweet_object('(\"redskins\" and \"firewater\")', datetime.datetime(2007,1,1), datetime.datetime(2020,1,25), 25000, include_retweets=False)"
   ]
  },
  {
   "cell_type": "code",
   "execution_count": 183,
   "metadata": {},
   "outputs": [
    {
     "name": "stdout",
     "output_type": "stream",
     "text": [
      "25 \n",
      "\n",
      "                                                text           author\n",
      "0  @ewarren Oh Lizzy..This is the GREATEST News E...    rebelfrom1944\n",
      "1  Man, if we Redskins only had those instead of ...  William42870346\n",
      "2  Strange smoke signals and scary loud music in ...      WWPFInsider\n",
      "3  @JoyAnnReid Just like the redskins and that fi...  patrickfcox_cox\n",
      "4  Third, #SonicDriveIn most disturbing 2 scalpin...  EmmyNawjoopinga\n"
     ]
    }
   ],
   "source": [
    "rfw_raw_df = tweet_obj_to_df(rfw_tweet_objects)\n",
    "\n",
    "print(len(rfw_raw_df), '\\n')\n",
    "\n",
    "print(rfw_raw_df.head())"
   ]
  },
  {
   "cell_type": "code",
   "execution_count": 184,
   "metadata": {},
   "outputs": [],
   "source": [
    "rfw_raw_df.to_csv('rfw_raw_df_Jan_26_2020.csv')"
   ]
  },
  {
   "cell_type": "code",
   "execution_count": 190,
   "metadata": {},
   "outputs": [
    {
     "name": "stderr",
     "output_type": "stream",
     "text": [
      "Grabbing bearer token from OAUTH\n"
     ]
    }
   ],
   "source": [
    "rig_tweet_objects = get_tweet_object('(\"redskins\" and \"ignorant\")', datetime.datetime(2007,1,1), datetime.datetime(2020,1,25), 25000, include_retweets=False)"
   ]
  },
  {
   "cell_type": "code",
   "execution_count": 191,
   "metadata": {},
   "outputs": [
    {
     "name": "stdout",
     "output_type": "stream",
     "text": [
      "967 \n",
      "\n",
      "                                                text           author\n",
      "0  @ztipton85 @espn @Chiefs @Redskins As a woman ...  AriannaChavarr1\n",
      "1  @Redsunhero @bmcsusn1963 And I am 50. I rememb...       RJ_Number8\n",
      "2  @rant_redskins @powhatannative @don1964a @Skru...     NudaleKawonu\n",
      "3  @Skrub_3 @PrincessKnightD @BradGGallant @Burgu...   TheBandGreport\n",
      "4  @CrunkATL @Redskins As ignorant as they are, t...           FTCUTD\n"
     ]
    }
   ],
   "source": [
    "rig_raw_df = tweet_obj_to_df(rig_tweet_objects)\n",
    "\n",
    "print(len(rig_raw_df), '\\n')\n",
    "\n",
    "print(rig_raw_df.head())"
   ]
  },
  {
   "cell_type": "code",
   "execution_count": 192,
   "metadata": {},
   "outputs": [],
   "source": [
    "rig_raw_df.to_csv('rig_raw_df_Jan_26_2020.csv')"
   ]
  },
  {
   "cell_type": "code",
   "execution_count": 193,
   "metadata": {},
   "outputs": [
    {
     "name": "stderr",
     "output_type": "stream",
     "text": [
      "Grabbing bearer token from OAUTH\n"
     ]
    }
   ],
   "source": [
    "rlz_tweet_objects = get_tweet_object('(\"redskins\" and \"lazy\")', datetime.datetime(2007,1,1), datetime.datetime(2020,1,25), 25000, include_retweets=False)"
   ]
  },
  {
   "cell_type": "code",
   "execution_count": 194,
   "metadata": {},
   "outputs": [
    {
     "name": "stdout",
     "output_type": "stream",
     "text": [
      "715 \n",
      "\n",
      "                                                text         author\n",
      "0  @Kareem_captain1 @Habib1852 I can't. I'm not i...      john_keim\n",
      "1  @Bwats21 @bentleyhaskins Exactly.  People like...    BrandonW573\n",
      "2  @Bungie Bungie needs to get off there a**es an...  stephenshook1\n",
      "3  @SBNation .... Redskins beat the Panthers on t...    EmbersToAsh\n",
      "4  @pantherpundit @officialsdrd @Redskins Stop it...       N_Z_A_15\n"
     ]
    }
   ],
   "source": [
    "rlz_raw_df = tweet_obj_to_df(rlz_tweet_objects)\n",
    "\n",
    "print(len(rlz_raw_df), '\\n')\n",
    "\n",
    "print(rlz_raw_df.head())"
   ]
  },
  {
   "cell_type": "code",
   "execution_count": 196,
   "metadata": {},
   "outputs": [],
   "source": [
    "rlz_raw_df.to_csv('rlz_raw_df_Jan_26_2020.csv')"
   ]
  },
  {
   "cell_type": "code",
   "execution_count": 4,
   "metadata": {},
   "outputs": [
    {
     "name": "stderr",
     "output_type": "stream",
     "text": [
      "Grabbing bearer token from OAUTH\n"
     ]
    }
   ],
   "source": [
    "rsa_tweet_objects = get_tweet_object('(\"redskins\" and \"raped\")', datetime.datetime(2007,1,1), datetime.datetime(2020,1,25), 25000, include_retweets=False)"
   ]
  },
  {
   "cell_type": "code",
   "execution_count": 5,
   "metadata": {},
   "outputs": [
    {
     "name": "stdout",
     "output_type": "stream",
     "text": [
      "363 \n",
      "\n",
      "                                                text        author\n",
      "0  @HeatleyJared Yea I get that, for me, my entir...  RedskinsRant\n",
      "1  @KevinWhoItBe And I hope the redskins get rape...     nail_sahn\n",
      "2  @Liz_Cheney Why do #NativeAmericans have to to...    kaimatters\n",
      "3  I can’t wait to watch the Eagles get ass raped...      DanoSoko\n",
      "4  @aprildeming With respect, I think this is a S...      Omcgill1\n"
     ]
    }
   ],
   "source": [
    "rsa_raw_df = tweet_obj_to_df(rsa_tweet_objects)\n",
    "\n",
    "print(len(rsa_raw_df), '\\n')\n",
    "\n",
    "print(rsa_raw_df.head())"
   ]
  },
  {
   "cell_type": "code",
   "execution_count": 6,
   "metadata": {},
   "outputs": [],
   "source": [
    "rsa_raw_df.to_csv('rsa_raw_df_Jan27_2020.csv')"
   ]
  },
  {
   "cell_type": "code",
   "execution_count": 7,
   "metadata": {},
   "outputs": [
    {
     "name": "stderr",
     "output_type": "stream",
     "text": [
      "Grabbing bearer token from OAUTH\n"
     ]
    }
   ],
   "source": [
    "rdb_tweet_objects = get_tweet_object('(\"redskins\" and \"dumb\")', datetime.datetime(2007,1,1), datetime.datetime(2020,1,25), 25000, include_retweets=False)"
   ]
  },
  {
   "cell_type": "code",
   "execution_count": 8,
   "metadata": {},
   "outputs": [
    {
     "name": "stdout",
     "output_type": "stream",
     "text": [
      "5718 \n",
      "\n",
      "                                                text          author\n",
      "0  @TheDMVDailyy @Redskins This dumb as hell. Y’a...  DaBeardologist\n",
      "1  @JackMBDTF @DakZekeCooper @BleacherReport @brg...   slevin_heaven\n",
      "2  @MattFontana83 No and I wish the organization ...     jkingery727\n",
      "3  What I don't understand is that there is a but...  kevinsheehanjc\n",
      "4  @Nate_Neal27 @TarantinoMike94 @GoPack1233 @Kee...   DillyDillyy87\n"
     ]
    }
   ],
   "source": [
    "rdb_raw_df = tweet_obj_to_df(rdb_tweet_objects)\n",
    "\n",
    "print(len(rdb_raw_df), '\\n')\n",
    "\n",
    "print(rdb_raw_df.head())"
   ]
  },
  {
   "cell_type": "code",
   "execution_count": 9,
   "metadata": {},
   "outputs": [],
   "source": [
    "rdb_raw_df.to_csv('rdb_raw_df_Jan_27_2020.csv')"
   ]
  },
  {
   "cell_type": "code",
   "execution_count": 10,
   "metadata": {},
   "outputs": [
    {
     "name": "stderr",
     "output_type": "stream",
     "text": [
      "Grabbing bearer token from OAUTH\n"
     ]
    }
   ],
   "source": [
    "rbw_tweet_objects = get_tweet_object('(\"redskins\" and \"backwards\")', datetime.datetime(2007,1,1), datetime.datetime(2020,1,25), 25000, include_retweets=False)"
   ]
  },
  {
   "cell_type": "code",
   "execution_count": 11,
   "metadata": {},
   "outputs": [
    {
     "name": "stdout",
     "output_type": "stream",
     "text": [
      "674 \n",
      "\n",
      "                                                text         author\n",
      "0  @BarstoolReags Redskins +4.5 vs Eagles this ye...      GTRandy27\n",
      "1  Why does anyone want to see Amari Cooper in a ...         ke0477\n",
      "2  @stephenasmith @Browns @dallascowboys @Giants ...         xROC7x\n",
      "3  @stephenasmith @Browns @dallascowboys @Giants ...  FrankRomeo213\n",
      "4  @stephenasmith @Browns @dallascowboys @Giants ...        dupri28\n"
     ]
    }
   ],
   "source": [
    "rbw_raw_df = tweet_obj_to_df(rbw_tweet_objects)\n",
    "\n",
    "print(len(rbw_raw_df), '\\n')\n",
    "\n",
    "print(rbw_raw_df.head())"
   ]
  },
  {
   "cell_type": "code",
   "execution_count": 12,
   "metadata": {},
   "outputs": [],
   "source": [
    "rbw_raw_df.to_csv('rbw_raw_df_Jan_27_2020')"
   ]
  },
  {
   "cell_type": "code",
   "execution_count": 13,
   "metadata": {},
   "outputs": [
    {
     "name": "stderr",
     "output_type": "stream",
     "text": [
      "Grabbing bearer token from OAUTH\n"
     ]
    }
   ],
   "source": [
    "rnbr_tweet_objects = get_tweet_object('(\"redskins\" and \"inbred\")', datetime.datetime(2007,1,1), datetime.datetime(2020,1,25), 25000, include_retweets=False)"
   ]
  },
  {
   "cell_type": "code",
   "execution_count": 14,
   "metadata": {},
   "outputs": [
    {
     "name": "stdout",
     "output_type": "stream",
     "text": [
      "16 \n",
      "\n",
      "                                                text           author\n",
      "0  @skinz25 @bpman11 @CelticsIn2 @Eagles Based on...  JerryJonesGhost\n",
      "1  I’m pretty sure we are all dead, and being a #...  RedskinsAddicts\n",
      "2  @ChipReiderson Apparently one of these inbred ...     DaveHarris73\n",
      "3  Name Change \"Washington RedSKINS? How about a ...  JamesMichaelCr6\n",
      "4  @espn980 @Redskins @thecooleyzone @kevins980 A...        Zaktronic\n"
     ]
    }
   ],
   "source": [
    "rnbr_raw_df = tweet_obj_to_df(rnbr_tweet_objects)\n",
    "\n",
    "print(len(rnbr_raw_df), '\\n')\n",
    "\n",
    "print(rnbr_raw_df.head())"
   ]
  },
  {
   "cell_type": "code",
   "execution_count": 15,
   "metadata": {},
   "outputs": [],
   "source": [
    "rnbr_raw_df.to_csv('rnbr_raw_df_Jan_27_2020.csv')"
   ]
  },
  {
   "cell_type": "code",
   "execution_count": 16,
   "metadata": {},
   "outputs": [
    {
     "name": "stderr",
     "output_type": "stream",
     "text": [
      "Grabbing bearer token from OAUTH\n"
     ]
    }
   ],
   "source": [
    "rd_tweet_objects = get_tweet_object('(\"redskins\" and \"died\")', datetime.datetime(2007,1,1), datetime.datetime(2020,1,25), 25000, include_retweets=False)"
   ]
  },
  {
   "cell_type": "code",
   "execution_count": 20,
   "metadata": {},
   "outputs": [
    {
     "name": "stdout",
     "output_type": "stream",
     "text": [
      "1167 \n",
      "\n",
      "                                                 text           author\n",
      "0   Woman, 21, dropped off at ER by Redskins playe...    Man76Infantry\n",
      "1   Woman, 21, dropped off at ER by Redskins playe...          Jaize18\n",
      "2   Woman, 21, dropped off at ER by Redskins playe...      RitchieJodi\n",
      "3   Woman, 21, dropped off at ER by Redskins playe...    T_dot_Lee_PhD\n",
      "4   Woman, 21, dropped off at ER by Redskins playe...      shiawase428\n",
      "5   Woman, 21, dropped off at ER by Redskins playe...         GaBrat66\n",
      "6   Woman, 21, dropped off at ER by #Redskins play...     GlobalNewsTH\n",
      "7   Autopsy result reveals Julia Crabbe died from ...    KolbieReports\n",
      "8   This is terrible and sad. Why are such accompl...       Autopsy_MD\n",
      "9   The 21-year-old woman who was brought unconsci...     nexxlvlconvo\n",
      "10  Julia Crabbe, 21 yr. old friend of Montae Nich...     mikejbabcock\n",
      "11  No sense in debating this any more. The issue ...   RedskinsReview\n",
      "12  @WRC_Candess @1stLadiesOfFB @KissProducts @Red...     andythebutts\n",
      "13  @Da_RealMJaeger @SavedByAlisson @EvanWx626 @Re...   andrewdowding1\n",
      "14  \"Happy Thanksgiving\"\\nThis was FedEx Field rec...  Christi78319246\n",
      "15  Sad to hear Sam Wyche has died at age 74.  Coa...       AuntRobin7\n",
      "16  I listened to the @MurderishPod about former @...          p1gsfly\n",
      "17  @BrandonPerna Jay gruden with perfect for Clev...     shakemoney78\n",
      "18  @ChadLyn06820227 That narrative died a while a...    theTylerByrum\n",
      "19  @NFLUK @steelers @Browns @Bengals @MiamiDolphi...    x_Rachelle_x_\n"
     ]
    }
   ],
   "source": [
    "rd_raw_df = tweet_obj_to_df(rd_tweet_objects)\n",
    "\n",
    "print(len(rd_raw_df), '\\n')\n",
    "\n",
    "print(rd_raw_df.head(20))"
   ]
  },
  {
   "cell_type": "code",
   "execution_count": 27,
   "metadata": {},
   "outputs": [],
   "source": [
    "rd_raw_df.to_csv('rd_raw_df_Jan_27_2020.csv')"
   ]
  },
  {
   "cell_type": "code",
   "execution_count": 19,
   "metadata": {},
   "outputs": [
    {
     "name": "stderr",
     "output_type": "stream",
     "text": [
      "Grabbing bearer token from OAUTH\n"
     ]
    }
   ],
   "source": [
    "rde_tweet_objects = get_tweet_object('(\"redskins\" and \"die\")', datetime.datetime(2007,1,1), datetime.datetime(2020,1,25), 25000, include_retweets=False)"
   ]
  },
  {
   "cell_type": "code",
   "execution_count": 28,
   "metadata": {},
   "outputs": [
    {
     "name": "stdout",
     "output_type": "stream",
     "text": [
      "5699 \n",
      "\n",
      "                                                 text           author\n",
      "0   As a die hard @Redskins fan I hated playing ag...    Someoneplace8\n",
      "1   Wishing the happiest of birthdays to my favori...      hammNchees3\n",
      "2   @steelercam I have a friend who’s a 💯% Redskin...       mztweeylu2\n",
      "3   Kyle Shanahan is now headed to his 2nd Super B...      RawlingsA82\n",
      "4   Growing up in Va Beach, I was a diehard Chiefs...        crazypnut\n",
      "5   @gold_jag5 @TonyKhan @YannickNgakoue You’re a ...    WhyAmIhere_27\n",
      "6   @jenniferpierson I'd die before I ever rooted ...         Skykam1_\n",
      "7   I'm a Ride or Die Redskins Fan sir but I give ...       Blondheim3\n",
      "8   This is the only pic I have of him. He was a d...       JLBfromDVM\n",
      "9   A Racist problem. Unfortunately Almost all of ...        LarTheTar\n",
      "10  Hey @cowboys fans imma die hard @Redskins fan,...       bisonskins\n",
      "11  I am die hard redskins fan but damnn I know my...  Santana_Diabloo\n",
      "12  I will die on this hill - but @RiverboatRonHC ...   travis_holland\n",
      "13  @ErnieBillings1 @sterlinghaggins @redskinsfyi ...       mixedswag6\n",
      "14  Are u a Redskins fan? Lot of 4 Washington Reds...      Kali_Marcum\n",
      "15  I'm a die hard Redskins fan and I just wept li...    KelleyAnneMac\n",
      "16  @CoreyHPSkeeeWee @big5hole25 @stephenasmith @B...     whereshazard\n",
      "17  @whereshazard @big5hole25 @stephenasmith @Brow...  CoreyHPSkeeeWee\n",
      "18  @AmyTrask @NFL @Broncos @NickiJhabvala @TheAth...       bisonskins\n",
      "19  @Elephant_0073 @discoque5 It’s really not kind...        skinner84\n"
     ]
    }
   ],
   "source": [
    "rde_raw_df = tweet_obj_to_df(rde_tweet_objects)\n",
    "\n",
    "print(len(rde_raw_df), '\\n')\n",
    "\n",
    "print(rde_raw_df.head(20))"
   ]
  },
  {
   "cell_type": "code",
   "execution_count": 29,
   "metadata": {},
   "outputs": [],
   "source": [
    "rde_raw_df.to_csv('rde_raw_df_Jan_27_2020.csv')"
   ]
  },
  {
   "cell_type": "code",
   "execution_count": 209,
   "metadata": {},
   "outputs": [],
   "source": [
    "# combine all queries to create master dataframe\n",
    "\n",
    "DFs = [dr_raw_df, sr_raw_df, ur_raw_df,\n",
    "       fr_raw_df, ri_raw_df, rb_raw_df,\n",
    "       rsc_raw_df, rsv_raw_df, rdd_raw_df,\n",
    "       rkl_raw_df, rsx_raw_df, rib_raw_df,\n",
    "       rrsv_raw_df, rsmp_raw_df, rdrk_raw_df,\n",
    "       rinj_raw_df, rextr_raw_df, rext_raw_df,\n",
    "       rfw_raw_df, rig_raw_df, rlz_raw_df\n",
    "      ]\n",
    "\n",
    "rs_queries_master_df = pd.DataFrame()\n",
    "\n",
    "for df in DFs:\n",
    "    \n",
    "    rs_queries_master_df = rs_queries_master_df.append(df, ignore_index=True)\n",
    "    "
   ]
  },
  {
   "cell_type": "code",
   "execution_count": 210,
   "metadata": {},
   "outputs": [
    {
     "name": "stdout",
     "output_type": "stream",
     "text": [
      "29253 \n",
      "\n",
      "                                                 text          author\n",
      "0   @ProFootballTalk @hwkbgr Philly fans complain ...      jyoaee2125\n",
      "1   So over the last 72 hours:\\n\\n- the Birds get ...    Philly_Canes\n",
      "2   @EvanMcMullin ✔    I'm a Redskins fan and born...  redskinsravens\n",
      "3   Giants, Cowboys and Redskins fans when the res...   JimmyRandazzo\n",
      "4   @ParkerHamlett @Redskins Saints and ravens her...       DougieD35\n",
      "5   @Urunderarrest I wore a Bears jersey ONCE for ...   Da_Blues_6564\n",
      "6   \"An inveterate tomboy from the start, I spent ...  justquisquilia\n",
      "7   During Allen’s tenure, did you notice,anyone w...     karl_diesel\n",
      "8   Looks like the Redskins finally have a legit h...     curtisd0101\n",
      "9   Ight @Lakers my @Redskins did me dirty this ye...        EazyE302\n",
      "10  I think it’s fair to say that @JJWatt ruined t...         Caps239\n",
      "11  @granthpaulsen The @Redskins can’t even fire a...   Marylandmike4\n",
      "12  If the #redskins tied Dallas and the Eagles wo...    DArkMEATHOOK\n",
      "13  @roshonpablo I’m hip we done damn did da uh da...       dniichols\n",
      "14  @ParisaMichelle I'm beyond bitter. I feel dirt...      gleibs2019\n",
      "15  @Giants The Dirty hit on the @Redskins Rookie ...     jimmyskeets\n",
      "16  That was a dirty hit on Haskins, he went strai...      tlee2123sv\n",
      "17  @RobbieDuncanOL @HogsHaven If you look closely...  MuzzMuzzington\n",
      "18  Best case scenario:\\n\\nEagles beat cowboys\\n\\n...        E_Mili13\n",
      "19  @MattLewis2003 *loses to Dolphins* : “never wa...       NateLew24\n",
      "20  Thanks @Redskins for the bad beat!! Safe all g...     BadBeatBros\n",
      "21  I’m cheering for the Redskins and it makes me ...  Fo__________Fo\n",
      "22  Jason Peters needs to take one for the team an...     OTR2Victory\n",
      "23  same old same old. Redskins have always sucked...       honesgirl\n",
      "24  I say this every time the Eagles play this dir...  TheBradMei5ter\n"
     ]
    }
   ],
   "source": [
    "print(len(rs_queries_master_df), '\\n')\n",
    "\n",
    "print(rs_queries_master_df.head(25))"
   ]
  },
  {
   "cell_type": "code",
   "execution_count": 205,
   "metadata": {},
   "outputs": [],
   "source": [
    "# save to csv\n",
    "\n",
    "rs_queries_master_df.to_csv('rs_queries_master_df_Jan_26_2020.csv')"
   ]
  },
  {
   "cell_type": "code",
   "execution_count": 63,
   "metadata": {},
   "outputs": [
    {
     "name": "stdout",
     "output_type": "stream",
     "text": [
      "29255\n"
     ]
    },
    {
     "data": {
      "text/html": [
       "<div>\n",
       "<style scoped>\n",
       "    .dataframe tbody tr th:only-of-type {\n",
       "        vertical-align: middle;\n",
       "    }\n",
       "\n",
       "    .dataframe tbody tr th {\n",
       "        vertical-align: top;\n",
       "    }\n",
       "\n",
       "    .dataframe thead th {\n",
       "        text-align: right;\n",
       "    }\n",
       "</style>\n",
       "<table border=\"1\" class=\"dataframe\">\n",
       "  <thead>\n",
       "    <tr style=\"text-align: right;\">\n",
       "      <th></th>\n",
       "      <th>Unnamed: 0</th>\n",
       "      <th>text</th>\n",
       "      <th>author</th>\n",
       "    </tr>\n",
       "  </thead>\n",
       "  <tbody>\n",
       "    <tr>\n",
       "      <th>0</th>\n",
       "      <td>0</td>\n",
       "      <td>@ProFootballTalk @hwkbgr Philly fans complain ...</td>\n",
       "      <td>jyoaee2125</td>\n",
       "    </tr>\n",
       "    <tr>\n",
       "      <th>1</th>\n",
       "      <td>1</td>\n",
       "      <td>So over the last 72 hours:\\n\\n- the Birds get ...</td>\n",
       "      <td>Philly_Canes</td>\n",
       "    </tr>\n",
       "    <tr>\n",
       "      <th>2</th>\n",
       "      <td>2</td>\n",
       "      <td>@EvanMcMullin ✔    I'm a Redskins fan and born...</td>\n",
       "      <td>redskinsravens</td>\n",
       "    </tr>\n",
       "    <tr>\n",
       "      <th>3</th>\n",
       "      <td>3</td>\n",
       "      <td>Giants, Cowboys and Redskins fans when the res...</td>\n",
       "      <td>JimmyRandazzo</td>\n",
       "    </tr>\n",
       "    <tr>\n",
       "      <th>4</th>\n",
       "      <td>4</td>\n",
       "      <td>@ParkerHamlett @Redskins Saints and ravens her...</td>\n",
       "      <td>DougieD35</td>\n",
       "    </tr>\n",
       "  </tbody>\n",
       "</table>\n",
       "</div>"
      ],
      "text/plain": [
       "  Unnamed: 0                                               text  \\\n",
       "0          0  @ProFootballTalk @hwkbgr Philly fans complain ...   \n",
       "1          1  So over the last 72 hours:\\n\\n- the Birds get ...   \n",
       "2          2  @EvanMcMullin ✔    I'm a Redskins fan and born...   \n",
       "3          3  Giants, Cowboys and Redskins fans when the res...   \n",
       "4          4  @ParkerHamlett @Redskins Saints and ravens her...   \n",
       "\n",
       "           author  \n",
       "0      jyoaee2125  \n",
       "1    Philly_Canes  \n",
       "2  redskinsravens  \n",
       "3   JimmyRandazzo  \n",
       "4       DougieD35  "
      ]
     },
     "execution_count": 63,
     "metadata": {},
     "output_type": "execute_result"
    }
   ],
   "source": [
    "rs_working_df = pd.read_csv('rs_queries_master_df_Jan_26_2020.csv')\n",
    "\n",
    "print(len(rs_working_df))\n",
    "\n",
    "rs_working_df.head()"
   ]
  },
  {
   "cell_type": "code",
   "execution_count": 64,
   "metadata": {},
   "outputs": [],
   "source": [
    "# add later terms tested\n",
    "# rs_working_df is reloaded rs_df\n",
    "\n",
    "DFs = [rsa_raw_df, rdb_raw_df, rbw_raw_df,\n",
    "       rnbr_raw_df, rd_raw_df, rde_raw_df]\n",
    "\n",
    "for df in DFs:\n",
    "    \n",
    "    rs_working_df = rs_working_df.append(df, ignore_index=True)"
   ]
  },
  {
   "cell_type": "code",
   "execution_count": 65,
   "metadata": {},
   "outputs": [
    {
     "name": "stdout",
     "output_type": "stream",
     "text": [
      "42892\n"
     ]
    }
   ],
   "source": [
    "print(len(rs_working_df))"
   ]
  },
  {
   "cell_type": "code",
   "execution_count": 66,
   "metadata": {},
   "outputs": [],
   "source": [
    "rs_working_df.to_csv('rs_queries_master_df_Jan_26_2020.csv')"
   ]
  },
  {
   "cell_type": "markdown",
   "metadata": {},
   "source": [
    "### testing other teams\n",
    "\n",
    "Once I had gathered a list of terms that appear with the team name \"Redskins\", I could check other teams against the same list for comparison."
   ]
  },
  {
   "cell_type": "code",
   "execution_count": 70,
   "metadata": {},
   "outputs": [],
   "source": [
    "def try_terms(team_name):\n",
    "    \n",
    "    '''\n",
    "    takes:\n",
    "    \n",
    "    * team name as a string\n",
    "    \n",
    "    returns:\n",
    "    \n",
    "    * dataframe with all tweets containing the team name & search terms\n",
    "    * up to 10k results (tweets) per term\n",
    "    \n",
    "    '''\n",
    "    \n",
    "    term_list = ['dirty','filthy','stupid','ugly','indian',\n",
    "             'blood','scalp','savage','dead','killed',\n",
    "             'sexy','indian blood','drunk','injun',\n",
    "             'exterminate','extinct','firewater',\n",
    "             'reservation','smallpox','ignorant',\n",
    "             'raped','die','dumb','backwards',\n",
    "             'inbred','died']\n",
    "    \n",
    "    raw_df = pd.DataFrame()\n",
    "    \n",
    "    for term in term_list:\n",
    "        \n",
    "            # create search string\n",
    "        \n",
    "            search_term = '(\"' + team_name + '\" and \"' + term + '\")'\n",
    "            \n",
    "            tweet_objects = get_tweet_object(search_term, datetime.datetime(2007,1,1), datetime.datetime(2020,1,25), 10000, include_retweets=False)\n",
    "            \n",
    "            tweet_obj_df = tweet_obj_to_df(tweet_objects)\n",
    "\n",
    "            raw_df = raw_df.append(tweet_obj_df)\n",
    "\n",
    "            print(len(raw_df), '\\n')\n",
    "\n",
    "            print(raw_df.head(20))\n",
    "            \n",
    "    return raw_df\n",
    "           "
   ]
  },
  {
   "cell_type": "code",
   "execution_count": 71,
   "metadata": {},
   "outputs": [
    {
     "name": "stderr",
     "output_type": "stream",
     "text": [
      "Grabbing bearer token from OAUTH\n"
     ]
    },
    {
     "name": "stdout",
     "output_type": "stream",
     "text": [
      "3037 \n",
      "\n",
      "                                                 text           author\n",
      "0   @BigDrewandJim Stafford could absolutely pull ...         skearn41\n",
      "1   Kaizer Chiefs blacklisted Mandla Masango and T...  LUCKY_MTHOMBENI\n",
      "2   @Ragnod49 @ArrowheadAddict Much respect!! \\n\\n...     ArrighiOrosz\n",
      "3   @davidmakepeace @ArrowheadAddict Chiefs fan he...     ArrighiOrosz\n",
      "4   I think I'm rooting for Mahomes and the Chiefs...      skepticgoat\n",
      "5   @JeffAllen71 @ProFootballTalk The 49ers don't ...    DaRealLopeezi\n",
      "6   @martyclevenger @ProFootballTalk Florio has a ...      brettoncole\n",
      "7   @ProFootballTalk @MikeFlorioPFT this is ridicu...       mellanclos\n",
      "8   @ProFootballTalk The fuck you talkin bout smfh...      SAWAIIAN650\n",
      "9   @ProFootballTalk How do the Chiefs stop that r...      book_nelson\n",
      "10  Why are we even having an election against law...      redalertnow\n",
      "11  @zach_seibel21 @NBCSports @ProFootballTalk We ...         hotchman\n",
      "12  @ProFootballTalk It's not just Chiefs fans whi...     auntiesuez45\n",
      "13  @ProFootballTalk I can not believe you suggest...       MikeMonnig\n",
      "14  @joaospierjr @AB_3127 @kennysnider7 @wendllyn ...  voodoomanland81\n",
      "15  @sternshow @JeromeBettis36 @cwotd @Chiefs @jon...         VlaclavK\n",
      "16  You literally advocated for guys on D to hit M...    DaveyGumdrops\n",
      "17  @ProFootballTalk As a niner fan, havng watched...       Maxgomez79\n",
      "18  @BillGroner1 @ProFootballTalk @CollinsworthPFF...        x_Slick24\n",
      "19  PFT SHOULD NOT support  anything  Mike Florio ...       markshogue\n"
     ]
    },
    {
     "name": "stderr",
     "output_type": "stream",
     "text": [
      "Grabbing bearer token from OAUTH\n"
     ]
    },
    {
     "name": "stdout",
     "output_type": "stream",
     "text": [
      "3312 \n",
      "\n",
      "                                                 text           author\n",
      "0   @BigDrewandJim Stafford could absolutely pull ...         skearn41\n",
      "1   Kaizer Chiefs blacklisted Mandla Masango and T...  LUCKY_MTHOMBENI\n",
      "2   @Ragnod49 @ArrowheadAddict Much respect!! \\n\\n...     ArrighiOrosz\n",
      "3   @davidmakepeace @ArrowheadAddict Chiefs fan he...     ArrighiOrosz\n",
      "4   I think I'm rooting for Mahomes and the Chiefs...      skepticgoat\n",
      "5   @JeffAllen71 @ProFootballTalk The 49ers don't ...    DaRealLopeezi\n",
      "6   @martyclevenger @ProFootballTalk Florio has a ...      brettoncole\n",
      "7   @ProFootballTalk @MikeFlorioPFT this is ridicu...       mellanclos\n",
      "8   @ProFootballTalk The fuck you talkin bout smfh...      SAWAIIAN650\n",
      "9   @ProFootballTalk How do the Chiefs stop that r...      book_nelson\n",
      "10  Why are we even having an election against law...      redalertnow\n",
      "11  @zach_seibel21 @NBCSports @ProFootballTalk We ...         hotchman\n",
      "12  @ProFootballTalk It's not just Chiefs fans whi...     auntiesuez45\n",
      "13  @ProFootballTalk I can not believe you suggest...       MikeMonnig\n",
      "14  @joaospierjr @AB_3127 @kennysnider7 @wendllyn ...  voodoomanland81\n",
      "15  @sternshow @JeromeBettis36 @cwotd @Chiefs @jon...         VlaclavK\n",
      "16  You literally advocated for guys on D to hit M...    DaveyGumdrops\n",
      "17  @ProFootballTalk As a niner fan, havng watched...       Maxgomez79\n",
      "18  @BillGroner1 @ProFootballTalk @CollinsworthPFF...        x_Slick24\n",
      "19  PFT SHOULD NOT support  anything  Mike Florio ...       markshogue\n"
     ]
    },
    {
     "name": "stderr",
     "output_type": "stream",
     "text": [
      "Grabbing bearer token from OAUTH\n"
     ]
    },
    {
     "name": "stdout",
     "output_type": "stream",
     "text": [
      "13312 \n",
      "\n",
      "                                                 text           author\n",
      "0   @BigDrewandJim Stafford could absolutely pull ...         skearn41\n",
      "1   Kaizer Chiefs blacklisted Mandla Masango and T...  LUCKY_MTHOMBENI\n",
      "2   @Ragnod49 @ArrowheadAddict Much respect!! \\n\\n...     ArrighiOrosz\n",
      "3   @davidmakepeace @ArrowheadAddict Chiefs fan he...     ArrighiOrosz\n",
      "4   I think I'm rooting for Mahomes and the Chiefs...      skepticgoat\n",
      "5   @JeffAllen71 @ProFootballTalk The 49ers don't ...    DaRealLopeezi\n",
      "6   @martyclevenger @ProFootballTalk Florio has a ...      brettoncole\n",
      "7   @ProFootballTalk @MikeFlorioPFT this is ridicu...       mellanclos\n",
      "8   @ProFootballTalk The fuck you talkin bout smfh...      SAWAIIAN650\n",
      "9   @ProFootballTalk How do the Chiefs stop that r...      book_nelson\n",
      "10  Why are we even having an election against law...      redalertnow\n",
      "11  @zach_seibel21 @NBCSports @ProFootballTalk We ...         hotchman\n",
      "12  @ProFootballTalk It's not just Chiefs fans whi...     auntiesuez45\n",
      "13  @ProFootballTalk I can not believe you suggest...       MikeMonnig\n",
      "14  @joaospierjr @AB_3127 @kennysnider7 @wendllyn ...  voodoomanland81\n",
      "15  @sternshow @JeromeBettis36 @cwotd @Chiefs @jon...         VlaclavK\n",
      "16  You literally advocated for guys on D to hit M...    DaveyGumdrops\n",
      "17  @ProFootballTalk As a niner fan, havng watched...       Maxgomez79\n",
      "18  @BillGroner1 @ProFootballTalk @CollinsworthPFF...        x_Slick24\n",
      "19  PFT SHOULD NOT support  anything  Mike Florio ...       markshogue\n"
     ]
    },
    {
     "name": "stderr",
     "output_type": "stream",
     "text": [
      "Grabbing bearer token from OAUTH\n"
     ]
    },
    {
     "name": "stdout",
     "output_type": "stream",
     "text": [
      "18415 \n",
      "\n",
      "                                                 text           author\n",
      "0   @BigDrewandJim Stafford could absolutely pull ...         skearn41\n",
      "1   Kaizer Chiefs blacklisted Mandla Masango and T...  LUCKY_MTHOMBENI\n",
      "2   @Ragnod49 @ArrowheadAddict Much respect!! \\n\\n...     ArrighiOrosz\n",
      "3   @davidmakepeace @ArrowheadAddict Chiefs fan he...     ArrighiOrosz\n",
      "4   I think I'm rooting for Mahomes and the Chiefs...      skepticgoat\n",
      "5   @JeffAllen71 @ProFootballTalk The 49ers don't ...    DaRealLopeezi\n",
      "6   @martyclevenger @ProFootballTalk Florio has a ...      brettoncole\n",
      "7   @ProFootballTalk @MikeFlorioPFT this is ridicu...       mellanclos\n",
      "8   @ProFootballTalk The fuck you talkin bout smfh...      SAWAIIAN650\n",
      "9   @ProFootballTalk How do the Chiefs stop that r...      book_nelson\n",
      "10  Why are we even having an election against law...      redalertnow\n",
      "11  @zach_seibel21 @NBCSports @ProFootballTalk We ...         hotchman\n",
      "12  @ProFootballTalk It's not just Chiefs fans whi...     auntiesuez45\n",
      "13  @ProFootballTalk I can not believe you suggest...       MikeMonnig\n",
      "14  @joaospierjr @AB_3127 @kennysnider7 @wendllyn ...  voodoomanland81\n",
      "15  @sternshow @JeromeBettis36 @cwotd @Chiefs @jon...         VlaclavK\n",
      "16  You literally advocated for guys on D to hit M...    DaveyGumdrops\n",
      "17  @ProFootballTalk As a niner fan, havng watched...       Maxgomez79\n",
      "18  @BillGroner1 @ProFootballTalk @CollinsworthPFF...        x_Slick24\n",
      "19  PFT SHOULD NOT support  anything  Mike Florio ...       markshogue\n"
     ]
    },
    {
     "name": "stderr",
     "output_type": "stream",
     "text": [
      "Grabbing bearer token from OAUTH\n",
      "Grabbing bearer token from OAUTH\n"
     ]
    },
    {
     "name": "stdout",
     "output_type": "stream",
     "text": [
      "27743 \n",
      "\n",
      "                                                 text           author\n",
      "0   @BigDrewandJim Stafford could absolutely pull ...         skearn41\n",
      "1   Kaizer Chiefs blacklisted Mandla Masango and T...  LUCKY_MTHOMBENI\n",
      "2   @Ragnod49 @ArrowheadAddict Much respect!! \\n\\n...     ArrighiOrosz\n",
      "3   @davidmakepeace @ArrowheadAddict Chiefs fan he...     ArrighiOrosz\n",
      "4   I think I'm rooting for Mahomes and the Chiefs...      skepticgoat\n",
      "5   @JeffAllen71 @ProFootballTalk The 49ers don't ...    DaRealLopeezi\n",
      "6   @martyclevenger @ProFootballTalk Florio has a ...      brettoncole\n",
      "7   @ProFootballTalk @MikeFlorioPFT this is ridicu...       mellanclos\n",
      "8   @ProFootballTalk The fuck you talkin bout smfh...      SAWAIIAN650\n",
      "9   @ProFootballTalk How do the Chiefs stop that r...      book_nelson\n",
      "10  Why are we even having an election against law...      redalertnow\n",
      "11  @zach_seibel21 @NBCSports @ProFootballTalk We ...         hotchman\n",
      "12  @ProFootballTalk It's not just Chiefs fans whi...     auntiesuez45\n",
      "13  @ProFootballTalk I can not believe you suggest...       MikeMonnig\n",
      "14  @joaospierjr @AB_3127 @kennysnider7 @wendllyn ...  voodoomanland81\n",
      "15  @sternshow @JeromeBettis36 @cwotd @Chiefs @jon...         VlaclavK\n",
      "16  You literally advocated for guys on D to hit M...    DaveyGumdrops\n",
      "17  @ProFootballTalk As a niner fan, havng watched...       Maxgomez79\n",
      "18  @BillGroner1 @ProFootballTalk @CollinsworthPFF...        x_Slick24\n",
      "19  PFT SHOULD NOT support  anything  Mike Florio ...       markshogue\n",
      "31921 \n",
      "\n",
      "                                                 text           author\n",
      "0   @BigDrewandJim Stafford could absolutely pull ...         skearn41\n",
      "1   Kaizer Chiefs blacklisted Mandla Masango and T...  LUCKY_MTHOMBENI\n",
      "2   @Ragnod49 @ArrowheadAddict Much respect!! \\n\\n...     ArrighiOrosz\n",
      "3   @davidmakepeace @ArrowheadAddict Chiefs fan he...     ArrighiOrosz\n",
      "4   I think I'm rooting for Mahomes and the Chiefs...      skepticgoat\n",
      "5   @JeffAllen71 @ProFootballTalk The 49ers don't ...    DaRealLopeezi\n",
      "6   @martyclevenger @ProFootballTalk Florio has a ...      brettoncole\n",
      "7   @ProFootballTalk @MikeFlorioPFT this is ridicu...       mellanclos\n",
      "8   @ProFootballTalk The fuck you talkin bout smfh...      SAWAIIAN650\n",
      "9   @ProFootballTalk How do the Chiefs stop that r...      book_nelson\n",
      "10  Why are we even having an election against law...      redalertnow\n",
      "11  @zach_seibel21 @NBCSports @ProFootballTalk We ...         hotchman\n",
      "12  @ProFootballTalk It's not just Chiefs fans whi...     auntiesuez45\n",
      "13  @ProFootballTalk I can not believe you suggest...       MikeMonnig\n",
      "14  @joaospierjr @AB_3127 @kennysnider7 @wendllyn ...  voodoomanland81\n",
      "15  @sternshow @JeromeBettis36 @cwotd @Chiefs @jon...         VlaclavK\n",
      "16  You literally advocated for guys on D to hit M...    DaveyGumdrops\n",
      "17  @ProFootballTalk As a niner fan, havng watched...       Maxgomez79\n",
      "18  @BillGroner1 @ProFootballTalk @CollinsworthPFF...        x_Slick24\n",
      "19  PFT SHOULD NOT support  anything  Mike Florio ...       markshogue\n"
     ]
    },
    {
     "name": "stderr",
     "output_type": "stream",
     "text": [
      "Grabbing bearer token from OAUTH\n",
      "Grabbing bearer token from OAUTH\n"
     ]
    },
    {
     "name": "stdout",
     "output_type": "stream",
     "text": [
      "32214 \n",
      "\n",
      "                                                 text           author\n",
      "0   @BigDrewandJim Stafford could absolutely pull ...         skearn41\n",
      "1   Kaizer Chiefs blacklisted Mandla Masango and T...  LUCKY_MTHOMBENI\n",
      "2   @Ragnod49 @ArrowheadAddict Much respect!! \\n\\n...     ArrighiOrosz\n",
      "3   @davidmakepeace @ArrowheadAddict Chiefs fan he...     ArrighiOrosz\n",
      "4   I think I'm rooting for Mahomes and the Chiefs...      skepticgoat\n",
      "5   @JeffAllen71 @ProFootballTalk The 49ers don't ...    DaRealLopeezi\n",
      "6   @martyclevenger @ProFootballTalk Florio has a ...      brettoncole\n",
      "7   @ProFootballTalk @MikeFlorioPFT this is ridicu...       mellanclos\n",
      "8   @ProFootballTalk The fuck you talkin bout smfh...      SAWAIIAN650\n",
      "9   @ProFootballTalk How do the Chiefs stop that r...      book_nelson\n",
      "10  Why are we even having an election against law...      redalertnow\n",
      "11  @zach_seibel21 @NBCSports @ProFootballTalk We ...         hotchman\n",
      "12  @ProFootballTalk It's not just Chiefs fans whi...     auntiesuez45\n",
      "13  @ProFootballTalk I can not believe you suggest...       MikeMonnig\n",
      "14  @joaospierjr @AB_3127 @kennysnider7 @wendllyn ...  voodoomanland81\n",
      "15  @sternshow @JeromeBettis36 @cwotd @Chiefs @jon...         VlaclavK\n",
      "16  You literally advocated for guys on D to hit M...    DaveyGumdrops\n",
      "17  @ProFootballTalk As a niner fan, havng watched...       Maxgomez79\n",
      "18  @BillGroner1 @ProFootballTalk @CollinsworthPFF...        x_Slick24\n",
      "19  PFT SHOULD NOT support  anything  Mike Florio ...       markshogue\n"
     ]
    },
    {
     "name": "stderr",
     "output_type": "stream",
     "text": [
      "Grabbing bearer token from OAUTH\n"
     ]
    },
    {
     "name": "stdout",
     "output_type": "stream",
     "text": [
      "32979 \n",
      "\n",
      "                                                 text           author\n",
      "0   @BigDrewandJim Stafford could absolutely pull ...         skearn41\n",
      "1   Kaizer Chiefs blacklisted Mandla Masango and T...  LUCKY_MTHOMBENI\n",
      "2   @Ragnod49 @ArrowheadAddict Much respect!! \\n\\n...     ArrighiOrosz\n",
      "3   @davidmakepeace @ArrowheadAddict Chiefs fan he...     ArrighiOrosz\n",
      "4   I think I'm rooting for Mahomes and the Chiefs...      skepticgoat\n",
      "5   @JeffAllen71 @ProFootballTalk The 49ers don't ...    DaRealLopeezi\n",
      "6   @martyclevenger @ProFootballTalk Florio has a ...      brettoncole\n",
      "7   @ProFootballTalk @MikeFlorioPFT this is ridicu...       mellanclos\n",
      "8   @ProFootballTalk The fuck you talkin bout smfh...      SAWAIIAN650\n",
      "9   @ProFootballTalk How do the Chiefs stop that r...      book_nelson\n",
      "10  Why are we even having an election against law...      redalertnow\n",
      "11  @zach_seibel21 @NBCSports @ProFootballTalk We ...         hotchman\n",
      "12  @ProFootballTalk It's not just Chiefs fans whi...     auntiesuez45\n",
      "13  @ProFootballTalk I can not believe you suggest...       MikeMonnig\n",
      "14  @joaospierjr @AB_3127 @kennysnider7 @wendllyn ...  voodoomanland81\n",
      "15  @sternshow @JeromeBettis36 @cwotd @Chiefs @jon...         VlaclavK\n",
      "16  You literally advocated for guys on D to hit M...    DaveyGumdrops\n",
      "17  @ProFootballTalk As a niner fan, havng watched...       Maxgomez79\n",
      "18  @BillGroner1 @ProFootballTalk @CollinsworthPFF...        x_Slick24\n",
      "19  PFT SHOULD NOT support  anything  Mike Florio ...       markshogue\n",
      "40612 \n",
      "\n",
      "                                                 text           author\n",
      "0   @BigDrewandJim Stafford could absolutely pull ...         skearn41\n",
      "1   Kaizer Chiefs blacklisted Mandla Masango and T...  LUCKY_MTHOMBENI\n",
      "2   @Ragnod49 @ArrowheadAddict Much respect!! \\n\\n...     ArrighiOrosz\n",
      "3   @davidmakepeace @ArrowheadAddict Chiefs fan he...     ArrighiOrosz\n",
      "4   I think I'm rooting for Mahomes and the Chiefs...      skepticgoat\n",
      "5   @JeffAllen71 @ProFootballTalk The 49ers don't ...    DaRealLopeezi\n",
      "6   @martyclevenger @ProFootballTalk Florio has a ...      brettoncole\n",
      "7   @ProFootballTalk @MikeFlorioPFT this is ridicu...       mellanclos\n",
      "8   @ProFootballTalk The fuck you talkin bout smfh...      SAWAIIAN650\n",
      "9   @ProFootballTalk How do the Chiefs stop that r...      book_nelson\n",
      "10  Why are we even having an election against law...      redalertnow\n",
      "11  @zach_seibel21 @NBCSports @ProFootballTalk We ...         hotchman\n",
      "12  @ProFootballTalk It's not just Chiefs fans whi...     auntiesuez45\n",
      "13  @ProFootballTalk I can not believe you suggest...       MikeMonnig\n",
      "14  @joaospierjr @AB_3127 @kennysnider7 @wendllyn ...  voodoomanland81\n",
      "15  @sternshow @JeromeBettis36 @cwotd @Chiefs @jon...         VlaclavK\n",
      "16  You literally advocated for guys on D to hit M...    DaveyGumdrops\n",
      "17  @ProFootballTalk As a niner fan, havng watched...       Maxgomez79\n",
      "18  @BillGroner1 @ProFootballTalk @CollinsworthPFF...        x_Slick24\n",
      "19  PFT SHOULD NOT support  anything  Mike Florio ...       markshogue\n"
     ]
    },
    {
     "name": "stderr",
     "output_type": "stream",
     "text": [
      "Grabbing bearer token from OAUTH\n",
      "Grabbing bearer token from OAUTH\n"
     ]
    },
    {
     "name": "stdout",
     "output_type": "stream",
     "text": [
      "50612 \n",
      "\n",
      "                                                 text           author\n",
      "0   @BigDrewandJim Stafford could absolutely pull ...         skearn41\n",
      "1   Kaizer Chiefs blacklisted Mandla Masango and T...  LUCKY_MTHOMBENI\n",
      "2   @Ragnod49 @ArrowheadAddict Much respect!! \\n\\n...     ArrighiOrosz\n",
      "3   @davidmakepeace @ArrowheadAddict Chiefs fan he...     ArrighiOrosz\n",
      "4   I think I'm rooting for Mahomes and the Chiefs...      skepticgoat\n",
      "5   @JeffAllen71 @ProFootballTalk The 49ers don't ...    DaRealLopeezi\n",
      "6   @martyclevenger @ProFootballTalk Florio has a ...      brettoncole\n",
      "7   @ProFootballTalk @MikeFlorioPFT this is ridicu...       mellanclos\n",
      "8   @ProFootballTalk The fuck you talkin bout smfh...      SAWAIIAN650\n",
      "9   @ProFootballTalk How do the Chiefs stop that r...      book_nelson\n",
      "10  Why are we even having an election against law...      redalertnow\n",
      "11  @zach_seibel21 @NBCSports @ProFootballTalk We ...         hotchman\n",
      "12  @ProFootballTalk It's not just Chiefs fans whi...     auntiesuez45\n",
      "13  @ProFootballTalk I can not believe you suggest...       MikeMonnig\n",
      "14  @joaospierjr @AB_3127 @kennysnider7 @wendllyn ...  voodoomanland81\n",
      "15  @sternshow @JeromeBettis36 @cwotd @Chiefs @jon...         VlaclavK\n",
      "16  You literally advocated for guys on D to hit M...    DaveyGumdrops\n",
      "17  @ProFootballTalk As a niner fan, havng watched...       Maxgomez79\n",
      "18  @BillGroner1 @ProFootballTalk @CollinsworthPFF...        x_Slick24\n",
      "19  PFT SHOULD NOT support  anything  Mike Florio ...       markshogue\n"
     ]
    },
    {
     "name": "stderr",
     "output_type": "stream",
     "text": [
      "Grabbing bearer token from OAUTH\n"
     ]
    },
    {
     "name": "stdout",
     "output_type": "stream",
     "text": [
      "51385 \n",
      "\n",
      "                                                 text           author\n",
      "0   @BigDrewandJim Stafford could absolutely pull ...         skearn41\n",
      "1   Kaizer Chiefs blacklisted Mandla Masango and T...  LUCKY_MTHOMBENI\n",
      "2   @Ragnod49 @ArrowheadAddict Much respect!! \\n\\n...     ArrighiOrosz\n",
      "3   @davidmakepeace @ArrowheadAddict Chiefs fan he...     ArrighiOrosz\n",
      "4   I think I'm rooting for Mahomes and the Chiefs...      skepticgoat\n",
      "5   @JeffAllen71 @ProFootballTalk The 49ers don't ...    DaRealLopeezi\n",
      "6   @martyclevenger @ProFootballTalk Florio has a ...      brettoncole\n",
      "7   @ProFootballTalk @MikeFlorioPFT this is ridicu...       mellanclos\n",
      "8   @ProFootballTalk The fuck you talkin bout smfh...      SAWAIIAN650\n",
      "9   @ProFootballTalk How do the Chiefs stop that r...      book_nelson\n",
      "10  Why are we even having an election against law...      redalertnow\n",
      "11  @zach_seibel21 @NBCSports @ProFootballTalk We ...         hotchman\n",
      "12  @ProFootballTalk It's not just Chiefs fans whi...     auntiesuez45\n",
      "13  @ProFootballTalk I can not believe you suggest...       MikeMonnig\n",
      "14  @joaospierjr @AB_3127 @kennysnider7 @wendllyn ...  voodoomanland81\n",
      "15  @sternshow @JeromeBettis36 @cwotd @Chiefs @jon...         VlaclavK\n",
      "16  You literally advocated for guys on D to hit M...    DaveyGumdrops\n",
      "17  @ProFootballTalk As a niner fan, havng watched...       Maxgomez79\n",
      "18  @BillGroner1 @ProFootballTalk @CollinsworthPFF...        x_Slick24\n",
      "19  PFT SHOULD NOT support  anything  Mike Florio ...       markshogue\n"
     ]
    },
    {
     "name": "stderr",
     "output_type": "stream",
     "text": [
      "Grabbing bearer token from OAUTH\n"
     ]
    },
    {
     "name": "stdout",
     "output_type": "stream",
     "text": [
      "51396 \n",
      "\n",
      "                                                 text           author\n",
      "0   @BigDrewandJim Stafford could absolutely pull ...         skearn41\n",
      "1   Kaizer Chiefs blacklisted Mandla Masango and T...  LUCKY_MTHOMBENI\n",
      "2   @Ragnod49 @ArrowheadAddict Much respect!! \\n\\n...     ArrighiOrosz\n",
      "3   @davidmakepeace @ArrowheadAddict Chiefs fan he...     ArrighiOrosz\n",
      "4   I think I'm rooting for Mahomes and the Chiefs...      skepticgoat\n",
      "5   @JeffAllen71 @ProFootballTalk The 49ers don't ...    DaRealLopeezi\n",
      "6   @martyclevenger @ProFootballTalk Florio has a ...      brettoncole\n",
      "7   @ProFootballTalk @MikeFlorioPFT this is ridicu...       mellanclos\n",
      "8   @ProFootballTalk The fuck you talkin bout smfh...      SAWAIIAN650\n",
      "9   @ProFootballTalk How do the Chiefs stop that r...      book_nelson\n",
      "10  Why are we even having an election against law...      redalertnow\n",
      "11  @zach_seibel21 @NBCSports @ProFootballTalk We ...         hotchman\n",
      "12  @ProFootballTalk It's not just Chiefs fans whi...     auntiesuez45\n",
      "13  @ProFootballTalk I can not believe you suggest...       MikeMonnig\n",
      "14  @joaospierjr @AB_3127 @kennysnider7 @wendllyn ...  voodoomanland81\n",
      "15  @sternshow @JeromeBettis36 @cwotd @Chiefs @jon...         VlaclavK\n",
      "16  You literally advocated for guys on D to hit M...    DaveyGumdrops\n",
      "17  @ProFootballTalk As a niner fan, havng watched...       Maxgomez79\n",
      "18  @BillGroner1 @ProFootballTalk @CollinsworthPFF...        x_Slick24\n",
      "19  PFT SHOULD NOT support  anything  Mike Florio ...       markshogue\n",
      "54439 \n",
      "\n",
      "                                                 text           author\n",
      "0   @BigDrewandJim Stafford could absolutely pull ...         skearn41\n",
      "1   Kaizer Chiefs blacklisted Mandla Masango and T...  LUCKY_MTHOMBENI\n",
      "2   @Ragnod49 @ArrowheadAddict Much respect!! \\n\\n...     ArrighiOrosz\n",
      "3   @davidmakepeace @ArrowheadAddict Chiefs fan he...     ArrighiOrosz\n",
      "4   I think I'm rooting for Mahomes and the Chiefs...      skepticgoat\n",
      "5   @JeffAllen71 @ProFootballTalk The 49ers don't ...    DaRealLopeezi\n",
      "6   @martyclevenger @ProFootballTalk Florio has a ...      brettoncole\n",
      "7   @ProFootballTalk @MikeFlorioPFT this is ridicu...       mellanclos\n",
      "8   @ProFootballTalk The fuck you talkin bout smfh...      SAWAIIAN650\n",
      "9   @ProFootballTalk How do the Chiefs stop that r...      book_nelson\n",
      "10  Why are we even having an election against law...      redalertnow\n",
      "11  @zach_seibel21 @NBCSports @ProFootballTalk We ...         hotchman\n",
      "12  @ProFootballTalk It's not just Chiefs fans whi...     auntiesuez45\n",
      "13  @ProFootballTalk I can not believe you suggest...       MikeMonnig\n",
      "14  @joaospierjr @AB_3127 @kennysnider7 @wendllyn ...  voodoomanland81\n",
      "15  @sternshow @JeromeBettis36 @cwotd @Chiefs @jon...         VlaclavK\n",
      "16  You literally advocated for guys on D to hit M...    DaveyGumdrops\n",
      "17  @ProFootballTalk As a niner fan, havng watched...       Maxgomez79\n",
      "18  @BillGroner1 @ProFootballTalk @CollinsworthPFF...        x_Slick24\n",
      "19  PFT SHOULD NOT support  anything  Mike Florio ...       markshogue\n"
     ]
    },
    {
     "name": "stderr",
     "output_type": "stream",
     "text": [
      "Grabbing bearer token from OAUTH\n",
      "Grabbing bearer token from OAUTH\n"
     ]
    },
    {
     "name": "stdout",
     "output_type": "stream",
     "text": [
      "54493 \n",
      "\n",
      "                                                 text           author\n",
      "0   @BigDrewandJim Stafford could absolutely pull ...         skearn41\n",
      "1   Kaizer Chiefs blacklisted Mandla Masango and T...  LUCKY_MTHOMBENI\n",
      "2   @Ragnod49 @ArrowheadAddict Much respect!! \\n\\n...     ArrighiOrosz\n",
      "3   @davidmakepeace @ArrowheadAddict Chiefs fan he...     ArrighiOrosz\n",
      "4   I think I'm rooting for Mahomes and the Chiefs...      skepticgoat\n",
      "5   @JeffAllen71 @ProFootballTalk The 49ers don't ...    DaRealLopeezi\n",
      "6   @martyclevenger @ProFootballTalk Florio has a ...      brettoncole\n",
      "7   @ProFootballTalk @MikeFlorioPFT this is ridicu...       mellanclos\n",
      "8   @ProFootballTalk The fuck you talkin bout smfh...      SAWAIIAN650\n",
      "9   @ProFootballTalk How do the Chiefs stop that r...      book_nelson\n",
      "10  Why are we even having an election against law...      redalertnow\n",
      "11  @zach_seibel21 @NBCSports @ProFootballTalk We ...         hotchman\n",
      "12  @ProFootballTalk It's not just Chiefs fans whi...     auntiesuez45\n",
      "13  @ProFootballTalk I can not believe you suggest...       MikeMonnig\n",
      "14  @joaospierjr @AB_3127 @kennysnider7 @wendllyn ...  voodoomanland81\n",
      "15  @sternshow @JeromeBettis36 @cwotd @Chiefs @jon...         VlaclavK\n",
      "16  You literally advocated for guys on D to hit M...    DaveyGumdrops\n",
      "17  @ProFootballTalk As a niner fan, havng watched...       Maxgomez79\n",
      "18  @BillGroner1 @ProFootballTalk @CollinsworthPFF...        x_Slick24\n",
      "19  PFT SHOULD NOT support  anything  Mike Florio ...       markshogue\n"
     ]
    },
    {
     "name": "stderr",
     "output_type": "stream",
     "text": [
      "Grabbing bearer token from OAUTH\n"
     ]
    },
    {
     "name": "stdout",
     "output_type": "stream",
     "text": [
      "54508 \n",
      "\n",
      "                                                 text           author\n",
      "0   @BigDrewandJim Stafford could absolutely pull ...         skearn41\n",
      "1   Kaizer Chiefs blacklisted Mandla Masango and T...  LUCKY_MTHOMBENI\n",
      "2   @Ragnod49 @ArrowheadAddict Much respect!! \\n\\n...     ArrighiOrosz\n",
      "3   @davidmakepeace @ArrowheadAddict Chiefs fan he...     ArrighiOrosz\n",
      "4   I think I'm rooting for Mahomes and the Chiefs...      skepticgoat\n",
      "5   @JeffAllen71 @ProFootballTalk The 49ers don't ...    DaRealLopeezi\n",
      "6   @martyclevenger @ProFootballTalk Florio has a ...      brettoncole\n",
      "7   @ProFootballTalk @MikeFlorioPFT this is ridicu...       mellanclos\n",
      "8   @ProFootballTalk The fuck you talkin bout smfh...      SAWAIIAN650\n",
      "9   @ProFootballTalk How do the Chiefs stop that r...      book_nelson\n",
      "10  Why are we even having an election against law...      redalertnow\n",
      "11  @zach_seibel21 @NBCSports @ProFootballTalk We ...         hotchman\n",
      "12  @ProFootballTalk It's not just Chiefs fans whi...     auntiesuez45\n",
      "13  @ProFootballTalk I can not believe you suggest...       MikeMonnig\n",
      "14  @joaospierjr @AB_3127 @kennysnider7 @wendllyn ...  voodoomanland81\n",
      "15  @sternshow @JeromeBettis36 @cwotd @Chiefs @jon...         VlaclavK\n",
      "16  You literally advocated for guys on D to hit M...    DaveyGumdrops\n",
      "17  @ProFootballTalk As a niner fan, havng watched...       Maxgomez79\n",
      "18  @BillGroner1 @ProFootballTalk @CollinsworthPFF...        x_Slick24\n",
      "19  PFT SHOULD NOT support  anything  Mike Florio ...       markshogue\n"
     ]
    },
    {
     "name": "stderr",
     "output_type": "stream",
     "text": [
      "Grabbing bearer token from OAUTH\n"
     ]
    },
    {
     "name": "stdout",
     "output_type": "stream",
     "text": [
      "54557 \n",
      "\n",
      "                                                 text           author\n",
      "0   @BigDrewandJim Stafford could absolutely pull ...         skearn41\n",
      "1   Kaizer Chiefs blacklisted Mandla Masango and T...  LUCKY_MTHOMBENI\n",
      "2   @Ragnod49 @ArrowheadAddict Much respect!! \\n\\n...     ArrighiOrosz\n",
      "3   @davidmakepeace @ArrowheadAddict Chiefs fan he...     ArrighiOrosz\n",
      "4   I think I'm rooting for Mahomes and the Chiefs...      skepticgoat\n",
      "5   @JeffAllen71 @ProFootballTalk The 49ers don't ...    DaRealLopeezi\n",
      "6   @martyclevenger @ProFootballTalk Florio has a ...      brettoncole\n",
      "7   @ProFootballTalk @MikeFlorioPFT this is ridicu...       mellanclos\n",
      "8   @ProFootballTalk The fuck you talkin bout smfh...      SAWAIIAN650\n",
      "9   @ProFootballTalk How do the Chiefs stop that r...      book_nelson\n",
      "10  Why are we even having an election against law...      redalertnow\n",
      "11  @zach_seibel21 @NBCSports @ProFootballTalk We ...         hotchman\n",
      "12  @ProFootballTalk It's not just Chiefs fans whi...     auntiesuez45\n",
      "13  @ProFootballTalk I can not believe you suggest...       MikeMonnig\n",
      "14  @joaospierjr @AB_3127 @kennysnider7 @wendllyn ...  voodoomanland81\n",
      "15  @sternshow @JeromeBettis36 @cwotd @Chiefs @jon...         VlaclavK\n",
      "16  You literally advocated for guys on D to hit M...    DaveyGumdrops\n",
      "17  @ProFootballTalk As a niner fan, havng watched...       Maxgomez79\n",
      "18  @BillGroner1 @ProFootballTalk @CollinsworthPFF...        x_Slick24\n",
      "19  PFT SHOULD NOT support  anything  Mike Florio ...       markshogue\n",
      "54743 \n",
      "\n",
      "                                                 text           author\n",
      "0   @BigDrewandJim Stafford could absolutely pull ...         skearn41\n",
      "1   Kaizer Chiefs blacklisted Mandla Masango and T...  LUCKY_MTHOMBENI\n",
      "2   @Ragnod49 @ArrowheadAddict Much respect!! \\n\\n...     ArrighiOrosz\n",
      "3   @davidmakepeace @ArrowheadAddict Chiefs fan he...     ArrighiOrosz\n",
      "4   I think I'm rooting for Mahomes and the Chiefs...      skepticgoat\n",
      "5   @JeffAllen71 @ProFootballTalk The 49ers don't ...    DaRealLopeezi\n",
      "6   @martyclevenger @ProFootballTalk Florio has a ...      brettoncole\n",
      "7   @ProFootballTalk @MikeFlorioPFT this is ridicu...       mellanclos\n",
      "8   @ProFootballTalk The fuck you talkin bout smfh...      SAWAIIAN650\n",
      "9   @ProFootballTalk How do the Chiefs stop that r...      book_nelson\n",
      "10  Why are we even having an election against law...      redalertnow\n",
      "11  @zach_seibel21 @NBCSports @ProFootballTalk We ...         hotchman\n",
      "12  @ProFootballTalk It's not just Chiefs fans whi...     auntiesuez45\n",
      "13  @ProFootballTalk I can not believe you suggest...       MikeMonnig\n",
      "14  @joaospierjr @AB_3127 @kennysnider7 @wendllyn ...  voodoomanland81\n",
      "15  @sternshow @JeromeBettis36 @cwotd @Chiefs @jon...         VlaclavK\n",
      "16  You literally advocated for guys on D to hit M...    DaveyGumdrops\n",
      "17  @ProFootballTalk As a niner fan, havng watched...       Maxgomez79\n",
      "18  @BillGroner1 @ProFootballTalk @CollinsworthPFF...        x_Slick24\n",
      "19  PFT SHOULD NOT support  anything  Mike Florio ...       markshogue\n"
     ]
    },
    {
     "name": "stderr",
     "output_type": "stream",
     "text": [
      "Grabbing bearer token from OAUTH\n",
      "Grabbing bearer token from OAUTH\n"
     ]
    },
    {
     "name": "stdout",
     "output_type": "stream",
     "text": [
      "55031 \n",
      "\n",
      "                                                 text           author\n",
      "0   @BigDrewandJim Stafford could absolutely pull ...         skearn41\n",
      "1   Kaizer Chiefs blacklisted Mandla Masango and T...  LUCKY_MTHOMBENI\n",
      "2   @Ragnod49 @ArrowheadAddict Much respect!! \\n\\n...     ArrighiOrosz\n",
      "3   @davidmakepeace @ArrowheadAddict Chiefs fan he...     ArrighiOrosz\n",
      "4   I think I'm rooting for Mahomes and the Chiefs...      skepticgoat\n",
      "5   @JeffAllen71 @ProFootballTalk The 49ers don't ...    DaRealLopeezi\n",
      "6   @martyclevenger @ProFootballTalk Florio has a ...      brettoncole\n",
      "7   @ProFootballTalk @MikeFlorioPFT this is ridicu...       mellanclos\n",
      "8   @ProFootballTalk The fuck you talkin bout smfh...      SAWAIIAN650\n",
      "9   @ProFootballTalk How do the Chiefs stop that r...      book_nelson\n",
      "10  Why are we even having an election against law...      redalertnow\n",
      "11  @zach_seibel21 @NBCSports @ProFootballTalk We ...         hotchman\n",
      "12  @ProFootballTalk It's not just Chiefs fans whi...     auntiesuez45\n",
      "13  @ProFootballTalk I can not believe you suggest...       MikeMonnig\n",
      "14  @joaospierjr @AB_3127 @kennysnider7 @wendllyn ...  voodoomanland81\n",
      "15  @sternshow @JeromeBettis36 @cwotd @Chiefs @jon...         VlaclavK\n",
      "16  You literally advocated for guys on D to hit M...    DaveyGumdrops\n",
      "17  @ProFootballTalk As a niner fan, havng watched...       Maxgomez79\n",
      "18  @BillGroner1 @ProFootballTalk @CollinsworthPFF...        x_Slick24\n",
      "19  PFT SHOULD NOT support  anything  Mike Florio ...       markshogue\n",
      "55106 \n",
      "\n",
      "                                                 text           author\n",
      "0   @BigDrewandJim Stafford could absolutely pull ...         skearn41\n",
      "1   Kaizer Chiefs blacklisted Mandla Masango and T...  LUCKY_MTHOMBENI\n",
      "2   @Ragnod49 @ArrowheadAddict Much respect!! \\n\\n...     ArrighiOrosz\n",
      "3   @davidmakepeace @ArrowheadAddict Chiefs fan he...     ArrighiOrosz\n",
      "4   I think I'm rooting for Mahomes and the Chiefs...      skepticgoat\n",
      "5   @JeffAllen71 @ProFootballTalk The 49ers don't ...    DaRealLopeezi\n",
      "6   @martyclevenger @ProFootballTalk Florio has a ...      brettoncole\n",
      "7   @ProFootballTalk @MikeFlorioPFT this is ridicu...       mellanclos\n",
      "8   @ProFootballTalk The fuck you talkin bout smfh...      SAWAIIAN650\n",
      "9   @ProFootballTalk How do the Chiefs stop that r...      book_nelson\n",
      "10  Why are we even having an election against law...      redalertnow\n",
      "11  @zach_seibel21 @NBCSports @ProFootballTalk We ...         hotchman\n",
      "12  @ProFootballTalk It's not just Chiefs fans whi...     auntiesuez45\n",
      "13  @ProFootballTalk I can not believe you suggest...       MikeMonnig\n",
      "14  @joaospierjr @AB_3127 @kennysnider7 @wendllyn ...  voodoomanland81\n",
      "15  @sternshow @JeromeBettis36 @cwotd @Chiefs @jon...         VlaclavK\n",
      "16  You literally advocated for guys on D to hit M...    DaveyGumdrops\n",
      "17  @ProFootballTalk As a niner fan, havng watched...       Maxgomez79\n",
      "18  @BillGroner1 @ProFootballTalk @CollinsworthPFF...        x_Slick24\n",
      "19  PFT SHOULD NOT support  anything  Mike Florio ...       markshogue\n"
     ]
    },
    {
     "name": "stderr",
     "output_type": "stream",
     "text": [
      "Grabbing bearer token from OAUTH\n",
      "Grabbing bearer token from OAUTH\n"
     ]
    },
    {
     "name": "stdout",
     "output_type": "stream",
     "text": [
      "56766 \n",
      "\n",
      "                                                 text           author\n",
      "0   @BigDrewandJim Stafford could absolutely pull ...         skearn41\n",
      "1   Kaizer Chiefs blacklisted Mandla Masango and T...  LUCKY_MTHOMBENI\n",
      "2   @Ragnod49 @ArrowheadAddict Much respect!! \\n\\n...     ArrighiOrosz\n",
      "3   @davidmakepeace @ArrowheadAddict Chiefs fan he...     ArrighiOrosz\n",
      "4   I think I'm rooting for Mahomes and the Chiefs...      skepticgoat\n",
      "5   @JeffAllen71 @ProFootballTalk The 49ers don't ...    DaRealLopeezi\n",
      "6   @martyclevenger @ProFootballTalk Florio has a ...      brettoncole\n",
      "7   @ProFootballTalk @MikeFlorioPFT this is ridicu...       mellanclos\n",
      "8   @ProFootballTalk The fuck you talkin bout smfh...      SAWAIIAN650\n",
      "9   @ProFootballTalk How do the Chiefs stop that r...      book_nelson\n",
      "10  Why are we even having an election against law...      redalertnow\n",
      "11  @zach_seibel21 @NBCSports @ProFootballTalk We ...         hotchman\n",
      "12  @ProFootballTalk It's not just Chiefs fans whi...     auntiesuez45\n",
      "13  @ProFootballTalk I can not believe you suggest...       MikeMonnig\n",
      "14  @joaospierjr @AB_3127 @kennysnider7 @wendllyn ...  voodoomanland81\n",
      "15  @sternshow @JeromeBettis36 @cwotd @Chiefs @jon...         VlaclavK\n",
      "16  You literally advocated for guys on D to hit M...    DaveyGumdrops\n",
      "17  @ProFootballTalk As a niner fan, havng watched...       Maxgomez79\n",
      "18  @BillGroner1 @ProFootballTalk @CollinsworthPFF...        x_Slick24\n",
      "19  PFT SHOULD NOT support  anything  Mike Florio ...       markshogue\n"
     ]
    },
    {
     "name": "stderr",
     "output_type": "stream",
     "text": [
      "Grabbing bearer token from OAUTH\n"
     ]
    },
    {
     "name": "stdout",
     "output_type": "stream",
     "text": [
      "57271 \n",
      "\n",
      "                                                 text           author\n",
      "0   @BigDrewandJim Stafford could absolutely pull ...         skearn41\n",
      "1   Kaizer Chiefs blacklisted Mandla Masango and T...  LUCKY_MTHOMBENI\n",
      "2   @Ragnod49 @ArrowheadAddict Much respect!! \\n\\n...     ArrighiOrosz\n",
      "3   @davidmakepeace @ArrowheadAddict Chiefs fan he...     ArrighiOrosz\n",
      "4   I think I'm rooting for Mahomes and the Chiefs...      skepticgoat\n",
      "5   @JeffAllen71 @ProFootballTalk The 49ers don't ...    DaRealLopeezi\n",
      "6   @martyclevenger @ProFootballTalk Florio has a ...      brettoncole\n",
      "7   @ProFootballTalk @MikeFlorioPFT this is ridicu...       mellanclos\n",
      "8   @ProFootballTalk The fuck you talkin bout smfh...      SAWAIIAN650\n",
      "9   @ProFootballTalk How do the Chiefs stop that r...      book_nelson\n",
      "10  Why are we even having an election against law...      redalertnow\n",
      "11  @zach_seibel21 @NBCSports @ProFootballTalk We ...         hotchman\n",
      "12  @ProFootballTalk It's not just Chiefs fans whi...     auntiesuez45\n",
      "13  @ProFootballTalk I can not believe you suggest...       MikeMonnig\n",
      "14  @joaospierjr @AB_3127 @kennysnider7 @wendllyn ...  voodoomanland81\n",
      "15  @sternshow @JeromeBettis36 @cwotd @Chiefs @jon...         VlaclavK\n",
      "16  You literally advocated for guys on D to hit M...    DaveyGumdrops\n",
      "17  @ProFootballTalk As a niner fan, havng watched...       Maxgomez79\n",
      "18  @BillGroner1 @ProFootballTalk @CollinsworthPFF...        x_Slick24\n",
      "19  PFT SHOULD NOT support  anything  Mike Florio ...       markshogue\n"
     ]
    },
    {
     "name": "stderr",
     "output_type": "stream",
     "text": [
      "Grabbing bearer token from OAUTH\n"
     ]
    },
    {
     "name": "stdout",
     "output_type": "stream",
     "text": [
      "65223 \n",
      "\n",
      "                                                 text           author\n",
      "0   @BigDrewandJim Stafford could absolutely pull ...         skearn41\n",
      "1   Kaizer Chiefs blacklisted Mandla Masango and T...  LUCKY_MTHOMBENI\n",
      "2   @Ragnod49 @ArrowheadAddict Much respect!! \\n\\n...     ArrighiOrosz\n",
      "3   @davidmakepeace @ArrowheadAddict Chiefs fan he...     ArrighiOrosz\n",
      "4   I think I'm rooting for Mahomes and the Chiefs...      skepticgoat\n",
      "5   @JeffAllen71 @ProFootballTalk The 49ers don't ...    DaRealLopeezi\n",
      "6   @martyclevenger @ProFootballTalk Florio has a ...      brettoncole\n",
      "7   @ProFootballTalk @MikeFlorioPFT this is ridicu...       mellanclos\n",
      "8   @ProFootballTalk The fuck you talkin bout smfh...      SAWAIIAN650\n",
      "9   @ProFootballTalk How do the Chiefs stop that r...      book_nelson\n",
      "10  Why are we even having an election against law...      redalertnow\n",
      "11  @zach_seibel21 @NBCSports @ProFootballTalk We ...         hotchman\n",
      "12  @ProFootballTalk It's not just Chiefs fans whi...     auntiesuez45\n",
      "13  @ProFootballTalk I can not believe you suggest...       MikeMonnig\n",
      "14  @joaospierjr @AB_3127 @kennysnider7 @wendllyn ...  voodoomanland81\n",
      "15  @sternshow @JeromeBettis36 @cwotd @Chiefs @jon...         VlaclavK\n",
      "16  You literally advocated for guys on D to hit M...    DaveyGumdrops\n",
      "17  @ProFootballTalk As a niner fan, havng watched...       Maxgomez79\n",
      "18  @BillGroner1 @ProFootballTalk @CollinsworthPFF...        x_Slick24\n",
      "19  PFT SHOULD NOT support  anything  Mike Florio ...       markshogue\n",
      "71829 \n",
      "\n",
      "                                                 text           author\n",
      "0   @BigDrewandJim Stafford could absolutely pull ...         skearn41\n",
      "1   Kaizer Chiefs blacklisted Mandla Masango and T...  LUCKY_MTHOMBENI\n",
      "2   @Ragnod49 @ArrowheadAddict Much respect!! \\n\\n...     ArrighiOrosz\n",
      "3   @davidmakepeace @ArrowheadAddict Chiefs fan he...     ArrighiOrosz\n",
      "4   I think I'm rooting for Mahomes and the Chiefs...      skepticgoat\n",
      "5   @JeffAllen71 @ProFootballTalk The 49ers don't ...    DaRealLopeezi\n",
      "6   @martyclevenger @ProFootballTalk Florio has a ...      brettoncole\n",
      "7   @ProFootballTalk @MikeFlorioPFT this is ridicu...       mellanclos\n",
      "8   @ProFootballTalk The fuck you talkin bout smfh...      SAWAIIAN650\n",
      "9   @ProFootballTalk How do the Chiefs stop that r...      book_nelson\n",
      "10  Why are we even having an election against law...      redalertnow\n",
      "11  @zach_seibel21 @NBCSports @ProFootballTalk We ...         hotchman\n",
      "12  @ProFootballTalk It's not just Chiefs fans whi...     auntiesuez45\n",
      "13  @ProFootballTalk I can not believe you suggest...       MikeMonnig\n",
      "14  @joaospierjr @AB_3127 @kennysnider7 @wendllyn ...  voodoomanland81\n",
      "15  @sternshow @JeromeBettis36 @cwotd @Chiefs @jon...         VlaclavK\n",
      "16  You literally advocated for guys on D to hit M...    DaveyGumdrops\n",
      "17  @ProFootballTalk As a niner fan, havng watched...       Maxgomez79\n",
      "18  @BillGroner1 @ProFootballTalk @CollinsworthPFF...        x_Slick24\n",
      "19  PFT SHOULD NOT support  anything  Mike Florio ...       markshogue\n"
     ]
    },
    {
     "name": "stderr",
     "output_type": "stream",
     "text": [
      "Grabbing bearer token from OAUTH\n"
     ]
    },
    {
     "name": "stdout",
     "output_type": "stream",
     "text": [
      "72720 \n",
      "\n",
      "                                                 text           author\n",
      "0   @BigDrewandJim Stafford could absolutely pull ...         skearn41\n",
      "1   Kaizer Chiefs blacklisted Mandla Masango and T...  LUCKY_MTHOMBENI\n",
      "2   @Ragnod49 @ArrowheadAddict Much respect!! \\n\\n...     ArrighiOrosz\n",
      "3   @davidmakepeace @ArrowheadAddict Chiefs fan he...     ArrighiOrosz\n",
      "4   I think I'm rooting for Mahomes and the Chiefs...      skepticgoat\n",
      "5   @JeffAllen71 @ProFootballTalk The 49ers don't ...    DaRealLopeezi\n",
      "6   @martyclevenger @ProFootballTalk Florio has a ...      brettoncole\n",
      "7   @ProFootballTalk @MikeFlorioPFT this is ridicu...       mellanclos\n",
      "8   @ProFootballTalk The fuck you talkin bout smfh...      SAWAIIAN650\n",
      "9   @ProFootballTalk How do the Chiefs stop that r...      book_nelson\n",
      "10  Why are we even having an election against law...      redalertnow\n",
      "11  @zach_seibel21 @NBCSports @ProFootballTalk We ...         hotchman\n",
      "12  @ProFootballTalk It's not just Chiefs fans whi...     auntiesuez45\n",
      "13  @ProFootballTalk I can not believe you suggest...       MikeMonnig\n",
      "14  @joaospierjr @AB_3127 @kennysnider7 @wendllyn ...  voodoomanland81\n",
      "15  @sternshow @JeromeBettis36 @cwotd @Chiefs @jon...         VlaclavK\n",
      "16  You literally advocated for guys on D to hit M...    DaveyGumdrops\n",
      "17  @ProFootballTalk As a niner fan, havng watched...       Maxgomez79\n",
      "18  @BillGroner1 @ProFootballTalk @CollinsworthPFF...        x_Slick24\n",
      "19  PFT SHOULD NOT support  anything  Mike Florio ...       markshogue\n"
     ]
    },
    {
     "name": "stderr",
     "output_type": "stream",
     "text": [
      "Grabbing bearer token from OAUTH\n",
      "Grabbing bearer token from OAUTH\n"
     ]
    },
    {
     "name": "stdout",
     "output_type": "stream",
     "text": [
      "72800 \n",
      "\n",
      "                                                 text           author\n",
      "0   @BigDrewandJim Stafford could absolutely pull ...         skearn41\n",
      "1   Kaizer Chiefs blacklisted Mandla Masango and T...  LUCKY_MTHOMBENI\n",
      "2   @Ragnod49 @ArrowheadAddict Much respect!! \\n\\n...     ArrighiOrosz\n",
      "3   @davidmakepeace @ArrowheadAddict Chiefs fan he...     ArrighiOrosz\n",
      "4   I think I'm rooting for Mahomes and the Chiefs...      skepticgoat\n",
      "5   @JeffAllen71 @ProFootballTalk The 49ers don't ...    DaRealLopeezi\n",
      "6   @martyclevenger @ProFootballTalk Florio has a ...      brettoncole\n",
      "7   @ProFootballTalk @MikeFlorioPFT this is ridicu...       mellanclos\n",
      "8   @ProFootballTalk The fuck you talkin bout smfh...      SAWAIIAN650\n",
      "9   @ProFootballTalk How do the Chiefs stop that r...      book_nelson\n",
      "10  Why are we even having an election against law...      redalertnow\n",
      "11  @zach_seibel21 @NBCSports @ProFootballTalk We ...         hotchman\n",
      "12  @ProFootballTalk It's not just Chiefs fans whi...     auntiesuez45\n",
      "13  @ProFootballTalk I can not believe you suggest...       MikeMonnig\n",
      "14  @joaospierjr @AB_3127 @kennysnider7 @wendllyn ...  voodoomanland81\n",
      "15  @sternshow @JeromeBettis36 @cwotd @Chiefs @jon...         VlaclavK\n",
      "16  You literally advocated for guys on D to hit M...    DaveyGumdrops\n",
      "17  @ProFootballTalk As a niner fan, havng watched...       Maxgomez79\n",
      "18  @BillGroner1 @ProFootballTalk @CollinsworthPFF...        x_Slick24\n",
      "19  PFT SHOULD NOT support  anything  Mike Florio ...       markshogue\n",
      "75513 \n",
      "\n",
      "                                                 text           author\n",
      "0   @BigDrewandJim Stafford could absolutely pull ...         skearn41\n",
      "1   Kaizer Chiefs blacklisted Mandla Masango and T...  LUCKY_MTHOMBENI\n",
      "2   @Ragnod49 @ArrowheadAddict Much respect!! \\n\\n...     ArrighiOrosz\n",
      "3   @davidmakepeace @ArrowheadAddict Chiefs fan he...     ArrighiOrosz\n",
      "4   I think I'm rooting for Mahomes and the Chiefs...      skepticgoat\n",
      "5   @JeffAllen71 @ProFootballTalk The 49ers don't ...    DaRealLopeezi\n",
      "6   @martyclevenger @ProFootballTalk Florio has a ...      brettoncole\n",
      "7   @ProFootballTalk @MikeFlorioPFT this is ridicu...       mellanclos\n",
      "8   @ProFootballTalk The fuck you talkin bout smfh...      SAWAIIAN650\n",
      "9   @ProFootballTalk How do the Chiefs stop that r...      book_nelson\n",
      "10  Why are we even having an election against law...      redalertnow\n",
      "11  @zach_seibel21 @NBCSports @ProFootballTalk We ...         hotchman\n",
      "12  @ProFootballTalk It's not just Chiefs fans whi...     auntiesuez45\n",
      "13  @ProFootballTalk I can not believe you suggest...       MikeMonnig\n",
      "14  @joaospierjr @AB_3127 @kennysnider7 @wendllyn ...  voodoomanland81\n",
      "15  @sternshow @JeromeBettis36 @cwotd @Chiefs @jon...         VlaclavK\n",
      "16  You literally advocated for guys on D to hit M...    DaveyGumdrops\n",
      "17  @ProFootballTalk As a niner fan, havng watched...       Maxgomez79\n",
      "18  @BillGroner1 @ProFootballTalk @CollinsworthPFF...        x_Slick24\n",
      "19  PFT SHOULD NOT support  anything  Mike Florio ...       markshogue\n"
     ]
    }
   ],
   "source": [
    "chiefs_queries_master_df = try_terms('chiefs')"
   ]
  },
  {
   "cell_type": "code",
   "execution_count": 72,
   "metadata": {},
   "outputs": [
    {
     "name": "stdout",
     "output_type": "stream",
     "text": [
      "75513\n"
     ]
    }
   ],
   "source": [
    "print(len(chiefs_queries_master_df))"
   ]
  },
  {
   "cell_type": "code",
   "execution_count": 100,
   "metadata": {},
   "outputs": [],
   "source": [
    "chiefs_queries_master_df.to_csv('chiefs_queries_master_df_Jan_28_2020.csv')"
   ]
  },
  {
   "cell_type": "code",
   "execution_count": 85,
   "metadata": {},
   "outputs": [
    {
     "name": "stdout",
     "output_type": "stream",
     "text": [
      "6539 \n",
      "\n",
      "1014 \n",
      "\n",
      "7553\n"
     ]
    }
   ],
   "source": [
    "# test\n",
    "\n",
    "c_test_df1 = chiefs_queries_master_df[chiefs_queries_master_df['text'].str.contains('dead')]\n",
    "\n",
    "c_test_df2 = chiefs_queries_master_df[chiefs_queries_master_df['text'].str.contains('Dead')]\n",
    "\n",
    "print(len(c_test_df1), '\\n')\n",
    "\n",
    "print(len(c_test_df2), '\\n')\n",
    "\n",
    "print(len(c_test_df1) + len(c_test_df2))"
   ]
  },
  {
   "cell_type": "code",
   "execution_count": 79,
   "metadata": {},
   "outputs": [
    {
     "name": "stderr",
     "output_type": "stream",
     "text": [
      "Grabbing bearer token from OAUTH\n"
     ]
    },
    {
     "name": "stdout",
     "output_type": "stream",
     "text": [
      "2193 \n",
      "\n",
      "                                                 text           author\n",
      "0   @Triplebake88 @DanSileoShow @ProFootballTalk @...       Thomason03\n",
      "1   @Phillies_49ers @codymurray1 @JeffAllen71 100%...         ZhombieV\n",
      "2   So Florio's way out of the mess he's gotten hi...   Aksala07273193\n",
      "3   @5ivves @m_vogan @pebdog5 @AB_3127 @ProFootbal...        9nerGang5\n",
      "4   @AB_3127 @ProFootballTalk 100% of 49ers fans H...       MyleStates\n",
      "5   @Ragnod49 @ArrowheadAddict Much respect!! \\n\\n...     ArrighiOrosz\n",
      "6   @davidmakepeace @ArrowheadAddict Chiefs fan he...     ArrighiOrosz\n",
      "7   @ProFootballTalk You also said Jimmy was gonna...          Turo420\n",
      "8   I think I'm rooting for Mahomes and the Chiefs...      skepticgoat\n",
      "9   @JeffAllen71 @ProFootballTalk The 49ers don't ...    DaRealLopeezi\n",
      "10  I was an Infantryman. I believe in the trenche...    InspireMe2287\n",
      "11  @pattyWarren13 @ProFootballTalk Niners fans sh...     ArrighiOrosz\n",
      "12  @emmerz08 @YourBoyRocha So basically no one sa...  H0neybadger49er\n",
      "13  @ProFootballTalk No, we're hearing what you CL...       d_morivers\n",
      "14  @ArrowheadAddict Florio is a grade A certifiab...         rf092115\n",
      "15  @ProFootballTalk I can not believe you suggest...       MikeMonnig\n",
      "16  @ProFootballTalk No, they're getting mad at ho...     ARMYmomsRock\n",
      "17  @Perry_49ers @ProFootballTalk He’s not wrong. ...       Zedd1sDead\n",
      "18  @AbrahamGN2 About being physical sure. No one ...      dwoverdrive\n",
      "19  @ProFootballTalk YOU said that you big fat hai...         ohraiyan\n"
     ]
    },
    {
     "name": "stderr",
     "output_type": "stream",
     "text": [
      "Grabbing bearer token from OAUTH\n",
      "Grabbing bearer token from OAUTH\n"
     ]
    },
    {
     "name": "stdout",
     "output_type": "stream",
     "text": [
      "2384 \n",
      "\n",
      "                                                 text           author\n",
      "0   @Triplebake88 @DanSileoShow @ProFootballTalk @...       Thomason03\n",
      "1   @Phillies_49ers @codymurray1 @JeffAllen71 100%...         ZhombieV\n",
      "2   So Florio's way out of the mess he's gotten hi...   Aksala07273193\n",
      "3   @5ivves @m_vogan @pebdog5 @AB_3127 @ProFootbal...        9nerGang5\n",
      "4   @AB_3127 @ProFootballTalk 100% of 49ers fans H...       MyleStates\n",
      "5   @Ragnod49 @ArrowheadAddict Much respect!! \\n\\n...     ArrighiOrosz\n",
      "6   @davidmakepeace @ArrowheadAddict Chiefs fan he...     ArrighiOrosz\n",
      "7   @ProFootballTalk You also said Jimmy was gonna...          Turo420\n",
      "8   I think I'm rooting for Mahomes and the Chiefs...      skepticgoat\n",
      "9   @JeffAllen71 @ProFootballTalk The 49ers don't ...    DaRealLopeezi\n",
      "10  I was an Infantryman. I believe in the trenche...    InspireMe2287\n",
      "11  @pattyWarren13 @ProFootballTalk Niners fans sh...     ArrighiOrosz\n",
      "12  @emmerz08 @YourBoyRocha So basically no one sa...  H0neybadger49er\n",
      "13  @ProFootballTalk No, we're hearing what you CL...       d_morivers\n",
      "14  @ArrowheadAddict Florio is a grade A certifiab...         rf092115\n",
      "15  @ProFootballTalk I can not believe you suggest...       MikeMonnig\n",
      "16  @ProFootballTalk No, they're getting mad at ho...     ARMYmomsRock\n",
      "17  @Perry_49ers @ProFootballTalk He’s not wrong. ...       Zedd1sDead\n",
      "18  @AbrahamGN2 About being physical sure. No one ...      dwoverdrive\n",
      "19  @ProFootballTalk YOU said that you big fat hai...         ohraiyan\n",
      "9554 \n",
      "\n",
      "                                                 text           author\n",
      "0   @Triplebake88 @DanSileoShow @ProFootballTalk @...       Thomason03\n",
      "1   @Phillies_49ers @codymurray1 @JeffAllen71 100%...         ZhombieV\n",
      "2   So Florio's way out of the mess he's gotten hi...   Aksala07273193\n",
      "3   @5ivves @m_vogan @pebdog5 @AB_3127 @ProFootbal...        9nerGang5\n",
      "4   @AB_3127 @ProFootballTalk 100% of 49ers fans H...       MyleStates\n",
      "5   @Ragnod49 @ArrowheadAddict Much respect!! \\n\\n...     ArrighiOrosz\n",
      "6   @davidmakepeace @ArrowheadAddict Chiefs fan he...     ArrighiOrosz\n",
      "7   @ProFootballTalk You also said Jimmy was gonna...          Turo420\n",
      "8   I think I'm rooting for Mahomes and the Chiefs...      skepticgoat\n",
      "9   @JeffAllen71 @ProFootballTalk The 49ers don't ...    DaRealLopeezi\n",
      "10  I was an Infantryman. I believe in the trenche...    InspireMe2287\n",
      "11  @pattyWarren13 @ProFootballTalk Niners fans sh...     ArrighiOrosz\n",
      "12  @emmerz08 @YourBoyRocha So basically no one sa...  H0neybadger49er\n",
      "13  @ProFootballTalk No, we're hearing what you CL...       d_morivers\n",
      "14  @ArrowheadAddict Florio is a grade A certifiab...         rf092115\n",
      "15  @ProFootballTalk I can not believe you suggest...       MikeMonnig\n",
      "16  @ProFootballTalk No, they're getting mad at ho...     ARMYmomsRock\n",
      "17  @Perry_49ers @ProFootballTalk He’s not wrong. ...       Zedd1sDead\n",
      "18  @AbrahamGN2 About being physical sure. No one ...      dwoverdrive\n",
      "19  @ProFootballTalk YOU said that you big fat hai...         ohraiyan\n"
     ]
    },
    {
     "name": "stderr",
     "output_type": "stream",
     "text": [
      "Grabbing bearer token from OAUTH\n"
     ]
    },
    {
     "name": "stdout",
     "output_type": "stream",
     "text": [
      "13963 \n",
      "\n",
      "                                                 text           author\n",
      "0   @Triplebake88 @DanSileoShow @ProFootballTalk @...       Thomason03\n",
      "1   @Phillies_49ers @codymurray1 @JeffAllen71 100%...         ZhombieV\n",
      "2   So Florio's way out of the mess he's gotten hi...   Aksala07273193\n",
      "3   @5ivves @m_vogan @pebdog5 @AB_3127 @ProFootbal...        9nerGang5\n",
      "4   @AB_3127 @ProFootballTalk 100% of 49ers fans H...       MyleStates\n",
      "5   @Ragnod49 @ArrowheadAddict Much respect!! \\n\\n...     ArrighiOrosz\n",
      "6   @davidmakepeace @ArrowheadAddict Chiefs fan he...     ArrighiOrosz\n",
      "7   @ProFootballTalk You also said Jimmy was gonna...          Turo420\n",
      "8   I think I'm rooting for Mahomes and the Chiefs...      skepticgoat\n",
      "9   @JeffAllen71 @ProFootballTalk The 49ers don't ...    DaRealLopeezi\n",
      "10  I was an Infantryman. I believe in the trenche...    InspireMe2287\n",
      "11  @pattyWarren13 @ProFootballTalk Niners fans sh...     ArrighiOrosz\n",
      "12  @emmerz08 @YourBoyRocha So basically no one sa...  H0neybadger49er\n",
      "13  @ProFootballTalk No, we're hearing what you CL...       d_morivers\n",
      "14  @ArrowheadAddict Florio is a grade A certifiab...         rf092115\n",
      "15  @ProFootballTalk I can not believe you suggest...       MikeMonnig\n",
      "16  @ProFootballTalk No, they're getting mad at ho...     ARMYmomsRock\n",
      "17  @Perry_49ers @ProFootballTalk He’s not wrong. ...       Zedd1sDead\n",
      "18  @AbrahamGN2 About being physical sure. No one ...      dwoverdrive\n",
      "19  @ProFootballTalk YOU said that you big fat hai...         ohraiyan\n"
     ]
    },
    {
     "name": "stderr",
     "output_type": "stream",
     "text": [
      "Grabbing bearer token from OAUTH\n",
      "Grabbing bearer token from OAUTH\n"
     ]
    },
    {
     "name": "stdout",
     "output_type": "stream",
     "text": [
      "14139 \n",
      "\n",
      "                                                 text           author\n",
      "0   @Triplebake88 @DanSileoShow @ProFootballTalk @...       Thomason03\n",
      "1   @Phillies_49ers @codymurray1 @JeffAllen71 100%...         ZhombieV\n",
      "2   So Florio's way out of the mess he's gotten hi...   Aksala07273193\n",
      "3   @5ivves @m_vogan @pebdog5 @AB_3127 @ProFootbal...        9nerGang5\n",
      "4   @AB_3127 @ProFootballTalk 100% of 49ers fans H...       MyleStates\n",
      "5   @Ragnod49 @ArrowheadAddict Much respect!! \\n\\n...     ArrighiOrosz\n",
      "6   @davidmakepeace @ArrowheadAddict Chiefs fan he...     ArrighiOrosz\n",
      "7   @ProFootballTalk You also said Jimmy was gonna...          Turo420\n",
      "8   I think I'm rooting for Mahomes and the Chiefs...      skepticgoat\n",
      "9   @JeffAllen71 @ProFootballTalk The 49ers don't ...    DaRealLopeezi\n",
      "10  I was an Infantryman. I believe in the trenche...    InspireMe2287\n",
      "11  @pattyWarren13 @ProFootballTalk Niners fans sh...     ArrighiOrosz\n",
      "12  @emmerz08 @YourBoyRocha So basically no one sa...  H0neybadger49er\n",
      "13  @ProFootballTalk No, we're hearing what you CL...       d_morivers\n",
      "14  @ArrowheadAddict Florio is a grade A certifiab...         rf092115\n",
      "15  @ProFootballTalk I can not believe you suggest...       MikeMonnig\n",
      "16  @ProFootballTalk No, they're getting mad at ho...     ARMYmomsRock\n",
      "17  @Perry_49ers @ProFootballTalk He’s not wrong. ...       Zedd1sDead\n",
      "18  @AbrahamGN2 About being physical sure. No one ...      dwoverdrive\n",
      "19  @ProFootballTalk YOU said that you big fat hai...         ohraiyan\n",
      "15880 \n",
      "\n",
      "                                                 text           author\n",
      "0   @Triplebake88 @DanSileoShow @ProFootballTalk @...       Thomason03\n",
      "1   @Phillies_49ers @codymurray1 @JeffAllen71 100%...         ZhombieV\n",
      "2   So Florio's way out of the mess he's gotten hi...   Aksala07273193\n",
      "3   @5ivves @m_vogan @pebdog5 @AB_3127 @ProFootbal...        9nerGang5\n",
      "4   @AB_3127 @ProFootballTalk 100% of 49ers fans H...       MyleStates\n",
      "5   @Ragnod49 @ArrowheadAddict Much respect!! \\n\\n...     ArrighiOrosz\n",
      "6   @davidmakepeace @ArrowheadAddict Chiefs fan he...     ArrighiOrosz\n",
      "7   @ProFootballTalk You also said Jimmy was gonna...          Turo420\n",
      "8   I think I'm rooting for Mahomes and the Chiefs...      skepticgoat\n",
      "9   @JeffAllen71 @ProFootballTalk The 49ers don't ...    DaRealLopeezi\n",
      "10  I was an Infantryman. I believe in the trenche...    InspireMe2287\n",
      "11  @pattyWarren13 @ProFootballTalk Niners fans sh...     ArrighiOrosz\n",
      "12  @emmerz08 @YourBoyRocha So basically no one sa...  H0neybadger49er\n",
      "13  @ProFootballTalk No, we're hearing what you CL...       d_morivers\n",
      "14  @ArrowheadAddict Florio is a grade A certifiab...         rf092115\n",
      "15  @ProFootballTalk I can not believe you suggest...       MikeMonnig\n",
      "16  @ProFootballTalk No, they're getting mad at ho...     ARMYmomsRock\n",
      "17  @Perry_49ers @ProFootballTalk He’s not wrong. ...       Zedd1sDead\n",
      "18  @AbrahamGN2 About being physical sure. No one ...      dwoverdrive\n",
      "19  @ProFootballTalk YOU said that you big fat hai...         ohraiyan\n"
     ]
    },
    {
     "name": "stderr",
     "output_type": "stream",
     "text": [
      "Grabbing bearer token from OAUTH\n",
      "Grabbing bearer token from OAUTH\n"
     ]
    },
    {
     "name": "stdout",
     "output_type": "stream",
     "text": [
      "15895 \n",
      "\n",
      "                                                 text           author\n",
      "0   @Triplebake88 @DanSileoShow @ProFootballTalk @...       Thomason03\n",
      "1   @Phillies_49ers @codymurray1 @JeffAllen71 100%...         ZhombieV\n",
      "2   So Florio's way out of the mess he's gotten hi...   Aksala07273193\n",
      "3   @5ivves @m_vogan @pebdog5 @AB_3127 @ProFootbal...        9nerGang5\n",
      "4   @AB_3127 @ProFootballTalk 100% of 49ers fans H...       MyleStates\n",
      "5   @Ragnod49 @ArrowheadAddict Much respect!! \\n\\n...     ArrighiOrosz\n",
      "6   @davidmakepeace @ArrowheadAddict Chiefs fan he...     ArrighiOrosz\n",
      "7   @ProFootballTalk You also said Jimmy was gonna...          Turo420\n",
      "8   I think I'm rooting for Mahomes and the Chiefs...      skepticgoat\n",
      "9   @JeffAllen71 @ProFootballTalk The 49ers don't ...    DaRealLopeezi\n",
      "10  I was an Infantryman. I believe in the trenche...    InspireMe2287\n",
      "11  @pattyWarren13 @ProFootballTalk Niners fans sh...     ArrighiOrosz\n",
      "12  @emmerz08 @YourBoyRocha So basically no one sa...  H0neybadger49er\n",
      "13  @ProFootballTalk No, we're hearing what you CL...       d_morivers\n",
      "14  @ArrowheadAddict Florio is a grade A certifiab...         rf092115\n",
      "15  @ProFootballTalk I can not believe you suggest...       MikeMonnig\n",
      "16  @ProFootballTalk No, they're getting mad at ho...     ARMYmomsRock\n",
      "17  @Perry_49ers @ProFootballTalk He’s not wrong. ...       Zedd1sDead\n",
      "18  @AbrahamGN2 About being physical sure. No one ...      dwoverdrive\n",
      "19  @ProFootballTalk YOU said that you big fat hai...         ohraiyan\n"
     ]
    },
    {
     "name": "stderr",
     "output_type": "stream",
     "text": [
      "Grabbing bearer token from OAUTH\n"
     ]
    },
    {
     "name": "stdout",
     "output_type": "stream",
     "text": [
      "16798 \n",
      "\n",
      "                                                 text           author\n",
      "0   @Triplebake88 @DanSileoShow @ProFootballTalk @...       Thomason03\n",
      "1   @Phillies_49ers @codymurray1 @JeffAllen71 100%...         ZhombieV\n",
      "2   So Florio's way out of the mess he's gotten hi...   Aksala07273193\n",
      "3   @5ivves @m_vogan @pebdog5 @AB_3127 @ProFootbal...        9nerGang5\n",
      "4   @AB_3127 @ProFootballTalk 100% of 49ers fans H...       MyleStates\n",
      "5   @Ragnod49 @ArrowheadAddict Much respect!! \\n\\n...     ArrighiOrosz\n",
      "6   @davidmakepeace @ArrowheadAddict Chiefs fan he...     ArrighiOrosz\n",
      "7   @ProFootballTalk You also said Jimmy was gonna...          Turo420\n",
      "8   I think I'm rooting for Mahomes and the Chiefs...      skepticgoat\n",
      "9   @JeffAllen71 @ProFootballTalk The 49ers don't ...    DaRealLopeezi\n",
      "10  I was an Infantryman. I believe in the trenche...    InspireMe2287\n",
      "11  @pattyWarren13 @ProFootballTalk Niners fans sh...     ArrighiOrosz\n",
      "12  @emmerz08 @YourBoyRocha So basically no one sa...  H0neybadger49er\n",
      "13  @ProFootballTalk No, we're hearing what you CL...       d_morivers\n",
      "14  @ArrowheadAddict Florio is a grade A certifiab...         rf092115\n",
      "15  @ProFootballTalk I can not believe you suggest...       MikeMonnig\n",
      "16  @ProFootballTalk No, they're getting mad at ho...     ARMYmomsRock\n",
      "17  @Perry_49ers @ProFootballTalk He’s not wrong. ...       Zedd1sDead\n",
      "18  @AbrahamGN2 About being physical sure. No one ...      dwoverdrive\n",
      "19  @ProFootballTalk YOU said that you big fat hai...         ohraiyan\n"
     ]
    },
    {
     "name": "stderr",
     "output_type": "stream",
     "text": [
      "Grabbing bearer token from OAUTH\n"
     ]
    },
    {
     "name": "stdout",
     "output_type": "stream",
     "text": [
      "20823 \n",
      "\n",
      "                                                 text           author\n",
      "0   @Triplebake88 @DanSileoShow @ProFootballTalk @...       Thomason03\n",
      "1   @Phillies_49ers @codymurray1 @JeffAllen71 100%...         ZhombieV\n",
      "2   So Florio's way out of the mess he's gotten hi...   Aksala07273193\n",
      "3   @5ivves @m_vogan @pebdog5 @AB_3127 @ProFootbal...        9nerGang5\n",
      "4   @AB_3127 @ProFootballTalk 100% of 49ers fans H...       MyleStates\n",
      "5   @Ragnod49 @ArrowheadAddict Much respect!! \\n\\n...     ArrighiOrosz\n",
      "6   @davidmakepeace @ArrowheadAddict Chiefs fan he...     ArrighiOrosz\n",
      "7   @ProFootballTalk You also said Jimmy was gonna...          Turo420\n",
      "8   I think I'm rooting for Mahomes and the Chiefs...      skepticgoat\n",
      "9   @JeffAllen71 @ProFootballTalk The 49ers don't ...    DaRealLopeezi\n",
      "10  I was an Infantryman. I believe in the trenche...    InspireMe2287\n",
      "11  @pattyWarren13 @ProFootballTalk Niners fans sh...     ArrighiOrosz\n",
      "12  @emmerz08 @YourBoyRocha So basically no one sa...  H0neybadger49er\n",
      "13  @ProFootballTalk No, we're hearing what you CL...       d_morivers\n",
      "14  @ArrowheadAddict Florio is a grade A certifiab...         rf092115\n",
      "15  @ProFootballTalk I can not believe you suggest...       MikeMonnig\n",
      "16  @ProFootballTalk No, they're getting mad at ho...     ARMYmomsRock\n",
      "17  @Perry_49ers @ProFootballTalk He’s not wrong. ...       Zedd1sDead\n",
      "18  @AbrahamGN2 About being physical sure. No one ...      dwoverdrive\n",
      "19  @ProFootballTalk YOU said that you big fat hai...         ohraiyan\n"
     ]
    },
    {
     "name": "stderr",
     "output_type": "stream",
     "text": [
      "Grabbing bearer token from OAUTH\n"
     ]
    },
    {
     "name": "stdout",
     "output_type": "stream",
     "text": [
      "24778 \n",
      "\n",
      "                                                 text           author\n",
      "0   @Triplebake88 @DanSileoShow @ProFootballTalk @...       Thomason03\n",
      "1   @Phillies_49ers @codymurray1 @JeffAllen71 100%...         ZhombieV\n",
      "2   So Florio's way out of the mess he's gotten hi...   Aksala07273193\n",
      "3   @5ivves @m_vogan @pebdog5 @AB_3127 @ProFootbal...        9nerGang5\n",
      "4   @AB_3127 @ProFootballTalk 100% of 49ers fans H...       MyleStates\n",
      "5   @Ragnod49 @ArrowheadAddict Much respect!! \\n\\n...     ArrighiOrosz\n",
      "6   @davidmakepeace @ArrowheadAddict Chiefs fan he...     ArrighiOrosz\n",
      "7   @ProFootballTalk You also said Jimmy was gonna...          Turo420\n",
      "8   I think I'm rooting for Mahomes and the Chiefs...      skepticgoat\n",
      "9   @JeffAllen71 @ProFootballTalk The 49ers don't ...    DaRealLopeezi\n",
      "10  I was an Infantryman. I believe in the trenche...    InspireMe2287\n",
      "11  @pattyWarren13 @ProFootballTalk Niners fans sh...     ArrighiOrosz\n",
      "12  @emmerz08 @YourBoyRocha So basically no one sa...  H0neybadger49er\n",
      "13  @ProFootballTalk No, we're hearing what you CL...       d_morivers\n",
      "14  @ArrowheadAddict Florio is a grade A certifiab...         rf092115\n",
      "15  @ProFootballTalk I can not believe you suggest...       MikeMonnig\n",
      "16  @ProFootballTalk No, they're getting mad at ho...     ARMYmomsRock\n",
      "17  @Perry_49ers @ProFootballTalk He’s not wrong. ...       Zedd1sDead\n",
      "18  @AbrahamGN2 About being physical sure. No one ...      dwoverdrive\n",
      "19  @ProFootballTalk YOU said that you big fat hai...         ohraiyan\n"
     ]
    },
    {
     "name": "stderr",
     "output_type": "stream",
     "text": [
      "Grabbing bearer token from OAUTH\n"
     ]
    },
    {
     "name": "stdout",
     "output_type": "stream",
     "text": [
      "25762 \n",
      "\n",
      "                                                 text           author\n",
      "0   @Triplebake88 @DanSileoShow @ProFootballTalk @...       Thomason03\n",
      "1   @Phillies_49ers @codymurray1 @JeffAllen71 100%...         ZhombieV\n",
      "2   So Florio's way out of the mess he's gotten hi...   Aksala07273193\n",
      "3   @5ivves @m_vogan @pebdog5 @AB_3127 @ProFootbal...        9nerGang5\n",
      "4   @AB_3127 @ProFootballTalk 100% of 49ers fans H...       MyleStates\n",
      "5   @Ragnod49 @ArrowheadAddict Much respect!! \\n\\n...     ArrighiOrosz\n",
      "6   @davidmakepeace @ArrowheadAddict Chiefs fan he...     ArrighiOrosz\n",
      "7   @ProFootballTalk You also said Jimmy was gonna...          Turo420\n",
      "8   I think I'm rooting for Mahomes and the Chiefs...      skepticgoat\n",
      "9   @JeffAllen71 @ProFootballTalk The 49ers don't ...    DaRealLopeezi\n",
      "10  I was an Infantryman. I believe in the trenche...    InspireMe2287\n",
      "11  @pattyWarren13 @ProFootballTalk Niners fans sh...     ArrighiOrosz\n",
      "12  @emmerz08 @YourBoyRocha So basically no one sa...  H0neybadger49er\n",
      "13  @ProFootballTalk No, we're hearing what you CL...       d_morivers\n",
      "14  @ArrowheadAddict Florio is a grade A certifiab...         rf092115\n",
      "15  @ProFootballTalk I can not believe you suggest...       MikeMonnig\n",
      "16  @ProFootballTalk No, they're getting mad at ho...     ARMYmomsRock\n",
      "17  @Perry_49ers @ProFootballTalk He’s not wrong. ...       Zedd1sDead\n",
      "18  @AbrahamGN2 About being physical sure. No one ...      dwoverdrive\n",
      "19  @ProFootballTalk YOU said that you big fat hai...         ohraiyan\n"
     ]
    },
    {
     "name": "stderr",
     "output_type": "stream",
     "text": [
      "Grabbing bearer token from OAUTH\n"
     ]
    },
    {
     "name": "stdout",
     "output_type": "stream",
     "text": [
      "25764 \n",
      "\n",
      "                                                 text           author\n",
      "0   @Triplebake88 @DanSileoShow @ProFootballTalk @...       Thomason03\n",
      "1   @Phillies_49ers @codymurray1 @JeffAllen71 100%...         ZhombieV\n",
      "2   So Florio's way out of the mess he's gotten hi...   Aksala07273193\n",
      "3   @5ivves @m_vogan @pebdog5 @AB_3127 @ProFootbal...        9nerGang5\n",
      "4   @AB_3127 @ProFootballTalk 100% of 49ers fans H...       MyleStates\n",
      "5   @Ragnod49 @ArrowheadAddict Much respect!! \\n\\n...     ArrighiOrosz\n",
      "6   @davidmakepeace @ArrowheadAddict Chiefs fan he...     ArrighiOrosz\n",
      "7   @ProFootballTalk You also said Jimmy was gonna...          Turo420\n",
      "8   I think I'm rooting for Mahomes and the Chiefs...      skepticgoat\n",
      "9   @JeffAllen71 @ProFootballTalk The 49ers don't ...    DaRealLopeezi\n",
      "10  I was an Infantryman. I believe in the trenche...    InspireMe2287\n",
      "11  @pattyWarren13 @ProFootballTalk Niners fans sh...     ArrighiOrosz\n",
      "12  @emmerz08 @YourBoyRocha So basically no one sa...  H0neybadger49er\n",
      "13  @ProFootballTalk No, we're hearing what you CL...       d_morivers\n",
      "14  @ArrowheadAddict Florio is a grade A certifiab...         rf092115\n",
      "15  @ProFootballTalk I can not believe you suggest...       MikeMonnig\n",
      "16  @ProFootballTalk No, they're getting mad at ho...     ARMYmomsRock\n",
      "17  @Perry_49ers @ProFootballTalk He’s not wrong. ...       Zedd1sDead\n",
      "18  @AbrahamGN2 About being physical sure. No one ...      dwoverdrive\n",
      "19  @ProFootballTalk YOU said that you big fat hai...         ohraiyan\n"
     ]
    },
    {
     "name": "stderr",
     "output_type": "stream",
     "text": [
      "Grabbing bearer token from OAUTH\n"
     ]
    },
    {
     "name": "stdout",
     "output_type": "stream",
     "text": [
      "27651 \n",
      "\n",
      "                                                 text           author\n",
      "0   @Triplebake88 @DanSileoShow @ProFootballTalk @...       Thomason03\n",
      "1   @Phillies_49ers @codymurray1 @JeffAllen71 100%...         ZhombieV\n",
      "2   So Florio's way out of the mess he's gotten hi...   Aksala07273193\n",
      "3   @5ivves @m_vogan @pebdog5 @AB_3127 @ProFootbal...        9nerGang5\n",
      "4   @AB_3127 @ProFootballTalk 100% of 49ers fans H...       MyleStates\n",
      "5   @Ragnod49 @ArrowheadAddict Much respect!! \\n\\n...     ArrighiOrosz\n",
      "6   @davidmakepeace @ArrowheadAddict Chiefs fan he...     ArrighiOrosz\n",
      "7   @ProFootballTalk You also said Jimmy was gonna...          Turo420\n",
      "8   I think I'm rooting for Mahomes and the Chiefs...      skepticgoat\n",
      "9   @JeffAllen71 @ProFootballTalk The 49ers don't ...    DaRealLopeezi\n",
      "10  I was an Infantryman. I believe in the trenche...    InspireMe2287\n",
      "11  @pattyWarren13 @ProFootballTalk Niners fans sh...     ArrighiOrosz\n",
      "12  @emmerz08 @YourBoyRocha So basically no one sa...  H0neybadger49er\n",
      "13  @ProFootballTalk No, we're hearing what you CL...       d_morivers\n",
      "14  @ArrowheadAddict Florio is a grade A certifiab...         rf092115\n",
      "15  @ProFootballTalk I can not believe you suggest...       MikeMonnig\n",
      "16  @ProFootballTalk No, they're getting mad at ho...     ARMYmomsRock\n",
      "17  @Perry_49ers @ProFootballTalk He’s not wrong. ...       Zedd1sDead\n",
      "18  @AbrahamGN2 About being physical sure. No one ...      dwoverdrive\n",
      "19  @ProFootballTalk YOU said that you big fat hai...         ohraiyan\n"
     ]
    },
    {
     "name": "stderr",
     "output_type": "stream",
     "text": [
      "Grabbing bearer token from OAUTH\n"
     ]
    },
    {
     "name": "stdout",
     "output_type": "stream",
     "text": [
      "27654 \n",
      "\n",
      "                                                 text           author\n",
      "0   @Triplebake88 @DanSileoShow @ProFootballTalk @...       Thomason03\n",
      "1   @Phillies_49ers @codymurray1 @JeffAllen71 100%...         ZhombieV\n",
      "2   So Florio's way out of the mess he's gotten hi...   Aksala07273193\n",
      "3   @5ivves @m_vogan @pebdog5 @AB_3127 @ProFootbal...        9nerGang5\n",
      "4   @AB_3127 @ProFootballTalk 100% of 49ers fans H...       MyleStates\n",
      "5   @Ragnod49 @ArrowheadAddict Much respect!! \\n\\n...     ArrighiOrosz\n",
      "6   @davidmakepeace @ArrowheadAddict Chiefs fan he...     ArrighiOrosz\n",
      "7   @ProFootballTalk You also said Jimmy was gonna...          Turo420\n",
      "8   I think I'm rooting for Mahomes and the Chiefs...      skepticgoat\n",
      "9   @JeffAllen71 @ProFootballTalk The 49ers don't ...    DaRealLopeezi\n",
      "10  I was an Infantryman. I believe in the trenche...    InspireMe2287\n",
      "11  @pattyWarren13 @ProFootballTalk Niners fans sh...     ArrighiOrosz\n",
      "12  @emmerz08 @YourBoyRocha So basically no one sa...  H0neybadger49er\n",
      "13  @ProFootballTalk No, we're hearing what you CL...       d_morivers\n",
      "14  @ArrowheadAddict Florio is a grade A certifiab...         rf092115\n",
      "15  @ProFootballTalk I can not believe you suggest...       MikeMonnig\n",
      "16  @ProFootballTalk No, they're getting mad at ho...     ARMYmomsRock\n",
      "17  @Perry_49ers @ProFootballTalk He’s not wrong. ...       Zedd1sDead\n",
      "18  @AbrahamGN2 About being physical sure. No one ...      dwoverdrive\n",
      "19  @ProFootballTalk YOU said that you big fat hai...         ohraiyan\n"
     ]
    },
    {
     "name": "stderr",
     "output_type": "stream",
     "text": [
      "Grabbing bearer token from OAUTH\n"
     ]
    },
    {
     "name": "stdout",
     "output_type": "stream",
     "text": [
      "27659 \n",
      "\n",
      "                                                 text           author\n",
      "0   @Triplebake88 @DanSileoShow @ProFootballTalk @...       Thomason03\n",
      "1   @Phillies_49ers @codymurray1 @JeffAllen71 100%...         ZhombieV\n",
      "2   So Florio's way out of the mess he's gotten hi...   Aksala07273193\n",
      "3   @5ivves @m_vogan @pebdog5 @AB_3127 @ProFootbal...        9nerGang5\n",
      "4   @AB_3127 @ProFootballTalk 100% of 49ers fans H...       MyleStates\n",
      "5   @Ragnod49 @ArrowheadAddict Much respect!! \\n\\n...     ArrighiOrosz\n",
      "6   @davidmakepeace @ArrowheadAddict Chiefs fan he...     ArrighiOrosz\n",
      "7   @ProFootballTalk You also said Jimmy was gonna...          Turo420\n",
      "8   I think I'm rooting for Mahomes and the Chiefs...      skepticgoat\n",
      "9   @JeffAllen71 @ProFootballTalk The 49ers don't ...    DaRealLopeezi\n",
      "10  I was an Infantryman. I believe in the trenche...    InspireMe2287\n",
      "11  @pattyWarren13 @ProFootballTalk Niners fans sh...     ArrighiOrosz\n",
      "12  @emmerz08 @YourBoyRocha So basically no one sa...  H0neybadger49er\n",
      "13  @ProFootballTalk No, we're hearing what you CL...       d_morivers\n",
      "14  @ArrowheadAddict Florio is a grade A certifiab...         rf092115\n",
      "15  @ProFootballTalk I can not believe you suggest...       MikeMonnig\n",
      "16  @ProFootballTalk No, they're getting mad at ho...     ARMYmomsRock\n",
      "17  @Perry_49ers @ProFootballTalk He’s not wrong. ...       Zedd1sDead\n",
      "18  @AbrahamGN2 About being physical sure. No one ...      dwoverdrive\n",
      "19  @ProFootballTalk YOU said that you big fat hai...         ohraiyan\n"
     ]
    },
    {
     "name": "stderr",
     "output_type": "stream",
     "text": [
      "Grabbing bearer token from OAUTH\n"
     ]
    },
    {
     "name": "stdout",
     "output_type": "stream",
     "text": [
      "27689 \n",
      "\n",
      "                                                 text           author\n",
      "0   @Triplebake88 @DanSileoShow @ProFootballTalk @...       Thomason03\n",
      "1   @Phillies_49ers @codymurray1 @JeffAllen71 100%...         ZhombieV\n",
      "2   So Florio's way out of the mess he's gotten hi...   Aksala07273193\n",
      "3   @5ivves @m_vogan @pebdog5 @AB_3127 @ProFootbal...        9nerGang5\n",
      "4   @AB_3127 @ProFootballTalk 100% of 49ers fans H...       MyleStates\n",
      "5   @Ragnod49 @ArrowheadAddict Much respect!! \\n\\n...     ArrighiOrosz\n",
      "6   @davidmakepeace @ArrowheadAddict Chiefs fan he...     ArrighiOrosz\n",
      "7   @ProFootballTalk You also said Jimmy was gonna...          Turo420\n",
      "8   I think I'm rooting for Mahomes and the Chiefs...      skepticgoat\n",
      "9   @JeffAllen71 @ProFootballTalk The 49ers don't ...    DaRealLopeezi\n",
      "10  I was an Infantryman. I believe in the trenche...    InspireMe2287\n",
      "11  @pattyWarren13 @ProFootballTalk Niners fans sh...     ArrighiOrosz\n",
      "12  @emmerz08 @YourBoyRocha So basically no one sa...  H0neybadger49er\n",
      "13  @ProFootballTalk No, we're hearing what you CL...       d_morivers\n",
      "14  @ArrowheadAddict Florio is a grade A certifiab...         rf092115\n",
      "15  @ProFootballTalk I can not believe you suggest...       MikeMonnig\n",
      "16  @ProFootballTalk No, they're getting mad at ho...     ARMYmomsRock\n",
      "17  @Perry_49ers @ProFootballTalk He’s not wrong. ...       Zedd1sDead\n",
      "18  @AbrahamGN2 About being physical sure. No one ...      dwoverdrive\n",
      "19  @ProFootballTalk YOU said that you big fat hai...         ohraiyan\n",
      "27690 \n",
      "\n",
      "                                                 text           author\n",
      "0   @Triplebake88 @DanSileoShow @ProFootballTalk @...       Thomason03\n",
      "1   @Phillies_49ers @codymurray1 @JeffAllen71 100%...         ZhombieV\n",
      "2   So Florio's way out of the mess he's gotten hi...   Aksala07273193\n",
      "3   @5ivves @m_vogan @pebdog5 @AB_3127 @ProFootbal...        9nerGang5\n",
      "4   @AB_3127 @ProFootballTalk 100% of 49ers fans H...       MyleStates\n",
      "5   @Ragnod49 @ArrowheadAddict Much respect!! \\n\\n...     ArrighiOrosz\n",
      "6   @davidmakepeace @ArrowheadAddict Chiefs fan he...     ArrighiOrosz\n",
      "7   @ProFootballTalk You also said Jimmy was gonna...          Turo420\n",
      "8   I think I'm rooting for Mahomes and the Chiefs...      skepticgoat\n",
      "9   @JeffAllen71 @ProFootballTalk The 49ers don't ...    DaRealLopeezi\n",
      "10  I was an Infantryman. I believe in the trenche...    InspireMe2287\n",
      "11  @pattyWarren13 @ProFootballTalk Niners fans sh...     ArrighiOrosz\n",
      "12  @emmerz08 @YourBoyRocha So basically no one sa...  H0neybadger49er\n",
      "13  @ProFootballTalk No, we're hearing what you CL...       d_morivers\n",
      "14  @ArrowheadAddict Florio is a grade A certifiab...         rf092115\n",
      "15  @ProFootballTalk I can not believe you suggest...       MikeMonnig\n",
      "16  @ProFootballTalk No, they're getting mad at ho...     ARMYmomsRock\n",
      "17  @Perry_49ers @ProFootballTalk He’s not wrong. ...       Zedd1sDead\n",
      "18  @AbrahamGN2 About being physical sure. No one ...      dwoverdrive\n",
      "19  @ProFootballTalk YOU said that you big fat hai...         ohraiyan\n"
     ]
    },
    {
     "name": "stderr",
     "output_type": "stream",
     "text": [
      "Grabbing bearer token from OAUTH\n",
      "Grabbing bearer token from OAUTH\n"
     ]
    },
    {
     "name": "stdout",
     "output_type": "stream",
     "text": [
      "27843 \n",
      "\n",
      "                                                 text           author\n",
      "0   @Triplebake88 @DanSileoShow @ProFootballTalk @...       Thomason03\n",
      "1   @Phillies_49ers @codymurray1 @JeffAllen71 100%...         ZhombieV\n",
      "2   So Florio's way out of the mess he's gotten hi...   Aksala07273193\n",
      "3   @5ivves @m_vogan @pebdog5 @AB_3127 @ProFootbal...        9nerGang5\n",
      "4   @AB_3127 @ProFootballTalk 100% of 49ers fans H...       MyleStates\n",
      "5   @Ragnod49 @ArrowheadAddict Much respect!! \\n\\n...     ArrighiOrosz\n",
      "6   @davidmakepeace @ArrowheadAddict Chiefs fan he...     ArrighiOrosz\n",
      "7   @ProFootballTalk You also said Jimmy was gonna...          Turo420\n",
      "8   I think I'm rooting for Mahomes and the Chiefs...      skepticgoat\n",
      "9   @JeffAllen71 @ProFootballTalk The 49ers don't ...    DaRealLopeezi\n",
      "10  I was an Infantryman. I believe in the trenche...    InspireMe2287\n",
      "11  @pattyWarren13 @ProFootballTalk Niners fans sh...     ArrighiOrosz\n",
      "12  @emmerz08 @YourBoyRocha So basically no one sa...  H0neybadger49er\n",
      "13  @ProFootballTalk No, we're hearing what you CL...       d_morivers\n",
      "14  @ArrowheadAddict Florio is a grade A certifiab...         rf092115\n",
      "15  @ProFootballTalk I can not believe you suggest...       MikeMonnig\n",
      "16  @ProFootballTalk No, they're getting mad at ho...     ARMYmomsRock\n",
      "17  @Perry_49ers @ProFootballTalk He’s not wrong. ...       Zedd1sDead\n",
      "18  @AbrahamGN2 About being physical sure. No one ...      dwoverdrive\n",
      "19  @ProFootballTalk YOU said that you big fat hai...         ohraiyan\n"
     ]
    },
    {
     "name": "stderr",
     "output_type": "stream",
     "text": [
      "Grabbing bearer token from OAUTH\n"
     ]
    },
    {
     "name": "stdout",
     "output_type": "stream",
     "text": [
      "27846 \n",
      "\n",
      "                                                 text           author\n",
      "0   @Triplebake88 @DanSileoShow @ProFootballTalk @...       Thomason03\n",
      "1   @Phillies_49ers @codymurray1 @JeffAllen71 100%...         ZhombieV\n",
      "2   So Florio's way out of the mess he's gotten hi...   Aksala07273193\n",
      "3   @5ivves @m_vogan @pebdog5 @AB_3127 @ProFootbal...        9nerGang5\n",
      "4   @AB_3127 @ProFootballTalk 100% of 49ers fans H...       MyleStates\n",
      "5   @Ragnod49 @ArrowheadAddict Much respect!! \\n\\n...     ArrighiOrosz\n",
      "6   @davidmakepeace @ArrowheadAddict Chiefs fan he...     ArrighiOrosz\n",
      "7   @ProFootballTalk You also said Jimmy was gonna...          Turo420\n",
      "8   I think I'm rooting for Mahomes and the Chiefs...      skepticgoat\n",
      "9   @JeffAllen71 @ProFootballTalk The 49ers don't ...    DaRealLopeezi\n",
      "10  I was an Infantryman. I believe in the trenche...    InspireMe2287\n",
      "11  @pattyWarren13 @ProFootballTalk Niners fans sh...     ArrighiOrosz\n",
      "12  @emmerz08 @YourBoyRocha So basically no one sa...  H0neybadger49er\n",
      "13  @ProFootballTalk No, we're hearing what you CL...       d_morivers\n",
      "14  @ArrowheadAddict Florio is a grade A certifiab...         rf092115\n",
      "15  @ProFootballTalk I can not believe you suggest...       MikeMonnig\n",
      "16  @ProFootballTalk No, they're getting mad at ho...     ARMYmomsRock\n",
      "17  @Perry_49ers @ProFootballTalk He’s not wrong. ...       Zedd1sDead\n",
      "18  @AbrahamGN2 About being physical sure. No one ...      dwoverdrive\n",
      "19  @ProFootballTalk YOU said that you big fat hai...         ohraiyan\n"
     ]
    },
    {
     "name": "stderr",
     "output_type": "stream",
     "text": [
      "Grabbing bearer token from OAUTH\n"
     ]
    },
    {
     "name": "stdout",
     "output_type": "stream",
     "text": [
      "28346 \n",
      "\n",
      "                                                 text           author\n",
      "0   @Triplebake88 @DanSileoShow @ProFootballTalk @...       Thomason03\n",
      "1   @Phillies_49ers @codymurray1 @JeffAllen71 100%...         ZhombieV\n",
      "2   So Florio's way out of the mess he's gotten hi...   Aksala07273193\n",
      "3   @5ivves @m_vogan @pebdog5 @AB_3127 @ProFootbal...        9nerGang5\n",
      "4   @AB_3127 @ProFootballTalk 100% of 49ers fans H...       MyleStates\n",
      "5   @Ragnod49 @ArrowheadAddict Much respect!! \\n\\n...     ArrighiOrosz\n",
      "6   @davidmakepeace @ArrowheadAddict Chiefs fan he...     ArrighiOrosz\n",
      "7   @ProFootballTalk You also said Jimmy was gonna...          Turo420\n",
      "8   I think I'm rooting for Mahomes and the Chiefs...      skepticgoat\n",
      "9   @JeffAllen71 @ProFootballTalk The 49ers don't ...    DaRealLopeezi\n",
      "10  I was an Infantryman. I believe in the trenche...    InspireMe2287\n",
      "11  @pattyWarren13 @ProFootballTalk Niners fans sh...     ArrighiOrosz\n",
      "12  @emmerz08 @YourBoyRocha So basically no one sa...  H0neybadger49er\n",
      "13  @ProFootballTalk No, we're hearing what you CL...       d_morivers\n",
      "14  @ArrowheadAddict Florio is a grade A certifiab...         rf092115\n",
      "15  @ProFootballTalk I can not believe you suggest...       MikeMonnig\n",
      "16  @ProFootballTalk No, they're getting mad at ho...     ARMYmomsRock\n",
      "17  @Perry_49ers @ProFootballTalk He’s not wrong. ...       Zedd1sDead\n",
      "18  @AbrahamGN2 About being physical sure. No one ...      dwoverdrive\n",
      "19  @ProFootballTalk YOU said that you big fat hai...         ohraiyan\n",
      "28721 \n",
      "\n",
      "                                                 text           author\n",
      "0   @Triplebake88 @DanSileoShow @ProFootballTalk @...       Thomason03\n",
      "1   @Phillies_49ers @codymurray1 @JeffAllen71 100%...         ZhombieV\n",
      "2   So Florio's way out of the mess he's gotten hi...   Aksala07273193\n",
      "3   @5ivves @m_vogan @pebdog5 @AB_3127 @ProFootbal...        9nerGang5\n",
      "4   @AB_3127 @ProFootballTalk 100% of 49ers fans H...       MyleStates\n",
      "5   @Ragnod49 @ArrowheadAddict Much respect!! \\n\\n...     ArrighiOrosz\n",
      "6   @davidmakepeace @ArrowheadAddict Chiefs fan he...     ArrighiOrosz\n",
      "7   @ProFootballTalk You also said Jimmy was gonna...          Turo420\n",
      "8   I think I'm rooting for Mahomes and the Chiefs...      skepticgoat\n",
      "9   @JeffAllen71 @ProFootballTalk The 49ers don't ...    DaRealLopeezi\n",
      "10  I was an Infantryman. I believe in the trenche...    InspireMe2287\n",
      "11  @pattyWarren13 @ProFootballTalk Niners fans sh...     ArrighiOrosz\n",
      "12  @emmerz08 @YourBoyRocha So basically no one sa...  H0neybadger49er\n",
      "13  @ProFootballTalk No, we're hearing what you CL...       d_morivers\n",
      "14  @ArrowheadAddict Florio is a grade A certifiab...         rf092115\n",
      "15  @ProFootballTalk I can not believe you suggest...       MikeMonnig\n",
      "16  @ProFootballTalk No, they're getting mad at ho...     ARMYmomsRock\n",
      "17  @Perry_49ers @ProFootballTalk He’s not wrong. ...       Zedd1sDead\n",
      "18  @AbrahamGN2 About being physical sure. No one ...      dwoverdrive\n",
      "19  @ProFootballTalk YOU said that you big fat hai...         ohraiyan\n"
     ]
    },
    {
     "name": "stderr",
     "output_type": "stream",
     "text": [
      "Grabbing bearer token from OAUTH\n"
     ]
    },
    {
     "name": "stdout",
     "output_type": "stream",
     "text": [
      "34258 \n",
      "\n",
      "                                                 text           author\n",
      "0   @Triplebake88 @DanSileoShow @ProFootballTalk @...       Thomason03\n",
      "1   @Phillies_49ers @codymurray1 @JeffAllen71 100%...         ZhombieV\n",
      "2   So Florio's way out of the mess he's gotten hi...   Aksala07273193\n",
      "3   @5ivves @m_vogan @pebdog5 @AB_3127 @ProFootbal...        9nerGang5\n",
      "4   @AB_3127 @ProFootballTalk 100% of 49ers fans H...       MyleStates\n",
      "5   @Ragnod49 @ArrowheadAddict Much respect!! \\n\\n...     ArrighiOrosz\n",
      "6   @davidmakepeace @ArrowheadAddict Chiefs fan he...     ArrighiOrosz\n",
      "7   @ProFootballTalk You also said Jimmy was gonna...          Turo420\n",
      "8   I think I'm rooting for Mahomes and the Chiefs...      skepticgoat\n",
      "9   @JeffAllen71 @ProFootballTalk The 49ers don't ...    DaRealLopeezi\n",
      "10  I was an Infantryman. I believe in the trenche...    InspireMe2287\n",
      "11  @pattyWarren13 @ProFootballTalk Niners fans sh...     ArrighiOrosz\n",
      "12  @emmerz08 @YourBoyRocha So basically no one sa...  H0neybadger49er\n",
      "13  @ProFootballTalk No, we're hearing what you CL...       d_morivers\n",
      "14  @ArrowheadAddict Florio is a grade A certifiab...         rf092115\n",
      "15  @ProFootballTalk I can not believe you suggest...       MikeMonnig\n",
      "16  @ProFootballTalk No, they're getting mad at ho...     ARMYmomsRock\n",
      "17  @Perry_49ers @ProFootballTalk He’s not wrong. ...       Zedd1sDead\n",
      "18  @AbrahamGN2 About being physical sure. No one ...      dwoverdrive\n",
      "19  @ProFootballTalk YOU said that you big fat hai...         ohraiyan\n"
     ]
    },
    {
     "name": "stderr",
     "output_type": "stream",
     "text": [
      "Grabbing bearer token from OAUTH\n"
     ]
    },
    {
     "name": "stdout",
     "output_type": "stream",
     "text": [
      "39212 \n",
      "\n",
      "                                                 text           author\n",
      "0   @Triplebake88 @DanSileoShow @ProFootballTalk @...       Thomason03\n",
      "1   @Phillies_49ers @codymurray1 @JeffAllen71 100%...         ZhombieV\n",
      "2   So Florio's way out of the mess he's gotten hi...   Aksala07273193\n",
      "3   @5ivves @m_vogan @pebdog5 @AB_3127 @ProFootbal...        9nerGang5\n",
      "4   @AB_3127 @ProFootballTalk 100% of 49ers fans H...       MyleStates\n",
      "5   @Ragnod49 @ArrowheadAddict Much respect!! \\n\\n...     ArrighiOrosz\n",
      "6   @davidmakepeace @ArrowheadAddict Chiefs fan he...     ArrighiOrosz\n",
      "7   @ProFootballTalk You also said Jimmy was gonna...          Turo420\n",
      "8   I think I'm rooting for Mahomes and the Chiefs...      skepticgoat\n",
      "9   @JeffAllen71 @ProFootballTalk The 49ers don't ...    DaRealLopeezi\n",
      "10  I was an Infantryman. I believe in the trenche...    InspireMe2287\n",
      "11  @pattyWarren13 @ProFootballTalk Niners fans sh...     ArrighiOrosz\n",
      "12  @emmerz08 @YourBoyRocha So basically no one sa...  H0neybadger49er\n",
      "13  @ProFootballTalk No, we're hearing what you CL...       d_morivers\n",
      "14  @ArrowheadAddict Florio is a grade A certifiab...         rf092115\n",
      "15  @ProFootballTalk I can not believe you suggest...       MikeMonnig\n",
      "16  @ProFootballTalk No, they're getting mad at ho...     ARMYmomsRock\n",
      "17  @Perry_49ers @ProFootballTalk He’s not wrong. ...       Zedd1sDead\n",
      "18  @AbrahamGN2 About being physical sure. No one ...      dwoverdrive\n",
      "19  @ProFootballTalk YOU said that you big fat hai...         ohraiyan\n"
     ]
    },
    {
     "name": "stderr",
     "output_type": "stream",
     "text": [
      "Grabbing bearer token from OAUTH\n"
     ]
    },
    {
     "name": "stdout",
     "output_type": "stream",
     "text": [
      "39733 \n",
      "\n",
      "                                                 text           author\n",
      "0   @Triplebake88 @DanSileoShow @ProFootballTalk @...       Thomason03\n",
      "1   @Phillies_49ers @codymurray1 @JeffAllen71 100%...         ZhombieV\n",
      "2   So Florio's way out of the mess he's gotten hi...   Aksala07273193\n",
      "3   @5ivves @m_vogan @pebdog5 @AB_3127 @ProFootbal...        9nerGang5\n",
      "4   @AB_3127 @ProFootballTalk 100% of 49ers fans H...       MyleStates\n",
      "5   @Ragnod49 @ArrowheadAddict Much respect!! \\n\\n...     ArrighiOrosz\n",
      "6   @davidmakepeace @ArrowheadAddict Chiefs fan he...     ArrighiOrosz\n",
      "7   @ProFootballTalk You also said Jimmy was gonna...          Turo420\n",
      "8   I think I'm rooting for Mahomes and the Chiefs...      skepticgoat\n",
      "9   @JeffAllen71 @ProFootballTalk The 49ers don't ...    DaRealLopeezi\n",
      "10  I was an Infantryman. I believe in the trenche...    InspireMe2287\n",
      "11  @pattyWarren13 @ProFootballTalk Niners fans sh...     ArrighiOrosz\n",
      "12  @emmerz08 @YourBoyRocha So basically no one sa...  H0neybadger49er\n",
      "13  @ProFootballTalk No, we're hearing what you CL...       d_morivers\n",
      "14  @ArrowheadAddict Florio is a grade A certifiab...         rf092115\n",
      "15  @ProFootballTalk I can not believe you suggest...       MikeMonnig\n",
      "16  @ProFootballTalk No, they're getting mad at ho...     ARMYmomsRock\n",
      "17  @Perry_49ers @ProFootballTalk He’s not wrong. ...       Zedd1sDead\n",
      "18  @AbrahamGN2 About being physical sure. No one ...      dwoverdrive\n",
      "19  @ProFootballTalk YOU said that you big fat hai...         ohraiyan\n"
     ]
    },
    {
     "name": "stderr",
     "output_type": "stream",
     "text": [
      "Grabbing bearer token from OAUTH\n"
     ]
    },
    {
     "name": "stdout",
     "output_type": "stream",
     "text": [
      "39749 \n",
      "\n",
      "                                                 text           author\n",
      "0   @Triplebake88 @DanSileoShow @ProFootballTalk @...       Thomason03\n",
      "1   @Phillies_49ers @codymurray1 @JeffAllen71 100%...         ZhombieV\n",
      "2   So Florio's way out of the mess he's gotten hi...   Aksala07273193\n",
      "3   @5ivves @m_vogan @pebdog5 @AB_3127 @ProFootbal...        9nerGang5\n",
      "4   @AB_3127 @ProFootballTalk 100% of 49ers fans H...       MyleStates\n",
      "5   @Ragnod49 @ArrowheadAddict Much respect!! \\n\\n...     ArrighiOrosz\n",
      "6   @davidmakepeace @ArrowheadAddict Chiefs fan he...     ArrighiOrosz\n",
      "7   @ProFootballTalk You also said Jimmy was gonna...          Turo420\n",
      "8   I think I'm rooting for Mahomes and the Chiefs...      skepticgoat\n",
      "9   @JeffAllen71 @ProFootballTalk The 49ers don't ...    DaRealLopeezi\n",
      "10  I was an Infantryman. I believe in the trenche...    InspireMe2287\n",
      "11  @pattyWarren13 @ProFootballTalk Niners fans sh...     ArrighiOrosz\n",
      "12  @emmerz08 @YourBoyRocha So basically no one sa...  H0neybadger49er\n",
      "13  @ProFootballTalk No, we're hearing what you CL...       d_morivers\n",
      "14  @ArrowheadAddict Florio is a grade A certifiab...         rf092115\n",
      "15  @ProFootballTalk I can not believe you suggest...       MikeMonnig\n",
      "16  @ProFootballTalk No, they're getting mad at ho...     ARMYmomsRock\n",
      "17  @Perry_49ers @ProFootballTalk He’s not wrong. ...       Zedd1sDead\n",
      "18  @AbrahamGN2 About being physical sure. No one ...      dwoverdrive\n",
      "19  @ProFootballTalk YOU said that you big fat hai...         ohraiyan\n"
     ]
    },
    {
     "name": "stderr",
     "output_type": "stream",
     "text": [
      "Grabbing bearer token from OAUTH\n"
     ]
    },
    {
     "name": "stdout",
     "output_type": "stream",
     "text": [
      "41098 \n",
      "\n",
      "                                                 text           author\n",
      "0   @Triplebake88 @DanSileoShow @ProFootballTalk @...       Thomason03\n",
      "1   @Phillies_49ers @codymurray1 @JeffAllen71 100%...         ZhombieV\n",
      "2   So Florio's way out of the mess he's gotten hi...   Aksala07273193\n",
      "3   @5ivves @m_vogan @pebdog5 @AB_3127 @ProFootbal...        9nerGang5\n",
      "4   @AB_3127 @ProFootballTalk 100% of 49ers fans H...       MyleStates\n",
      "5   @Ragnod49 @ArrowheadAddict Much respect!! \\n\\n...     ArrighiOrosz\n",
      "6   @davidmakepeace @ArrowheadAddict Chiefs fan he...     ArrighiOrosz\n",
      "7   @ProFootballTalk You also said Jimmy was gonna...          Turo420\n",
      "8   I think I'm rooting for Mahomes and the Chiefs...      skepticgoat\n",
      "9   @JeffAllen71 @ProFootballTalk The 49ers don't ...    DaRealLopeezi\n",
      "10  I was an Infantryman. I believe in the trenche...    InspireMe2287\n",
      "11  @pattyWarren13 @ProFootballTalk Niners fans sh...     ArrighiOrosz\n",
      "12  @emmerz08 @YourBoyRocha So basically no one sa...  H0neybadger49er\n",
      "13  @ProFootballTalk No, we're hearing what you CL...       d_morivers\n",
      "14  @ArrowheadAddict Florio is a grade A certifiab...         rf092115\n",
      "15  @ProFootballTalk I can not believe you suggest...       MikeMonnig\n",
      "16  @ProFootballTalk No, they're getting mad at ho...     ARMYmomsRock\n",
      "17  @Perry_49ers @ProFootballTalk He’s not wrong. ...       Zedd1sDead\n",
      "18  @AbrahamGN2 About being physical sure. No one ...      dwoverdrive\n",
      "19  @ProFootballTalk YOU said that you big fat hai...         ohraiyan\n"
     ]
    }
   ],
   "source": [
    "sf_49ers_queries_master_df = try_terms('49ers')"
   ]
  },
  {
   "cell_type": "code",
   "execution_count": 80,
   "metadata": {},
   "outputs": [],
   "source": [
    "sf_49ers_queries_master_df.to_csv('sf_49ers_queries_master_df_Jan_28_2020.csv')"
   ]
  },
  {
   "cell_type": "code",
   "execution_count": 84,
   "metadata": {},
   "outputs": [
    {
     "name": "stdout",
     "output_type": "stream",
     "text": [
      "3295 \n",
      "\n",
      "690 \n",
      "\n",
      "3985\n"
     ]
    }
   ],
   "source": [
    "sf_test_df1 = sf_49ers_queries_master_df[sf_49ers_queries_master_df['text'].str.contains('dead')]\n",
    "\n",
    "sf_test_df2 = sf_49ers_queries_master_df[sf_49ers_queries_master_df['text'].str.contains('Dead')]\n",
    "\n",
    "print(len(sf_test_df1), '\\n')\n",
    "\n",
    "print(len(sf_test_df2), '\\n')\n",
    "\n",
    "print(len(sf_test_df1) + len(sf_test_df2))"
   ]
  },
  {
   "cell_type": "code",
   "execution_count": 93,
   "metadata": {},
   "outputs": [],
   "source": [
    "def create_term_df(df, term):\n",
    "    \n",
    "    '''\n",
    "    takes input dataframe & string search term\n",
    "    \n",
    "    finds all rows containing search term\n",
    "    \n",
    "    returns dataframe with rows & 'term' column\n",
    "    \n",
    "    '''\n",
    "    \n",
    "    term_df = df[df['text'].str.contains(term, case=False)]\n",
    "    \n",
    "    term_df['term'] = term\n",
    "    \n",
    "    return term_df\n"
   ]
  },
  {
   "cell_type": "code",
   "execution_count": 95,
   "metadata": {},
   "outputs": [],
   "source": [
    "def get_full_terms_df(raw_df, terms_list):\n",
    "    \n",
    "    '''\n",
    "    takes input raw dataframe\n",
    "    \n",
    "    gets all rows containing each term\n",
    "    \n",
    "    returns dataframe with all terms rows & \"terms\" column\n",
    "    \n",
    "    '''\n",
    "    \n",
    "    full_terms_df = pd.DataFrame()\n",
    "    \n",
    "    for term in terms_list:\n",
    "    \n",
    "        term_df = create_term_df(raw_df, term)\n",
    "        \n",
    "        full_terms_df = full_terms_df.append(term_df)\n",
    "        \n",
    "    return full_terms_df\n",
    "    "
   ]
  },
  {
   "cell_type": "code",
   "execution_count": 96,
   "metadata": {},
   "outputs": [],
   "source": [
    "term_list = ['dirty','filthy','stupid','ugly','indian',\n",
    "             'blood','scalp','savage','dead','killed',\n",
    "             'sexy','indian blood','drunk','injun',\n",
    "             'exterminate','extinct','firewater',\n",
    "             'reservation','smallpox','ignorant',\n",
    "             'raped','die','dumb','backwards',\n",
    "             'inbred','died']"
   ]
  },
  {
   "cell_type": "markdown",
   "metadata": {},
   "source": [
    "### building dataframes\n",
    "\n",
    "now i can go through each row & check to see whether my search terms exist in any case (upper, lower, etc) then add a label column containing the particular term, and finally create a new dataframe for each team with all rows clearly labeled for the term they contain.\n",
    "\n",
    "#### San Francisco 49ers Dataframe"
   ]
  },
  {
   "cell_type": "code",
   "execution_count": 97,
   "metadata": {},
   "outputs": [],
   "source": [
    "# get rows containing terms from the original raw df\n",
    "# add a label column\n",
    "\n",
    "sf_49ers_terms_full_df = get_full_terms_df(sf_49ers_queries_master_df, term_list)"
   ]
  },
  {
   "cell_type": "code",
   "execution_count": 98,
   "metadata": {},
   "outputs": [
    {
     "name": "stdout",
     "output_type": "stream",
     "text": [
      "44504\n"
     ]
    },
    {
     "data": {
      "text/html": [
       "<div>\n",
       "<style scoped>\n",
       "    .dataframe tbody tr th:only-of-type {\n",
       "        vertical-align: middle;\n",
       "    }\n",
       "\n",
       "    .dataframe tbody tr th {\n",
       "        vertical-align: top;\n",
       "    }\n",
       "\n",
       "    .dataframe thead th {\n",
       "        text-align: right;\n",
       "    }\n",
       "</style>\n",
       "<table border=\"1\" class=\"dataframe\">\n",
       "  <thead>\n",
       "    <tr style=\"text-align: right;\">\n",
       "      <th></th>\n",
       "      <th>text</th>\n",
       "      <th>author</th>\n",
       "      <th>term</th>\n",
       "    </tr>\n",
       "  </thead>\n",
       "  <tbody>\n",
       "    <tr>\n",
       "      <th>0</th>\n",
       "      <td>@Triplebake88 @DanSileoShow @ProFootballTalk @...</td>\n",
       "      <td>Thomason03</td>\n",
       "      <td>dirty</td>\n",
       "    </tr>\n",
       "    <tr>\n",
       "      <th>1</th>\n",
       "      <td>@Phillies_49ers @codymurray1 @JeffAllen71 100%...</td>\n",
       "      <td>ZhombieV</td>\n",
       "      <td>dirty</td>\n",
       "    </tr>\n",
       "    <tr>\n",
       "      <th>2</th>\n",
       "      <td>So Florio's way out of the mess he's gotten hi...</td>\n",
       "      <td>Aksala07273193</td>\n",
       "      <td>dirty</td>\n",
       "    </tr>\n",
       "    <tr>\n",
       "      <th>3</th>\n",
       "      <td>@5ivves @m_vogan @pebdog5 @AB_3127 @ProFootbal...</td>\n",
       "      <td>9nerGang5</td>\n",
       "      <td>dirty</td>\n",
       "    </tr>\n",
       "    <tr>\n",
       "      <th>4</th>\n",
       "      <td>@AB_3127 @ProFootballTalk 100% of 49ers fans H...</td>\n",
       "      <td>MyleStates</td>\n",
       "      <td>dirty</td>\n",
       "    </tr>\n",
       "    <tr>\n",
       "      <th>5</th>\n",
       "      <td>@Ragnod49 @ArrowheadAddict Much respect!! \\n\\n...</td>\n",
       "      <td>ArrighiOrosz</td>\n",
       "      <td>dirty</td>\n",
       "    </tr>\n",
       "    <tr>\n",
       "      <th>6</th>\n",
       "      <td>@davidmakepeace @ArrowheadAddict Chiefs fan he...</td>\n",
       "      <td>ArrighiOrosz</td>\n",
       "      <td>dirty</td>\n",
       "    </tr>\n",
       "    <tr>\n",
       "      <th>7</th>\n",
       "      <td>@ProFootballTalk You also said Jimmy was gonna...</td>\n",
       "      <td>Turo420</td>\n",
       "      <td>dirty</td>\n",
       "    </tr>\n",
       "    <tr>\n",
       "      <th>8</th>\n",
       "      <td>I think I'm rooting for Mahomes and the Chiefs...</td>\n",
       "      <td>skepticgoat</td>\n",
       "      <td>dirty</td>\n",
       "    </tr>\n",
       "    <tr>\n",
       "      <th>9</th>\n",
       "      <td>@JeffAllen71 @ProFootballTalk The 49ers don't ...</td>\n",
       "      <td>DaRealLopeezi</td>\n",
       "      <td>dirty</td>\n",
       "    </tr>\n",
       "    <tr>\n",
       "      <th>10</th>\n",
       "      <td>I was an Infantryman. I believe in the trenche...</td>\n",
       "      <td>InspireMe2287</td>\n",
       "      <td>dirty</td>\n",
       "    </tr>\n",
       "    <tr>\n",
       "      <th>11</th>\n",
       "      <td>@pattyWarren13 @ProFootballTalk Niners fans sh...</td>\n",
       "      <td>ArrighiOrosz</td>\n",
       "      <td>dirty</td>\n",
       "    </tr>\n",
       "    <tr>\n",
       "      <th>12</th>\n",
       "      <td>@emmerz08 @YourBoyRocha So basically no one sa...</td>\n",
       "      <td>H0neybadger49er</td>\n",
       "      <td>dirty</td>\n",
       "    </tr>\n",
       "    <tr>\n",
       "      <th>13</th>\n",
       "      <td>@ProFootballTalk No, we're hearing what you CL...</td>\n",
       "      <td>d_morivers</td>\n",
       "      <td>dirty</td>\n",
       "    </tr>\n",
       "    <tr>\n",
       "      <th>14</th>\n",
       "      <td>@ArrowheadAddict Florio is a grade A certifiab...</td>\n",
       "      <td>rf092115</td>\n",
       "      <td>dirty</td>\n",
       "    </tr>\n",
       "    <tr>\n",
       "      <th>15</th>\n",
       "      <td>@ProFootballTalk I can not believe you suggest...</td>\n",
       "      <td>MikeMonnig</td>\n",
       "      <td>dirty</td>\n",
       "    </tr>\n",
       "    <tr>\n",
       "      <th>16</th>\n",
       "      <td>@ProFootballTalk No, they're getting mad at ho...</td>\n",
       "      <td>ARMYmomsRock</td>\n",
       "      <td>dirty</td>\n",
       "    </tr>\n",
       "    <tr>\n",
       "      <th>17</th>\n",
       "      <td>@Perry_49ers @ProFootballTalk He’s not wrong. ...</td>\n",
       "      <td>Zedd1sDead</td>\n",
       "      <td>dirty</td>\n",
       "    </tr>\n",
       "    <tr>\n",
       "      <th>18</th>\n",
       "      <td>@AbrahamGN2 About being physical sure. No one ...</td>\n",
       "      <td>dwoverdrive</td>\n",
       "      <td>dirty</td>\n",
       "    </tr>\n",
       "    <tr>\n",
       "      <th>19</th>\n",
       "      <td>@ProFootballTalk YOU said that you big fat hai...</td>\n",
       "      <td>ohraiyan</td>\n",
       "      <td>dirty</td>\n",
       "    </tr>\n",
       "    <tr>\n",
       "      <th>20</th>\n",
       "      <td>@ChuckModi1 Vikings fan here and I'm very sens...</td>\n",
       "      <td>realchriswayne</td>\n",
       "      <td>dirty</td>\n",
       "    </tr>\n",
       "    <tr>\n",
       "      <th>21</th>\n",
       "      <td>Yeah. I'd prefer my 49ers NOT play dirty. \\n\\n...</td>\n",
       "      <td>ItzGetty</td>\n",
       "      <td>dirty</td>\n",
       "    </tr>\n",
       "    <tr>\n",
       "      <th>22</th>\n",
       "      <td>@Steve_in_RI If the 49ers put out a hit on Mah...</td>\n",
       "      <td>seancates</td>\n",
       "      <td>dirty</td>\n",
       "    </tr>\n",
       "    <tr>\n",
       "      <th>23</th>\n",
       "      <td>XLVI was my favorite but best performance the ...</td>\n",
       "      <td>Larkwins</td>\n",
       "      <td>dirty</td>\n",
       "    </tr>\n",
       "    <tr>\n",
       "      <th>24</th>\n",
       "      <td>@kanaka_nui If the 49ers put out a hit on Maho...</td>\n",
       "      <td>seancates</td>\n",
       "      <td>dirty</td>\n",
       "    </tr>\n",
       "    <tr>\n",
       "      <th>25</th>\n",
       "      <td>@ProFootballTalk @gmalana1 If the 49ers put ou...</td>\n",
       "      <td>seancates</td>\n",
       "      <td>dirty</td>\n",
       "    </tr>\n",
       "    <tr>\n",
       "      <th>26</th>\n",
       "      <td>@ProFootballTalk @kanaka_nui @peter_king If th...</td>\n",
       "      <td>seancates</td>\n",
       "      <td>dirty</td>\n",
       "    </tr>\n",
       "    <tr>\n",
       "      <th>27</th>\n",
       "      <td>@ProFootballTalk If the 49ers put out a hit on...</td>\n",
       "      <td>seancates</td>\n",
       "      <td>dirty</td>\n",
       "    </tr>\n",
       "    <tr>\n",
       "      <th>28</th>\n",
       "      <td>Chiefs fans when Mike Florio suggests the 49er...</td>\n",
       "      <td>trevorwh1t3</td>\n",
       "      <td>dirty</td>\n",
       "    </tr>\n",
       "    <tr>\n",
       "      <th>29</th>\n",
       "      <td>@dwoverdrive Bosa just got a big fine for targ...</td>\n",
       "      <td>love2golf</td>\n",
       "      <td>dirty</td>\n",
       "    </tr>\n",
       "    <tr>\n",
       "      <th>30</th>\n",
       "      <td>@PFTPMPosse @ProFootballTalk @CSimmsQB @mattca...</td>\n",
       "      <td>GatorGonnaGitYa</td>\n",
       "      <td>dirty</td>\n",
       "    </tr>\n",
       "    <tr>\n",
       "      <th>31</th>\n",
       "      <td>Don't say it, don't say it, don't say it...\\n\\...</td>\n",
       "      <td>LyleGraversen</td>\n",
       "      <td>dirty</td>\n",
       "    </tr>\n",
       "    <tr>\n",
       "      <th>32</th>\n",
       "      <td>@lolly83485222 @CSimmsQB “Is it just Sorensen ...</td>\n",
       "      <td>kc_ranger</td>\n",
       "      <td>dirty</td>\n",
       "    </tr>\n",
       "    <tr>\n",
       "      <th>33</th>\n",
       "      <td>@49ers go ahead and take a penalty for a late ...</td>\n",
       "      <td>DomonicPyle</td>\n",
       "      <td>dirty</td>\n",
       "    </tr>\n",
       "    <tr>\n",
       "      <th>34</th>\n",
       "      <td>“I’m not saying it should be part of the delib...</td>\n",
       "      <td>jtpenfield</td>\n",
       "      <td>dirty</td>\n",
       "    </tr>\n",
       "    <tr>\n",
       "      <th>35</th>\n",
       "      <td>You basically nudged the @49ers to hit him in ...</td>\n",
       "      <td>ChiefsSinceDay1</td>\n",
       "      <td>dirty</td>\n",
       "    </tr>\n",
       "    <tr>\n",
       "      <th>36</th>\n",
       "      <td>“Some Chiefs fans are getting a little riled u...</td>\n",
       "      <td>platinombrero</td>\n",
       "      <td>dirty</td>\n",
       "    </tr>\n",
       "    <tr>\n",
       "      <th>37</th>\n",
       "      <td>So...first you talk major garbage about Jimmy ...</td>\n",
       "      <td>ColdFireChief</td>\n",
       "      <td>dirty</td>\n",
       "    </tr>\n",
       "    <tr>\n",
       "      <th>38</th>\n",
       "      <td>@ProFootballTalk Mike Florio you are a piece o...</td>\n",
       "      <td>wsk28rules</td>\n",
       "      <td>dirty</td>\n",
       "    </tr>\n",
       "    <tr>\n",
       "      <th>39</th>\n",
       "      <td>@NFL @49ers @jstaley74 This should have went t...</td>\n",
       "      <td>SmithBradden</td>\n",
       "      <td>dirty</td>\n",
       "    </tr>\n",
       "    <tr>\n",
       "      <th>40</th>\n",
       "      <td>I don’t see how @NBCSports stands with @ProFoo...</td>\n",
       "      <td>LanceTHESPOKEN</td>\n",
       "      <td>dirty</td>\n",
       "    </tr>\n",
       "    <tr>\n",
       "      <th>41</th>\n",
       "      <td>@ProFootballTalk Encouraging 49ers to play dir...</td>\n",
       "      <td>ChiefNB82</td>\n",
       "      <td>dirty</td>\n",
       "    </tr>\n",
       "    <tr>\n",
       "      <th>42</th>\n",
       "      <td>@Nolegal02 I pull for NFL teams with the most ...</td>\n",
       "      <td>chrisd8n</td>\n",
       "      <td>dirty</td>\n",
       "    </tr>\n",
       "    <tr>\n",
       "      <th>43</th>\n",
       "      <td>People can say what they want the reason why t...</td>\n",
       "      <td>BIIIG_SIMBA76</td>\n",
       "      <td>dirty</td>\n",
       "    </tr>\n",
       "    <tr>\n",
       "      <th>44</th>\n",
       "      <td>Ya know what maybe the 49ers ain’t such a bad ...</td>\n",
       "      <td>Phenomenal_78</td>\n",
       "      <td>dirty</td>\n",
       "    </tr>\n",
       "    <tr>\n",
       "      <th>45</th>\n",
       "      <td>@xomb0ne @bomani_jones I think it’s crazy caus...</td>\n",
       "      <td>chase_cco</td>\n",
       "      <td>dirty</td>\n",
       "    </tr>\n",
       "    <tr>\n",
       "      <th>46</th>\n",
       "      <td>@briangantt1 Agree, and not afraid to get a li...</td>\n",
       "      <td>DeeDub67</td>\n",
       "      <td>dirty</td>\n",
       "    </tr>\n",
       "    <tr>\n",
       "      <th>47</th>\n",
       "      <td>Super Bowl LIV Is Set, Thanks to an Intense—bu...</td>\n",
       "      <td>speedingticketk</td>\n",
       "      <td>dirty</td>\n",
       "    </tr>\n",
       "    <tr>\n",
       "      <th>48</th>\n",
       "      <td>Super Bowl LIV Is Set, Thanks to an Intense—bu...</td>\n",
       "      <td>kcdefensecouns2</td>\n",
       "      <td>dirty</td>\n",
       "    </tr>\n",
       "    <tr>\n",
       "      <th>49</th>\n",
       "      <td>New on SI: Super Bowl LIV Is Set, Thanks to an...</td>\n",
       "      <td>joehanover</td>\n",
       "      <td>dirty</td>\n",
       "    </tr>\n",
       "  </tbody>\n",
       "</table>\n",
       "</div>"
      ],
      "text/plain": [
       "                                                 text           author   term\n",
       "0   @Triplebake88 @DanSileoShow @ProFootballTalk @...       Thomason03  dirty\n",
       "1   @Phillies_49ers @codymurray1 @JeffAllen71 100%...         ZhombieV  dirty\n",
       "2   So Florio's way out of the mess he's gotten hi...   Aksala07273193  dirty\n",
       "3   @5ivves @m_vogan @pebdog5 @AB_3127 @ProFootbal...        9nerGang5  dirty\n",
       "4   @AB_3127 @ProFootballTalk 100% of 49ers fans H...       MyleStates  dirty\n",
       "5   @Ragnod49 @ArrowheadAddict Much respect!! \\n\\n...     ArrighiOrosz  dirty\n",
       "6   @davidmakepeace @ArrowheadAddict Chiefs fan he...     ArrighiOrosz  dirty\n",
       "7   @ProFootballTalk You also said Jimmy was gonna...          Turo420  dirty\n",
       "8   I think I'm rooting for Mahomes and the Chiefs...      skepticgoat  dirty\n",
       "9   @JeffAllen71 @ProFootballTalk The 49ers don't ...    DaRealLopeezi  dirty\n",
       "10  I was an Infantryman. I believe in the trenche...    InspireMe2287  dirty\n",
       "11  @pattyWarren13 @ProFootballTalk Niners fans sh...     ArrighiOrosz  dirty\n",
       "12  @emmerz08 @YourBoyRocha So basically no one sa...  H0neybadger49er  dirty\n",
       "13  @ProFootballTalk No, we're hearing what you CL...       d_morivers  dirty\n",
       "14  @ArrowheadAddict Florio is a grade A certifiab...         rf092115  dirty\n",
       "15  @ProFootballTalk I can not believe you suggest...       MikeMonnig  dirty\n",
       "16  @ProFootballTalk No, they're getting mad at ho...     ARMYmomsRock  dirty\n",
       "17  @Perry_49ers @ProFootballTalk He’s not wrong. ...       Zedd1sDead  dirty\n",
       "18  @AbrahamGN2 About being physical sure. No one ...      dwoverdrive  dirty\n",
       "19  @ProFootballTalk YOU said that you big fat hai...         ohraiyan  dirty\n",
       "20  @ChuckModi1 Vikings fan here and I'm very sens...   realchriswayne  dirty\n",
       "21  Yeah. I'd prefer my 49ers NOT play dirty. \\n\\n...         ItzGetty  dirty\n",
       "22  @Steve_in_RI If the 49ers put out a hit on Mah...        seancates  dirty\n",
       "23  XLVI was my favorite but best performance the ...         Larkwins  dirty\n",
       "24  @kanaka_nui If the 49ers put out a hit on Maho...        seancates  dirty\n",
       "25  @ProFootballTalk @gmalana1 If the 49ers put ou...        seancates  dirty\n",
       "26  @ProFootballTalk @kanaka_nui @peter_king If th...        seancates  dirty\n",
       "27  @ProFootballTalk If the 49ers put out a hit on...        seancates  dirty\n",
       "28  Chiefs fans when Mike Florio suggests the 49er...      trevorwh1t3  dirty\n",
       "29  @dwoverdrive Bosa just got a big fine for targ...        love2golf  dirty\n",
       "30  @PFTPMPosse @ProFootballTalk @CSimmsQB @mattca...  GatorGonnaGitYa  dirty\n",
       "31  Don't say it, don't say it, don't say it...\\n\\...    LyleGraversen  dirty\n",
       "32  @lolly83485222 @CSimmsQB “Is it just Sorensen ...        kc_ranger  dirty\n",
       "33  @49ers go ahead and take a penalty for a late ...      DomonicPyle  dirty\n",
       "34  “I’m not saying it should be part of the delib...       jtpenfield  dirty\n",
       "35  You basically nudged the @49ers to hit him in ...  ChiefsSinceDay1  dirty\n",
       "36  “Some Chiefs fans are getting a little riled u...    platinombrero  dirty\n",
       "37  So...first you talk major garbage about Jimmy ...    ColdFireChief  dirty\n",
       "38  @ProFootballTalk Mike Florio you are a piece o...       wsk28rules  dirty\n",
       "39  @NFL @49ers @jstaley74 This should have went t...     SmithBradden  dirty\n",
       "40  I don’t see how @NBCSports stands with @ProFoo...   LanceTHESPOKEN  dirty\n",
       "41  @ProFootballTalk Encouraging 49ers to play dir...        ChiefNB82  dirty\n",
       "42  @Nolegal02 I pull for NFL teams with the most ...         chrisd8n  dirty\n",
       "43  People can say what they want the reason why t...    BIIIG_SIMBA76  dirty\n",
       "44  Ya know what maybe the 49ers ain’t such a bad ...    Phenomenal_78  dirty\n",
       "45  @xomb0ne @bomani_jones I think it’s crazy caus...        chase_cco  dirty\n",
       "46  @briangantt1 Agree, and not afraid to get a li...         DeeDub67  dirty\n",
       "47  Super Bowl LIV Is Set, Thanks to an Intense—bu...  speedingticketk  dirty\n",
       "48  Super Bowl LIV Is Set, Thanks to an Intense—bu...  kcdefensecouns2  dirty\n",
       "49  New on SI: Super Bowl LIV Is Set, Thanks to an...       joehanover  dirty"
      ]
     },
     "execution_count": 98,
     "metadata": {},
     "output_type": "execute_result"
    }
   ],
   "source": [
    "print(len(sf_49ers_terms_full_df))\n",
    "\n",
    "sf_49ers_terms_full_df.head(50)"
   ]
  },
  {
   "cell_type": "code",
   "execution_count": 101,
   "metadata": {},
   "outputs": [],
   "source": [
    "# save to csv \n",
    "\n",
    "sf_49ers_terms_full_df.to_csv('sf_49ers_terms_full_df.csv')"
   ]
  },
  {
   "cell_type": "markdown",
   "metadata": {},
   "source": [
    "#### Kansas City Chiefs Dataframe"
   ]
  },
  {
   "cell_type": "code",
   "execution_count": 103,
   "metadata": {},
   "outputs": [],
   "source": [
    "# get dataframe\n",
    "\n",
    "kc_chiefs_terms_full_df = get_full_terms_df(chiefs_queries_master_df, term_list)"
   ]
  },
  {
   "cell_type": "code",
   "execution_count": 104,
   "metadata": {},
   "outputs": [
    {
     "name": "stdout",
     "output_type": "stream",
     "text": [
      "82386\n"
     ]
    },
    {
     "data": {
      "text/html": [
       "<div>\n",
       "<style scoped>\n",
       "    .dataframe tbody tr th:only-of-type {\n",
       "        vertical-align: middle;\n",
       "    }\n",
       "\n",
       "    .dataframe tbody tr th {\n",
       "        vertical-align: top;\n",
       "    }\n",
       "\n",
       "    .dataframe thead th {\n",
       "        text-align: right;\n",
       "    }\n",
       "</style>\n",
       "<table border=\"1\" class=\"dataframe\">\n",
       "  <thead>\n",
       "    <tr style=\"text-align: right;\">\n",
       "      <th></th>\n",
       "      <th>text</th>\n",
       "      <th>author</th>\n",
       "      <th>term</th>\n",
       "    </tr>\n",
       "  </thead>\n",
       "  <tbody>\n",
       "    <tr>\n",
       "      <th>0</th>\n",
       "      <td>@BigDrewandJim Stafford could absolutely pull ...</td>\n",
       "      <td>skearn41</td>\n",
       "      <td>dirty</td>\n",
       "    </tr>\n",
       "    <tr>\n",
       "      <th>1</th>\n",
       "      <td>Kaizer Chiefs blacklisted Mandla Masango and T...</td>\n",
       "      <td>LUCKY_MTHOMBENI</td>\n",
       "      <td>dirty</td>\n",
       "    </tr>\n",
       "    <tr>\n",
       "      <th>2</th>\n",
       "      <td>@Ragnod49 @ArrowheadAddict Much respect!! \\n\\n...</td>\n",
       "      <td>ArrighiOrosz</td>\n",
       "      <td>dirty</td>\n",
       "    </tr>\n",
       "    <tr>\n",
       "      <th>3</th>\n",
       "      <td>@davidmakepeace @ArrowheadAddict Chiefs fan he...</td>\n",
       "      <td>ArrighiOrosz</td>\n",
       "      <td>dirty</td>\n",
       "    </tr>\n",
       "    <tr>\n",
       "      <th>4</th>\n",
       "      <td>I think I'm rooting for Mahomes and the Chiefs...</td>\n",
       "      <td>skepticgoat</td>\n",
       "      <td>dirty</td>\n",
       "    </tr>\n",
       "    <tr>\n",
       "      <th>5</th>\n",
       "      <td>@JeffAllen71 @ProFootballTalk The 49ers don't ...</td>\n",
       "      <td>DaRealLopeezi</td>\n",
       "      <td>dirty</td>\n",
       "    </tr>\n",
       "    <tr>\n",
       "      <th>6</th>\n",
       "      <td>@martyclevenger @ProFootballTalk Florio has a ...</td>\n",
       "      <td>brettoncole</td>\n",
       "      <td>dirty</td>\n",
       "    </tr>\n",
       "    <tr>\n",
       "      <th>7</th>\n",
       "      <td>@ProFootballTalk @MikeFlorioPFT this is ridicu...</td>\n",
       "      <td>mellanclos</td>\n",
       "      <td>dirty</td>\n",
       "    </tr>\n",
       "    <tr>\n",
       "      <th>8</th>\n",
       "      <td>@ProFootballTalk The fuck you talkin bout smfh...</td>\n",
       "      <td>SAWAIIAN650</td>\n",
       "      <td>dirty</td>\n",
       "    </tr>\n",
       "    <tr>\n",
       "      <th>9</th>\n",
       "      <td>@ProFootballTalk How do the Chiefs stop that r...</td>\n",
       "      <td>book_nelson</td>\n",
       "      <td>dirty</td>\n",
       "    </tr>\n",
       "    <tr>\n",
       "      <th>10</th>\n",
       "      <td>Why are we even having an election against law...</td>\n",
       "      <td>redalertnow</td>\n",
       "      <td>dirty</td>\n",
       "    </tr>\n",
       "    <tr>\n",
       "      <th>11</th>\n",
       "      <td>@zach_seibel21 @NBCSports @ProFootballTalk We ...</td>\n",
       "      <td>hotchman</td>\n",
       "      <td>dirty</td>\n",
       "    </tr>\n",
       "    <tr>\n",
       "      <th>12</th>\n",
       "      <td>@ProFootballTalk It's not just Chiefs fans whi...</td>\n",
       "      <td>auntiesuez45</td>\n",
       "      <td>dirty</td>\n",
       "    </tr>\n",
       "    <tr>\n",
       "      <th>13</th>\n",
       "      <td>@ProFootballTalk I can not believe you suggest...</td>\n",
       "      <td>MikeMonnig</td>\n",
       "      <td>dirty</td>\n",
       "    </tr>\n",
       "    <tr>\n",
       "      <th>14</th>\n",
       "      <td>@joaospierjr @AB_3127 @kennysnider7 @wendllyn ...</td>\n",
       "      <td>voodoomanland81</td>\n",
       "      <td>dirty</td>\n",
       "    </tr>\n",
       "    <tr>\n",
       "      <th>15</th>\n",
       "      <td>@sternshow @JeromeBettis36 @cwotd @Chiefs @jon...</td>\n",
       "      <td>VlaclavK</td>\n",
       "      <td>dirty</td>\n",
       "    </tr>\n",
       "    <tr>\n",
       "      <th>16</th>\n",
       "      <td>You literally advocated for guys on D to hit M...</td>\n",
       "      <td>DaveyGumdrops</td>\n",
       "      <td>dirty</td>\n",
       "    </tr>\n",
       "    <tr>\n",
       "      <th>17</th>\n",
       "      <td>@ProFootballTalk As a niner fan, havng watched...</td>\n",
       "      <td>Maxgomez79</td>\n",
       "      <td>dirty</td>\n",
       "    </tr>\n",
       "    <tr>\n",
       "      <th>18</th>\n",
       "      <td>@BillGroner1 @ProFootballTalk @CollinsworthPFF...</td>\n",
       "      <td>x_Slick24</td>\n",
       "      <td>dirty</td>\n",
       "    </tr>\n",
       "    <tr>\n",
       "      <th>19</th>\n",
       "      <td>PFT SHOULD NOT support  anything  Mike Florio ...</td>\n",
       "      <td>markshogue</td>\n",
       "      <td>dirty</td>\n",
       "    </tr>\n",
       "    <tr>\n",
       "      <th>20</th>\n",
       "      <td>Chiefs fans when Mike Florio suggests the 49er...</td>\n",
       "      <td>trevorwh1t3</td>\n",
       "      <td>dirty</td>\n",
       "    </tr>\n",
       "    <tr>\n",
       "      <th>21</th>\n",
       "      <td>This is absolutely disgusting. I get it you mu...</td>\n",
       "      <td>CourtIsNSessi0n</td>\n",
       "      <td>dirty</td>\n",
       "    </tr>\n",
       "    <tr>\n",
       "      <th>22</th>\n",
       "      <td>@lolly83485222 @CSimmsQB “Is it just Sorensen ...</td>\n",
       "      <td>kc_ranger</td>\n",
       "      <td>dirty</td>\n",
       "    </tr>\n",
       "    <tr>\n",
       "      <th>23</th>\n",
       "      <td>@flybaby014563 @ProFootballTalk Chiefs fan her...</td>\n",
       "      <td>angiosean</td>\n",
       "      <td>dirty</td>\n",
       "    </tr>\n",
       "    <tr>\n",
       "      <th>24</th>\n",
       "      <td>@ProFootballTalk You hate the Chiefs because y...</td>\n",
       "      <td>texas_switch</td>\n",
       "      <td>dirty</td>\n",
       "    </tr>\n",
       "  </tbody>\n",
       "</table>\n",
       "</div>"
      ],
      "text/plain": [
       "                                                 text           author   term\n",
       "0   @BigDrewandJim Stafford could absolutely pull ...         skearn41  dirty\n",
       "1   Kaizer Chiefs blacklisted Mandla Masango and T...  LUCKY_MTHOMBENI  dirty\n",
       "2   @Ragnod49 @ArrowheadAddict Much respect!! \\n\\n...     ArrighiOrosz  dirty\n",
       "3   @davidmakepeace @ArrowheadAddict Chiefs fan he...     ArrighiOrosz  dirty\n",
       "4   I think I'm rooting for Mahomes and the Chiefs...      skepticgoat  dirty\n",
       "5   @JeffAllen71 @ProFootballTalk The 49ers don't ...    DaRealLopeezi  dirty\n",
       "6   @martyclevenger @ProFootballTalk Florio has a ...      brettoncole  dirty\n",
       "7   @ProFootballTalk @MikeFlorioPFT this is ridicu...       mellanclos  dirty\n",
       "8   @ProFootballTalk The fuck you talkin bout smfh...      SAWAIIAN650  dirty\n",
       "9   @ProFootballTalk How do the Chiefs stop that r...      book_nelson  dirty\n",
       "10  Why are we even having an election against law...      redalertnow  dirty\n",
       "11  @zach_seibel21 @NBCSports @ProFootballTalk We ...         hotchman  dirty\n",
       "12  @ProFootballTalk It's not just Chiefs fans whi...     auntiesuez45  dirty\n",
       "13  @ProFootballTalk I can not believe you suggest...       MikeMonnig  dirty\n",
       "14  @joaospierjr @AB_3127 @kennysnider7 @wendllyn ...  voodoomanland81  dirty\n",
       "15  @sternshow @JeromeBettis36 @cwotd @Chiefs @jon...         VlaclavK  dirty\n",
       "16  You literally advocated for guys on D to hit M...    DaveyGumdrops  dirty\n",
       "17  @ProFootballTalk As a niner fan, havng watched...       Maxgomez79  dirty\n",
       "18  @BillGroner1 @ProFootballTalk @CollinsworthPFF...        x_Slick24  dirty\n",
       "19  PFT SHOULD NOT support  anything  Mike Florio ...       markshogue  dirty\n",
       "20  Chiefs fans when Mike Florio suggests the 49er...      trevorwh1t3  dirty\n",
       "21  This is absolutely disgusting. I get it you mu...  CourtIsNSessi0n  dirty\n",
       "22  @lolly83485222 @CSimmsQB “Is it just Sorensen ...        kc_ranger  dirty\n",
       "23  @flybaby014563 @ProFootballTalk Chiefs fan her...        angiosean  dirty\n",
       "24  @ProFootballTalk You hate the Chiefs because y...     texas_switch  dirty"
      ]
     },
     "execution_count": 104,
     "metadata": {},
     "output_type": "execute_result"
    }
   ],
   "source": [
    "print(len(kc_chiefs_terms_full_df))\n",
    "\n",
    "kc_chiefs_terms_full_df.head(25)"
   ]
  },
  {
   "cell_type": "code",
   "execution_count": 106,
   "metadata": {},
   "outputs": [],
   "source": [
    "# save to csv\n",
    "\n",
    "kc_chiefs_terms_full_df.to_csv('kc_chiefs_terms_full_df.csv')"
   ]
  },
  {
   "cell_type": "markdown",
   "metadata": {},
   "source": [
    "#### Washington R-dskins Dataframe"
   ]
  },
  {
   "cell_type": "code",
   "execution_count": 107,
   "metadata": {},
   "outputs": [],
   "source": [
    "# get dataframe\n",
    "\n",
    "wa_rs_terms_full_df = get_full_terms_df(rs_working_df, term_list)"
   ]
  },
  {
   "cell_type": "code",
   "execution_count": 108,
   "metadata": {},
   "outputs": [
    {
     "name": "stdout",
     "output_type": "stream",
     "text": [
      "45878\n"
     ]
    },
    {
     "data": {
      "text/html": [
       "<div>\n",
       "<style scoped>\n",
       "    .dataframe tbody tr th:only-of-type {\n",
       "        vertical-align: middle;\n",
       "    }\n",
       "\n",
       "    .dataframe tbody tr th {\n",
       "        vertical-align: top;\n",
       "    }\n",
       "\n",
       "    .dataframe thead th {\n",
       "        text-align: right;\n",
       "    }\n",
       "</style>\n",
       "<table border=\"1\" class=\"dataframe\">\n",
       "  <thead>\n",
       "    <tr style=\"text-align: right;\">\n",
       "      <th></th>\n",
       "      <th>Unnamed: 0</th>\n",
       "      <th>author</th>\n",
       "      <th>text</th>\n",
       "      <th>term</th>\n",
       "    </tr>\n",
       "  </thead>\n",
       "  <tbody>\n",
       "    <tr>\n",
       "      <th>0</th>\n",
       "      <td>0</td>\n",
       "      <td>jyoaee2125</td>\n",
       "      <td>@ProFootballTalk @hwkbgr Philly fans complain ...</td>\n",
       "      <td>dirty</td>\n",
       "    </tr>\n",
       "    <tr>\n",
       "      <th>1</th>\n",
       "      <td>1</td>\n",
       "      <td>Philly_Canes</td>\n",
       "      <td>So over the last 72 hours:\\n\\n- the Birds get ...</td>\n",
       "      <td>dirty</td>\n",
       "    </tr>\n",
       "    <tr>\n",
       "      <th>2</th>\n",
       "      <td>2</td>\n",
       "      <td>redskinsravens</td>\n",
       "      <td>@EvanMcMullin ✔    I'm a Redskins fan and born...</td>\n",
       "      <td>dirty</td>\n",
       "    </tr>\n",
       "    <tr>\n",
       "      <th>3</th>\n",
       "      <td>3</td>\n",
       "      <td>JimmyRandazzo</td>\n",
       "      <td>Giants, Cowboys and Redskins fans when the res...</td>\n",
       "      <td>dirty</td>\n",
       "    </tr>\n",
       "    <tr>\n",
       "      <th>4</th>\n",
       "      <td>4</td>\n",
       "      <td>DougieD35</td>\n",
       "      <td>@ParkerHamlett @Redskins Saints and ravens her...</td>\n",
       "      <td>dirty</td>\n",
       "    </tr>\n",
       "    <tr>\n",
       "      <th>5</th>\n",
       "      <td>5</td>\n",
       "      <td>Da_Blues_6564</td>\n",
       "      <td>@Urunderarrest I wore a Bears jersey ONCE for ...</td>\n",
       "      <td>dirty</td>\n",
       "    </tr>\n",
       "    <tr>\n",
       "      <th>6</th>\n",
       "      <td>6</td>\n",
       "      <td>justquisquilia</td>\n",
       "      <td>\"An inveterate tomboy from the start, I spent ...</td>\n",
       "      <td>dirty</td>\n",
       "    </tr>\n",
       "    <tr>\n",
       "      <th>7</th>\n",
       "      <td>7</td>\n",
       "      <td>karl_diesel</td>\n",
       "      <td>During Allen’s tenure, did you notice,anyone w...</td>\n",
       "      <td>dirty</td>\n",
       "    </tr>\n",
       "    <tr>\n",
       "      <th>8</th>\n",
       "      <td>8</td>\n",
       "      <td>curtisd0101</td>\n",
       "      <td>Looks like the Redskins finally have a legit h...</td>\n",
       "      <td>dirty</td>\n",
       "    </tr>\n",
       "    <tr>\n",
       "      <th>9</th>\n",
       "      <td>9</td>\n",
       "      <td>EazyE302</td>\n",
       "      <td>Ight @Lakers my @Redskins did me dirty this ye...</td>\n",
       "      <td>dirty</td>\n",
       "    </tr>\n",
       "    <tr>\n",
       "      <th>10</th>\n",
       "      <td>10</td>\n",
       "      <td>Caps239</td>\n",
       "      <td>I think it’s fair to say that @JJWatt ruined t...</td>\n",
       "      <td>dirty</td>\n",
       "    </tr>\n",
       "    <tr>\n",
       "      <th>11</th>\n",
       "      <td>11</td>\n",
       "      <td>Marylandmike4</td>\n",
       "      <td>@granthpaulsen The @Redskins can’t even fire a...</td>\n",
       "      <td>dirty</td>\n",
       "    </tr>\n",
       "    <tr>\n",
       "      <th>12</th>\n",
       "      <td>12</td>\n",
       "      <td>DArkMEATHOOK</td>\n",
       "      <td>If the #redskins tied Dallas and the Eagles wo...</td>\n",
       "      <td>dirty</td>\n",
       "    </tr>\n",
       "    <tr>\n",
       "      <th>13</th>\n",
       "      <td>13</td>\n",
       "      <td>dniichols</td>\n",
       "      <td>@roshonpablo I’m hip we done damn did da uh da...</td>\n",
       "      <td>dirty</td>\n",
       "    </tr>\n",
       "    <tr>\n",
       "      <th>14</th>\n",
       "      <td>14</td>\n",
       "      <td>gleibs2019</td>\n",
       "      <td>@ParisaMichelle I'm beyond bitter. I feel dirt...</td>\n",
       "      <td>dirty</td>\n",
       "    </tr>\n",
       "    <tr>\n",
       "      <th>15</th>\n",
       "      <td>15</td>\n",
       "      <td>jimmyskeets</td>\n",
       "      <td>@Giants The Dirty hit on the @Redskins Rookie ...</td>\n",
       "      <td>dirty</td>\n",
       "    </tr>\n",
       "    <tr>\n",
       "      <th>16</th>\n",
       "      <td>16</td>\n",
       "      <td>tlee2123sv</td>\n",
       "      <td>That was a dirty hit on Haskins, he went strai...</td>\n",
       "      <td>dirty</td>\n",
       "    </tr>\n",
       "    <tr>\n",
       "      <th>17</th>\n",
       "      <td>17</td>\n",
       "      <td>MuzzMuzzington</td>\n",
       "      <td>@RobbieDuncanOL @HogsHaven If you look closely...</td>\n",
       "      <td>dirty</td>\n",
       "    </tr>\n",
       "    <tr>\n",
       "      <th>18</th>\n",
       "      <td>18</td>\n",
       "      <td>E_Mili13</td>\n",
       "      <td>Best case scenario:\\n\\nEagles beat cowboys\\n\\n...</td>\n",
       "      <td>dirty</td>\n",
       "    </tr>\n",
       "    <tr>\n",
       "      <th>19</th>\n",
       "      <td>19</td>\n",
       "      <td>NateLew24</td>\n",
       "      <td>@MattLewis2003 *loses to Dolphins* : “never wa...</td>\n",
       "      <td>dirty</td>\n",
       "    </tr>\n",
       "    <tr>\n",
       "      <th>20</th>\n",
       "      <td>20</td>\n",
       "      <td>BadBeatBros</td>\n",
       "      <td>Thanks @Redskins for the bad beat!! Safe all g...</td>\n",
       "      <td>dirty</td>\n",
       "    </tr>\n",
       "    <tr>\n",
       "      <th>21</th>\n",
       "      <td>21</td>\n",
       "      <td>Fo__________Fo</td>\n",
       "      <td>I’m cheering for the Redskins and it makes me ...</td>\n",
       "      <td>dirty</td>\n",
       "    </tr>\n",
       "    <tr>\n",
       "      <th>22</th>\n",
       "      <td>22</td>\n",
       "      <td>OTR2Victory</td>\n",
       "      <td>Jason Peters needs to take one for the team an...</td>\n",
       "      <td>dirty</td>\n",
       "    </tr>\n",
       "    <tr>\n",
       "      <th>23</th>\n",
       "      <td>23</td>\n",
       "      <td>honesgirl</td>\n",
       "      <td>same old same old. Redskins have always sucked...</td>\n",
       "      <td>dirty</td>\n",
       "    </tr>\n",
       "    <tr>\n",
       "      <th>24</th>\n",
       "      <td>24</td>\n",
       "      <td>TheBradMei5ter</td>\n",
       "      <td>I say this every time the Eagles play this dir...</td>\n",
       "      <td>dirty</td>\n",
       "    </tr>\n",
       "  </tbody>\n",
       "</table>\n",
       "</div>"
      ],
      "text/plain": [
       "   Unnamed: 0          author  \\\n",
       "0           0      jyoaee2125   \n",
       "1           1    Philly_Canes   \n",
       "2           2  redskinsravens   \n",
       "3           3   JimmyRandazzo   \n",
       "4           4       DougieD35   \n",
       "5           5   Da_Blues_6564   \n",
       "6           6  justquisquilia   \n",
       "7           7     karl_diesel   \n",
       "8           8     curtisd0101   \n",
       "9           9        EazyE302   \n",
       "10         10         Caps239   \n",
       "11         11   Marylandmike4   \n",
       "12         12    DArkMEATHOOK   \n",
       "13         13       dniichols   \n",
       "14         14      gleibs2019   \n",
       "15         15     jimmyskeets   \n",
       "16         16      tlee2123sv   \n",
       "17         17  MuzzMuzzington   \n",
       "18         18        E_Mili13   \n",
       "19         19       NateLew24   \n",
       "20         20     BadBeatBros   \n",
       "21         21  Fo__________Fo   \n",
       "22         22     OTR2Victory   \n",
       "23         23       honesgirl   \n",
       "24         24  TheBradMei5ter   \n",
       "\n",
       "                                                 text   term  \n",
       "0   @ProFootballTalk @hwkbgr Philly fans complain ...  dirty  \n",
       "1   So over the last 72 hours:\\n\\n- the Birds get ...  dirty  \n",
       "2   @EvanMcMullin ✔    I'm a Redskins fan and born...  dirty  \n",
       "3   Giants, Cowboys and Redskins fans when the res...  dirty  \n",
       "4   @ParkerHamlett @Redskins Saints and ravens her...  dirty  \n",
       "5   @Urunderarrest I wore a Bears jersey ONCE for ...  dirty  \n",
       "6   \"An inveterate tomboy from the start, I spent ...  dirty  \n",
       "7   During Allen’s tenure, did you notice,anyone w...  dirty  \n",
       "8   Looks like the Redskins finally have a legit h...  dirty  \n",
       "9   Ight @Lakers my @Redskins did me dirty this ye...  dirty  \n",
       "10  I think it’s fair to say that @JJWatt ruined t...  dirty  \n",
       "11  @granthpaulsen The @Redskins can’t even fire a...  dirty  \n",
       "12  If the #redskins tied Dallas and the Eagles wo...  dirty  \n",
       "13  @roshonpablo I’m hip we done damn did da uh da...  dirty  \n",
       "14  @ParisaMichelle I'm beyond bitter. I feel dirt...  dirty  \n",
       "15  @Giants The Dirty hit on the @Redskins Rookie ...  dirty  \n",
       "16  That was a dirty hit on Haskins, he went strai...  dirty  \n",
       "17  @RobbieDuncanOL @HogsHaven If you look closely...  dirty  \n",
       "18  Best case scenario:\\n\\nEagles beat cowboys\\n\\n...  dirty  \n",
       "19  @MattLewis2003 *loses to Dolphins* : “never wa...  dirty  \n",
       "20  Thanks @Redskins for the bad beat!! Safe all g...  dirty  \n",
       "21  I’m cheering for the Redskins and it makes me ...  dirty  \n",
       "22  Jason Peters needs to take one for the team an...  dirty  \n",
       "23  same old same old. Redskins have always sucked...  dirty  \n",
       "24  I say this every time the Eagles play this dir...  dirty  "
      ]
     },
     "execution_count": 108,
     "metadata": {},
     "output_type": "execute_result"
    }
   ],
   "source": [
    "print(len(wa_rs_terms_full_df))\n",
    "\n",
    "wa_rs_terms_full_df.head(25)"
   ]
  },
  {
   "cell_type": "code",
   "execution_count": 109,
   "metadata": {},
   "outputs": [],
   "source": [
    "# save to csv\n",
    "\n",
    "wa_rs_terms_full_df.to_csv('wa_rs_terms_full_df.csv')"
   ]
  },
  {
   "cell_type": "markdown",
   "metadata": {},
   "source": [
    "#### Combining Corpora into One Dataframe"
   ]
  },
  {
   "cell_type": "code",
   "execution_count": 162,
   "metadata": {},
   "outputs": [],
   "source": [
    "# term dataframes: \n",
    "# wa_rs_terms_full_df, kc_chiefs_terms_full_df, sf_49ers_terms_full_df\n",
    "\n",
    "# add a 'team' column to each team corpus\n",
    "\n",
    "wa_rs_terms_full_df['team'] = 'rdskins'\n",
    "\n",
    "kc_chiefs_terms_full_df['team'] = 'chiefs'\n",
    "\n",
    "sf_49ers_terms_full_df['team'] = '49ers'\n",
    "\n",
    "# combine DFs\n",
    "\n",
    "Not_Your_Mascot_full_df = pd.DataFrame()\n",
    "\n",
    "Not_Your_Mascot_full_df = Not_Your_Mascot_full_df.append(wa_rs_terms_full_df, ignore_index=True)\n",
    "\n",
    "Not_Your_Mascot_full_df = Not_Your_Mascot_full_df.append(kc_chiefs_terms_full_df, ignore_index=True)\n",
    "\n",
    "Not_Your_Mascot_full_df = Not_Your_Mascot_full_df.append(sf_49ers_terms_full_df, ignore_index=True)\n",
    "\n",
    "Not_Your_Mascot_full_df = Not_Your_Mascot_full_df.loc[:, ~Not_Your_Mascot_full_df.columns.str.contains('^Unnamed')]\n",
    "\n"
   ]
  },
  {
   "cell_type": "code",
   "execution_count": 163,
   "metadata": {},
   "outputs": [
    {
     "name": "stdout",
     "output_type": "stream",
     "text": [
      "172768\n"
     ]
    },
    {
     "data": {
      "text/html": [
       "<div>\n",
       "<style scoped>\n",
       "    .dataframe tbody tr th:only-of-type {\n",
       "        vertical-align: middle;\n",
       "    }\n",
       "\n",
       "    .dataframe tbody tr th {\n",
       "        vertical-align: top;\n",
       "    }\n",
       "\n",
       "    .dataframe thead th {\n",
       "        text-align: right;\n",
       "    }\n",
       "</style>\n",
       "<table border=\"1\" class=\"dataframe\">\n",
       "  <thead>\n",
       "    <tr style=\"text-align: right;\">\n",
       "      <th></th>\n",
       "      <th>author</th>\n",
       "      <th>team</th>\n",
       "      <th>term</th>\n",
       "      <th>text</th>\n",
       "    </tr>\n",
       "  </thead>\n",
       "  <tbody>\n",
       "    <tr>\n",
       "      <th>0</th>\n",
       "      <td>jyoaee2125</td>\n",
       "      <td>rdskins</td>\n",
       "      <td>dirty</td>\n",
       "      <td>@ProFootballTalk @hwkbgr Philly fans complain ...</td>\n",
       "    </tr>\n",
       "    <tr>\n",
       "      <th>1</th>\n",
       "      <td>Philly_Canes</td>\n",
       "      <td>rdskins</td>\n",
       "      <td>dirty</td>\n",
       "      <td>So over the last 72 hours:\\n\\n- the Birds get ...</td>\n",
       "    </tr>\n",
       "    <tr>\n",
       "      <th>2</th>\n",
       "      <td>redskinsravens</td>\n",
       "      <td>rdskins</td>\n",
       "      <td>dirty</td>\n",
       "      <td>@EvanMcMullin ✔    I'm a Redskins fan and born...</td>\n",
       "    </tr>\n",
       "    <tr>\n",
       "      <th>3</th>\n",
       "      <td>JimmyRandazzo</td>\n",
       "      <td>rdskins</td>\n",
       "      <td>dirty</td>\n",
       "      <td>Giants, Cowboys and Redskins fans when the res...</td>\n",
       "    </tr>\n",
       "    <tr>\n",
       "      <th>4</th>\n",
       "      <td>DougieD35</td>\n",
       "      <td>rdskins</td>\n",
       "      <td>dirty</td>\n",
       "      <td>@ParkerHamlett @Redskins Saints and ravens her...</td>\n",
       "    </tr>\n",
       "  </tbody>\n",
       "</table>\n",
       "</div>"
      ],
      "text/plain": [
       "           author     team   term  \\\n",
       "0      jyoaee2125  rdskins  dirty   \n",
       "1    Philly_Canes  rdskins  dirty   \n",
       "2  redskinsravens  rdskins  dirty   \n",
       "3   JimmyRandazzo  rdskins  dirty   \n",
       "4       DougieD35  rdskins  dirty   \n",
       "\n",
       "                                                text  \n",
       "0  @ProFootballTalk @hwkbgr Philly fans complain ...  \n",
       "1  So over the last 72 hours:\\n\\n- the Birds get ...  \n",
       "2  @EvanMcMullin ✔    I'm a Redskins fan and born...  \n",
       "3  Giants, Cowboys and Redskins fans when the res...  \n",
       "4  @ParkerHamlett @Redskins Saints and ravens her...  "
      ]
     },
     "execution_count": 163,
     "metadata": {},
     "output_type": "execute_result"
    }
   ],
   "source": [
    "print(len(Not_Your_Mascot_full_df))\n",
    "\n",
    "Not_Your_Mascot_full_df.head()"
   ]
  },
  {
   "cell_type": "code",
   "execution_count": 164,
   "metadata": {},
   "outputs": [],
   "source": [
    "# save to csv\n",
    "\n",
    "Not_Your_Mascot_full_df.to_csv('Not_Your_Mascot_full_df.csv')"
   ]
  },
  {
   "cell_type": "markdown",
   "metadata": {},
   "source": [
    "### how many offensive terms exist in each team's data set?\n",
    "\n",
    "we can check to see how many of the 27 offensive terms appear in conjunction with each team's name:"
   ]
  },
  {
   "cell_type": "code",
   "execution_count": 114,
   "metadata": {},
   "outputs": [
    {
     "name": "stdout",
     "output_type": "stream",
     "text": [
      "offensive terms/phrases mentioned with the San Francisco 49ers:  44504\n",
      "offensive terms/phrases mentioned with the Washington R*dskins:  45878\n",
      "offensive terms/phrases mentioned with the Kansas City Chiefs:  82386\n",
      "total offensive terms/phrases in 49ers, R*dskins, & Chiefs tweets:  172768\n"
     ]
    }
   ],
   "source": [
    "terms_in_49ers = len(sf_49ers_terms_full_df)\n",
    "\n",
    "terms_in_rs = len(wa_rs_terms_full_df)\n",
    "\n",
    "terms_in_chiefs = len(kc_chiefs_terms_full_df)\n",
    "\n",
    "total_offensive_terms = terms_in_49ers + terms_in_rs + terms_in_chiefs\n",
    "\n",
    "print('offensive terms/phrases mentioned with the San Francisco 49ers: ', terms_in_49ers)\n",
    "\n",
    "print('offensive terms/phrases mentioned with the Washington R*dskins: ', terms_in_rs)\n",
    "\n",
    "print('offensive terms/phrases mentioned with the Kansas City Chiefs: ', terms_in_chiefs)\n",
    "\n",
    "print('total offensive terms/phrases in 49ers, R*dskins, & Chiefs tweets: ', total_offensive_terms)"
   ]
  },
  {
   "cell_type": "markdown",
   "metadata": {},
   "source": [
    "### the verdict: over 170,000 offensive words & phrases\n",
    "\n",
    "I was able to find a total of 172,768 offensive terms & phrases used in conjunction with racist team names like the R-dskins & the the Chiefs.\n",
    "\n",
    "The NFL, team owners, & fans claiming that Washington's use of a slur as its team name is not offensive will need to explain away over 45,000 tweets containing violent and/or offensive imagery. This dataset is a resounding counter to the claim that the slur \"r-dskins\" is no longer used offensively. \n",
    "\n",
    "The two teams in the 2020 Super Bowl provide the most telling comparison, since these teams could be expected to share a relatively similar amount of \"trash talk\" in the days leading up to the game. \n",
    "\n",
    "However that is not what the data show, and the difference could not be more stark: while the San Francisco 49ers team name is itself problematic with deep anti-Indigenous connotations, as demonstrated by over 44,000 rows of tweets containing offensive words & imagery, **the Kansas City Chiefs dataset is nearly twice as long, at *82,386* tweets.**\n",
    "\n",
    "## visualizing anti-Indigenous speech around Native mascots\n",
    "\n",
    "With the data gathered, it's possible to visualize just how closely teams with Native-themed names are linked to racist speech.\n",
    "\n",
    "### Vizualizing Overall Trends\n",
    "\n",
    "The bar chart below shows frequencies for each term, drawn from the entire dataset. Even with the inclusion of the ostensibly racially-neutral 49ers, it's easy to see racially-linked speech heavily represented in the corpus.\n"
   ]
  },
  {
   "cell_type": "code",
   "execution_count": 177,
   "metadata": {},
   "outputs": [
    {
     "data": {
      "text/plain": [
       "<matplotlib.axes._subplots.AxesSubplot at 0x7f619e7d5cc0>"
      ]
     },
     "execution_count": 177,
     "metadata": {},
     "output_type": "execute_result"
    },
    {
     "data": {
      "image/png": "[encoded data removed]",
      "text/plain": [
       "<Figure size 432x288 with 1 Axes>"
      ]
     },
     "metadata": {},
     "output_type": "display_data"
    }
   ],
   "source": [
    "# bar chart for full dataset\n",
    "# frequencies per term for all teams\n",
    "\n",
    "Not_Your_Mascot_full_df['term'].value_counts().sort_index().plot.barh()"
   ]
  },
  {
   "cell_type": "markdown",
   "metadata": {},
   "source": [
    "### Visualizing the Data: Native Mascots vs the 49ers\n",
    "\n",
    "It's useful to take a look at term frequencies for the teams with Native mascots, versus the 49ers.\n",
    "\n",
    "To do this, I created a seperate corpus consisting solely of tweets referencing the R-dskins & the Chiefs."
   ]
  },
  {
   "cell_type": "code",
   "execution_count": 165,
   "metadata": {},
   "outputs": [],
   "source": [
    "# create a dataframe with just the Native mascots\n",
    "\n",
    "Native_mascots_df = kc_chiefs_terms_full_df.append(wa_rs_terms_full_df)\n",
    "\n",
    "Native_mascots_df = Native_mascots_df.loc[:, ~Native_mascots_df.columns.str.contains('^Unnamed')]\n",
    "\n",
    "Native_mascots_df.to_csv('Native_mascots_df.csv')"
   ]
  },
  {
   "cell_type": "code",
   "execution_count": 153,
   "metadata": {},
   "outputs": [
    {
     "data": {
      "text/html": [
       "<div>\n",
       "<style scoped>\n",
       "    .dataframe tbody tr th:only-of-type {\n",
       "        vertical-align: middle;\n",
       "    }\n",
       "\n",
       "    .dataframe tbody tr th {\n",
       "        vertical-align: top;\n",
       "    }\n",
       "\n",
       "    .dataframe thead th {\n",
       "        text-align: right;\n",
       "    }\n",
       "</style>\n",
       "<table border=\"1\" class=\"dataframe\">\n",
       "  <thead>\n",
       "    <tr style=\"text-align: right;\">\n",
       "      <th></th>\n",
       "      <th>author</th>\n",
       "      <th>term</th>\n",
       "      <th>text</th>\n",
       "    </tr>\n",
       "  </thead>\n",
       "  <tbody>\n",
       "    <tr>\n",
       "      <th>0</th>\n",
       "      <td>skearn41</td>\n",
       "      <td>dirty</td>\n",
       "      <td>@BigDrewandJim Stafford could absolutely pull ...</td>\n",
       "    </tr>\n",
       "    <tr>\n",
       "      <th>1</th>\n",
       "      <td>LUCKY_MTHOMBENI</td>\n",
       "      <td>dirty</td>\n",
       "      <td>Kaizer Chiefs blacklisted Mandla Masango and T...</td>\n",
       "    </tr>\n",
       "    <tr>\n",
       "      <th>2</th>\n",
       "      <td>ArrighiOrosz</td>\n",
       "      <td>dirty</td>\n",
       "      <td>@Ragnod49 @ArrowheadAddict Much respect!! \\n\\n...</td>\n",
       "    </tr>\n",
       "    <tr>\n",
       "      <th>3</th>\n",
       "      <td>ArrighiOrosz</td>\n",
       "      <td>dirty</td>\n",
       "      <td>@davidmakepeace @ArrowheadAddict Chiefs fan he...</td>\n",
       "    </tr>\n",
       "    <tr>\n",
       "      <th>4</th>\n",
       "      <td>skepticgoat</td>\n",
       "      <td>dirty</td>\n",
       "      <td>I think I'm rooting for Mahomes and the Chiefs...</td>\n",
       "    </tr>\n",
       "  </tbody>\n",
       "</table>\n",
       "</div>"
      ],
      "text/plain": [
       "            author   term                                               text\n",
       "0         skearn41  dirty  @BigDrewandJim Stafford could absolutely pull ...\n",
       "1  LUCKY_MTHOMBENI  dirty  Kaizer Chiefs blacklisted Mandla Masango and T...\n",
       "2     ArrighiOrosz  dirty  @Ragnod49 @ArrowheadAddict Much respect!! \\n\\n...\n",
       "3     ArrighiOrosz  dirty  @davidmakepeace @ArrowheadAddict Chiefs fan he...\n",
       "4      skepticgoat  dirty  I think I'm rooting for Mahomes and the Chiefs..."
      ]
     },
     "execution_count": 153,
     "metadata": {},
     "output_type": "execute_result"
    }
   ],
   "source": [
    "Native_mascots_df.head()"
   ]
  },
  {
   "cell_type": "markdown",
   "metadata": {},
   "source": [
    "#### Term Frequencies for the San Francisco 49ers"
   ]
  },
  {
   "cell_type": "code",
   "execution_count": 178,
   "metadata": {},
   "outputs": [
    {
     "data": {
      "text/plain": [
       "<matplotlib.axes._subplots.AxesSubplot at 0x7f619ec056d8>"
      ]
     },
     "execution_count": 178,
     "metadata": {},
     "output_type": "execute_result"
    },
    {
     "data": {
      "image/png": "[encoded data removed]",
      "text/plain": [
       "<Figure size 432x288 with 1 Axes>"
      ]
     },
     "metadata": {},
     "output_type": "display_data"
    }
   ],
   "source": [
    "# 49ers term frequencies\n",
    "\n",
    "sf_49ers_terms_full_df['term'].value_counts().sort_index().plot.barh()"
   ]
  },
  {
   "cell_type": "markdown",
   "metadata": {},
   "source": [
    "#### Term Frequencies for Native Mascots\n",
    "\n",
    "With the R-dskins & Chiefs corpora combined, an increase in negative terms strongly associated with Natives is clearly visible. \n",
    "\n",
    "While insults like \"stupid\" and violent/genocide-referencing words such as \"killed\" are frequently associated with anti-Native hate speech, some of these occurences could also be explained by so-called sports \"trash talk\". \n",
    "\n",
    "However, increases in terms such as \"scalp\", \"reservation\", \"firewater\", and \"smallpox\" are unlikely to be associated with sports vernacular."
   ]
  },
  {
   "cell_type": "code",
   "execution_count": 179,
   "metadata": {},
   "outputs": [
    {
     "data": {
      "text/plain": [
       "<matplotlib.axes._subplots.AxesSubplot at 0x7f619e8df6a0>"
      ]
     },
     "execution_count": 179,
     "metadata": {},
     "output_type": "execute_result"
    },
    {
     "data": {
      "image/png": "[encoded data removed]",
      "text/plain": [
       "<Figure size 432x288 with 1 Axes>"
      ]
     },
     "metadata": {},
     "output_type": "display_data"
    }
   ],
   "source": [
    "# term frequencies for R*dskins & Chiefs\n",
    "\n",
    "Native_mascots_df['term'].value_counts().sort_index().plot.barh()"
   ]
  },
  {
   "cell_type": "markdown",
   "metadata": {},
   "source": [
    "### Term-by-Term: 49ers vs Chiefs\n",
    "\n",
    "While the trend of increased racially-associated negative speech is clearly visible when Native mascots are grouped together, the differences come into even sharper focus when we directly compare terms by team.\n",
    "\n",
    "To do this, I created a dataframe containing only two corpora: the Chiefs and the 49ers.\n",
    "\n",
    "At over 126,000 rows containing offensive words and phrases, this 49ers-vs-Chiefs matchup contains a Super Bowl-sized cache of data."
   ]
  },
  {
   "cell_type": "code",
   "execution_count": 210,
   "metadata": {},
   "outputs": [
    {
     "data": {
      "text/html": [
       "<div>\n",
       "<style scoped>\n",
       "    .dataframe tbody tr th:only-of-type {\n",
       "        vertical-align: middle;\n",
       "    }\n",
       "\n",
       "    .dataframe tbody tr th {\n",
       "        vertical-align: top;\n",
       "    }\n",
       "\n",
       "    .dataframe thead th {\n",
       "        text-align: right;\n",
       "    }\n",
       "</style>\n",
       "<table border=\"1\" class=\"dataframe\">\n",
       "  <thead>\n",
       "    <tr style=\"text-align: right;\">\n",
       "      <th></th>\n",
       "      <th>author</th>\n",
       "      <th>team</th>\n",
       "      <th>term</th>\n",
       "      <th>text</th>\n",
       "    </tr>\n",
       "  </thead>\n",
       "  <tbody>\n",
       "    <tr>\n",
       "      <th>45878</th>\n",
       "      <td>skearn41</td>\n",
       "      <td>chiefs</td>\n",
       "      <td>dirty</td>\n",
       "      <td>@BigDrewandJim Stafford could absolutely pull ...</td>\n",
       "    </tr>\n",
       "    <tr>\n",
       "      <th>45879</th>\n",
       "      <td>LUCKY_MTHOMBENI</td>\n",
       "      <td>chiefs</td>\n",
       "      <td>dirty</td>\n",
       "      <td>Kaizer Chiefs blacklisted Mandla Masango and T...</td>\n",
       "    </tr>\n",
       "    <tr>\n",
       "      <th>45880</th>\n",
       "      <td>ArrighiOrosz</td>\n",
       "      <td>chiefs</td>\n",
       "      <td>dirty</td>\n",
       "      <td>@Ragnod49 @ArrowheadAddict Much respect!! \\n\\n...</td>\n",
       "    </tr>\n",
       "    <tr>\n",
       "      <th>45881</th>\n",
       "      <td>ArrighiOrosz</td>\n",
       "      <td>chiefs</td>\n",
       "      <td>dirty</td>\n",
       "      <td>@davidmakepeace @ArrowheadAddict Chiefs fan he...</td>\n",
       "    </tr>\n",
       "    <tr>\n",
       "      <th>45882</th>\n",
       "      <td>skepticgoat</td>\n",
       "      <td>chiefs</td>\n",
       "      <td>dirty</td>\n",
       "      <td>I think I'm rooting for Mahomes and the Chiefs...</td>\n",
       "    </tr>\n",
       "  </tbody>\n",
       "</table>\n",
       "</div>"
      ],
      "text/plain": [
       "                author    team   term  \\\n",
       "45878         skearn41  chiefs  dirty   \n",
       "45879  LUCKY_MTHOMBENI  chiefs  dirty   \n",
       "45880     ArrighiOrosz  chiefs  dirty   \n",
       "45881     ArrighiOrosz  chiefs  dirty   \n",
       "45882      skepticgoat  chiefs  dirty   \n",
       "\n",
       "                                                    text  \n",
       "45878  @BigDrewandJim Stafford could absolutely pull ...  \n",
       "45879  Kaizer Chiefs blacklisted Mandla Masango and T...  \n",
       "45880  @Ragnod49 @ArrowheadAddict Much respect!! \\n\\n...  \n",
       "45881  @davidmakepeace @ArrowheadAddict Chiefs fan he...  \n",
       "45882  I think I'm rooting for Mahomes and the Chiefs...  "
      ]
     },
     "execution_count": 210,
     "metadata": {},
     "output_type": "execute_result"
    }
   ],
   "source": [
    "# create a df containing only the chiefs & 49ers corpora\n",
    "\n",
    "chiefs_and_49ers = Not_Your_Mascot_full_df[Not_Your_Mascot_full_df['team'].isin(['49ers', 'chiefs']) ] \n",
    "\n",
    "chiefs_and_49ers.head()"
   ]
  },
  {
   "cell_type": "code",
   "execution_count": 183,
   "metadata": {},
   "outputs": [
    {
     "name": "stdout",
     "output_type": "stream",
     "text": [
      "total number of 49ers & Chiefs rows containing offensive speech:  126890\n"
     ]
    }
   ],
   "source": [
    "print('total number of 49ers & Chiefs rows containing offensive speech: ', len(chiefs_and_49ers))"
   ]
  },
  {
   "cell_type": "markdown",
   "metadata": {},
   "source": [
    "#### Six Figures of Violence, Insults & Hate\n",
    "\n",
    "The 49ers & Chiefs corpus contains 126,890 rows with at least 1 negative/offensive term tested.\n",
    "\n",
    "These tweets were all gathered from the week prior to Super Bowl 2020.\n",
    "\n",
    "#### Trends Across Terms: Native Mascots Linked to Hate\n",
    "\n",
    "With a side-by-side comparison of all terms tested, grouped by the two Super Bown contender teams, clear trends emerge.\n",
    "\n",
    "The group of bars on the left correspong to terms within the 49ers corpus. The bars on the right represent terms from the Chiefs corpus."
   ]
  },
  {
   "cell_type": "code",
   "execution_count": 216,
   "metadata": {},
   "outputs": [
    {
     "data": {
      "text/plain": [
       "<matplotlib.axes._subplots.AxesSubplot at 0x7f619ea6fb70>"
      ]
     },
     "execution_count": 216,
     "metadata": {},
     "output_type": "execute_result"
    },
    {
     "data": {
      "image/png": "[encoded data removed]",
      "text/plain": [
       "<Figure size 1440x1080 with 1 Axes>"
      ]
     },
     "metadata": {},
     "output_type": "display_data"
    }
   ],
   "source": [
    "# group terms by team, show all\n",
    "\n",
    "chiefs_and_49ers.groupby(\"team\").term.value_counts().plot.bar(figsize=(20,15))"
   ]
  },
  {
   "cell_type": "markdown",
   "metadata": {},
   "source": [
    "The occurrence of negative-to-hate speech is markedly higher in the Chiefs corpus vs. the 49ers.\n",
    "\n",
    "In addition, the tail of the Chiefs chart is considerably longer, representing the increased frequencies of rarer words that are more closely associated with anti-Native discriminatory speech.\n",
    "\n",
    "#### Top 10 Most Frequently Appearing Terms by Team\n",
    "\n",
    "All of the top 5 most frequently appearing terms--and seven of the top 10--come from the Chiefs dataset:"
   ]
  },
  {
   "cell_type": "code",
   "execution_count": 206,
   "metadata": {},
   "outputs": [
    {
     "data": {
      "text/plain": [
       "<matplotlib.axes._subplots.AxesSubplot at 0x7f619fbb8828>"
      ]
     },
     "execution_count": 206,
     "metadata": {},
     "output_type": "execute_result"
    },
    {
     "data": {
      "image/png": "[encoded data removed]",
      "text/plain": [
       "<Figure size 432x288 with 1 Axes>"
      ]
     },
     "metadata": {},
     "output_type": "display_data"
    }
   ],
   "source": [
    "# wine_reviews.groupby(\"country\").price.mean().sort_values(ascending=False)[:5].plot.bar()\n",
    "chiefs_and_49ers.groupby('team').term.value_counts().sort_values(ascending=False)[:10].plot.bar()"
   ]
  },
  {
   "cell_type": "markdown",
   "metadata": {},
   "source": [
    "Examining individual terms, we can see an even more compelling case for the link between Native mascots & hate speech.\n",
    "\n",
    "The Chiefs lead the 49ers *dramatically* in occurences for nearly every negative term or phrase tested."
   ]
  },
  {
   "cell_type": "code",
   "execution_count": 219,
   "metadata": {},
   "outputs": [
    {
     "data": {
      "text/plain": [
       "<matplotlib.axes._subplots.AxesSubplot at 0x7f61a0b12ef0>"
      ]
     },
     "execution_count": 219,
     "metadata": {},
     "output_type": "execute_result"
    },
    {
     "data": {
      "image/png": "[encoded data removed]",
      "text/plain": [
       "<Figure size 1440x1080 with 1 Axes>"
      ]
     },
     "metadata": {},
     "output_type": "display_data"
    }
   ],
   "source": [
    "# df.pivot_table(index='term', columns='team', aggfunc=np.count_nonzero).plot.bar()\n",
    "\n",
    "chiefs_and_49ers_frequencies = chiefs_and_49ers.drop(columns=['author','text'])\n",
    "\n",
    "chiefs_and_49ers_frequencies.pivot_table(index='term', columns='team', aggfunc=np.count_nonzero).plot.bar(figsize=(20,15))"
   ]
  },
  {
   "cell_type": "code",
   "execution_count": null,
   "metadata": {},
   "outputs": [],
   "source": []
  }
 ],
 "metadata": {
  "kernelspec": {
   "display_name": "Python 3",
   "language": "python",
   "name": "python3"
  },
  "language_info": {
   "codemirror_mode": {
    "name": "ipython",
    "version": 3
   },
   "file_extension": ".py",
   "mimetype": "text/x-python",
   "name": "python",
   "nbconvert_exporter": "python",
   "pygments_lexer": "ipython3",
   "version": "3.6.3"
  }
 },
 "nbformat": 4,
 "nbformat_minor": 2
}
